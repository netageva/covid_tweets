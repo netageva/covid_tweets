{
 "cells": [
  {
   "cell_type": "code",
   "execution_count": 1,
   "metadata": {
    "colab": {
     "base_uri": "https://localhost:8080/"
    },
    "id": "Q3Ik7uTJOZJ3",
    "outputId": "a12ca545-e85d-4e62-e932-8f414778c4fc"
   },
   "outputs": [
    {
     "name": "stdout",
     "output_type": "stream",
     "text": [
      "Drive already mounted at /content/drive; to attempt to forcibly remount, call drive.mount(\"/content/drive\", force_remount=True).\n"
     ]
    }
   ],
   "source": [
    "from google.colab import drive\n",
    "drive.mount('/content/drive')"
   ]
  },
  {
   "cell_type": "code",
   "execution_count": 18,
   "metadata": {},
   "outputs": [
    {
     "name": "stdout",
     "output_type": "stream",
     "text": [
      "^C\n",
      "^C\n",
      "^C\n"
     ]
    }
   ],
   "source": [
    "!pip uninstall tensorflow \n",
    "!pip install tensorflow==2.0\n",
    "!pip install tensorflow_hub latest"
   ]
  },
  {
   "cell_type": "code",
   "execution_count": 3,
   "metadata": {
    "colab": {
     "base_uri": "https://localhost:8080/"
    },
    "id": "2ew7HTbPpCJH",
    "outputId": "c9e7488d-3f19-499d-ee04-e0b604357f5f"
   },
   "outputs": [
    {
     "ename": "ModuleNotFoundError",
     "evalue": "No module named 'tensorflow_hub'",
     "output_type": "error",
     "traceback": [
      "\u001b[1;31m---------------------------------------------------------------------------\u001b[0m",
      "\u001b[1;31mModuleNotFoundError\u001b[0m                       Traceback (most recent call last)",
      "\u001b[1;32m<ipython-input-3-369a5f3fdf92>\u001b[0m in \u001b[0;36m<module>\u001b[1;34m\u001b[0m\n\u001b[0;32m      2\u001b[0m \u001b[1;33m\u001b[0m\u001b[0m\n\u001b[0;32m      3\u001b[0m \u001b[1;32mimport\u001b[0m \u001b[0mtensorflow\u001b[0m \u001b[1;32mas\u001b[0m \u001b[0mtf\u001b[0m\u001b[1;33m\u001b[0m\u001b[1;33m\u001b[0m\u001b[0m\n\u001b[1;32m----> 4\u001b[1;33m \u001b[1;32mimport\u001b[0m \u001b[0mtensorflow_hub\u001b[0m \u001b[1;32mas\u001b[0m \u001b[0mhub\u001b[0m\u001b[1;33m\u001b[0m\u001b[1;33m\u001b[0m\u001b[0m\n\u001b[0m\u001b[0;32m      5\u001b[0m \u001b[1;32mimport\u001b[0m \u001b[0mtensorflow_datasets\u001b[0m \u001b[1;32mas\u001b[0m \u001b[0mtfds\u001b[0m\u001b[1;33m\u001b[0m\u001b[1;33m\u001b[0m\u001b[0m\n\u001b[0;32m      6\u001b[0m \u001b[1;32mimport\u001b[0m \u001b[0mpandas\u001b[0m \u001b[1;32mas\u001b[0m \u001b[0mpd\u001b[0m\u001b[1;33m\u001b[0m\u001b[1;33m\u001b[0m\u001b[0m\n",
      "\u001b[1;31mModuleNotFoundError\u001b[0m: No module named 'tensorflow_hub'"
     ]
    }
   ],
   "source": [
    "import numpy as np\n",
    "\n",
    "import tensorflow as tf\n",
    "import tensorflow_hub as hub\n",
    "import tensorflow_datasets as tfds\n",
    "import pandas as pd\n",
    "import matplotlib.pyplot as plt\n",
    "\n",
    "print(\"Version: \", tf.__version__)\n",
    "print(\"Eager mode: \", tf.executing_eagerly())\n",
    "print(\"Hub version: \", hub.__version__)\n",
    "print(\"GPU is\", \"available\" if tf.config.list_physical_devices('GPU') else \"NOT AVAILABLE\")"
   ]
  },
  {
   "cell_type": "code",
   "execution_count": 5,
   "metadata": {
    "colab": {
     "base_uri": "https://localhost:8080/",
     "height": 467
    },
    "id": "2M5XBgngQPwl",
    "outputId": "9e2c5130-1d1b-4a59-94d0-90f098a34e09"
   },
   "outputs": [
    {
     "data": {
      "text/html": [
       "<div>\n",
       "<style scoped>\n",
       "    .dataframe tbody tr th:only-of-type {\n",
       "        vertical-align: middle;\n",
       "    }\n",
       "\n",
       "    .dataframe tbody tr th {\n",
       "        vertical-align: top;\n",
       "    }\n",
       "\n",
       "    .dataframe thead th {\n",
       "        text-align: right;\n",
       "    }\n",
       "</style>\n",
       "<table border=\"1\" class=\"dataframe\">\n",
       "  <thead>\n",
       "    <tr style=\"text-align: right;\">\n",
       "      <th></th>\n",
       "      <th>Unnamed: 0</th>\n",
       "      <th>user_name</th>\n",
       "      <th>user_location</th>\n",
       "      <th>user_description</th>\n",
       "      <th>user_created</th>\n",
       "      <th>user_followers</th>\n",
       "      <th>date</th>\n",
       "      <th>text</th>\n",
       "      <th>favorites</th>\n",
       "      <th>retweets</th>\n",
       "      <th>is_retweet</th>\n",
       "      <th>category</th>\n",
       "    </tr>\n",
       "  </thead>\n",
       "  <tbody>\n",
       "    <tr>\n",
       "      <th>0</th>\n",
       "      <td>0</td>\n",
       "      <td>northshoremed</td>\n",
       "      <td>North Shore of Massachusetts</td>\n",
       "      <td>Official twitter feed of North Shore Medical C...</td>\n",
       "      <td>2012-04-06 14:52:39</td>\n",
       "      <td>1931</td>\n",
       "      <td>2021-02-09 16:17:15</td>\n",
       "      <td>\"I just received the COVID-19 vaccine and I no...</td>\n",
       "      <td>3</td>\n",
       "      <td>0</td>\n",
       "      <td>False</td>\n",
       "      <td>Positive</td>\n",
       "    </tr>\n",
       "    <tr>\n",
       "      <th>1</th>\n",
       "      <td>1</td>\n",
       "      <td>GalwayCSD</td>\n",
       "      <td>Galway, NY</td>\n",
       "      <td>Educate all students to their highest level of...</td>\n",
       "      <td>2018-08-13 16:22:02</td>\n",
       "      <td>216</td>\n",
       "      <td>2021-02-09 15:42:52</td>\n",
       "      <td>RT @SaratogaChamber: Thanks @WSWHEBOCES for ho...</td>\n",
       "      <td>0</td>\n",
       "      <td>1</td>\n",
       "      <td>True</td>\n",
       "      <td>Positive</td>\n",
       "    </tr>\n",
       "    <tr>\n",
       "      <th>2</th>\n",
       "      <td>2</td>\n",
       "      <td>gcavello</td>\n",
       "      <td>Duncanville TX.</td>\n",
       "      <td>Prayer is the key! Never stop praying!  God is...</td>\n",
       "      <td>2008-10-20 12:42:22</td>\n",
       "      <td>123</td>\n",
       "      <td>2021-02-09 15:17:56</td>\n",
       "      <td>Jjust got our 2nd dose of the Pfizer Covid-19 ...</td>\n",
       "      <td>2</td>\n",
       "      <td>0</td>\n",
       "      <td>False</td>\n",
       "      <td>Positive</td>\n",
       "    </tr>\n",
       "    <tr>\n",
       "      <th>3</th>\n",
       "      <td>3</td>\n",
       "      <td>SaratogaChamber</td>\n",
       "      <td>NaN</td>\n",
       "      <td>We believe in opening doors &amp; closing deals. #...</td>\n",
       "      <td>2008-09-26 02:39:14</td>\n",
       "      <td>8831</td>\n",
       "      <td>2021-02-09 15:15:39</td>\n",
       "      <td>Thanks @WSWHEBOCES for hosting a vaccination c...</td>\n",
       "      <td>8</td>\n",
       "      <td>1</td>\n",
       "      <td>True</td>\n",
       "      <td>Positive</td>\n",
       "    </tr>\n",
       "    <tr>\n",
       "      <th>4</th>\n",
       "      <td>4</td>\n",
       "      <td>sondravet22</td>\n",
       "      <td>NaN</td>\n",
       "      <td>I AM A VIETNAM ERA SERVICE CONNECTED VET. I BE...</td>\n",
       "      <td>2019-01-18 07:11:11</td>\n",
       "      <td>160</td>\n",
       "      <td>2021-02-09 15:15:06</td>\n",
       "      <td>RT @medcoe: #GetTheShot💉🦠 \\n\\nMr. Duane Hill, ...</td>\n",
       "      <td>0</td>\n",
       "      <td>3</td>\n",
       "      <td>True</td>\n",
       "      <td>Positive</td>\n",
       "    </tr>\n",
       "  </tbody>\n",
       "</table>\n",
       "</div>"
      ],
      "text/plain": [
       "   Unnamed: 0        user_name                 user_location  \\\n",
       "0           0    northshoremed  North Shore of Massachusetts   \n",
       "1           1        GalwayCSD                    Galway, NY   \n",
       "2           2         gcavello               Duncanville TX.   \n",
       "3           3  SaratogaChamber                           NaN   \n",
       "4           4      sondravet22                           NaN   \n",
       "\n",
       "                                    user_description         user_created  \\\n",
       "0  Official twitter feed of North Shore Medical C...  2012-04-06 14:52:39   \n",
       "1  Educate all students to their highest level of...  2018-08-13 16:22:02   \n",
       "2  Prayer is the key! Never stop praying!  God is...  2008-10-20 12:42:22   \n",
       "3  We believe in opening doors & closing deals. #...  2008-09-26 02:39:14   \n",
       "4  I AM A VIETNAM ERA SERVICE CONNECTED VET. I BE...  2019-01-18 07:11:11   \n",
       "\n",
       "   user_followers                 date  \\\n",
       "0            1931  2021-02-09 16:17:15   \n",
       "1             216  2021-02-09 15:42:52   \n",
       "2             123  2021-02-09 15:17:56   \n",
       "3            8831  2021-02-09 15:15:39   \n",
       "4             160  2021-02-09 15:15:06   \n",
       "\n",
       "                                                text  favorites  retweets  \\\n",
       "0  \"I just received the COVID-19 vaccine and I no...          3         0   \n",
       "1  RT @SaratogaChamber: Thanks @WSWHEBOCES for ho...          0         1   \n",
       "2  Jjust got our 2nd dose of the Pfizer Covid-19 ...          2         0   \n",
       "3  Thanks @WSWHEBOCES for hosting a vaccination c...          8         1   \n",
       "4  RT @medcoe: #GetTheShot💉🦠 \\n\\nMr. Duane Hill, ...          0         3   \n",
       "\n",
       "   is_retweet  category  \n",
       "0       False  Positive  \n",
       "1        True  Positive  \n",
       "2       False  Positive  \n",
       "3        True  Positive  \n",
       "4        True  Positive  "
      ]
     },
     "execution_count": 5,
     "metadata": {},
     "output_type": "execute_result"
    }
   ],
   "source": [
    "import numpy as np\n",
    "\n",
    "import tensorflow as tf\n",
    "import tensorflow_datasets as tfds\n",
    "import pandas as pd\n",
    "import matplotlib.pyplot as plt\n",
    "\n",
    "df = pd.read_csv(r\"C:\\Users\\ronle\\Desktop\\ITC\\course\\Data_science_project\\covid_tweets\\pos_and_neg_tweets_balanced_2.csv\")\n",
    "df.head()"
   ]
  },
  {
   "cell_type": "code",
   "execution_count": 6,
   "metadata": {
    "colab": {
     "base_uri": "https://localhost:8080/",
     "height": 402
    },
    "id": "LeamVCH7RvZk",
    "outputId": "abb650f2-c5ae-46f0-e858-a95032141fa4"
   },
   "outputs": [
    {
     "data": {
      "text/html": [
       "<div>\n",
       "<style scoped>\n",
       "    .dataframe tbody tr th:only-of-type {\n",
       "        vertical-align: middle;\n",
       "    }\n",
       "\n",
       "    .dataframe tbody tr th {\n",
       "        vertical-align: top;\n",
       "    }\n",
       "\n",
       "    .dataframe thead th {\n",
       "        text-align: right;\n",
       "    }\n",
       "</style>\n",
       "<table border=\"1\" class=\"dataframe\">\n",
       "  <thead>\n",
       "    <tr style=\"text-align: right;\">\n",
       "      <th></th>\n",
       "      <th>text</th>\n",
       "      <th>category</th>\n",
       "    </tr>\n",
       "  </thead>\n",
       "  <tbody>\n",
       "    <tr>\n",
       "      <th>0</th>\n",
       "      <td>\"I just received the COVID-19 vaccine and I no...</td>\n",
       "      <td>Positive</td>\n",
       "    </tr>\n",
       "    <tr>\n",
       "      <th>1</th>\n",
       "      <td>RT @SaratogaChamber: Thanks @WSWHEBOCES for ho...</td>\n",
       "      <td>Positive</td>\n",
       "    </tr>\n",
       "    <tr>\n",
       "      <th>2</th>\n",
       "      <td>Jjust got our 2nd dose of the Pfizer Covid-19 ...</td>\n",
       "      <td>Positive</td>\n",
       "    </tr>\n",
       "    <tr>\n",
       "      <th>3</th>\n",
       "      <td>Thanks @WSWHEBOCES for hosting a vaccination c...</td>\n",
       "      <td>Positive</td>\n",
       "    </tr>\n",
       "    <tr>\n",
       "      <th>4</th>\n",
       "      <td>RT @medcoe: #GetTheShot💉🦠 \\n\\nMr. Duane Hill, ...</td>\n",
       "      <td>Positive</td>\n",
       "    </tr>\n",
       "    <tr>\n",
       "      <th>...</th>\n",
       "      <td>...</td>\n",
       "      <td>...</td>\n",
       "    </tr>\n",
       "    <tr>\n",
       "      <th>18486</th>\n",
       "      <td>RT @NickHudsonCT: Raising conflicts of interes...</td>\n",
       "      <td>Negative</td>\n",
       "    </tr>\n",
       "    <tr>\n",
       "      <th>18487</th>\n",
       "      <td>RT @NickHudsonCT: Raising conflicts of interes...</td>\n",
       "      <td>Negative</td>\n",
       "    </tr>\n",
       "    <tr>\n",
       "      <th>18488</th>\n",
       "      <td>RT @NickHudsonCT: Raising conflicts of interes...</td>\n",
       "      <td>Negative</td>\n",
       "    </tr>\n",
       "    <tr>\n",
       "      <th>18489</th>\n",
       "      <td>RT @NickHudsonCT: Raising conflicts of interes...</td>\n",
       "      <td>Negative</td>\n",
       "    </tr>\n",
       "    <tr>\n",
       "      <th>18490</th>\n",
       "      <td>RT @NickHudsonCT: Raising conflicts of interes...</td>\n",
       "      <td>Negative</td>\n",
       "    </tr>\n",
       "  </tbody>\n",
       "</table>\n",
       "<p>18491 rows × 2 columns</p>\n",
       "</div>"
      ],
      "text/plain": [
       "                                                    text  category\n",
       "0      \"I just received the COVID-19 vaccine and I no...  Positive\n",
       "1      RT @SaratogaChamber: Thanks @WSWHEBOCES for ho...  Positive\n",
       "2      Jjust got our 2nd dose of the Pfizer Covid-19 ...  Positive\n",
       "3      Thanks @WSWHEBOCES for hosting a vaccination c...  Positive\n",
       "4      RT @medcoe: #GetTheShot💉🦠 \\n\\nMr. Duane Hill, ...  Positive\n",
       "...                                                  ...       ...\n",
       "18486  RT @NickHudsonCT: Raising conflicts of interes...  Negative\n",
       "18487  RT @NickHudsonCT: Raising conflicts of interes...  Negative\n",
       "18488  RT @NickHudsonCT: Raising conflicts of interes...  Negative\n",
       "18489  RT @NickHudsonCT: Raising conflicts of interes...  Negative\n",
       "18490  RT @NickHudsonCT: Raising conflicts of interes...  Negative\n",
       "\n",
       "[18491 rows x 2 columns]"
      ]
     },
     "execution_count": 6,
     "metadata": {},
     "output_type": "execute_result"
    }
   ],
   "source": [
    "df_text = df.loc[:, ['text','category']]\n",
    "df_text"
   ]
  },
  {
   "cell_type": "code",
   "execution_count": 14,
   "metadata": {},
   "outputs": [
    {
     "data": {
      "text/plain": [
       "Negative    9587\n",
       "Positive    8904\n",
       "Name: category, dtype: int64"
      ]
     },
     "execution_count": 14,
     "metadata": {},
     "output_type": "execute_result"
    }
   ],
   "source": [
    "df_text.category.value_counts()"
   ]
  },
  {
   "cell_type": "code",
   "execution_count": 7,
   "metadata": {
    "id": "PPR5abLJpCju"
   },
   "outputs": [],
   "source": [
    "import re\n",
    "\n",
    "df_text[\"up_text\"] = df_text.text.str.lower()\n",
    "#Remove twitter handlers\n",
    "df_text.up_text = df_text.up_text.apply(lambda x:' '.join(re.sub(\"(@[A-Za-z0-9]+)|([^0-9A-Za-z \\t])|(\\w+:\\/\\/\\S+)\",\" \",x).split()))"
   ]
  },
  {
   "cell_type": "code",
   "execution_count": 8,
   "metadata": {
    "id": "RsJQ8_2JSWVA"
   },
   "outputs": [],
   "source": [
    "from sklearn.model_selection import train_test_split\n",
    "\n",
    "X = df_text['up_text']\n",
    "y = df_text['category']\n",
    "\n",
    "y = pd.concat([y, pd.get_dummies(y, prefix='target')],axis=1)\n",
    "y.drop(['category', 'target_Positive'],axis=1, inplace=True)\n",
    "train_examples, test_examples, train_labels,  test_labels = train_test_split(X, y, test_size=0.2, shuffle=True, random_state=42)"
   ]
  },
  {
   "cell_type": "code",
   "execution_count": 15,
   "metadata": {},
   "outputs": [
    {
     "name": "stdout",
     "output_type": "stream",
     "text": [
      "0.799956735709264 0.20004326429073604\n",
      "set()\n"
     ]
    }
   ],
   "source": [
    "print(train_examples.shape[0]/len(df_text), test_examples.shape[0]/len(df_text)) # proportion train / test for the split\n",
    "print(set(train_examples.index) & set(test_examples.index)) # are train and test datasets overlapping ? "
   ]
  },
  {
   "cell_type": "code",
   "execution_count": 23,
   "metadata": {},
   "outputs": [
    {
     "data": {
      "text/plain": [
       "pandas.core.frame.DataFrame"
      ]
     },
     "execution_count": 23,
     "metadata": {},
     "output_type": "execute_result"
    }
   ],
   "source": [
    "type(y)"
   ]
  },
  {
   "cell_type": "code",
   "execution_count": 9,
   "metadata": {
    "colab": {
     "base_uri": "https://localhost:8080/"
    },
    "id": "y8qCnve_-lkO",
    "outputId": "5c699632-a71b-4833-8249-608d334c485f"
   },
   "outputs": [
    {
     "name": "stdout",
     "output_type": "stream",
     "text": [
      "Training entries: 14792, test entries: 3699\n"
     ]
    }
   ],
   "source": [
    "print(\"Training entries: {}, test entries: {}\".format(len(train_examples), len(test_examples)))"
   ]
  },
  {
   "cell_type": "markdown",
   "metadata": {
    "id": "RnKvHWW4-lkW"
   },
   "source": [
    "Let's print first 10 examples."
   ]
  },
  {
   "cell_type": "code",
   "execution_count": 10,
   "metadata": {
    "colab": {
     "base_uri": "https://localhost:8080/"
    },
    "id": "QtTS4kpEpjbi",
    "outputId": "f5fb7a35-f60e-4c99-8012-2691388eddec"
   },
   "outputs": [
    {
     "data": {
      "text/plain": [
       "6762     how many years will you throw down the drain b...\n",
       "7902     rt when not if the nhs is privatised and inste...\n",
       "15624    rt raising conflicts of interest does not make...\n",
       "6913     thread dug up some facts about covid deaths vs...\n",
       "8332     rt the elderly are terrified that they might r...\n",
       "2840     researchers have found that over the past 20 y...\n",
       "17929    today was vasectomies x 8 one guy spewed forth...\n",
       "3341     rt i m getting vaccinated because the vaccine ...\n",
       "5943     rt prediction 1 the vaccine will change nothin...\n",
       "5458     you were wasting your time but they say god lo...\n",
       "Name: up_text, dtype: object"
      ]
     },
     "execution_count": 10,
     "metadata": {},
     "output_type": "execute_result"
    }
   ],
   "source": [
    "train_examples[:10]"
   ]
  },
  {
   "cell_type": "markdown",
   "metadata": {
    "id": "IFtaCHTdc-GY"
   },
   "source": [
    "Let's also print the first 10 labels."
   ]
  },
  {
   "cell_type": "code",
   "execution_count": 11,
   "metadata": {
    "colab": {
     "base_uri": "https://localhost:8080/",
     "height": 343
    },
    "id": "tvAjVXOWc6Mj",
    "outputId": "88522fb4-6118-4d13-b617-8ac5f9f68adc"
   },
   "outputs": [
    {
     "data": {
      "text/html": [
       "<div>\n",
       "<style scoped>\n",
       "    .dataframe tbody tr th:only-of-type {\n",
       "        vertical-align: middle;\n",
       "    }\n",
       "\n",
       "    .dataframe tbody tr th {\n",
       "        vertical-align: top;\n",
       "    }\n",
       "\n",
       "    .dataframe thead th {\n",
       "        text-align: right;\n",
       "    }\n",
       "</style>\n",
       "<table border=\"1\" class=\"dataframe\">\n",
       "  <thead>\n",
       "    <tr style=\"text-align: right;\">\n",
       "      <th></th>\n",
       "      <th>target_Negative</th>\n",
       "    </tr>\n",
       "  </thead>\n",
       "  <tbody>\n",
       "    <tr>\n",
       "      <th>6762</th>\n",
       "      <td>1</td>\n",
       "    </tr>\n",
       "    <tr>\n",
       "      <th>7902</th>\n",
       "      <td>1</td>\n",
       "    </tr>\n",
       "    <tr>\n",
       "      <th>15624</th>\n",
       "      <td>1</td>\n",
       "    </tr>\n",
       "    <tr>\n",
       "      <th>6913</th>\n",
       "      <td>1</td>\n",
       "    </tr>\n",
       "    <tr>\n",
       "      <th>8332</th>\n",
       "      <td>1</td>\n",
       "    </tr>\n",
       "    <tr>\n",
       "      <th>2840</th>\n",
       "      <td>0</td>\n",
       "    </tr>\n",
       "    <tr>\n",
       "      <th>17929</th>\n",
       "      <td>1</td>\n",
       "    </tr>\n",
       "    <tr>\n",
       "      <th>3341</th>\n",
       "      <td>0</td>\n",
       "    </tr>\n",
       "    <tr>\n",
       "      <th>5943</th>\n",
       "      <td>1</td>\n",
       "    </tr>\n",
       "    <tr>\n",
       "      <th>5458</th>\n",
       "      <td>1</td>\n",
       "    </tr>\n",
       "  </tbody>\n",
       "</table>\n",
       "</div>"
      ],
      "text/plain": [
       "       target_Negative\n",
       "6762                 1\n",
       "7902                 1\n",
       "15624                1\n",
       "6913                 1\n",
       "8332                 1\n",
       "2840                 0\n",
       "17929                1\n",
       "3341                 0\n",
       "5943                 1\n",
       "5458                 1"
      ]
     },
     "execution_count": 11,
     "metadata": {},
     "output_type": "execute_result"
    }
   ],
   "source": [
    "train_labels[:10]"
   ]
  },
  {
   "cell_type": "code",
   "execution_count": 12,
   "metadata": {
    "colab": {
     "base_uri": "https://localhost:8080/"
    },
    "id": "_NUbzVeYkgcO",
    "outputId": "88a4672f-ab20-4bcf-f3ab-8012f6976bfe"
   },
   "outputs": [
    {
     "ename": "NameError",
     "evalue": "name 'hub' is not defined",
     "output_type": "error",
     "traceback": [
      "\u001b[1;31m---------------------------------------------------------------------------\u001b[0m",
      "\u001b[1;31mNameError\u001b[0m                                 Traceback (most recent call last)",
      "\u001b[1;32m<ipython-input-12-bcd1c2ec765a>\u001b[0m in \u001b[0;36m<module>\u001b[1;34m\u001b[0m\n\u001b[0;32m      1\u001b[0m \u001b[0mmodel\u001b[0m \u001b[1;33m=\u001b[0m \u001b[1;34m\"https://tfhub.dev/google/nnlm-en-dim50/2\"\u001b[0m\u001b[1;33m\u001b[0m\u001b[1;33m\u001b[0m\u001b[0m\n\u001b[1;32m----> 2\u001b[1;33m \u001b[0mhub_layer\u001b[0m \u001b[1;33m=\u001b[0m \u001b[0mhub\u001b[0m\u001b[1;33m.\u001b[0m\u001b[0mKerasLayer\u001b[0m\u001b[1;33m(\u001b[0m\u001b[0mmodel\u001b[0m\u001b[1;33m,\u001b[0m \u001b[0minput_shape\u001b[0m\u001b[1;33m=\u001b[0m\u001b[1;33m[\u001b[0m\u001b[1;33m]\u001b[0m\u001b[1;33m,\u001b[0m \u001b[0mdtype\u001b[0m\u001b[1;33m=\u001b[0m\u001b[0mtf\u001b[0m\u001b[1;33m.\u001b[0m\u001b[0mstring\u001b[0m\u001b[1;33m,\u001b[0m \u001b[0mtrainable\u001b[0m\u001b[1;33m=\u001b[0m\u001b[1;32mTrue\u001b[0m\u001b[1;33m)\u001b[0m\u001b[1;33m\u001b[0m\u001b[1;33m\u001b[0m\u001b[0m\n\u001b[0m\u001b[0;32m      3\u001b[0m \u001b[0mhub_layer\u001b[0m\u001b[1;33m(\u001b[0m\u001b[0mtrain_examples\u001b[0m\u001b[1;33m[\u001b[0m\u001b[1;33m:\u001b[0m\u001b[1;36m3\u001b[0m\u001b[1;33m]\u001b[0m\u001b[1;33m)\u001b[0m\u001b[1;33m\u001b[0m\u001b[1;33m\u001b[0m\u001b[0m\n",
      "\u001b[1;31mNameError\u001b[0m: name 'hub' is not defined"
     ]
    }
   ],
   "source": [
    "model = \"https://tfhub.dev/google/nnlm-en-dim50/2\"\n",
    "hub_layer = hub.KerasLayer(model, input_shape=[], dtype=tf.string, trainable=True)\n",
    "hub_layer(train_examples[:3])"
   ]
  },
  {
   "cell_type": "code",
   "execution_count": 11,
   "metadata": {
    "colab": {
     "base_uri": "https://localhost:8080/"
    },
    "id": "xpKOoWgu-llD",
    "outputId": "26a6076a-c2c0-4f05-b02c-beac8e50bd40"
   },
   "outputs": [
    {
     "name": "stdout",
     "output_type": "stream",
     "text": [
      "Model: \"sequential\"\n",
      "_________________________________________________________________\n",
      "Layer (type)                 Output Shape              Param #   \n",
      "=================================================================\n",
      "keras_layer (KerasLayer)     (None, 50)                48190600  \n",
      "_________________________________________________________________\n",
      "dense (Dense)                (None, 16)                816       \n",
      "_________________________________________________________________\n",
      "dense_1 (Dense)              (None, 1)                 17        \n",
      "=================================================================\n",
      "Total params: 48,191,433\n",
      "Trainable params: 48,191,433\n",
      "Non-trainable params: 0\n",
      "_________________________________________________________________\n"
     ]
    }
   ],
   "source": [
    "model = tf.keras.Sequential()\n",
    "model.add(hub_layer)\n",
    "model.add(tf.keras.layers.Dense(16, activation='relu'))\n",
    "model.add(tf.keras.layers.Dense(1))\n",
    "\n",
    "model.summary()"
   ]
  },
  {
   "cell_type": "code",
   "execution_count": 12,
   "metadata": {
    "id": "Mr0GP-cQ-llN"
   },
   "outputs": [],
   "source": [
    "model.compile(optimizer='adam',\n",
    "              loss=tf.losses.BinaryCrossentropy(from_logits=True),\n",
    "              metrics=[tf.metrics.BinaryAccuracy(threshold=0.0, name='accuracy')])"
   ]
  },
  {
   "cell_type": "code",
   "execution_count": 13,
   "metadata": {
    "id": "-NpcXY9--llS"
   },
   "outputs": [],
   "source": [
    "x_val = train_examples[:100]\n",
    "partial_x_train = train_examples[100:]\n",
    "\n",
    "y_val = train_labels[:100]\n",
    "partial_y_train = train_labels[100:]"
   ]
  },
  {
   "cell_type": "code",
   "execution_count": 14,
   "metadata": {
    "colab": {
     "base_uri": "https://localhost:8080/"
    },
    "id": "tXSGrjWZ-llW",
    "outputId": "ce1a44fd-7b74-4ac7-96b9-7d3a60c8d390"
   },
   "outputs": [
    {
     "name": "stdout",
     "output_type": "stream",
     "text": [
      "Epoch 1/40\n",
      "29/29 [==============================] - 2s 44ms/step - loss: 0.6383 - accuracy: 0.6580 - val_loss: 0.4760 - val_accuracy: 0.8900\n",
      "Epoch 2/40\n",
      "29/29 [==============================] - 1s 31ms/step - loss: 0.4120 - accuracy: 0.9097 - val_loss: 0.2544 - val_accuracy: 0.9600\n",
      "Epoch 3/40\n",
      "29/29 [==============================] - 1s 31ms/step - loss: 0.2160 - accuracy: 0.9534 - val_loss: 0.1507 - val_accuracy: 0.9600\n",
      "Epoch 4/40\n",
      "29/29 [==============================] - 1s 31ms/step - loss: 0.1142 - accuracy: 0.9744 - val_loss: 0.1047 - val_accuracy: 0.9700\n",
      "Epoch 5/40\n",
      "29/29 [==============================] - 1s 31ms/step - loss: 0.0687 - accuracy: 0.9843 - val_loss: 0.0802 - val_accuracy: 0.9800\n",
      "Epoch 6/40\n",
      "29/29 [==============================] - 1s 31ms/step - loss: 0.0449 - accuracy: 0.9916 - val_loss: 0.0667 - val_accuracy: 0.9800\n",
      "Epoch 7/40\n",
      "29/29 [==============================] - 1s 31ms/step - loss: 0.0332 - accuracy: 0.9938 - val_loss: 0.0596 - val_accuracy: 0.9800\n",
      "Epoch 8/40\n",
      "29/29 [==============================] - 1s 31ms/step - loss: 0.0241 - accuracy: 0.9960 - val_loss: 0.0528 - val_accuracy: 0.9800\n",
      "Epoch 9/40\n",
      "29/29 [==============================] - 1s 31ms/step - loss: 0.0165 - accuracy: 0.9977 - val_loss: 0.0508 - val_accuracy: 0.9800\n",
      "Epoch 10/40\n",
      "29/29 [==============================] - 1s 31ms/step - loss: 0.0142 - accuracy: 0.9976 - val_loss: 0.0477 - val_accuracy: 0.9800\n",
      "Epoch 11/40\n",
      "29/29 [==============================] - 1s 31ms/step - loss: 0.0115 - accuracy: 0.9981 - val_loss: 0.0462 - val_accuracy: 0.9800\n",
      "Epoch 12/40\n",
      "29/29 [==============================] - 1s 35ms/step - loss: 0.0095 - accuracy: 0.9975 - val_loss: 0.0457 - val_accuracy: 0.9800\n",
      "Epoch 13/40\n",
      "29/29 [==============================] - 1s 31ms/step - loss: 0.0076 - accuracy: 0.9988 - val_loss: 0.0444 - val_accuracy: 0.9800\n",
      "Epoch 14/40\n",
      "29/29 [==============================] - 1s 31ms/step - loss: 0.0072 - accuracy: 0.9988 - val_loss: 0.0426 - val_accuracy: 0.9800\n",
      "Epoch 15/40\n",
      "29/29 [==============================] - 1s 31ms/step - loss: 0.0057 - accuracy: 0.9993 - val_loss: 0.0432 - val_accuracy: 0.9800\n",
      "Epoch 16/40\n",
      "29/29 [==============================] - 1s 31ms/step - loss: 0.0054 - accuracy: 0.9987 - val_loss: 0.0434 - val_accuracy: 0.9800\n",
      "Epoch 17/40\n",
      "29/29 [==============================] - 1s 31ms/step - loss: 0.0044 - accuracy: 0.9992 - val_loss: 0.0428 - val_accuracy: 0.9800\n",
      "Epoch 18/40\n",
      "29/29 [==============================] - 1s 31ms/step - loss: 0.0052 - accuracy: 0.9984 - val_loss: 0.0428 - val_accuracy: 0.9800\n",
      "Epoch 19/40\n",
      "29/29 [==============================] - 1s 31ms/step - loss: 0.0038 - accuracy: 0.9992 - val_loss: 0.0418 - val_accuracy: 0.9800\n",
      "Epoch 20/40\n",
      "29/29 [==============================] - 1s 31ms/step - loss: 0.0037 - accuracy: 0.9991 - val_loss: 0.0424 - val_accuracy: 0.9800\n",
      "Epoch 21/40\n",
      "29/29 [==============================] - 1s 31ms/step - loss: 0.0032 - accuracy: 0.9995 - val_loss: 0.0421 - val_accuracy: 0.9800\n",
      "Epoch 22/40\n",
      "29/29 [==============================] - 1s 32ms/step - loss: 0.0033 - accuracy: 0.9991 - val_loss: 0.0415 - val_accuracy: 0.9800\n",
      "Epoch 23/40\n",
      "29/29 [==============================] - 1s 31ms/step - loss: 0.0035 - accuracy: 0.9989 - val_loss: 0.0419 - val_accuracy: 0.9800\n",
      "Epoch 24/40\n",
      "29/29 [==============================] - 1s 31ms/step - loss: 0.0036 - accuracy: 0.9990 - val_loss: 0.0416 - val_accuracy: 0.9800\n",
      "Epoch 25/40\n",
      "29/29 [==============================] - 1s 31ms/step - loss: 0.0030 - accuracy: 0.9991 - val_loss: 0.0419 - val_accuracy: 0.9800\n",
      "Epoch 26/40\n",
      "29/29 [==============================] - 1s 31ms/step - loss: 0.0030 - accuracy: 0.9992 - val_loss: 0.0409 - val_accuracy: 0.9800\n",
      "Epoch 27/40\n",
      "29/29 [==============================] - 1s 31ms/step - loss: 0.0029 - accuracy: 0.9989 - val_loss: 0.0414 - val_accuracy: 0.9800\n",
      "Epoch 28/40\n",
      "29/29 [==============================] - 1s 31ms/step - loss: 0.0029 - accuracy: 0.9991 - val_loss: 0.0409 - val_accuracy: 0.9800\n",
      "Epoch 29/40\n",
      "29/29 [==============================] - 1s 31ms/step - loss: 0.0030 - accuracy: 0.9988 - val_loss: 0.0413 - val_accuracy: 0.9800\n",
      "Epoch 30/40\n",
      "29/29 [==============================] - 1s 31ms/step - loss: 0.0028 - accuracy: 0.9993 - val_loss: 0.0407 - val_accuracy: 0.9800\n",
      "Epoch 31/40\n",
      "29/29 [==============================] - 1s 32ms/step - loss: 0.0029 - accuracy: 0.9987 - val_loss: 0.0408 - val_accuracy: 0.9800\n",
      "Epoch 32/40\n",
      "29/29 [==============================] - 1s 31ms/step - loss: 0.0025 - accuracy: 0.9991 - val_loss: 0.0403 - val_accuracy: 0.9800\n",
      "Epoch 33/40\n",
      "29/29 [==============================] - 1s 31ms/step - loss: 0.0023 - accuracy: 0.9989 - val_loss: 0.0402 - val_accuracy: 0.9800\n",
      "Epoch 34/40\n",
      "29/29 [==============================] - 1s 31ms/step - loss: 0.0023 - accuracy: 0.9991 - val_loss: 0.0407 - val_accuracy: 0.9800\n",
      "Epoch 35/40\n",
      "29/29 [==============================] - 1s 31ms/step - loss: 0.0027 - accuracy: 0.9990 - val_loss: 0.0404 - val_accuracy: 0.9800\n",
      "Epoch 36/40\n",
      "29/29 [==============================] - 1s 31ms/step - loss: 0.0021 - accuracy: 0.9993 - val_loss: 0.0403 - val_accuracy: 0.9800\n",
      "Epoch 37/40\n",
      "29/29 [==============================] - 1s 31ms/step - loss: 0.0019 - accuracy: 0.9995 - val_loss: 0.0405 - val_accuracy: 0.9800\n",
      "Epoch 38/40\n",
      "29/29 [==============================] - 1s 35ms/step - loss: 0.0024 - accuracy: 0.9993 - val_loss: 0.0403 - val_accuracy: 0.9800\n",
      "Epoch 39/40\n",
      "29/29 [==============================] - 1s 32ms/step - loss: 0.0023 - accuracy: 0.9990 - val_loss: 0.0394 - val_accuracy: 0.9800\n",
      "Epoch 40/40\n",
      "29/29 [==============================] - 1s 31ms/step - loss: 0.0026 - accuracy: 0.9988 - val_loss: 0.0404 - val_accuracy: 0.9800\n"
     ]
    }
   ],
   "source": [
    "history = model.fit(partial_x_train,\n",
    "                    partial_y_train,\n",
    "                    epochs=40,\n",
    "                    batch_size=512,\n",
    "                    validation_data=(x_val, y_val),\n",
    "                    verbose=1)"
   ]
  },
  {
   "cell_type": "code",
   "execution_count": 15,
   "metadata": {
    "colab": {
     "base_uri": "https://localhost:8080/"
    },
    "id": "zOMKywn4zReN",
    "outputId": "0ccf9ae1-c24d-4ba1-cd94-10ed951c4286"
   },
   "outputs": [
    {
     "name": "stdout",
     "output_type": "stream",
     "text": [
      "116/116 [==============================] - 0s 2ms/step - loss: 0.0318 - accuracy: 0.9919\n",
      "[0.031750284135341644, 0.9918897151947021]\n"
     ]
    }
   ],
   "source": [
    "results = model.evaluate(test_examples, test_labels)\n",
    "\n",
    "print(results)"
   ]
  },
  {
   "cell_type": "code",
   "execution_count": 16,
   "metadata": {
    "colab": {
     "base_uri": "https://localhost:8080/"
    },
    "id": "VcvSXvhp-llb",
    "outputId": "273aa256-0dd6-4834-c0e2-6dbbb6b43916"
   },
   "outputs": [
    {
     "data": {
      "text/plain": [
       "dict_keys(['loss', 'accuracy', 'val_loss', 'val_accuracy'])"
      ]
     },
     "execution_count": 16,
     "metadata": {
      "tags": []
     },
     "output_type": "execute_result"
    }
   ],
   "source": [
    "history_dict = history.history\n",
    "history_dict.keys()"
   ]
  },
  {
   "cell_type": "code",
   "execution_count": 17,
   "metadata": {
    "colab": {
     "base_uri": "https://localhost:8080/",
     "height": 295
    },
    "id": "nGoYf2Js-lle",
    "outputId": "7b034453-afcb-41ac-f7c8-240a3f6f5b04"
   },
   "outputs": [
    {
     "data": {
      "image/png": "[encoded data removed]",
      "text/plain": [
       "<Figure size 432x288 with 1 Axes>"
      ]
     },
     "metadata": {
      "needs_background": "light",
      "tags": []
     },
     "output_type": "display_data"
    }
   ],
   "source": [
    "acc = history_dict['accuracy']\n",
    "val_acc = history_dict['val_accuracy']\n",
    "loss = history_dict['loss']\n",
    "val_loss = history_dict['val_loss']\n",
    "\n",
    "epochs = range(1, len(acc) + 1)\n",
    "\n",
    "# \"bo\" is for \"blue dot\"\n",
    "plt.plot(epochs, loss, 'bo', label='Training loss')\n",
    "# b is for \"solid blue line\"\n",
    "plt.plot(epochs, val_loss, 'b', label='Validation loss')\n",
    "plt.title('Training and validation loss')\n",
    "plt.xlabel('Epochs')\n",
    "plt.ylabel('Loss')\n",
    "plt.legend()\n",
    "\n",
    "plt.show()"
   ]
  },
  {
   "cell_type": "code",
   "execution_count": 18,
   "metadata": {
    "colab": {
     "base_uri": "https://localhost:8080/",
     "height": 295
    },
    "id": "6hXx-xOv-llh",
    "outputId": "7978e0a8-c7da-44c9-ee58-4f060982ecdc"
   },
   "outputs": [
    {
     "data": {
      "image/png": "[encoded data removed]",
      "text/plain": [
       "<Figure size 432x288 with 1 Axes>"
      ]
     },
     "metadata": {
      "needs_background": "light",
      "tags": []
     },
     "output_type": "display_data"
    }
   ],
   "source": [
    "plt.clf()   # clear figure\n",
    "\n",
    "plt.plot(epochs, acc, 'bo', label='Training acc')\n",
    "plt.plot(epochs, val_acc, 'b', label='Validation acc')\n",
    "plt.title('Training and validation accuracy')\n",
    "plt.xlabel('Epochs')\n",
    "plt.ylabel('Accuracy')\n",
    "plt.legend()\n",
    "\n",
    "plt.show()"
   ]
  }
 ],
 "metadata": {
  "accelerator": "GPU",
  "colab": {
   "collapsed_sections": [],
   "name": "basic-text-classification_final.ipynb",
   "provenance": [],
   "toc_visible": true
  },
  "kernelspec": {
   "display_name": "Python 3",
   "language": "python",
   "name": "python3"
  },
  "language_info": {
   "codemirror_mode": {
    "name": "ipython",
    "version": 3
   },
   "file_extension": ".py",
   "mimetype": "text/x-python",
   "name": "python",
   "nbconvert_exporter": "python",
   "pygments_lexer": "ipython3",
   "version": "3.8.5"
  },
  "toc": {
   "base_numbering": 1,
   "nav_menu": {},
   "number_sections": true,
   "sideBar": true,
   "skip_h1_title": false,
   "title_cell": "Table of Contents",
   "title_sidebar": "Contents",
   "toc_cell": false,
   "toc_position": {},
   "toc_section_display": true,
   "toc_window_display": false
  }
 },
 "nbformat": 4,
 "nbformat_minor": 1
}
