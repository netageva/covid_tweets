{
 "cells": [
  {
   "cell_type": "code",
   "execution_count": 9,
   "metadata": {
    "colab": {
     "base_uri": "https://localhost:8080/",
     "height": 72,
     "resources": {
      "http://localhost:8080/nbextensions/google.colab/files.js": {
       "data": "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",
       "headers": [
        [
         "content-type",
         "application/javascript"
        ]
       ],
       "ok": true,
       "status": 200,
       "status_text": ""
      }
     }
    },
    "executionInfo": {
     "elapsed": 22466,
     "status": "ok",
     "timestamp": 1611213389437,
     "user": {
      "displayName": "Loren Dery",
      "photoUrl": "",
      "userId": "12087338780719726518"
     },
     "user_tz": -120
    },
    "id": "Prtq7OZh9ddD",
    "outputId": "bec0eafb-04ec-438e-9f7a-97b94fa14990"
   },
   "outputs": [
    {
     "data": {
      "text/html": [
       "\n",
       "     <input type=\"file\" id=\"files-d2f402c4-9ee8-40f4-a8a4-0795d1a2b41d\" name=\"files[]\" multiple disabled\n",
       "        style=\"border:none\" />\n",
       "     <output id=\"result-d2f402c4-9ee8-40f4-a8a4-0795d1a2b41d\">\n",
       "      Upload widget is only available when the cell has been executed in the\n",
       "      current browser session. Please rerun this cell to enable.\n",
       "      </output>\n",
       "      <script src=\"/nbextensions/google.colab/files.js\"></script> "
      ],
      "text/plain": [
       "<IPython.core.display.HTML object>"
      ]
     },
     "metadata": {
      "tags": []
     },
     "output_type": "display_data"
    },
    {
     "name": "stdout",
     "output_type": "stream",
     "text": [
      "Saving vaccination_tweets.csv to vaccination_tweets.csv\n"
     ]
    }
   ],
   "source": [
    "from google.colab import files\n",
    "\n",
    "uploaded = files.upload()"
   ]
  },
  {
   "cell_type": "code",
   "execution_count": 3,
   "metadata": {
    "colab": {
     "base_uri": "https://localhost:8080/"
    },
    "executionInfo": {
     "elapsed": 25958,
     "status": "ok",
     "timestamp": 1611212083733,
     "user": {
      "displayName": "Loren Dery",
      "photoUrl": "",
      "userId": "12087338780719726518"
     },
     "user_tz": -120
    },
    "id": "izaUCiNUAFKB",
    "outputId": "85fd6ea2-cc98-4fd3-b2b3-872258efedb8"
   },
   "outputs": [
    {
     "name": "stdout",
     "output_type": "stream",
     "text": [
      "Mounted at /content/gdrive\n"
     ]
    }
   ],
   "source": [
    "from google.colab import drive\n",
    "\n",
    "drive.mount('/content/gdrive')"
   ]
  },
  {
   "cell_type": "code",
   "execution_count": 1,
   "metadata": {
    "colab": {
     "base_uri": "https://localhost:8080/"
    },
    "executionInfo": {
     "elapsed": 652,
     "status": "ok",
     "timestamp": 1611219013755,
     "user": {
      "displayName": "Loren Dery",
      "photoUrl": "",
      "userId": "12087338780719726518"
     },
     "user_tz": -120
    },
    "id": "wfnHSjtm9h7_",
    "outputId": "2554d9ed-617f-407e-b50b-b7f27d508515"
   },
   "outputs": [
    {
     "ename": "ModuleNotFoundError",
     "evalue": "No module named 'wordcloud'",
     "output_type": "error",
     "traceback": [
      "\u001b[1;31m---------------------------------------------------------------------------\u001b[0m",
      "\u001b[1;31mModuleNotFoundError\u001b[0m                       Traceback (most recent call last)",
      "\u001b[1;32m<ipython-input-1-2a343f5c0823>\u001b[0m in \u001b[0;36m<module>\u001b[1;34m\u001b[0m\n\u001b[0;32m      6\u001b[0m \u001b[1;32mimport\u001b[0m \u001b[0mre\u001b[0m\u001b[1;33m\u001b[0m\u001b[1;33m\u001b[0m\u001b[0m\n\u001b[0;32m      7\u001b[0m \u001b[1;32mimport\u001b[0m \u001b[0mitertools\u001b[0m\u001b[1;33m\u001b[0m\u001b[1;33m\u001b[0m\u001b[0m\n\u001b[1;32m----> 8\u001b[1;33m \u001b[1;32mfrom\u001b[0m \u001b[0mwordcloud\u001b[0m \u001b[1;32mimport\u001b[0m \u001b[0mWordCloud\u001b[0m\u001b[1;33m,\u001b[0m \u001b[0mSTOPWORDS\u001b[0m\u001b[1;33m\u001b[0m\u001b[1;33m\u001b[0m\u001b[0m\n\u001b[0m\u001b[0;32m      9\u001b[0m \u001b[1;32mfrom\u001b[0m \u001b[0mcollections\u001b[0m \u001b[1;32mimport\u001b[0m \u001b[0mCounter\u001b[0m\u001b[1;33m\u001b[0m\u001b[1;33m\u001b[0m\u001b[0m\n\u001b[0;32m     10\u001b[0m \u001b[1;32mimport\u001b[0m \u001b[0mnltk\u001b[0m\u001b[1;33m\u001b[0m\u001b[1;33m\u001b[0m\u001b[0m\n",
      "\u001b[1;31mModuleNotFoundError\u001b[0m: No module named 'wordcloud'"
     ]
    }
   ],
   "source": [
    "import pandas as pd\n",
    "import numpy as np\n",
    "import seaborn as sns\n",
    "import matplotlib.pyplot as plt\n",
    "%matplotlib inline\n",
    "import re\n",
    "import itertools\n",
    "from wordcloud import WordCloud, STOPWORDS\n",
    "from collections import Counter\n",
    "import nltk\n",
    "nltk.download('vader_lexicon')\n",
    "from nltk.corpus import stopwords\n",
    "nltk.download('stopwords')\n",
    "nltk.download('wordnet')\n",
    "from nltk.sentiment.vader import SentimentIntensityAnalyzer as SIA\n",
    "import tweepy as tw\n",
    "from collections import Counter"
   ]
  },
  {
   "cell_type": "code",
   "execution_count": 102,
   "metadata": {
    "executionInfo": {
     "elapsed": 15407,
     "status": "ok",
     "timestamp": 1611224531363,
     "user": {
      "displayName": "Loren Dery",
      "photoUrl": "",
      "userId": "12087338780719726518"
     },
     "user_tz": -120
    },
    "id": "noL7ihO-0Z7r"
   },
   "outputs": [],
   "source": [
    "import tweepy as tw\n",
    "import pandas as pd\n",
    "\n",
    "auth = tw.OAuthHandler('d5HZe4mtTtZDAJllEnbuyaT9v', 'mY7Jlf9r1j3BOI20QSB84T3ktByMxjwjAhL6rrRRjrBckBShE0')\n",
    "auth.set_access_token('230756541-J0P9NtPULFfEebC5mOQoB1k4n6dJwd7yk8NPGjHd', 'DY0UlIsKTG6FX7AuQVUCTQx248Mbta8J76FuSyHTMezDB')\n",
    "api = tw.API(auth)\n",
    "search_words = \"#PfizerVaccine OR #Vaccine OR #Moderna OR #pfizervaccine OR #vaccination\"\n",
    "date_since = \"2021-01-01\"\n",
    "date_until= \"2021-01-10\"\n",
    "\n",
    "tweets = tw.Cursor(api.search,\n",
    "              q=search_words,\n",
    "              lang=\"en\",\n",
    "              since=date_since).items(1000)\n",
    "content = []\n",
    "id = []\n",
    "username = []\n",
    "location = []\n",
    "description = []\n",
    "user_creat_date = []\n",
    "followers = []\n",
    "favorite_tweet_count = []\n",
    "retweet_count = []\n",
    "posted_at = []\n",
    "is_retweet = []\n",
    "for tweet in tweets:\n",
    "    content.append(tweet.text)\n",
    "    id.append(tweet.id)\n",
    "    username.append(tweet.user.screen_name)\n",
    "    location.append(tweet.user.location)\n",
    "    description.append(tweet.user.description)\n",
    "    user_creat_date.append(tweet.user.created_at)\n",
    "    followers.append(tweet.user.followers_count)\n",
    "    favorite_tweet_count.append(tweet.favorite_count)\n",
    "    retweet_count.append(tweet.retweet_count)\n",
    "    posted_at.append(tweet.created_at)\n",
    "    is_retweet.append(tweet.retweet_count > 0)\n",
    "\n",
    "\n",
    "data = {'id': id,\n",
    "        'user_name': username,\n",
    "        'user_location':location,\n",
    "        'user_description':description,\n",
    "        'user_created': user_creat_date,\n",
    "        'user_followers':followers,\n",
    "        'date':posted_at,\n",
    "        'text':content,\n",
    "        'favorites':favorite_tweet_count,\n",
    "        'retweets':retweet_count,\n",
    "        'is_retweet':is_retweet\n",
    "        }\n",
    "\n",
    "# Create DataFrame\n",
    "#\n",
    "\n",
    "df1 = pd.DataFrame(data)\n"
   ]
  },
  {
   "cell_type": "code",
   "execution_count": 103,
   "metadata": {
    "colab": {
     "base_uri": "https://localhost:8080/",
     "height": 281
    },
    "executionInfo": {
     "elapsed": 852,
     "status": "ok",
     "timestamp": 1611224534112,
     "user": {
      "displayName": "Loren Dery",
      "photoUrl": "",
      "userId": "12087338780719726518"
     },
     "user_tz": -120
    },
    "id": "mnrlOSau0_Dc",
    "outputId": "c4bd0d57-6030-41bf-b977-76b5ad868563"
   },
   "outputs": [
    {
     "data": {
      "text/html": [
       "<div>\n",
       "<style scoped>\n",
       "    .dataframe tbody tr th:only-of-type {\n",
       "        vertical-align: middle;\n",
       "    }\n",
       "\n",
       "    .dataframe tbody tr th {\n",
       "        vertical-align: top;\n",
       "    }\n",
       "\n",
       "    .dataframe thead th {\n",
       "        text-align: right;\n",
       "    }\n",
       "</style>\n",
       "<table border=\"1\" class=\"dataframe\">\n",
       "  <thead>\n",
       "    <tr style=\"text-align: right;\">\n",
       "      <th></th>\n",
       "      <th>id</th>\n",
       "      <th>user_name</th>\n",
       "      <th>user_location</th>\n",
       "      <th>user_description</th>\n",
       "      <th>user_created</th>\n",
       "      <th>user_followers</th>\n",
       "      <th>date</th>\n",
       "      <th>text</th>\n",
       "      <th>favorites</th>\n",
       "      <th>retweets</th>\n",
       "      <th>is_retweet</th>\n",
       "    </tr>\n",
       "  </thead>\n",
       "  <tbody>\n",
       "    <tr>\n",
       "      <th>0</th>\n",
       "      <td>1352199721834655745</td>\n",
       "      <td>buzz_bmth</td>\n",
       "      <td>Bournemouth, UK</td>\n",
       "      <td>BUzz is an online news service from @bournemou...</td>\n",
       "      <td>2009-03-10 09:12:15</td>\n",
       "      <td>1500</td>\n",
       "      <td>2021-01-21 10:21:50</td>\n",
       "      <td>1) Dr Zahid Chauhan is the man behind Oldham C...</td>\n",
       "      <td>0</td>\n",
       "      <td>0</td>\n",
       "      <td>False</td>\n",
       "    </tr>\n",
       "    <tr>\n",
       "      <th>1</th>\n",
       "      <td>1352199618692608001</td>\n",
       "      <td>PatKennyNT</td>\n",
       "      <td>Ireland</td>\n",
       "      <td>Every weekday from 9am - 12pm on @NewstalkFM. ...</td>\n",
       "      <td>2013-08-02 12:32:17</td>\n",
       "      <td>64223</td>\n",
       "      <td>2021-01-21 10:21:26</td>\n",
       "      <td>Coming up we ask the vaccine deal an agreeable...</td>\n",
       "      <td>0</td>\n",
       "      <td>0</td>\n",
       "      <td>False</td>\n",
       "    </tr>\n",
       "    <tr>\n",
       "      <th>2</th>\n",
       "      <td>1352199473838100481</td>\n",
       "      <td>PhilACarpenter</td>\n",
       "      <td>Drawbridge Britain</td>\n",
       "      <td>alfisti | ai | bianchi | cdp | cx | cyclist | ...</td>\n",
       "      <td>2009-02-18 22:06:27</td>\n",
       "      <td>2274</td>\n",
       "      <td>2021-01-21 10:20:51</td>\n",
       "      <td>RT @SkyNewsThomas: Chief scientist says UK wil...</td>\n",
       "      <td>0</td>\n",
       "      <td>853</td>\n",
       "      <td>True</td>\n",
       "    </tr>\n",
       "    <tr>\n",
       "      <th>3</th>\n",
       "      <td>1352199471241830402</td>\n",
       "      <td>paullantz</td>\n",
       "      <td>Belleville, Ontario</td>\n",
       "      <td>Retired legal aid clinic lawyer and former com...</td>\n",
       "      <td>2010-09-15 20:09:20</td>\n",
       "      <td>3807</td>\n",
       "      <td>2021-01-21 10:20:51</td>\n",
       "      <td>RT @weeneebayko: Anna Belle, 96 years old and ...</td>\n",
       "      <td>0</td>\n",
       "      <td>12</td>\n",
       "      <td>True</td>\n",
       "    </tr>\n",
       "    <tr>\n",
       "      <th>4</th>\n",
       "      <td>1352199422864748544</td>\n",
       "      <td>PeterHotez</td>\n",
       "      <td>Montrose, Houston TX</td>\n",
       "      <td>Vaccine Scientist-Pediatrician-Author, Prof De...</td>\n",
       "      <td>2012-05-29 00:46:55</td>\n",
       "      <td>124717</td>\n",
       "      <td>2021-01-21 10:20:39</td>\n",
       "      <td>RT @saribethrose: Thank you @Reuters for follo...</td>\n",
       "      <td>0</td>\n",
       "      <td>24</td>\n",
       "      <td>True</td>\n",
       "    </tr>\n",
       "  </tbody>\n",
       "</table>\n",
       "</div>"
      ],
      "text/plain": [
       "                    id       user_name  ... retweets is_retweet\n",
       "0  1352199721834655745       buzz_bmth  ...        0      False\n",
       "1  1352199618692608001      PatKennyNT  ...        0      False\n",
       "2  1352199473838100481  PhilACarpenter  ...      853       True\n",
       "3  1352199471241830402       paullantz  ...       12       True\n",
       "4  1352199422864748544      PeterHotez  ...       24       True\n",
       "\n",
       "[5 rows x 11 columns]"
      ]
     },
     "execution_count": 103,
     "metadata": {
      "tags": []
     },
     "output_type": "execute_result"
    }
   ],
   "source": [
    "df1.head()"
   ]
  },
  {
   "cell_type": "code",
   "execution_count": 104,
   "metadata": {
    "executionInfo": {
     "elapsed": 673,
     "status": "ok",
     "timestamp": 1611224536992,
     "user": {
      "displayName": "Loren Dery",
      "photoUrl": "",
      "userId": "12087338780719726518"
     },
     "user_tz": -120
    },
    "id": "vjCbeVvF4Ykv"
   },
   "outputs": [],
   "source": [
    "df1['hashtags']=df1['text'].apply(lambda x: \", \".join(re.findall('(#+[a-zA-Z0-9(_)]{1,})',x)))"
   ]
  },
  {
   "cell_type": "code",
   "execution_count": 105,
   "metadata": {
    "executionInfo": {
     "elapsed": 857,
     "status": "ok",
     "timestamp": 1611224539015,
     "user": {
      "displayName": "Loren Dery",
      "photoUrl": "",
      "userId": "12087338780719726518"
     },
     "user_tz": -120
    },
    "id": "jj3Wbm_CzMr3"
   },
   "outputs": [],
   "source": [
    "df = pd.read_csv('vaccination_tweets.csv')"
   ]
  },
  {
   "cell_type": "code",
   "execution_count": 106,
   "metadata": {
    "colab": {
     "base_uri": "https://localhost:8080/",
     "height": 501
    },
    "executionInfo": {
     "elapsed": 721,
     "status": "ok",
     "timestamp": 1611224542445,
     "user": {
      "displayName": "Loren Dery",
      "photoUrl": "",
      "userId": "12087338780719726518"
     },
     "user_tz": -120
    },
    "id": "VpWEJQ1Eubj8",
    "outputId": "369528f8-2038-4c30-ab33-6d84173b3d91"
   },
   "outputs": [
    {
     "data": {
      "text/html": [
       "<div>\n",
       "<style scoped>\n",
       "    .dataframe tbody tr th:only-of-type {\n",
       "        vertical-align: middle;\n",
       "    }\n",
       "\n",
       "    .dataframe tbody tr th {\n",
       "        vertical-align: top;\n",
       "    }\n",
       "\n",
       "    .dataframe thead th {\n",
       "        text-align: right;\n",
       "    }\n",
       "</style>\n",
       "<table border=\"1\" class=\"dataframe\">\n",
       "  <thead>\n",
       "    <tr style=\"text-align: right;\">\n",
       "      <th></th>\n",
       "      <th>id</th>\n",
       "      <th>user_name</th>\n",
       "      <th>user_location</th>\n",
       "      <th>user_description</th>\n",
       "      <th>user_created</th>\n",
       "      <th>user_followers</th>\n",
       "      <th>user_friends</th>\n",
       "      <th>user_favourites</th>\n",
       "      <th>user_verified</th>\n",
       "      <th>date</th>\n",
       "      <th>text</th>\n",
       "      <th>hashtags</th>\n",
       "      <th>source</th>\n",
       "      <th>retweets</th>\n",
       "      <th>favorites</th>\n",
       "      <th>is_retweet</th>\n",
       "    </tr>\n",
       "  </thead>\n",
       "  <tbody>\n",
       "    <tr>\n",
       "      <th>0</th>\n",
       "      <td>1340539111971516416</td>\n",
       "      <td>Rachel Roh</td>\n",
       "      <td>La Crescenta-Montrose, CA</td>\n",
       "      <td>Aggregator of Asian American news; scanning di...</td>\n",
       "      <td>2009-04-08 17:52:46</td>\n",
       "      <td>405</td>\n",
       "      <td>1692</td>\n",
       "      <td>3247</td>\n",
       "      <td>False</td>\n",
       "      <td>2020-12-20 06:06:44</td>\n",
       "      <td>Same folks said daikon paste could treat a cyt...</td>\n",
       "      <td>['PfizerBioNTech']</td>\n",
       "      <td>Twitter for Android</td>\n",
       "      <td>0</td>\n",
       "      <td>0</td>\n",
       "      <td>False</td>\n",
       "    </tr>\n",
       "    <tr>\n",
       "      <th>1</th>\n",
       "      <td>1338158543359250433</td>\n",
       "      <td>Albert Fong</td>\n",
       "      <td>San Francisco, CA</td>\n",
       "      <td>Marketing dude, tech geek, heavy metal &amp; '80s ...</td>\n",
       "      <td>2009-09-21 15:27:30</td>\n",
       "      <td>834</td>\n",
       "      <td>666</td>\n",
       "      <td>178</td>\n",
       "      <td>False</td>\n",
       "      <td>2020-12-13 16:27:13</td>\n",
       "      <td>While the world has been on the wrong side of ...</td>\n",
       "      <td>NaN</td>\n",
       "      <td>Twitter Web App</td>\n",
       "      <td>1</td>\n",
       "      <td>1</td>\n",
       "      <td>False</td>\n",
       "    </tr>\n",
       "    <tr>\n",
       "      <th>2</th>\n",
       "      <td>1337858199140118533</td>\n",
       "      <td>eli🇱🇹🇪🇺👌</td>\n",
       "      <td>Your Bed</td>\n",
       "      <td>heil, hydra 🖐☺</td>\n",
       "      <td>2020-06-25 23:30:28</td>\n",
       "      <td>10</td>\n",
       "      <td>88</td>\n",
       "      <td>155</td>\n",
       "      <td>False</td>\n",
       "      <td>2020-12-12 20:33:45</td>\n",
       "      <td>#coronavirus #SputnikV #AstraZeneca #PfizerBio...</td>\n",
       "      <td>['coronavirus', 'SputnikV', 'AstraZeneca', 'Pf...</td>\n",
       "      <td>Twitter for Android</td>\n",
       "      <td>0</td>\n",
       "      <td>0</td>\n",
       "      <td>False</td>\n",
       "    </tr>\n",
       "    <tr>\n",
       "      <th>3</th>\n",
       "      <td>1337855739918835717</td>\n",
       "      <td>Charles Adler</td>\n",
       "      <td>Vancouver, BC - Canada</td>\n",
       "      <td>Hosting \"CharlesAdlerTonight\" Global News Radi...</td>\n",
       "      <td>2008-09-10 11:28:53</td>\n",
       "      <td>49165</td>\n",
       "      <td>3933</td>\n",
       "      <td>21853</td>\n",
       "      <td>True</td>\n",
       "      <td>2020-12-12 20:23:59</td>\n",
       "      <td>Facts are immutable, Senator, even when you're...</td>\n",
       "      <td>NaN</td>\n",
       "      <td>Twitter Web App</td>\n",
       "      <td>446</td>\n",
       "      <td>2129</td>\n",
       "      <td>False</td>\n",
       "    </tr>\n",
       "    <tr>\n",
       "      <th>4</th>\n",
       "      <td>1337854064604966912</td>\n",
       "      <td>Citizen News Channel</td>\n",
       "      <td>NaN</td>\n",
       "      <td>Citizen News Channel bringing you an alternati...</td>\n",
       "      <td>2020-04-23 17:58:42</td>\n",
       "      <td>152</td>\n",
       "      <td>580</td>\n",
       "      <td>1473</td>\n",
       "      <td>False</td>\n",
       "      <td>2020-12-12 20:17:19</td>\n",
       "      <td>Explain to me again why we need a vaccine @Bor...</td>\n",
       "      <td>['whereareallthesickpeople', 'PfizerBioNTech']</td>\n",
       "      <td>Twitter for iPhone</td>\n",
       "      <td>0</td>\n",
       "      <td>0</td>\n",
       "      <td>False</td>\n",
       "    </tr>\n",
       "  </tbody>\n",
       "</table>\n",
       "</div>"
      ],
      "text/plain": [
       "                    id             user_name  ... favorites is_retweet\n",
       "0  1340539111971516416            Rachel Roh  ...         0      False\n",
       "1  1338158543359250433           Albert Fong  ...         1      False\n",
       "2  1337858199140118533              eli🇱🇹🇪🇺👌  ...         0      False\n",
       "3  1337855739918835717         Charles Adler  ...      2129      False\n",
       "4  1337854064604966912  Citizen News Channel  ...         0      False\n",
       "\n",
       "[5 rows x 16 columns]"
      ]
     },
     "execution_count": 106,
     "metadata": {
      "tags": []
     },
     "output_type": "execute_result"
    }
   ],
   "source": [
    "df.head()"
   ]
  },
  {
   "cell_type": "code",
   "execution_count": 107,
   "metadata": {
    "executionInfo": {
     "elapsed": 746,
     "status": "ok",
     "timestamp": 1611224550169,
     "user": {
      "displayName": "Loren Dery",
      "photoUrl": "",
      "userId": "12087338780719726518"
     },
     "user_tz": -120
    },
    "id": "ZuKEPgkR0jzt"
   },
   "outputs": [],
   "source": [
    "df = pd.concat([df,df1], ignore_index=True)"
   ]
  },
  {
   "cell_type": "code",
   "execution_count": 108,
   "metadata": {
    "colab": {
     "base_uri": "https://localhost:8080/",
     "height": 777
    },
    "executionInfo": {
     "elapsed": 698,
     "status": "ok",
     "timestamp": 1611224555605,
     "user": {
      "displayName": "Loren Dery",
      "photoUrl": "",
      "userId": "12087338780719726518"
     },
     "user_tz": -120
    },
    "id": "Aiv5q_oo1ato",
    "outputId": "0fc2822e-3b37-402e-da41-e45d6add8ec8"
   },
   "outputs": [
    {
     "data": {
      "text/html": [
       "<div>\n",
       "<style scoped>\n",
       "    .dataframe tbody tr th:only-of-type {\n",
       "        vertical-align: middle;\n",
       "    }\n",
       "\n",
       "    .dataframe tbody tr th {\n",
       "        vertical-align: top;\n",
       "    }\n",
       "\n",
       "    .dataframe thead th {\n",
       "        text-align: right;\n",
       "    }\n",
       "</style>\n",
       "<table border=\"1\" class=\"dataframe\">\n",
       "  <thead>\n",
       "    <tr style=\"text-align: right;\">\n",
       "      <th></th>\n",
       "      <th>id</th>\n",
       "      <th>user_name</th>\n",
       "      <th>user_location</th>\n",
       "      <th>user_description</th>\n",
       "      <th>user_created</th>\n",
       "      <th>user_followers</th>\n",
       "      <th>user_friends</th>\n",
       "      <th>user_favourites</th>\n",
       "      <th>user_verified</th>\n",
       "      <th>date</th>\n",
       "      <th>text</th>\n",
       "      <th>hashtags</th>\n",
       "      <th>source</th>\n",
       "      <th>retweets</th>\n",
       "      <th>favorites</th>\n",
       "      <th>is_retweet</th>\n",
       "    </tr>\n",
       "  </thead>\n",
       "  <tbody>\n",
       "    <tr>\n",
       "      <th>0</th>\n",
       "      <td>1340539111971516416</td>\n",
       "      <td>Rachel Roh</td>\n",
       "      <td>La Crescenta-Montrose, CA</td>\n",
       "      <td>Aggregator of Asian American news; scanning di...</td>\n",
       "      <td>2009-04-08 17:52:46</td>\n",
       "      <td>405</td>\n",
       "      <td>1692.0</td>\n",
       "      <td>3247.0</td>\n",
       "      <td>False</td>\n",
       "      <td>2020-12-20 06:06:44</td>\n",
       "      <td>Same folks said daikon paste could treat a cyt...</td>\n",
       "      <td>['PfizerBioNTech']</td>\n",
       "      <td>Twitter for Android</td>\n",
       "      <td>0</td>\n",
       "      <td>0</td>\n",
       "      <td>False</td>\n",
       "    </tr>\n",
       "    <tr>\n",
       "      <th>1</th>\n",
       "      <td>1338158543359250433</td>\n",
       "      <td>Albert Fong</td>\n",
       "      <td>San Francisco, CA</td>\n",
       "      <td>Marketing dude, tech geek, heavy metal &amp; '80s ...</td>\n",
       "      <td>2009-09-21 15:27:30</td>\n",
       "      <td>834</td>\n",
       "      <td>666.0</td>\n",
       "      <td>178.0</td>\n",
       "      <td>False</td>\n",
       "      <td>2020-12-13 16:27:13</td>\n",
       "      <td>While the world has been on the wrong side of ...</td>\n",
       "      <td>NaN</td>\n",
       "      <td>Twitter Web App</td>\n",
       "      <td>1</td>\n",
       "      <td>1</td>\n",
       "      <td>False</td>\n",
       "    </tr>\n",
       "    <tr>\n",
       "      <th>2</th>\n",
       "      <td>1337858199140118533</td>\n",
       "      <td>eli🇱🇹🇪🇺👌</td>\n",
       "      <td>Your Bed</td>\n",
       "      <td>heil, hydra 🖐☺</td>\n",
       "      <td>2020-06-25 23:30:28</td>\n",
       "      <td>10</td>\n",
       "      <td>88.0</td>\n",
       "      <td>155.0</td>\n",
       "      <td>False</td>\n",
       "      <td>2020-12-12 20:33:45</td>\n",
       "      <td>#coronavirus #SputnikV #AstraZeneca #PfizerBio...</td>\n",
       "      <td>['coronavirus', 'SputnikV', 'AstraZeneca', 'Pf...</td>\n",
       "      <td>Twitter for Android</td>\n",
       "      <td>0</td>\n",
       "      <td>0</td>\n",
       "      <td>False</td>\n",
       "    </tr>\n",
       "    <tr>\n",
       "      <th>3</th>\n",
       "      <td>1337855739918835717</td>\n",
       "      <td>Charles Adler</td>\n",
       "      <td>Vancouver, BC - Canada</td>\n",
       "      <td>Hosting \"CharlesAdlerTonight\" Global News Radi...</td>\n",
       "      <td>2008-09-10 11:28:53</td>\n",
       "      <td>49165</td>\n",
       "      <td>3933.0</td>\n",
       "      <td>21853.0</td>\n",
       "      <td>True</td>\n",
       "      <td>2020-12-12 20:23:59</td>\n",
       "      <td>Facts are immutable, Senator, even when you're...</td>\n",
       "      <td>NaN</td>\n",
       "      <td>Twitter Web App</td>\n",
       "      <td>446</td>\n",
       "      <td>2129</td>\n",
       "      <td>False</td>\n",
       "    </tr>\n",
       "    <tr>\n",
       "      <th>4</th>\n",
       "      <td>1337854064604966912</td>\n",
       "      <td>Citizen News Channel</td>\n",
       "      <td>NaN</td>\n",
       "      <td>Citizen News Channel bringing you an alternati...</td>\n",
       "      <td>2020-04-23 17:58:42</td>\n",
       "      <td>152</td>\n",
       "      <td>580.0</td>\n",
       "      <td>1473.0</td>\n",
       "      <td>False</td>\n",
       "      <td>2020-12-12 20:17:19</td>\n",
       "      <td>Explain to me again why we need a vaccine @Bor...</td>\n",
       "      <td>['whereareallthesickpeople', 'PfizerBioNTech']</td>\n",
       "      <td>Twitter for iPhone</td>\n",
       "      <td>0</td>\n",
       "      <td>0</td>\n",
       "      <td>False</td>\n",
       "    </tr>\n",
       "    <tr>\n",
       "      <th>...</th>\n",
       "      <td>...</td>\n",
       "      <td>...</td>\n",
       "      <td>...</td>\n",
       "      <td>...</td>\n",
       "      <td>...</td>\n",
       "      <td>...</td>\n",
       "      <td>...</td>\n",
       "      <td>...</td>\n",
       "      <td>...</td>\n",
       "      <td>...</td>\n",
       "      <td>...</td>\n",
       "      <td>...</td>\n",
       "      <td>...</td>\n",
       "      <td>...</td>\n",
       "      <td>...</td>\n",
       "      <td>...</td>\n",
       "    </tr>\n",
       "    <tr>\n",
       "      <th>5042</th>\n",
       "      <td>1352164095408148485</td>\n",
       "      <td>AngelaWLangfor1</td>\n",
       "      <td></td>\n",
       "      <td>I just don't feel like I have to explain myself.</td>\n",
       "      <td>2020-10-19 05:37:02</td>\n",
       "      <td>0</td>\n",
       "      <td>NaN</td>\n",
       "      <td>NaN</td>\n",
       "      <td>NaN</td>\n",
       "      <td>2021-01-21 08:00:16</td>\n",
       "      <td>RT @TapShort: COVID-19 NEWS SUMMARY\\nMORNING N...</td>\n",
       "      <td>#covid19test, #covi, #newcovid, #covid_19, #ne...</td>\n",
       "      <td>NaN</td>\n",
       "      <td>20</td>\n",
       "      <td>0</td>\n",
       "      <td>True</td>\n",
       "    </tr>\n",
       "    <tr>\n",
       "      <th>5043</th>\n",
       "      <td>1352164075325829121</td>\n",
       "      <td>cartoonmovement</td>\n",
       "      <td>Amsterdam</td>\n",
       "      <td>An award-winning collaborative publishing plat...</td>\n",
       "      <td>2010-09-23 08:48:31</td>\n",
       "      <td>27594</td>\n",
       "      <td>NaN</td>\n",
       "      <td>NaN</td>\n",
       "      <td>NaN</td>\n",
       "      <td>2021-01-21 08:00:12</td>\n",
       "      <td>This week, the WHO said the world is on the br...</td>\n",
       "      <td></td>\n",
       "      <td>NaN</td>\n",
       "      <td>7</td>\n",
       "      <td>15</td>\n",
       "      <td>True</td>\n",
       "    </tr>\n",
       "    <tr>\n",
       "      <th>5044</th>\n",
       "      <td>1352164071718621184</td>\n",
       "      <td>ZioNaziOdor</td>\n",
       "      <td></td>\n",
       "      <td>I was called a unusual goy from a chosen racer.</td>\n",
       "      <td>2020-11-04 13:35:35</td>\n",
       "      <td>13</td>\n",
       "      <td>NaN</td>\n",
       "      <td>NaN</td>\n",
       "      <td>NaN</td>\n",
       "      <td>2021-01-21 08:00:11</td>\n",
       "      <td>RT @SilenceNotGold: Yet another #vaccination d...</td>\n",
       "      <td>#vaccination, #Gaza, #Palestine, #DPT</td>\n",
       "      <td>NaN</td>\n",
       "      <td>1</td>\n",
       "      <td>0</td>\n",
       "      <td>True</td>\n",
       "    </tr>\n",
       "    <tr>\n",
       "      <th>5045</th>\n",
       "      <td>1352164070984617985</td>\n",
       "      <td>TandrimaChakra1</td>\n",
       "      <td>India</td>\n",
       "      <td>A marketer | A travel blogger | A passionate r...</td>\n",
       "      <td>2017-03-04 05:53:22</td>\n",
       "      <td>29</td>\n",
       "      <td>NaN</td>\n",
       "      <td>NaN</td>\n",
       "      <td>NaN</td>\n",
       "      <td>2021-01-21 08:00:11</td>\n",
       "      <td>As per Union Health Ministry, a total of 7,86,...</td>\n",
       "      <td></td>\n",
       "      <td>NaN</td>\n",
       "      <td>0</td>\n",
       "      <td>0</td>\n",
       "      <td>False</td>\n",
       "    </tr>\n",
       "    <tr>\n",
       "      <th>5046</th>\n",
       "      <td>1352164051967733760</td>\n",
       "      <td>Mahi83193343</td>\n",
       "      <td></td>\n",
       "      <td></td>\n",
       "      <td>2020-10-14 08:05:47</td>\n",
       "      <td>1</td>\n",
       "      <td>NaN</td>\n",
       "      <td>NaN</td>\n",
       "      <td>NaN</td>\n",
       "      <td>2021-01-21 08:00:06</td>\n",
       "      <td>RT @Par1Ke: The #TurkishParliament will discus...</td>\n",
       "      <td>#TurkishParliament, #Oppositon, #UyghurActivists</td>\n",
       "      <td>NaN</td>\n",
       "      <td>884</td>\n",
       "      <td>0</td>\n",
       "      <td>True</td>\n",
       "    </tr>\n",
       "  </tbody>\n",
       "</table>\n",
       "<p>5047 rows × 16 columns</p>\n",
       "</div>"
      ],
      "text/plain": [
       "                       id             user_name  ... favorites is_retweet\n",
       "0     1340539111971516416            Rachel Roh  ...         0      False\n",
       "1     1338158543359250433           Albert Fong  ...         1      False\n",
       "2     1337858199140118533              eli🇱🇹🇪🇺👌  ...         0      False\n",
       "3     1337855739918835717         Charles Adler  ...      2129      False\n",
       "4     1337854064604966912  Citizen News Channel  ...         0      False\n",
       "...                   ...                   ...  ...       ...        ...\n",
       "5042  1352164095408148485       AngelaWLangfor1  ...         0       True\n",
       "5043  1352164075325829121       cartoonmovement  ...        15       True\n",
       "5044  1352164071718621184           ZioNaziOdor  ...         0       True\n",
       "5045  1352164070984617985       TandrimaChakra1  ...         0      False\n",
       "5046  1352164051967733760          Mahi83193343  ...         0       True\n",
       "\n",
       "[5047 rows x 16 columns]"
      ]
     },
     "execution_count": 108,
     "metadata": {
      "tags": []
     },
     "output_type": "execute_result"
    }
   ],
   "source": [
    "df"
   ]
  },
  {
   "cell_type": "markdown",
   "metadata": {
    "id": "ujAtvz0N-sJF"
   },
   "source": [
    "convert to datetime type"
   ]
  },
  {
   "cell_type": "code",
   "execution_count": 109,
   "metadata": {
    "executionInfo": {
     "elapsed": 685,
     "status": "ok",
     "timestamp": 1611224568752,
     "user": {
      "displayName": "Loren Dery",
      "photoUrl": "",
      "userId": "12087338780719726518"
     },
     "user_tz": -120
    },
    "id": "Vxq5A66A-Riv"
   },
   "outputs": [],
   "source": [
    "df['user_created']=pd.to_datetime(df['user_created'], format='%Y-%m-%d %H:%M:%S', errors='coerce')\n",
    "df['date']=pd.to_datetime(df['date'], format='%Y-%m-%d %H:%M:%S', errors='coerce')"
   ]
  },
  {
   "cell_type": "markdown",
   "metadata": {
    "id": "xQfzo0QT-w6H"
   },
   "source": [
    "fill na"
   ]
  },
  {
   "cell_type": "code",
   "execution_count": 110,
   "metadata": {
    "executionInfo": {
     "elapsed": 632,
     "status": "ok",
     "timestamp": 1611224570633,
     "user": {
      "displayName": "Loren Dery",
      "photoUrl": "",
      "userId": "12087338780719726518"
     },
     "user_tz": -120
    },
    "id": "RQ2-R5DG-V69"
   },
   "outputs": [],
   "source": [
    "df['user_description'] = df['user_description'].fillna('No Description')\n",
    "df['hashtags'] = df['hashtags'].fillna('')\n",
    "df['source'] = df['source'].fillna('No Source')"
   ]
  },
  {
   "cell_type": "markdown",
   "metadata": {
    "id": "GgZGRopn-3AD"
   },
   "source": [
    "NLP preprocessing\n",
    "\n",
    "add column with clean tweet"
   ]
  },
  {
   "cell_type": "code",
   "execution_count": 111,
   "metadata": {
    "executionInfo": {
     "elapsed": 733,
     "status": "ok",
     "timestamp": 1611224573650,
     "user": {
      "displayName": "Loren Dery",
      "photoUrl": "",
      "userId": "12087338780719726518"
     },
     "user_tz": -120
    },
    "id": "wM51EWkk-dKG"
   },
   "outputs": [],
   "source": [
    "df[\"up_text\"] = df.text.str.lower()\n",
    "#Remove twitter handlers\n",
    "df.up_text = df.up_text.apply(lambda x:re.sub('@[^\\s]+','',x))\n",
    "\n",
    "#remove hashtags\n",
    "df.up_text = df.up_text.apply(lambda x:re.sub(r'\\B#\\S+','',x))\n",
    "\n",
    "# Remove URLS\n",
    "df.up_text = df.up_text.apply(lambda x:re.sub(r\"http\\S+\", \"\", x))\n",
    "\n",
    "# Remove all the special characters\n",
    "df.up_text = df.up_text.apply(lambda x:' '.join(re.findall(r'\\w+', x)))\n",
    "\n",
    "#remove all single characters\n",
    "df.up_text = df.up_text.apply(lambda x:re.sub(r'\\s+[a-zA-Z]\\s+', '', x))\n",
    "\n",
    "# Substituting multiple spaces with single space\n",
    "df.up_text = df.up_text.apply(lambda x:re.sub(r'\\s+', ' ', x, flags=re.I))\n",
    "\n",
    "df.sort_values(\"date\", inplace=True)\n"
   ]
  },
  {
   "cell_type": "code",
   "execution_count": 112,
   "metadata": {
    "executionInfo": {
     "elapsed": 1661,
     "status": "ok",
     "timestamp": 1611224576732,
     "user": {
      "displayName": "Loren Dery",
      "photoUrl": "",
      "userId": "12087338780719726518"
     },
     "user_tz": -120
    },
    "id": "Z6KAcA7STV8z"
   },
   "outputs": [],
   "source": [
    "# Contractions\n",
    "df.up_text = df.up_text.apply(lambda x:re.sub(r\"he's\", \"he is\", x))\n",
    "df.up_text = df.up_text.apply(lambda x:re.sub(r\"there's\", \"there is\", x))\n",
    "df.up_text = df.up_text.apply(lambda x:re.sub(r\"We're\", \"We are\", x))\n",
    "df.up_text = df.up_text.apply(lambda x:re.sub(r\"That's\", \"That is\", x))\n",
    "df.up_text = df.up_text.apply(lambda x:re.sub(r\"won't\", \"will not\", x))\n",
    "df.up_text = df.up_text.apply(lambda x:re.sub(r\"they're\", \"they are\", x))\n",
    "df.up_text = df.up_text.apply(lambda x:re.sub(r\"Can't\", \"Cannot\", x))\n",
    "df.up_text = df.up_text.apply(lambda x:re.sub(r\"wasn't\", \"was not\", x))\n",
    "df.up_text = df.up_text.apply(lambda x:re.sub(r\"don\\x89Ûªt\", \"do not\", x))\n",
    "df.up_text = df.up_text.apply(lambda x:re.sub(r\"aren't\", \"are not\", x))\n",
    "df.up_text = df.up_text.apply(lambda x:re.sub(r\"isn't\", \"is not\", x))\n",
    "df.up_text = df.up_text.apply(lambda x:re.sub(r\"What's\", \"What is\", x))\n",
    "df.up_text = df.up_text.apply(lambda x:re.sub(r\"haven't\", \"have not\", x))\n",
    "df.up_text = df.up_text.apply(lambda x:re.sub(r\"hasn't\", \"has not\", x))\n",
    "df.up_text = df.up_text.apply(lambda x:re.sub(r\"There's\", \"There is\", x))\n",
    "df.up_text = df.up_text.apply(lambda x:re.sub(r\"He's\", \"He is\", x))\n",
    "df.up_text = df.up_text.apply(lambda x:re.sub(r\"It's\", \"It is\", x))\n",
    "df.up_text = df.up_text.apply(lambda x:re.sub(r\"You're\", \"You are\", x))\n",
    "df.up_text = df.up_text.apply(lambda x:re.sub(r\"I'M\", \"I am\", x))\n",
    "df.up_text = df.up_text.apply(lambda x:re.sub(r\"shouldn't\", \"should not\", x))\n",
    "df.up_text = df.up_text.apply(lambda x:re.sub(r\"wouldn't\", \"would not\", x))\n",
    "df.up_text = df.up_text.apply(lambda x:re.sub(r\"i'm\", \"I am\", x))\n",
    "df.up_text = df.up_text.apply(lambda x:re.sub(r\"I\\x89Ûªm\", \"I am\", x))\n",
    "df.up_text = df.up_text.apply(lambda x:re.sub(r\"I'm\", \"I am\", x))\n",
    "df.up_text = df.up_text.apply(lambda x:re.sub(r\"Isn't\", \"is not\", x))\n",
    "df.up_text = df.up_text.apply(lambda x:re.sub(r\"Here's\", \"Here is\", x))\n",
    "df.up_text = df.up_text.apply(lambda x:re.sub(r\"you've\", \"you have\", x))\n",
    "df.up_text = df.up_text.apply(lambda x:re.sub(r\"you\\x89Ûªve\", \"you have\", x))\n",
    "df.up_text = df.up_text.apply(lambda x:re.sub(r\"we're\", \"we are\", x))\n",
    "df.up_text = df.up_text.apply(lambda x:re.sub(r\"what's\", \"what is\", x))\n",
    "df.up_text = df.up_text.apply(lambda x:re.sub(r\"couldn't\", \"could not\", x))\n",
    "df.up_text = df.up_text.apply(lambda x:re.sub(r\"we've\", \"we have\", x))\n",
    "df.up_text = df.up_text.apply(lambda x:re.sub(r\"it\\x89Ûªs\", \"it is\", x))\n",
    "df.up_text = df.up_text.apply(lambda x:re.sub(r\"doesn\\x89Ûªt\", \"does not\", x))\n",
    "df.up_text = df.up_text.apply(lambda x:re.sub(r\"It\\x89Ûªs\", \"It is\", x))\n",
    "df.up_text = df.up_text.apply(lambda x:re.sub(r\"Here\\x89Ûªs\", \"Here is\", x))\n",
    "df.up_text = df.up_text.apply(lambda x:re.sub(r\"who's\", \"who is\", x))\n",
    "df.up_text = df.up_text.apply(lambda x:re.sub(r\"I\\x89Ûªve\", \"I have\", x))\n",
    "df.up_text = df.up_text.apply(lambda x:re.sub(r\"y'all\", \"you all\", x))\n",
    "df.up_text = df.up_text.apply(lambda x:re.sub(r\"can\\x89Ûªt\", \"cannot\", x))\n",
    "df.up_text = df.up_text.apply(lambda x:re.sub(r\"would've\", \"would have\", x))\n",
    "df.up_text = df.up_text.apply(lambda x:re.sub(r\"it'll\", \"it will\", x))\n",
    "df.up_text = df.up_text.apply(lambda x:re.sub(r\"we'll\", \"we will\", x))\n",
    "df.up_text = df.up_text.apply(lambda x:re.sub(r\"wouldn\\x89Ûªt\", \"would not\", x))\n",
    "df.up_text = df.up_text.apply(lambda x:re.sub(r\"We've\", \"We have\", x))\n",
    "df.up_text = df.up_text.apply(lambda x:re.sub(r\"he'll\", \"he will\", x))\n",
    "df.up_text = df.up_text.apply(lambda x:re.sub(r\"Y'all\", \"You all\", x))\n",
    "df.up_text = df.up_text.apply(lambda x:re.sub(r\"Weren't\", \"Were not\", x))\n",
    "df.up_text = df.up_text.apply(lambda x:re.sub(r\"Didn't\", \"Did not\", x))\n",
    "df.up_text = df.up_text.apply(lambda x:re.sub(r\"they'll\", \"they will\", x))\n",
    "df.up_text = df.up_text.apply(lambda x:re.sub(r\"they'd\", \"they would\", x))\n",
    "df.up_text = df.up_text.apply(lambda x:re.sub(r\"DON'T\", \"DO NOT\", x))\n",
    "df.up_text = df.up_text.apply(lambda x:re.sub(r\"That\\x89Ûªs\", \"That is\", x))\n",
    "df.up_text = df.up_text.apply(lambda x:re.sub(r\"they've\", \"they have\", x))\n",
    "df.up_text = df.up_text.apply(lambda x:re.sub(r\"i'd\", \"I would\", x))\n",
    "df.up_text = df.up_text.apply(lambda x:re.sub(r\"should've\", \"should have\", x))\n",
    "df.up_text = df.up_text.apply(lambda x:re.sub(r\"You\\x89Ûªre\", \"You are\", x))\n",
    "df.up_text = df.up_text.apply(lambda x:re.sub(r\"where's\", \"where is\", x))\n",
    "df.up_text = df.up_text.apply(lambda x:re.sub(r\"Don\\x89Ûªt\", \"Do not\", x))\n",
    "df.up_text = df.up_text.apply(lambda x:re.sub(r\"we'd\", \"we would\", x))\n",
    "df.up_text = df.up_text.apply(lambda x:re.sub(r\"i'll\", \"I will\", x))\n",
    "df.up_text = df.up_text.apply(lambda x:re.sub(r\"weren't\", \"were not\", x))\n",
    "df.up_text = df.up_text.apply(lambda x:re.sub(r\"They're\", \"They are\", x))\n",
    "df.up_text = df.up_text.apply(lambda x:re.sub(r\"Can\\x89Ûªt\", \"Cannot\", x))\n",
    "df.up_text = df.up_text.apply(lambda x:re.sub(r\"you\\x89Ûªll\", \"you will\", x))\n",
    "df.up_text = df.up_text.apply(lambda x:re.sub(r\"I\\x89Ûªd\", \"I would\", x))\n",
    "df.up_text = df.up_text.apply(lambda x:re.sub(r\"let's\", \"let us\", x))\n",
    "df.up_text = df.up_text.apply(lambda x:re.sub(r\"it's\", \"it is\", x))\n",
    "df.up_text = df.up_text.apply(lambda x:re.sub(r\"can't\", \"cannot\", x))\n",
    "df.up_text = df.up_text.apply(lambda x:re.sub(r\"don't\", \"do not\", x))\n",
    "df.up_text = df.up_text.apply(lambda x:re.sub(r\"you're\", \"you are\", x))\n",
    "df.up_text = df.up_text.apply(lambda x:re.sub(r\"i've\", \"I have\", x))\n",
    "df.up_text = df.up_text.apply(lambda x:re.sub(r\"that's\", \"that is\", x))\n",
    "df.up_text = df.up_text.apply(lambda x:re.sub(r\"i'll\", \"I will\", x))\n",
    "df.up_text = df.up_text.apply(lambda x:re.sub(r\"doesn't\", \"does not\", x))\n",
    "df.up_text = df.up_text.apply(lambda x:re.sub(r\"i'd\", \"I would\", x))\n",
    "df.up_text = df.up_text.apply(lambda x:re.sub(r\"didn't\", \"did not\", x))\n",
    "df.up_text = df.up_text.apply(lambda x:re.sub(r\"ain't\", \"am not\", x))\n",
    "df.up_text = df.up_text.apply(lambda x:re.sub(r\"you'll\", \"you will\", x))\n",
    "df.up_text = df.up_text.apply(lambda x:re.sub(r\"I've\", \"I have\", x))\n",
    "df.up_text = df.up_text.apply(lambda x:re.sub(r\"Don't\", \"do not\", x))\n",
    "df.up_text = df.up_text.apply(lambda x:re.sub(r\"I'll\", \"I will\", x))\n",
    "df.up_text = df.up_text.apply(lambda x:re.sub(r\"I'd\", \"I would\", x))\n",
    "df.up_text = df.up_text.apply(lambda x:re.sub(r\"Let's\", \"Let us\", x))\n",
    "df.up_text = df.up_text.apply(lambda x:re.sub(r\"you'd\", \"You would\", x))\n",
    "df.up_text = df.up_text.apply(lambda x:re.sub(r\"Ain't\", \"am not\", x))\n",
    "df.up_text = df.up_text.apply(lambda x:re.sub(r\"Haven't\", \"Have not\", x))\n",
    "df.up_text = df.up_text.apply(lambda x:re.sub(r\"Could've\", \"Could have\", x))\n",
    "df.up_text = df.up_text.apply(lambda x:re.sub(r\"youve\", \"you have\", x))\n",
    "df.up_text = df.up_text.apply(lambda x:re.sub(r\"donå«t\", \"do not\", x))\n",
    "# Character entity references\n",
    "df.up_text = df.up_text.apply(lambda x:re.sub(r\"&gt;\", \">\", x))\n",
    "df.up_text = df.up_text.apply(lambda x:re.sub(r\"&lt;\", \"<\", x))\n",
    "df.up_text = df.up_text.apply(lambda x:re.sub(r\"&amp;\", \"&\", x))\n",
    "# Typos, slang and informal abbreviations\n",
    "df.up_text = df.up_text.apply(lambda x:re.sub(r\"w/e\", \"whatever\", x))\n",
    "df.up_text = df.up_text.apply(lambda x:re.sub(r\"w/\", \"with\", x))\n",
    "df.up_text = df.up_text.apply(lambda x:re.sub(r\"USAgov\", \"USA government\", x))\n",
    "df.up_text = df.up_text.apply(lambda x:re.sub(r\"recentlu\", \"recently\", x))\n",
    "df.up_text = df.up_text.apply(lambda x:re.sub(r\"Ph0tos\", \"Photos\", x))\n",
    "df.up_text = df.up_text.apply(lambda x:re.sub(r\"amirite\", \"am I right\", x))\n",
    "df.up_text = df.up_text.apply(lambda x:re.sub(r\"exp0sed\", \"exposed\", x))\n",
    "df.up_text = df.up_text.apply(lambda x:re.sub(r\"<3\", \"love\", x))\n",
    "df.up_text = df.up_text.apply(lambda x:re.sub(r\"amageddon\", \"armageddon\", x))\n",
    "df.up_text = df.up_text.apply(lambda x:re.sub(r\"Trfc\", \"Traffic\", x))\n",
    "df.up_text = df.up_text.apply(lambda x:re.sub(r\"WindStorm\", \"Wind Storm\", x))\n",
    "df.up_text = df.up_text.apply(lambda x:re.sub(r\"lmao\", \"laughing my ass off\", x))"
   ]
  },
  {
   "cell_type": "markdown",
   "metadata": {
    "id": "UOz30ntD_HnI"
   },
   "source": [
    "Clean hashtag column"
   ]
  },
  {
   "cell_type": "code",
   "execution_count": 113,
   "metadata": {
    "executionInfo": {
     "elapsed": 685,
     "status": "ok",
     "timestamp": 1611224579811,
     "user": {
      "displayName": "Loren Dery",
      "photoUrl": "",
      "userId": "12087338780719726518"
     },
     "user_tz": -120
    },
    "id": "jYPrDVic_FE6"
   },
   "outputs": [],
   "source": [
    "df.hashtags=df.hashtags.str.replace('[','')\n",
    "df.hashtags=df.hashtags.str.replace(']','')\n",
    "df.hashtags=df.hashtags.str.replace(\"'\",'')\n",
    "df.hashtags=df.hashtags.str.replace(\"#\",'')"
   ]
  },
  {
   "cell_type": "markdown",
   "metadata": {
    "id": "tbVpGvSsGL2M"
   },
   "source": [
    "if the tweet is only #, up_text = hashtag list"
   ]
  },
  {
   "cell_type": "code",
   "execution_count": 114,
   "metadata": {
    "executionInfo": {
     "elapsed": 664,
     "status": "ok",
     "timestamp": 1611224581498,
     "user": {
      "displayName": "Loren Dery",
      "photoUrl": "",
      "userId": "12087338780719726518"
     },
     "user_tz": -120
    },
    "id": "yTXU6IAHKzfC"
   },
   "outputs": [],
   "source": [
    "df.loc[df[\"up_text\"] == '','up_text'] = df[\"hashtags\"]"
   ]
  },
  {
   "cell_type": "markdown",
   "metadata": {
    "id": "KfP63dt7MNc_"
   },
   "source": [
    "remove tweet that are only @"
   ]
  },
  {
   "cell_type": "code",
   "execution_count": 115,
   "metadata": {
    "executionInfo": {
     "elapsed": 631,
     "status": "ok",
     "timestamp": 1611224583635,
     "user": {
      "displayName": "Loren Dery",
      "photoUrl": "",
      "userId": "12087338780719726518"
     },
     "user_tz": -120
    },
    "id": "ZrWroICXMQYt"
   },
   "outputs": [],
   "source": [
    "df.drop(index=df[df['up_text']==\"\"].index, inplace=True)"
   ]
  },
  {
   "cell_type": "code",
   "execution_count": 116,
   "metadata": {
    "colab": {
     "base_uri": "https://localhost:8080/",
     "height": 551
    },
    "executionInfo": {
     "elapsed": 637,
     "status": "ok",
     "timestamp": 1611224586721,
     "user": {
      "displayName": "Loren Dery",
      "photoUrl": "",
      "userId": "12087338780719726518"
     },
     "user_tz": -120
    },
    "id": "nRUYv7gD-sCZ",
    "outputId": "32aab4ec-f021-4e5e-a83b-b2643f70ffca"
   },
   "outputs": [
    {
     "data": {
      "text/html": [
       "<div>\n",
       "<style scoped>\n",
       "    .dataframe tbody tr th:only-of-type {\n",
       "        vertical-align: middle;\n",
       "    }\n",
       "\n",
       "    .dataframe tbody tr th {\n",
       "        vertical-align: top;\n",
       "    }\n",
       "\n",
       "    .dataframe thead th {\n",
       "        text-align: right;\n",
       "    }\n",
       "</style>\n",
       "<table border=\"1\" class=\"dataframe\">\n",
       "  <thead>\n",
       "    <tr style=\"text-align: right;\">\n",
       "      <th></th>\n",
       "      <th>id</th>\n",
       "      <th>user_name</th>\n",
       "      <th>user_location</th>\n",
       "      <th>user_description</th>\n",
       "      <th>user_created</th>\n",
       "      <th>user_followers</th>\n",
       "      <th>user_friends</th>\n",
       "      <th>user_favourites</th>\n",
       "      <th>user_verified</th>\n",
       "      <th>date</th>\n",
       "      <th>text</th>\n",
       "      <th>hashtags</th>\n",
       "      <th>source</th>\n",
       "      <th>retweets</th>\n",
       "      <th>favorites</th>\n",
       "      <th>is_retweet</th>\n",
       "      <th>up_text</th>\n",
       "    </tr>\n",
       "  </thead>\n",
       "  <tbody>\n",
       "    <tr>\n",
       "      <th>44</th>\n",
       "      <td>1337727767551553536</td>\n",
       "      <td>Daily News Egypt</td>\n",
       "      <td>Egypt</td>\n",
       "      <td>Egypt's Only Daily Independent Newspaper in En...</td>\n",
       "      <td>2009-04-26 07:56:24</td>\n",
       "      <td>278080</td>\n",
       "      <td>116.0</td>\n",
       "      <td>765.0</td>\n",
       "      <td>True</td>\n",
       "      <td>2020-12-12 11:55:28</td>\n",
       "      <td>#FDA authorizes #PfizerBioNTech #coronavirus v...</td>\n",
       "      <td>FDA, PfizerBioNTech, coronavirus</td>\n",
       "      <td>Twitter Web App</td>\n",
       "      <td>1</td>\n",
       "      <td>1</td>\n",
       "      <td>False</td>\n",
       "      <td>authorizes vaccine for emergency use</td>\n",
       "    </tr>\n",
       "    <tr>\n",
       "      <th>43</th>\n",
       "      <td>1337728701820268544</td>\n",
       "      <td>City A.M.</td>\n",
       "      <td>London, England</td>\n",
       "      <td>London's business newspaper - News, Opinion, a...</td>\n",
       "      <td>2009-06-09 13:53:06</td>\n",
       "      <td>66224</td>\n",
       "      <td>603.0</td>\n",
       "      <td>771.0</td>\n",
       "      <td>True</td>\n",
       "      <td>2020-12-12 11:59:10</td>\n",
       "      <td>Trump announces #vaccine rollout 'in less than...</td>\n",
       "      <td>vaccine</td>\n",
       "      <td>Twitter Web App</td>\n",
       "      <td>0</td>\n",
       "      <td>2</td>\n",
       "      <td>False</td>\n",
       "      <td>trump announces rollout in less than 24 hours ...</td>\n",
       "    </tr>\n",
       "    <tr>\n",
       "      <th>42</th>\n",
       "      <td>1337732077278662657</td>\n",
       "      <td>mystic</td>\n",
       "      <td>NaN</td>\n",
       "      <td>I believe in the goodness of humanity.</td>\n",
       "      <td>2020-05-20 10:57:00</td>\n",
       "      <td>14</td>\n",
       "      <td>162.0</td>\n",
       "      <td>1341.0</td>\n",
       "      <td>False</td>\n",
       "      <td>2020-12-12 12:12:35</td>\n",
       "      <td>#CovidVaccine #Pfizer-BioNTech COVID-19 #Pfize...</td>\n",
       "      <td>CovidVaccine, Pfizer, PfizerBioNTech, COVID19,...</td>\n",
       "      <td>Twitter for iPhone</td>\n",
       "      <td>0</td>\n",
       "      <td>1</td>\n",
       "      <td>False</td>\n",
       "      <td>covid 19</td>\n",
       "    </tr>\n",
       "    <tr>\n",
       "      <th>41</th>\n",
       "      <td>1337732996380696578</td>\n",
       "      <td>KHuntson</td>\n",
       "      <td>USA🇺🇸</td>\n",
       "      <td>RN, health educator, writer, researcher, wife,...</td>\n",
       "      <td>2014-01-31 01:25:24</td>\n",
       "      <td>2035</td>\n",
       "      <td>1672.0</td>\n",
       "      <td>6734.0</td>\n",
       "      <td>False</td>\n",
       "      <td>2020-12-12 12:16:14</td>\n",
       "      <td>FACT SHEET FOR RECIPIENTS AND CAREGIVERS\\n\\n#P...</td>\n",
       "      <td>PfizerBioNTech, CovidVaccine</td>\n",
       "      <td>Twitter Web App</td>\n",
       "      <td>0</td>\n",
       "      <td>0</td>\n",
       "      <td>False</td>\n",
       "      <td>fact sheet for recipients and caregivers</td>\n",
       "    </tr>\n",
       "    <tr>\n",
       "      <th>40</th>\n",
       "      <td>1337733048914358272</td>\n",
       "      <td>Party politics isn't working for anyone, anywhere</td>\n",
       "      <td>Wales, United Kingdom</td>\n",
       "      <td>No lie to another is respectful; no lie to you...</td>\n",
       "      <td>2016-08-03 20:11:00</td>\n",
       "      <td>761</td>\n",
       "      <td>504.0</td>\n",
       "      <td>33675.0</td>\n",
       "      <td>False</td>\n",
       "      <td>2020-12-12 12:16:27</td>\n",
       "      <td>@mirekR9 @sputnikvaccine @AstraZeneca it's the...</td>\n",
       "      <td>PfizerBioNTech</td>\n",
       "      <td>Twitter Web App</td>\n",
       "      <td>0</td>\n",
       "      <td>0</td>\n",
       "      <td>False</td>\n",
       "      <td>itthe only one which doesnhave any side effect...</td>\n",
       "    </tr>\n",
       "  </tbody>\n",
       "</table>\n",
       "</div>"
      ],
      "text/plain": [
       "                     id  ...                                            up_text\n",
       "44  1337727767551553536  ...               authorizes vaccine for emergency use\n",
       "43  1337728701820268544  ...  trump announces rollout in less than 24 hours ...\n",
       "42  1337732077278662657  ...                                           covid 19\n",
       "41  1337732996380696578  ...           fact sheet for recipients and caregivers\n",
       "40  1337733048914358272  ...  itthe only one which doesnhave any side effect...\n",
       "\n",
       "[5 rows x 17 columns]"
      ]
     },
     "execution_count": 116,
     "metadata": {
      "tags": []
     },
     "output_type": "execute_result"
    }
   ],
   "source": [
    "df.head()"
   ]
  },
  {
   "cell_type": "markdown",
   "metadata": {
    "id": "JXFAJ2sx_sCO"
   },
   "source": [
    "Sentiment analysis"
   ]
  },
  {
   "cell_type": "code",
   "execution_count": 117,
   "metadata": {
    "executionInfo": {
     "elapsed": 1695,
     "status": "ok",
     "timestamp": 1611224597104,
     "user": {
      "displayName": "Loren Dery",
      "photoUrl": "",
      "userId": "12087338780719726518"
     },
     "user_tz": -120
    },
    "id": "u0oFsm_x_b3s"
   },
   "outputs": [],
   "source": [
    "sid = SIA()\n",
    "df['sia'] = df['up_text'].apply(lambda x: sid.polarity_scores(' '.join(re.findall(r'\\w+',x.lower()))))\n",
    "df['positive sentiments'] = df['sia'].apply(lambda x: x['pos']+1*(10**-6)) \n",
    "df['neutral sentiments'] = df['sia'].apply(lambda x: x['neu']+1*(10**-6))\n",
    "df['negative sentiments'] = df['sia'].apply(lambda x: x['neg']+1*(10**-6))\n",
    "\n",
    "df.drop(columns=['sia'],inplace=True)"
   ]
  },
  {
   "cell_type": "code",
   "execution_count": 132,
   "metadata": {
    "executionInfo": {
     "elapsed": 636,
     "status": "ok",
     "timestamp": 1611224835937,
     "user": {
      "displayName": "Loren Dery",
      "photoUrl": "",
      "userId": "12087338780719726518"
     },
     "user_tz": -120
    },
    "id": "4IOKTMwz_2t1"
   },
   "outputs": [],
   "source": [
    "def get_sentiment(df):\n",
    "  sent = [df['negative sentiments'],df['positive sentiments']]\n",
    "  max = np.argmax(sent)\n",
    "  if df['negative sentiments']== df['positive sentiments']:\n",
    "    return \"Neut\"\n",
    "  elif max ==0:\n",
    "    return 'Neg'\n",
    "  else:\n",
    "    return 'Pos'"
   ]
  },
  {
   "cell_type": "markdown",
   "metadata": {
    "id": "Cs9iH4kJ_9Hf"
   },
   "source": [
    "Define tweet sentiment"
   ]
  },
  {
   "cell_type": "code",
   "execution_count": 133,
   "metadata": {
    "executionInfo": {
     "elapsed": 625,
     "status": "ok",
     "timestamp": 1611224838672,
     "user": {
      "displayName": "Loren Dery",
      "photoUrl": "",
      "userId": "12087338780719726518"
     },
     "user_tz": -120
    },
    "id": "KfdVUe8V_3Yk"
   },
   "outputs": [],
   "source": [
    "df['sentiments'] =df.apply(get_sentiment,axis=1)"
   ]
  },
  {
   "cell_type": "markdown",
   "metadata": {
    "id": "kI4Zmjv4_aTM"
   },
   "source": [
    "add lemma column"
   ]
  },
  {
   "cell_type": "code",
   "execution_count": 139,
   "metadata": {
    "executionInfo": {
     "elapsed": 758,
     "status": "ok",
     "timestamp": 1611225141402,
     "user": {
      "displayName": "Loren Dery",
      "photoUrl": "",
      "userId": "12087338780719726518"
     },
     "user_tz": -120
    },
    "id": "W3I_abvb_b4f"
   },
   "outputs": [],
   "source": [
    "def tokenization(text):\n",
    "    text = re.split('\\W+', text)\n",
    "    return text\n",
    "\n",
    "df['tokenized'] = df['up_text'].apply(lambda x: tokenization(x.lower()))\n",
    "stopword = stopwords.words('english')\n",
    "def remove_stopwords(text):\n",
    "    text = [word for word in text if word not in stopword]\n",
    "    return text\n",
    "    \n",
    "df['No_stopwords'] = df['tokenized'].apply(lambda x: remove_stopwords(x))"
   ]
  },
  {
   "cell_type": "code",
   "execution_count": 140,
   "metadata": {
    "executionInfo": {
     "elapsed": 687,
     "status": "ok",
     "timestamp": 1611225143248,
     "user": {
      "displayName": "Loren Dery",
      "photoUrl": "",
      "userId": "12087338780719726518"
     },
     "user_tz": -120
    },
    "id": "oOE5AfKABL0I"
   },
   "outputs": [],
   "source": [
    "wn = nltk.WordNetLemmatizer()\n",
    "\n",
    "def lemmatizer(text):\n",
    "    text = [wn.lemmatize(word) for word in text]\n",
    "    return text\n",
    "\n",
    "df['lemmatized'] = df['No_stopwords'].apply(lambda x: lemmatizer(x))"
   ]
  },
  {
   "cell_type": "code",
   "execution_count": 141,
   "metadata": {
    "executionInfo": {
     "elapsed": 648,
     "status": "ok",
     "timestamp": 1611225145032,
     "user": {
      "displayName": "Loren Dery",
      "photoUrl": "",
      "userId": "12087338780719726518"
     },
     "user_tz": -120
    },
    "id": "Dji4YpVVCPEy"
   },
   "outputs": [],
   "source": [
    "df['lemmatized_dict']=df['lemmatized'].apply(lambda x: Counter(x))"
   ]
  },
  {
   "cell_type": "markdown",
   "metadata": {
    "id": "-BrxkRG_gLDV"
   },
   "source": [
    "remove unnecessery columns"
   ]
  },
  {
   "cell_type": "code",
   "execution_count": 142,
   "metadata": {
    "colab": {
     "base_uri": "https://localhost:8080/",
     "height": 584
    },
    "executionInfo": {
     "elapsed": 893,
     "status": "ok",
     "timestamp": 1611225168153,
     "user": {
      "displayName": "Loren Dery",
      "photoUrl": "",
      "userId": "12087338780719726518"
     },
     "user_tz": -120
    },
    "id": "R5hrUmXIgNPv",
    "outputId": "7f2d63c1-dcb7-4a3f-f350-033c652373f1"
   },
   "outputs": [
    {
     "data": {
      "text/html": [
       "<div>\n",
       "<style scoped>\n",
       "    .dataframe tbody tr th:only-of-type {\n",
       "        vertical-align: middle;\n",
       "    }\n",
       "\n",
       "    .dataframe tbody tr th {\n",
       "        vertical-align: top;\n",
       "    }\n",
       "\n",
       "    .dataframe thead th {\n",
       "        text-align: right;\n",
       "    }\n",
       "</style>\n",
       "<table border=\"1\" class=\"dataframe\">\n",
       "  <thead>\n",
       "    <tr style=\"text-align: right;\">\n",
       "      <th></th>\n",
       "      <th>id</th>\n",
       "      <th>user_name</th>\n",
       "      <th>user_location</th>\n",
       "      <th>user_description</th>\n",
       "      <th>user_created</th>\n",
       "      <th>user_followers</th>\n",
       "      <th>user_friends</th>\n",
       "      <th>user_favourites</th>\n",
       "      <th>user_verified</th>\n",
       "      <th>date</th>\n",
       "      <th>text</th>\n",
       "      <th>hashtags</th>\n",
       "      <th>source</th>\n",
       "      <th>retweets</th>\n",
       "      <th>favorites</th>\n",
       "      <th>is_retweet</th>\n",
       "      <th>up_text</th>\n",
       "      <th>positive sentiments</th>\n",
       "      <th>neutral sentiments</th>\n",
       "      <th>negative sentiments</th>\n",
       "      <th>sentiments</th>\n",
       "      <th>tokenized</th>\n",
       "      <th>No_stopwords</th>\n",
       "      <th>lemmatized</th>\n",
       "      <th>lemmatized_dict</th>\n",
       "    </tr>\n",
       "  </thead>\n",
       "  <tbody>\n",
       "    <tr>\n",
       "      <th>44</th>\n",
       "      <td>1337727767551553536</td>\n",
       "      <td>Daily News Egypt</td>\n",
       "      <td>Egypt</td>\n",
       "      <td>Egypt's Only Daily Independent Newspaper in En...</td>\n",
       "      <td>2009-04-26 07:56:24</td>\n",
       "      <td>278080</td>\n",
       "      <td>116.0</td>\n",
       "      <td>765.0</td>\n",
       "      <td>True</td>\n",
       "      <td>2020-12-12 11:55:28</td>\n",
       "      <td>#FDA authorizes #PfizerBioNTech #coronavirus v...</td>\n",
       "      <td>FDA, PfizerBioNTech, coronavirus</td>\n",
       "      <td>Twitter Web App</td>\n",
       "      <td>1</td>\n",
       "      <td>1</td>\n",
       "      <td>False</td>\n",
       "      <td>authorizes vaccine for emergency use</td>\n",
       "      <td>0.000001</td>\n",
       "      <td>0.606001</td>\n",
       "      <td>0.394001</td>\n",
       "      <td>Neg</td>\n",
       "      <td>[authorizes, vaccine, for, emergency, use]</td>\n",
       "      <td>[authorizes, vaccine, emergency, use]</td>\n",
       "      <td>[authorizes, vaccine, emergency, use]</td>\n",
       "      <td>{'authorizes': 1, 'vaccine': 1, 'emergency': 1...</td>\n",
       "    </tr>\n",
       "    <tr>\n",
       "      <th>43</th>\n",
       "      <td>1337728701820268544</td>\n",
       "      <td>City A.M.</td>\n",
       "      <td>London, England</td>\n",
       "      <td>London's business newspaper - News, Opinion, a...</td>\n",
       "      <td>2009-06-09 13:53:06</td>\n",
       "      <td>66224</td>\n",
       "      <td>603.0</td>\n",
       "      <td>771.0</td>\n",
       "      <td>True</td>\n",
       "      <td>2020-12-12 11:59:10</td>\n",
       "      <td>Trump announces #vaccine rollout 'in less than...</td>\n",
       "      <td>vaccine</td>\n",
       "      <td>Twitter Web App</td>\n",
       "      <td>0</td>\n",
       "      <td>2</td>\n",
       "      <td>False</td>\n",
       "      <td>trump announces rollout in less than 24 hours ...</td>\n",
       "      <td>0.000001</td>\n",
       "      <td>1.000001</td>\n",
       "      <td>0.000001</td>\n",
       "      <td>Neut</td>\n",
       "      <td>[trump, announces, rollout, in, less, than, 24...</td>\n",
       "      <td>[trump, announces, rollout, less, 24, hours, f...</td>\n",
       "      <td>[trump, announces, rollout, le, 24, hour, firs...</td>\n",
       "      <td>{'trump': 1, 'announces': 1, 'rollout': 1, 'le...</td>\n",
       "    </tr>\n",
       "    <tr>\n",
       "      <th>42</th>\n",
       "      <td>1337732077278662657</td>\n",
       "      <td>mystic</td>\n",
       "      <td>NaN</td>\n",
       "      <td>I believe in the goodness of humanity.</td>\n",
       "      <td>2020-05-20 10:57:00</td>\n",
       "      <td>14</td>\n",
       "      <td>162.0</td>\n",
       "      <td>1341.0</td>\n",
       "      <td>False</td>\n",
       "      <td>2020-12-12 12:12:35</td>\n",
       "      <td>#CovidVaccine #Pfizer-BioNTech COVID-19 #Pfize...</td>\n",
       "      <td>CovidVaccine, Pfizer, PfizerBioNTech, COVID19,...</td>\n",
       "      <td>Twitter for iPhone</td>\n",
       "      <td>0</td>\n",
       "      <td>1</td>\n",
       "      <td>False</td>\n",
       "      <td>covid 19</td>\n",
       "      <td>0.000001</td>\n",
       "      <td>1.000001</td>\n",
       "      <td>0.000001</td>\n",
       "      <td>Neut</td>\n",
       "      <td>[covid, 19]</td>\n",
       "      <td>[covid, 19]</td>\n",
       "      <td>[covid, 19]</td>\n",
       "      <td>{'covid': 1, '19': 1}</td>\n",
       "    </tr>\n",
       "    <tr>\n",
       "      <th>41</th>\n",
       "      <td>1337732996380696578</td>\n",
       "      <td>KHuntson</td>\n",
       "      <td>USA🇺🇸</td>\n",
       "      <td>RN, health educator, writer, researcher, wife,...</td>\n",
       "      <td>2014-01-31 01:25:24</td>\n",
       "      <td>2035</td>\n",
       "      <td>1672.0</td>\n",
       "      <td>6734.0</td>\n",
       "      <td>False</td>\n",
       "      <td>2020-12-12 12:16:14</td>\n",
       "      <td>FACT SHEET FOR RECIPIENTS AND CAREGIVERS\\n\\n#P...</td>\n",
       "      <td>PfizerBioNTech, CovidVaccine</td>\n",
       "      <td>Twitter Web App</td>\n",
       "      <td>0</td>\n",
       "      <td>0</td>\n",
       "      <td>False</td>\n",
       "      <td>fact sheet for recipients and caregivers</td>\n",
       "      <td>0.000001</td>\n",
       "      <td>1.000001</td>\n",
       "      <td>0.000001</td>\n",
       "      <td>Neut</td>\n",
       "      <td>[fact, sheet, for, recipients, and, caregivers]</td>\n",
       "      <td>[fact, sheet, recipients, caregivers]</td>\n",
       "      <td>[fact, sheet, recipient, caregiver]</td>\n",
       "      <td>{'fact': 1, 'sheet': 1, 'recipient': 1, 'careg...</td>\n",
       "    </tr>\n",
       "    <tr>\n",
       "      <th>40</th>\n",
       "      <td>1337733048914358272</td>\n",
       "      <td>Party politics isn't working for anyone, anywhere</td>\n",
       "      <td>Wales, United Kingdom</td>\n",
       "      <td>No lie to another is respectful; no lie to you...</td>\n",
       "      <td>2016-08-03 20:11:00</td>\n",
       "      <td>761</td>\n",
       "      <td>504.0</td>\n",
       "      <td>33675.0</td>\n",
       "      <td>False</td>\n",
       "      <td>2020-12-12 12:16:27</td>\n",
       "      <td>@mirekR9 @sputnikvaccine @AstraZeneca it's the...</td>\n",
       "      <td>PfizerBioNTech</td>\n",
       "      <td>Twitter Web App</td>\n",
       "      <td>0</td>\n",
       "      <td>0</td>\n",
       "      <td>False</td>\n",
       "      <td>itthe only one which doesnhave any side effect...</td>\n",
       "      <td>0.000001</td>\n",
       "      <td>1.000001</td>\n",
       "      <td>0.000001</td>\n",
       "      <td>Neut</td>\n",
       "      <td>[itthe, only, one, which, doesnhave, any, side...</td>\n",
       "      <td>[itthe, one, doesnhave, side, effects]</td>\n",
       "      <td>[itthe, one, doesnhave, side, effect]</td>\n",
       "      <td>{'itthe': 1, 'one': 1, 'doesnhave': 1, 'side':...</td>\n",
       "    </tr>\n",
       "  </tbody>\n",
       "</table>\n",
       "</div>"
      ],
      "text/plain": [
       "                     id  ...                                    lemmatized_dict\n",
       "44  1337727767551553536  ...  {'authorizes': 1, 'vaccine': 1, 'emergency': 1...\n",
       "43  1337728701820268544  ...  {'trump': 1, 'announces': 1, 'rollout': 1, 'le...\n",
       "42  1337732077278662657  ...                              {'covid': 1, '19': 1}\n",
       "41  1337732996380696578  ...  {'fact': 1, 'sheet': 1, 'recipient': 1, 'careg...\n",
       "40  1337733048914358272  ...  {'itthe': 1, 'one': 1, 'doesnhave': 1, 'side':...\n",
       "\n",
       "[5 rows x 25 columns]"
      ]
     },
     "execution_count": 142,
     "metadata": {
      "tags": []
     },
     "output_type": "execute_result"
    }
   ],
   "source": [
    "df.head()"
   ]
  },
  {
   "cell_type": "code",
   "execution_count": 143,
   "metadata": {
    "colab": {
     "base_uri": "https://localhost:8080/"
    },
    "executionInfo": {
     "elapsed": 675,
     "status": "ok",
     "timestamp": 1611225193561,
     "user": {
      "displayName": "Loren Dery",
      "photoUrl": "",
      "userId": "12087338780719726518"
     },
     "user_tz": -120
    },
    "id": "xHmupTZagUzl",
    "outputId": "0eff2fe9-723c-4632-b6d4-65baaf6b718e"
   },
   "outputs": [
    {
     "data": {
      "text/plain": [
       "Index(['id', 'user_name', 'user_location', 'user_description', 'user_created',\n",
       "       'user_followers', 'user_friends', 'user_favourites', 'user_verified',\n",
       "       'date', 'text', 'hashtags', 'source', 'retweets', 'favorites',\n",
       "       'is_retweet', 'up_text', 'positive sentiments', 'neutral sentiments',\n",
       "       'negative sentiments', 'sentiments', 'tokenized', 'No_stopwords',\n",
       "       'lemmatized', 'lemmatized_dict'],\n",
       "      dtype='object')"
      ]
     },
     "execution_count": 143,
     "metadata": {
      "tags": []
     },
     "output_type": "execute_result"
    }
   ],
   "source": [
    "df.columns"
   ]
  },
  {
   "cell_type": "code",
   "execution_count": 144,
   "metadata": {
    "executionInfo": {
     "elapsed": 647,
     "status": "ok",
     "timestamp": 1611225258492,
     "user": {
      "displayName": "Loren Dery",
      "photoUrl": "",
      "userId": "12087338780719726518"
     },
     "user_tz": -120
    },
    "id": "cjc4UHdugWm5"
   },
   "outputs": [],
   "source": [
    "df.drop(['tokenized', 'No_stopwords','lemmatized'], axis=1, inplace=True)"
   ]
  },
  {
   "cell_type": "markdown",
   "metadata": {
    "id": "HVGAdMHMALfl"
   },
   "source": [
    "Save df to csv"
   ]
  },
  {
   "cell_type": "code",
   "execution_count": 145,
   "metadata": {
    "executionInfo": {
     "elapsed": 915,
     "status": "ok",
     "timestamp": 1611225278528,
     "user": {
      "displayName": "Loren Dery",
      "photoUrl": "",
      "userId": "12087338780719726518"
     },
     "user_tz": -120
    },
    "id": "COz5_LZoAOkD"
   },
   "outputs": [],
   "source": [
    "df.to_csv('/content/gdrive/MyDrive/tweet_up_1235.csv')"
   ]
  },
  {
   "cell_type": "code",
   "execution_count": null,
   "metadata": {
    "id": "RCGsoh1VgqR-"
   },
   "outputs": [],
   "source": []
  }
 ],
 "metadata": {
  "colab": {
   "authorship_tag": "ABX9TyM/wdXyRG6zWGN2Za9qBSlR",
   "collapsed_sections": [],
   "name": "ModelHackaton.ipynb",
   "provenance": []
  },
  "kernelspec": {
   "display_name": "Python 3",
   "language": "python",
   "name": "python3"
  },
  "language_info": {
   "codemirror_mode": {
    "name": "ipython",
    "version": 3
   },
   "file_extension": ".py",
   "mimetype": "text/x-python",
   "name": "python",
   "nbconvert_exporter": "python",
   "pygments_lexer": "ipython3",
   "version": "3.8.3"
  },
  "latex_envs": {
   "LaTeX_envs_menu_present": true,
   "autoclose": false,
   "autocomplete": true,
   "bibliofile": "biblio.bib",
   "cite_by": "apalike",
   "current_citInitial": 1,
   "eqLabelWithNumbers": true,
   "eqNumInitial": 1,
   "hotkeys": {
    "equation": "Ctrl-E",
    "itemize": "Ctrl-I"
   },
   "labels_anchors": false,
   "latex_user_defs": false,
   "report_style_numbering": false,
   "user_envs_cfg": false
  }
 },
 "nbformat": 4,
 "nbformat_minor": 1
}
