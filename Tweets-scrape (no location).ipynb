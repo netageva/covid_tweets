{
 "cells": [
  {
   "cell_type": "markdown",
   "metadata": {},
   "source": [
    "<h1>Tweet Scraper</h1>\n",
    "<p>based on Yaniv Goldfrid scrapper</p>"
   ]
  },
  {
   "cell_type": "markdown",
   "metadata": {},
   "source": [
    "We are using the powerfull library `snscrape` so we need to install it.\n",
    "\n",
    "More info about it: https://github.com/JustAnotherArchivist/snscrape"
   ]
  },
  {
   "cell_type": "code",
   "execution_count": 70,
   "metadata": {},
   "outputs": [],
   "source": [
    "# !pip install snscrape"
   ]
  },
  {
   "cell_type": "code",
   "execution_count": 1,
   "metadata": {
    "ExecuteTime": {
     "end_time": "2021-01-22T10:19:13.227197Z",
     "start_time": "2021-01-22T10:19:12.339874Z"
    }
   },
   "outputs": [],
   "source": [
    "import csv\n",
    "import snscrape.modules.twitter as sntwitter\n",
    "import itertools\n",
    "import pandas as pd"
   ]
  },
  {
   "cell_type": "markdown",
   "metadata": {},
   "source": [
    "##### Defining the output csv file"
   ]
  },
  {
   "cell_type": "code",
   "execution_count": 25,
   "metadata": {
    "ExecuteTime": {
     "end_time": "2021-01-22T10:17:49.251412Z",
     "start_time": "2021-01-22T10:17:49.247933Z"
    }
   },
   "outputs": [],
   "source": [
    "# File where all the tweets will be stored\n",
    "# OUTPUT_FILE = 'neg_tweets.csv'\n",
    "OUTPUT_FILE = 'pos_tweets.csv'"
   ]
  },
  {
   "cell_type": "markdown",
   "metadata": {},
   "source": [
    "##### Our scraping function, takes care of everything"
   ]
  },
  {
   "cell_type": "code",
   "execution_count": 26,
   "metadata": {
    "ExecuteTime": {
     "end_time": "2021-01-22T10:17:51.394261Z",
     "start_time": "2021-01-22T10:17:51.389617Z"
    }
   },
   "outputs": [],
   "source": [
    "def save_tweets(query, n_tweets):\n",
    "    \"\"\"\n",
    "    Finds the latest tweets according to a query and saves them in a csv file\n",
    "    :param query: the query to look for\n",
    "    :param n_tweets: number of tweets to scrape\n",
    "    \"\"\"\n",
    "    with open(OUTPUT_FILE, 'w', encoding='utf-8', newline='') as file:\n",
    "        writer = csv.writer(file)\n",
    "        writer.writerow(['id', 'date', 'username', 'content', 'url'])\n",
    "        \n",
    "        tweets_gen = sntwitter.TwitterSearchScraper(query).get_items()\n",
    "        top_tweets = itertools.islice(tweets_gen, n_tweets)\n",
    "        \n",
    "        for tweet in top_tweets:\n",
    "            writer.writerow([tweet.id, tweet.date, tweet.username, tweet.content, tweet.url])\n",
    "        \n",
    "        print('Done!')"
   ]
  },
  {
   "cell_type": "markdown",
   "metadata": {},
   "source": [
    "##### Saving the tweets into a csv file"
   ]
  },
  {
   "cell_type": "code",
   "execution_count": 27,
   "metadata": {
    "ExecuteTime": {
     "end_time": "2021-01-22T10:17:55.115943Z",
     "start_time": "2021-01-22T10:17:55.111858Z"
    }
   },
   "outputs": [],
   "source": [
    "neg_hash = ['#Idonotconsent', '#IDoNotConsen', '#IWillNOTComply',\n",
    "'#Idonotconsent',\n",
    "'#novaccine',\n",
    "'#idonotconsen',\n",
    "'#AntiVacciners',\n",
    "'#antivaxx',\n",
    "'#antivaxxers',\n",
    "'#Antivaxx', \n",
    "'#TrumpsVaccineIsALie',\n",
    "'#antivax',\n",
    "'#antivaxx',\n",
    "'#antivaxers',\n",
    "'#AntiVaxxers',\n",
    "'#antivaccers',\n",
    "'#antivaccine',\n",
    "'#antivaxxer',\n",
    "'#AntiScience']\n",
    "\n",
    "pos_hag = ['#unmaskourkids', '#UNMASKOURKIDS', '#UnMaskOurKids',\n",
    "'#IGotTheShot','#igottheshot', '#IGOTTHESHOT',\n",
    "'#ThisIsOurShot', '#THISISOURSHOT', '#thisisourshot',\n",
    "'#trustinscience', '#TrustInScience', '#TRUSTINSCIENCE',\n",
    "'#GetVaccinated', '#GETVACCINATED', '#getvaccinated',\n",
    "'#VaccinesSaveLives', '#VaccinesSaveLives', '#VACCINESSAVELIVES']"
   ]
  },
  {
   "cell_type": "code",
   "execution_count": 28,
   "metadata": {
    "ExecuteTime": {
     "end_time": "2021-01-22T10:18:00.317891Z",
     "start_time": "2021-01-22T10:17:58.279812Z"
    }
   },
   "outputs": [
    {
     "name": "stdout",
     "output_type": "stream",
     "text": [
      "Done!\n"
     ]
    }
   ],
   "source": [
    "save_tweets(query=pos_hag, n_tweets=1000)"
   ]
  },
  {
   "cell_type": "markdown",
   "metadata": {},
   "source": [
    "## The final dataFrame (no location column)"
   ]
  },
  {
   "cell_type": "code",
   "execution_count": 5,
   "metadata": {
    "ExecuteTime": {
     "end_time": "2021-01-22T10:23:47.523691Z",
     "start_time": "2021-01-22T10:23:47.498202Z"
    }
   },
   "outputs": [
    {
     "data": {
      "text/html": [
       "<div>\n",
       "<style scoped>\n",
       "    .dataframe tbody tr th:only-of-type {\n",
       "        vertical-align: middle;\n",
       "    }\n",
       "\n",
       "    .dataframe tbody tr th {\n",
       "        vertical-align: top;\n",
       "    }\n",
       "\n",
       "    .dataframe thead th {\n",
       "        text-align: right;\n",
       "    }\n",
       "</style>\n",
       "<table border=\"1\" class=\"dataframe\">\n",
       "  <thead>\n",
       "    <tr style=\"text-align: right;\">\n",
       "      <th></th>\n",
       "      <th>id</th>\n",
       "      <th>date</th>\n",
       "      <th>username</th>\n",
       "      <th>content</th>\n",
       "      <th>url</th>\n",
       "      <th>label</th>\n",
       "    </tr>\n",
       "  </thead>\n",
       "  <tbody>\n",
       "    <tr>\n",
       "      <th>0</th>\n",
       "      <td>1352552131203657729</td>\n",
       "      <td>2021-01-22 09:42:11+00:00</td>\n",
       "      <td>tolloc_maire</td>\n",
       "      <td>@BorisJohnson @CMO_England @uksciencechief #Jo...</td>\n",
       "      <td>https://twitter.com/tolloc_maire/status/135255...</td>\n",
       "      <td>Anti</td>\n",
       "    </tr>\n",
       "    <tr>\n",
       "      <th>1</th>\n",
       "      <td>1352544368524218370</td>\n",
       "      <td>2021-01-22 09:11:21+00:00</td>\n",
       "      <td>tolloc_maire</td>\n",
       "      <td>@CMO_England @uksciencechief @BorisJohnson @Ma...</td>\n",
       "      <td>https://twitter.com/tolloc_maire/status/135254...</td>\n",
       "      <td>Anti</td>\n",
       "    </tr>\n",
       "    <tr>\n",
       "      <th>2</th>\n",
       "      <td>1352539517614493696</td>\n",
       "      <td>2021-01-22 08:52:04+00:00</td>\n",
       "      <td>lostcreatives1</td>\n",
       "      <td>@pritipatel rules, not laws.  2-tier policing,...</td>\n",
       "      <td>https://twitter.com/lostcreatives1/status/1352...</td>\n",
       "      <td>Anti</td>\n",
       "    </tr>\n",
       "    <tr>\n",
       "      <th>3</th>\n",
       "      <td>1352526249755865090</td>\n",
       "      <td>2021-01-22 07:59:21+00:00</td>\n",
       "      <td>JMichW87</td>\n",
       "      <td>#Polio #PolioMyelitis #PolioVaccine #PolioErad...</td>\n",
       "      <td>https://twitter.com/JMichW87/status/1352526249...</td>\n",
       "      <td>Anti</td>\n",
       "    </tr>\n",
       "    <tr>\n",
       "      <th>4</th>\n",
       "      <td>1352506303718039552</td>\n",
       "      <td>2021-01-22 06:40:05+00:00</td>\n",
       "      <td>AliveAwakeReal</td>\n",
       "      <td>Fear\\nAlways fear\\nIt’s the governments weapon...</td>\n",
       "      <td>https://twitter.com/AliveAwakeReal/status/1352...</td>\n",
       "      <td>Anti</td>\n",
       "    </tr>\n",
       "  </tbody>\n",
       "</table>\n",
       "</div>"
      ],
      "text/plain": [
       "                    id                       date        username  \\\n",
       "0  1352552131203657729  2021-01-22 09:42:11+00:00    tolloc_maire   \n",
       "1  1352544368524218370  2021-01-22 09:11:21+00:00    tolloc_maire   \n",
       "2  1352539517614493696  2021-01-22 08:52:04+00:00  lostcreatives1   \n",
       "3  1352526249755865090  2021-01-22 07:59:21+00:00        JMichW87   \n",
       "4  1352506303718039552  2021-01-22 06:40:05+00:00  AliveAwakeReal   \n",
       "\n",
       "                                             content  \\\n",
       "0  @BorisJohnson @CMO_England @uksciencechief #Jo...   \n",
       "1  @CMO_England @uksciencechief @BorisJohnson @Ma...   \n",
       "2  @pritipatel rules, not laws.  2-tier policing,...   \n",
       "3  #Polio #PolioMyelitis #PolioVaccine #PolioErad...   \n",
       "4  Fear\\nAlways fear\\nIt’s the governments weapon...   \n",
       "\n",
       "                                                 url label  \n",
       "0  https://twitter.com/tolloc_maire/status/135255...  Anti  \n",
       "1  https://twitter.com/tolloc_maire/status/135254...  Anti  \n",
       "2  https://twitter.com/lostcreatives1/status/1352...  Anti  \n",
       "3  https://twitter.com/JMichW87/status/1352526249...  Anti  \n",
       "4  https://twitter.com/AliveAwakeReal/status/1352...  Anti  "
      ]
     },
     "execution_count": 5,
     "metadata": {},
     "output_type": "execute_result"
    }
   ],
   "source": [
    "ntwt = pd.read_csv('neg_tweets.csv')\n",
    "ntwt['label'] = 'Anti'\n",
    "ntwt.head()"
   ]
  },
  {
   "cell_type": "code",
   "execution_count": 6,
   "metadata": {
    "ExecuteTime": {
     "end_time": "2021-01-22T10:24:05.087015Z",
     "start_time": "2021-01-22T10:24:05.073948Z"
    }
   },
   "outputs": [
    {
     "data": {
      "text/html": [
       "<div>\n",
       "<style scoped>\n",
       "    .dataframe tbody tr th:only-of-type {\n",
       "        vertical-align: middle;\n",
       "    }\n",
       "\n",
       "    .dataframe tbody tr th {\n",
       "        vertical-align: top;\n",
       "    }\n",
       "\n",
       "    .dataframe thead th {\n",
       "        text-align: right;\n",
       "    }\n",
       "</style>\n",
       "<table border=\"1\" class=\"dataframe\">\n",
       "  <thead>\n",
       "    <tr style=\"text-align: right;\">\n",
       "      <th></th>\n",
       "      <th>id</th>\n",
       "      <th>date</th>\n",
       "      <th>username</th>\n",
       "      <th>content</th>\n",
       "      <th>url</th>\n",
       "      <th>label</th>\n",
       "    </tr>\n",
       "  </thead>\n",
       "  <tbody>\n",
       "    <tr>\n",
       "      <th>0</th>\n",
       "      <td>1350897813236961281</td>\n",
       "      <td>2021-01-17 20:08:31+00:00</td>\n",
       "      <td>heids_short</td>\n",
       "      <td>Absolutely! #idonotconsent #unmaskourkids http...</td>\n",
       "      <td>https://twitter.com/heids_short/status/1350897...</td>\n",
       "      <td>Pro</td>\n",
       "    </tr>\n",
       "    <tr>\n",
       "      <th>1</th>\n",
       "      <td>1350019501396553728</td>\n",
       "      <td>2021-01-15 09:58:25+00:00</td>\n",
       "      <td>heids_short</td>\n",
       "      <td>A step in the right direction towards the goal...</td>\n",
       "      <td>https://twitter.com/heids_short/status/1350019...</td>\n",
       "      <td>Pro</td>\n",
       "    </tr>\n",
       "    <tr>\n",
       "      <th>2</th>\n",
       "      <td>1349946588345606144</td>\n",
       "      <td>2021-01-15 05:08:42+00:00</td>\n",
       "      <td>heids_short</td>\n",
       "      <td>This is absolute insanity!!! #unmaskourkids ht...</td>\n",
       "      <td>https://twitter.com/heids_short/status/1349946...</td>\n",
       "      <td>Pro</td>\n",
       "    </tr>\n",
       "    <tr>\n",
       "      <th>3</th>\n",
       "      <td>1347549823474429954</td>\n",
       "      <td>2021-01-08 14:24:48+00:00</td>\n",
       "      <td>SherriMM28</td>\n",
       "      <td>@kathyhoffman_az @Supt_Hoffman @ChandlerUnifie...</td>\n",
       "      <td>https://twitter.com/SherriMM28/status/13475498...</td>\n",
       "      <td>Pro</td>\n",
       "    </tr>\n",
       "    <tr>\n",
       "      <th>4</th>\n",
       "      <td>1347253275322585088</td>\n",
       "      <td>2021-01-07 18:46:26+00:00</td>\n",
       "      <td>SherriMM28</td>\n",
       "      <td>#FactsMatter #OpenTheSchools #UnmaskOurKids ht...</td>\n",
       "      <td>https://twitter.com/SherriMM28/status/13472532...</td>\n",
       "      <td>Pro</td>\n",
       "    </tr>\n",
       "  </tbody>\n",
       "</table>\n",
       "</div>"
      ],
      "text/plain": [
       "                    id                       date     username  \\\n",
       "0  1350897813236961281  2021-01-17 20:08:31+00:00  heids_short   \n",
       "1  1350019501396553728  2021-01-15 09:58:25+00:00  heids_short   \n",
       "2  1349946588345606144  2021-01-15 05:08:42+00:00  heids_short   \n",
       "3  1347549823474429954  2021-01-08 14:24:48+00:00   SherriMM28   \n",
       "4  1347253275322585088  2021-01-07 18:46:26+00:00   SherriMM28   \n",
       "\n",
       "                                             content  \\\n",
       "0  Absolutely! #idonotconsent #unmaskourkids http...   \n",
       "1  A step in the right direction towards the goal...   \n",
       "2  This is absolute insanity!!! #unmaskourkids ht...   \n",
       "3  @kathyhoffman_az @Supt_Hoffman @ChandlerUnifie...   \n",
       "4  #FactsMatter #OpenTheSchools #UnmaskOurKids ht...   \n",
       "\n",
       "                                                 url label  \n",
       "0  https://twitter.com/heids_short/status/1350897...   Pro  \n",
       "1  https://twitter.com/heids_short/status/1350019...   Pro  \n",
       "2  https://twitter.com/heids_short/status/1349946...   Pro  \n",
       "3  https://twitter.com/SherriMM28/status/13475498...   Pro  \n",
       "4  https://twitter.com/SherriMM28/status/13472532...   Pro  "
      ]
     },
     "execution_count": 6,
     "metadata": {},
     "output_type": "execute_result"
    }
   ],
   "source": [
    "ptwt = pd.read_csv('pos_tweets.csv')\n",
    "ptwt['label'] = 'Pro'\n",
    "ptwt.head()"
   ]
  },
  {
   "cell_type": "code",
   "execution_count": 10,
   "metadata": {
    "ExecuteTime": {
     "end_time": "2021-01-22T10:26:01.201951Z",
     "start_time": "2021-01-22T10:26:01.182576Z"
    }
   },
   "outputs": [
    {
     "data": {
      "text/html": [
       "<div>\n",
       "<style scoped>\n",
       "    .dataframe tbody tr th:only-of-type {\n",
       "        vertical-align: middle;\n",
       "    }\n",
       "\n",
       "    .dataframe tbody tr th {\n",
       "        vertical-align: top;\n",
       "    }\n",
       "\n",
       "    .dataframe thead th {\n",
       "        text-align: right;\n",
       "    }\n",
       "</style>\n",
       "<table border=\"1\" class=\"dataframe\">\n",
       "  <thead>\n",
       "    <tr style=\"text-align: right;\">\n",
       "      <th></th>\n",
       "      <th>id</th>\n",
       "      <th>date</th>\n",
       "      <th>username</th>\n",
       "      <th>content</th>\n",
       "      <th>url</th>\n",
       "      <th>label</th>\n",
       "    </tr>\n",
       "  </thead>\n",
       "  <tbody>\n",
       "    <tr>\n",
       "      <th>241</th>\n",
       "      <td>1349187529560317954</td>\n",
       "      <td>2021-01-13 02:52:28+00:00</td>\n",
       "      <td>JesusIs46456027</td>\n",
       "      <td>#ExperimentsExposed #WEF #IDoNotConsent https:...</td>\n",
       "      <td>https://twitter.com/JesusIs46456027/status/134...</td>\n",
       "      <td>Anti</td>\n",
       "    </tr>\n",
       "    <tr>\n",
       "      <th>741</th>\n",
       "      <td>1343512284509962240</td>\n",
       "      <td>2020-12-28 11:01:04+00:00</td>\n",
       "      <td>SunshineTheGrey</td>\n",
       "      <td>@francky_hull @MeanwhileinCana @dey5401 @skrym...</td>\n",
       "      <td>https://twitter.com/SunshineTheGrey/status/134...</td>\n",
       "      <td>Anti</td>\n",
       "    </tr>\n",
       "    <tr>\n",
       "      <th>202</th>\n",
       "      <td>1349746466303086592</td>\n",
       "      <td>2021-01-14 15:53:29+00:00</td>\n",
       "      <td>JesusIs46456027</td>\n",
       "      <td>Aka #SterilizationTechnique #MyBodyMyChoice #I...</td>\n",
       "      <td>https://twitter.com/JesusIs46456027/status/134...</td>\n",
       "      <td>Anti</td>\n",
       "    </tr>\n",
       "    <tr>\n",
       "      <th>65</th>\n",
       "      <td>1310738782354919425</td>\n",
       "      <td>2020-09-29 00:30:52+00:00</td>\n",
       "      <td>Gillrod2</td>\n",
       "      <td>@Cole83USofA This should be shown to our schoo...</td>\n",
       "      <td>https://twitter.com/Gillrod2/status/1310738782...</td>\n",
       "      <td>Pro</td>\n",
       "    </tr>\n",
       "    <tr>\n",
       "      <th>564</th>\n",
       "      <td>1345743742234468353</td>\n",
       "      <td>2021-01-03 14:48:05+00:00</td>\n",
       "      <td>SunshineTheGrey</td>\n",
       "      <td>@DenverWestword #LabRats ?  #Nazish  #Idonotco...</td>\n",
       "      <td>https://twitter.com/SunshineTheGrey/status/134...</td>\n",
       "      <td>Anti</td>\n",
       "    </tr>\n",
       "  </tbody>\n",
       "</table>\n",
       "</div>"
      ],
      "text/plain": [
       "                      id                       date         username  \\\n",
       "241  1349187529560317954  2021-01-13 02:52:28+00:00  JesusIs46456027   \n",
       "741  1343512284509962240  2020-12-28 11:01:04+00:00  SunshineTheGrey   \n",
       "202  1349746466303086592  2021-01-14 15:53:29+00:00  JesusIs46456027   \n",
       "65   1310738782354919425  2020-09-29 00:30:52+00:00         Gillrod2   \n",
       "564  1345743742234468353  2021-01-03 14:48:05+00:00  SunshineTheGrey   \n",
       "\n",
       "                                               content  \\\n",
       "241  #ExperimentsExposed #WEF #IDoNotConsent https:...   \n",
       "741  @francky_hull @MeanwhileinCana @dey5401 @skrym...   \n",
       "202  Aka #SterilizationTechnique #MyBodyMyChoice #I...   \n",
       "65   @Cole83USofA This should be shown to our schoo...   \n",
       "564  @DenverWestword #LabRats ?  #Nazish  #Idonotco...   \n",
       "\n",
       "                                                   url label  \n",
       "241  https://twitter.com/JesusIs46456027/status/134...  Anti  \n",
       "741  https://twitter.com/SunshineTheGrey/status/134...  Anti  \n",
       "202  https://twitter.com/JesusIs46456027/status/134...  Anti  \n",
       "65   https://twitter.com/Gillrod2/status/1310738782...   Pro  \n",
       "564  https://twitter.com/SunshineTheGrey/status/134...  Anti  "
      ]
     },
     "execution_count": 10,
     "metadata": {},
     "output_type": "execute_result"
    }
   ],
   "source": [
    "df = pd.concat([ptwt, ntwt])\n",
    "df = df.drop_duplicates()\n",
    "df.sample(5)"
   ]
  },
  {
   "cell_type": "code",
   "execution_count": 11,
   "metadata": {
    "ExecuteTime": {
     "end_time": "2021-01-22T10:26:06.125790Z",
     "start_time": "2021-01-22T10:26:06.121334Z"
    }
   },
   "outputs": [
    {
     "data": {
      "text/plain": [
       "{'Anti', 'Pro'}"
      ]
     },
     "execution_count": 11,
     "metadata": {},
     "output_type": "execute_result"
    }
   ],
   "source": [
    "set(df['label'])"
   ]
  },
  {
   "cell_type": "code",
   "execution_count": 12,
   "metadata": {
    "ExecuteTime": {
     "end_time": "2021-01-22T10:26:12.671603Z",
     "start_time": "2021-01-22T10:26:12.667604Z"
    }
   },
   "outputs": [
    {
     "data": {
      "text/plain": [
       "(1087, 6)"
      ]
     },
     "execution_count": 12,
     "metadata": {},
     "output_type": "execute_result"
    }
   ],
   "source": [
    "df.shape"
   ]
  }
 ],
 "metadata": {
  "kernelspec": {
   "display_name": "Python 3",
   "language": "python",
   "name": "python3"
  },
  "language_info": {
   "codemirror_mode": {
    "name": "ipython",
    "version": 3
   },
   "file_extension": ".py",
   "mimetype": "text/x-python",
   "name": "python",
   "nbconvert_exporter": "python",
   "pygments_lexer": "ipython3",
   "version": "3.8.3"
  },
  "latex_envs": {
   "LaTeX_envs_menu_present": true,
   "autoclose": false,
   "autocomplete": true,
   "bibliofile": "biblio.bib",
   "cite_by": "apalike",
   "current_citInitial": 1,
   "eqLabelWithNumbers": true,
   "eqNumInitial": 1,
   "hotkeys": {
    "equation": "Ctrl-E",
    "itemize": "Ctrl-I"
   },
   "labels_anchors": false,
   "latex_user_defs": false,
   "report_style_numbering": false,
   "user_envs_cfg": false
  },
  "toc": {
   "base_numbering": 1,
   "nav_menu": {},
   "number_sections": true,
   "sideBar": true,
   "skip_h1_title": false,
   "title_cell": "Table of Contents",
   "title_sidebar": "Contents",
   "toc_cell": false,
   "toc_position": {},
   "toc_section_display": true,
   "toc_window_display": false
  }
 },
 "nbformat": 4,
 "nbformat_minor": 4
}
