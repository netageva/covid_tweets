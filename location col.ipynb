{
 "cells": [
  {
   "cell_type": "code",
   "execution_count": 1,
   "metadata": {},
   "outputs": [
    {
     "name": "stderr",
     "output_type": "stream",
     "text": [
      "C:\\Users\\Noa Ehrenhalt\\AppData\\Roaming\\Python\\Python38\\site-packages\\numpy\\_distributor_init.py:30: UserWarning: loaded more than 1 DLL from .libs:\n",
      "C:\\Users\\Noa Ehrenhalt\\AppData\\Roaming\\Python\\Python38\\site-packages\\numpy\\.libs\\libopenblas.QVLO2T66WEPI7JZ63PS3HMOHFEY472BC.gfortran-win_amd64.dll\n",
      "C:\\Users\\Noa Ehrenhalt\\AppData\\Roaming\\Python\\Python38\\site-packages\\numpy\\.libs\\libopenblas.WCDJNK7YVMPZQ2ME2ZZHJJRJ3JIKNDB7.gfortran-win_amd64.dll\n",
      "  warnings.warn(\"loaded more than 1 DLL from .libs:\"\n"
     ]
    }
   ],
   "source": [
    "import numpy as np\n",
    "import pandas as pd\n",
    "import spacy\n",
    "from spacy import displacy \n",
    "nlp = spacy.load('en_core_web_sm')\n",
    "import re\n",
    "from geopy.geocoders import Nominatim\n",
    "from tqdm import tqdm"
   ]
  },
  {
   "cell_type": "markdown",
   "metadata": {},
   "source": [
    "function to convert to name entitiy "
   ]
  },
  {
   "cell_type": "code",
   "execution_count": 3,
   "metadata": {},
   "outputs": [],
   "source": [
    "df = pd.read_csv('pos_and_neg_tweets_balanced_19_02_21.csv')"
   ]
  },
  {
   "cell_type": "code",
   "execution_count": 4,
   "metadata": {},
   "outputs": [
    {
     "data": {
      "text/html": [
       "<div>\n",
       "<style scoped>\n",
       "    .dataframe tbody tr th:only-of-type {\n",
       "        vertical-align: middle;\n",
       "    }\n",
       "\n",
       "    .dataframe tbody tr th {\n",
       "        vertical-align: top;\n",
       "    }\n",
       "\n",
       "    .dataframe thead th {\n",
       "        text-align: right;\n",
       "    }\n",
       "</style>\n",
       "<table border=\"1\" class=\"dataframe\">\n",
       "  <thead>\n",
       "    <tr style=\"text-align: right;\">\n",
       "      <th></th>\n",
       "      <th>Unnamed: 0</th>\n",
       "      <th>user_name</th>\n",
       "      <th>user_location</th>\n",
       "      <th>user_description</th>\n",
       "      <th>user_created</th>\n",
       "      <th>user_followers</th>\n",
       "      <th>date</th>\n",
       "      <th>text</th>\n",
       "      <th>favorites</th>\n",
       "      <th>retweets</th>\n",
       "      <th>is_retweet</th>\n",
       "      <th>category</th>\n",
       "    </tr>\n",
       "  </thead>\n",
       "  <tbody>\n",
       "    <tr>\n",
       "      <th>0</th>\n",
       "      <td>0</td>\n",
       "      <td>AARPKY</td>\n",
       "      <td>Bluegrass State</td>\n",
       "      <td>Official AARP Kentucky Twitter. Get to know us...</td>\n",
       "      <td>2009-07-25 15:14:41</td>\n",
       "      <td>3266</td>\n",
       "      <td>2021-02-18 14:12:52</td>\n",
       "      <td>@3rdRetiredTeach See Kentucky's update vaccine...</td>\n",
       "      <td>0</td>\n",
       "      <td>0</td>\n",
       "      <td>False</td>\n",
       "      <td>Positive</td>\n",
       "    </tr>\n",
       "    <tr>\n",
       "      <th>1</th>\n",
       "      <td>1</td>\n",
       "      <td>GoSolar01</td>\n",
       "      <td>NaN</td>\n",
       "      <td>Get all your solar info here, including latest...</td>\n",
       "      <td>2017-12-14 06:26:39</td>\n",
       "      <td>1861</td>\n",
       "      <td>2021-02-18 05:35:56</td>\n",
       "      <td>RT @dr_hhq: Chipped - #crushcovid #gettheshot ...</td>\n",
       "      <td>0</td>\n",
       "      <td>1</td>\n",
       "      <td>True</td>\n",
       "      <td>Positive</td>\n",
       "    </tr>\n",
       "    <tr>\n",
       "      <th>2</th>\n",
       "      <td>2</td>\n",
       "      <td>dr_hhq</td>\n",
       "      <td>Karachi, Pakistan</td>\n",
       "      <td>Assistant Professor #Urology #SIUT - Half Prof...</td>\n",
       "      <td>2009-08-15 06:11:55</td>\n",
       "      <td>2378</td>\n",
       "      <td>2021-02-18 05:35:37</td>\n",
       "      <td>Chipped - #crushcovid #gettheshot 🇨🇳#covid #co...</td>\n",
       "      <td>2</td>\n",
       "      <td>1</td>\n",
       "      <td>True</td>\n",
       "      <td>Positive</td>\n",
       "    </tr>\n",
       "    <tr>\n",
       "      <th>3</th>\n",
       "      <td>3</td>\n",
       "      <td>Nakhasi_MD</td>\n",
       "      <td>Los Angeles, CA</td>\n",
       "      <td>Doc in Compton | Policy Adviser. LA County Dep...</td>\n",
       "      <td>2009-03-11 06:04:06</td>\n",
       "      <td>2205</td>\n",
       "      <td>2021-02-18 03:58:45</td>\n",
       "      <td>RT @PinnacleTC_Hope: Holly Broce, president of...</td>\n",
       "      <td>0</td>\n",
       "      <td>1</td>\n",
       "      <td>True</td>\n",
       "      <td>Positive</td>\n",
       "    </tr>\n",
       "    <tr>\n",
       "      <th>4</th>\n",
       "      <td>4</td>\n",
       "      <td>SonLaurencio</td>\n",
       "      <td>Kentucky, USA</td>\n",
       "      <td>Pro Executive Entrepreneur #business #marketin...</td>\n",
       "      <td>2013-04-15 02:31:40</td>\n",
       "      <td>1558</td>\n",
       "      <td>2021-02-18 03:48:33</td>\n",
       "      <td>RT @LFCHD: A COVID-19 vaccine update thread:\\n...</td>\n",
       "      <td>0</td>\n",
       "      <td>1</td>\n",
       "      <td>True</td>\n",
       "      <td>Positive</td>\n",
       "    </tr>\n",
       "  </tbody>\n",
       "</table>\n",
       "</div>"
      ],
      "text/plain": [
       "   Unnamed: 0     user_name      user_location  \\\n",
       "0           0        AARPKY    Bluegrass State   \n",
       "1           1     GoSolar01                NaN   \n",
       "2           2        dr_hhq  Karachi, Pakistan   \n",
       "3           3    Nakhasi_MD    Los Angeles, CA   \n",
       "4           4  SonLaurencio      Kentucky, USA   \n",
       "\n",
       "                                    user_description         user_created  \\\n",
       "0  Official AARP Kentucky Twitter. Get to know us...  2009-07-25 15:14:41   \n",
       "1  Get all your solar info here, including latest...  2017-12-14 06:26:39   \n",
       "2  Assistant Professor #Urology #SIUT - Half Prof...  2009-08-15 06:11:55   \n",
       "3  Doc in Compton | Policy Adviser. LA County Dep...  2009-03-11 06:04:06   \n",
       "4  Pro Executive Entrepreneur #business #marketin...  2013-04-15 02:31:40   \n",
       "\n",
       "   user_followers                 date  \\\n",
       "0            3266  2021-02-18 14:12:52   \n",
       "1            1861  2021-02-18 05:35:56   \n",
       "2            2378  2021-02-18 05:35:37   \n",
       "3            2205  2021-02-18 03:58:45   \n",
       "4            1558  2021-02-18 03:48:33   \n",
       "\n",
       "                                                text  favorites  retweets  \\\n",
       "0  @3rdRetiredTeach See Kentucky's update vaccine...          0         0   \n",
       "1  RT @dr_hhq: Chipped - #crushcovid #gettheshot ...          0         1   \n",
       "2  Chipped - #crushcovid #gettheshot 🇨🇳#covid #co...          2         1   \n",
       "3  RT @PinnacleTC_Hope: Holly Broce, president of...          0         1   \n",
       "4  RT @LFCHD: A COVID-19 vaccine update thread:\\n...          0         1   \n",
       "\n",
       "   is_retweet  category  \n",
       "0       False  Positive  \n",
       "1        True  Positive  \n",
       "2        True  Positive  \n",
       "3        True  Positive  \n",
       "4        True  Positive  "
      ]
     },
     "execution_count": 4,
     "metadata": {},
     "output_type": "execute_result"
    }
   ],
   "source": [
    "df.head()"
   ]
  },
  {
   "cell_type": "code",
   "execution_count": 5,
   "metadata": {},
   "outputs": [
    {
     "data": {
      "text/plain": [
       "(36696, 12)"
      ]
     },
     "execution_count": 5,
     "metadata": {},
     "output_type": "execute_result"
    }
   ],
   "source": [
    "df.shape"
   ]
  },
  {
   "cell_type": "code",
   "execution_count": 6,
   "metadata": {},
   "outputs": [],
   "source": [
    "locations = df.user_location"
   ]
  },
  {
   "cell_type": "markdown",
   "metadata": {},
   "source": [
    "clean the locations from irellevant charachters"
   ]
  },
  {
   "cell_type": "code",
   "execution_count": 7,
   "metadata": {},
   "outputs": [],
   "source": [
    "locations = locations.replace(np.nan,'')\n",
    "locations = locations.apply(lambda x: re.sub(\"[^a-zA-Z\\s,]+\", \"\", x))"
   ]
  },
  {
   "cell_type": "code",
   "execution_count": 8,
   "metadata": {
    "scrolled": true
   },
   "outputs": [],
   "source": [
    "df['user_location_updated'] = locations"
   ]
  },
  {
   "cell_type": "code",
   "execution_count": 9,
   "metadata": {},
   "outputs": [
    {
     "name": "stderr",
     "output_type": "stream",
     "text": [
      "C:\\ProgramData\\Anaconda3\\lib\\site-packages\\tqdm\\std.py:668: FutureWarning: The Panel class is removed from pandas. Accessing it from the top-level namespace will also be removed in the next version\n",
      "  from pandas import Panel\n"
     ]
    }
   ],
   "source": [
    "tqdm.pandas()\n"
   ]
  },
  {
   "cell_type": "code",
   "execution_count": 10,
   "metadata": {},
   "outputs": [],
   "source": [
    "def geo_locator(user_location):\n",
    "    \n",
    "    # initialize geolocator\n",
    "    geolocator = Nominatim(user_agent='Tweet_locator')\n",
    "\n",
    "    if user_location is not None:\n",
    "        try :\n",
    "            # get location\n",
    "            location = geolocator.geocode(user_location, language='en')\n",
    "            # get coordinates\n",
    "            location_exact = geolocator.reverse(\n",
    "                        [location.latitude, location.longitude], language='en')\n",
    "            # get country codes\n",
    "            c_code = location_exact.raw['address']['country_code']\n",
    "\n",
    "            return c_code\n",
    "\n",
    "        except:\n",
    "            return None\n",
    "\n",
    "    else : \n",
    "        return None\n"
   ]
  },
  {
   "cell_type": "code",
   "execution_count": 11,
   "metadata": {
    "scrolled": true
   },
   "outputs": [
    {
     "name": "stderr",
     "output_type": "stream",
     "text": [
      "100%|█████████████████████████████████████████████████| 36696/36696 [6:09:07<00:00,  1.66it/s]\n"
     ]
    }
   ],
   "source": [
    "# apply geo locator to user-location\n",
    "loc = df['user_location_updated'].progress_apply(geo_locator)\n",
    "df['user-country_code'] = loc"
   ]
  },
  {
   "cell_type": "code",
   "execution_count": 12,
   "metadata": {},
   "outputs": [],
   "source": [
    "# !pip install country_converter"
   ]
  },
  {
   "cell_type": "code",
   "execution_count": 13,
   "metadata": {},
   "outputs": [],
   "source": [
    "import country_converter as coco"
   ]
  },
  {
   "cell_type": "code",
   "execution_count": 14,
   "metadata": {},
   "outputs": [],
   "source": [
    "to_iso3_func = lambda x: coco.convert(names=x, to='iso3', not_found=None) \\\n",
    "                            if x is not None else x\n"
   ]
  },
  {
   "cell_type": "code",
   "execution_count": 15,
   "metadata": {},
   "outputs": [
    {
     "name": "stderr",
     "output_type": "stream",
     "text": [
      "100%|███████████████████████████████████████████████████| 36696/36696 [16:23<00:00, 37.31it/s]\n"
     ]
    }
   ],
   "source": [
    "# change codes to iso3 \n",
    "df['user-country_code'] = df['user-country_code'].progress_apply(to_iso3_func)\n"
   ]
  },
  {
   "cell_type": "code",
   "execution_count": 16,
   "metadata": {},
   "outputs": [],
   "source": [
    "to_std_func = lambda x: coco.convert(names=x, to='name_short', not_found=None) \\\n",
    "                            if x is not None else x"
   ]
  },
  {
   "cell_type": "code",
   "execution_count": 17,
   "metadata": {},
   "outputs": [
    {
     "name": "stderr",
     "output_type": "stream",
     "text": [
      "100%|███████████████████████████████████████████████████| 36696/36696 [16:30<00:00, 37.04it/s]\n"
     ]
    }
   ],
   "source": [
    "# create user-country column\n",
    "df['user-country'] = df['user-country_code'].progress_apply(to_std_func)"
   ]
  },
  {
   "cell_type": "code",
   "execution_count": 18,
   "metadata": {},
   "outputs": [
    {
     "data": {
      "text/plain": [
       "15116"
      ]
     },
     "execution_count": 18,
     "metadata": {},
     "output_type": "execute_result"
    }
   ],
   "source": [
    "df['user-country'].value_counts().sum()"
   ]
  },
  {
   "cell_type": "code",
   "execution_count": 19,
   "metadata": {},
   "outputs": [
    {
     "data": {
      "text/plain": [
       "array(['United States', None, 'Pakistan', 'Canada', 'United Kingdom',\n",
       "       'Hungary', 'Romania', 'Italy', 'Germany', 'Kenya', \"Cote d'Ivoire\",\n",
       "       'Luxembourg', 'Greece', 'Cyprus', 'India', 'United Arab Emirates',\n",
       "       'South Korea', 'Denmark', 'France', 'China', 'Myanmar',\n",
       "       'Philippines', 'Ireland', 'Paraguay', 'Brazil', 'Chile', 'Peru',\n",
       "       'Thailand', 'South Africa', 'Costa Rica', 'Belgium', 'Japan',\n",
       "       'Zimbabwe', 'Maldives', 'Lebanon', 'Bangladesh', 'Australia',\n",
       "       'Qatar', 'New Zealand', 'Switzerland', 'Mexico', 'DR Congo',\n",
       "       'Latvia', 'Mongolia', 'Colombia', 'Guatemala',\n",
       "       'Trinidad and Tobago', 'Netherlands', 'Israel', 'Norway',\n",
       "       'Sri Lanka', 'South Sudan', 'Nepal', 'Nigeria', 'Papua New Guinea',\n",
       "       'Ghana', 'Somalia', 'Venezuela', 'Malaysia', 'Iran', 'Kosovo',\n",
       "       'Finland', 'Chad', 'Dominican Republic', 'Kuwait', 'Spain',\n",
       "       'Isle of Man', 'Austria', 'Cambodia', 'Cameroon', 'Kazakhstan',\n",
       "       'Syria', 'Iraq', 'Portugal', 'Indonesia', 'Saudi Arabia', 'Turkey',\n",
       "       'Russia', 'Liberia', 'Czech Republic', 'Jamaica', 'Mali', 'Sweden',\n",
       "       'Bosnia and Herzegovina', 'Ukraine', 'Uruguay', 'Taiwan',\n",
       "       'Ecuador', 'Argentina', 'El Salvador', 'Egypt', 'Poland', 'Zambia',\n",
       "       'Belize', 'Honduras', 'Bulgaria', 'Laos', 'Congo Republic',\n",
       "       'Niger', 'Lesotho', 'Afghanistan', 'Malawi', 'Yemen', 'Bermuda',\n",
       "       'Slovenia', 'Gambia', 'Singapore', 'Vietnam', 'Albania', 'Armenia',\n",
       "       'Morocco', 'Barbados', 'Haiti', 'Ethiopia', 'Nicaragua',\n",
       "       'Tanzania'], dtype=object)"
      ]
     },
     "execution_count": 19,
     "metadata": {},
     "output_type": "execute_result"
    }
   ],
   "source": [
    "df['user-country'].unique()"
   ]
  },
  {
   "cell_type": "code",
   "execution_count": 20,
   "metadata": {},
   "outputs": [],
   "source": [
    "df.to_csv(\"pos_and_neg_tweets_balanced_final.csv\")"
   ]
  },
  {
   "cell_type": "code",
   "execution_count": 21,
   "metadata": {},
   "outputs": [
    {
     "data": {
      "text/plain": [
       "Index(['Unnamed: 0', 'user_name', 'user_location', 'user_description',\n",
       "       'user_created', 'user_followers', 'date', 'text', 'favorites',\n",
       "       'retweets', 'is_retweet', 'category', 'user_location_updated',\n",
       "       'user-country_code', 'user-country'],\n",
       "      dtype='object')"
      ]
     },
     "execution_count": 21,
     "metadata": {},
     "output_type": "execute_result"
    }
   ],
   "source": [
    "df.columns"
   ]
  },
  {
   "cell_type": "code",
   "execution_count": 22,
   "metadata": {},
   "outputs": [],
   "source": [
    "df.drop(['Unnamed: 0'], axis=1, inplace=True)"
   ]
  },
  {
   "cell_type": "code",
   "execution_count": 23,
   "metadata": {},
   "outputs": [],
   "source": [
    "df_up = df.drop_duplicates()"
   ]
  },
  {
   "cell_type": "code",
   "execution_count": 24,
   "metadata": {},
   "outputs": [
    {
     "data": {
      "text/plain": [
       "(19039, 14)"
      ]
     },
     "execution_count": 24,
     "metadata": {},
     "output_type": "execute_result"
    }
   ],
   "source": [
    "df_up.shape"
   ]
  },
  {
   "cell_type": "code",
   "execution_count": 25,
   "metadata": {},
   "outputs": [
    {
     "data": {
      "text/plain": [
       "user_location         4598\n",
       "user_description      1917\n",
       "user-country_code    11163\n",
       "user-country         11163\n",
       "dtype: int64"
      ]
     },
     "execution_count": 25,
     "metadata": {},
     "output_type": "execute_result"
    }
   ],
   "source": [
    "number_of_na = df_up.isna().sum()\n",
    "filter_na = number_of_na > 0\n",
    "columns_with_na = number_of_na[filter_na]\n",
    "columns_with_na"
   ]
  },
  {
   "cell_type": "code",
   "execution_count": 26,
   "metadata": {},
   "outputs": [],
   "source": [
    "df.to_csv(\"pos_and_neg_tweets_balanced_no_duplicates.csv\")"
   ]
  }
 ],
 "metadata": {
  "kernelspec": {
   "display_name": "Python 3",
   "language": "python",
   "name": "python3"
  },
  "language_info": {
   "codemirror_mode": {
    "name": "ipython",
    "version": 3
   },
   "file_extension": ".py",
   "mimetype": "text/x-python",
   "name": "python",
   "nbconvert_exporter": "python",
   "pygments_lexer": "ipython3",
   "version": "3.8.3"
  },
  "latex_envs": {
   "LaTeX_envs_menu_present": true,
   "autoclose": false,
   "autocomplete": true,
   "bibliofile": "biblio.bib",
   "cite_by": "apalike",
   "current_citInitial": 1,
   "eqLabelWithNumbers": true,
   "eqNumInitial": 1,
   "hotkeys": {
    "equation": "Ctrl-E",
    "itemize": "Ctrl-I"
   },
   "labels_anchors": false,
   "latex_user_defs": false,
   "report_style_numbering": false,
   "user_envs_cfg": false
  },
  "toc": {
   "base_numbering": 1,
   "nav_menu": {},
   "number_sections": true,
   "sideBar": true,
   "skip_h1_title": false,
   "title_cell": "Table of Contents",
   "title_sidebar": "Contents",
   "toc_cell": false,
   "toc_position": {},
   "toc_section_display": true,
   "toc_window_display": false
  }
 },
 "nbformat": 4,
 "nbformat_minor": 4
}
