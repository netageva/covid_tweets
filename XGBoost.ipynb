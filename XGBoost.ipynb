{
 "cells": [
  {
   "cell_type": "markdown",
   "metadata": {},
   "source": [
    "imports"
   ]
  },
  {
   "cell_type": "code",
   "execution_count": 1,
   "metadata": {},
   "outputs": [
    {
     "name": "stderr",
     "output_type": "stream",
     "text": [
      "[nltk_data] Downloading package stopwords to\n",
      "[nltk_data]     C:\\Users\\ngeva\\AppData\\Roaming\\nltk_data...\n",
      "[nltk_data]   Package stopwords is already up-to-date!\n",
      "[nltk_data] Downloading package averaged_perceptron_tagger to\n",
      "[nltk_data]     C:\\Users\\ngeva\\AppData\\Roaming\\nltk_data...\n",
      "[nltk_data]   Package averaged_perceptron_tagger is already up-to-\n",
      "[nltk_data]       date!\n",
      "[nltk_data] Downloading package wordnet to\n",
      "[nltk_data]     C:\\Users\\ngeva\\AppData\\Roaming\\nltk_data...\n",
      "[nltk_data]   Package wordnet is already up-to-date!\n"
     ]
    }
   ],
   "source": [
    "import pandas as pd\n",
    "import numpy as np\n",
    "import matplotlib.pyplot as plt\n",
    "import re\n",
    "pd.set_option('display.max_colwidth', None)\n",
    "import nltk\n",
    "import string\n",
    "nltk.download('stopwords')\n",
    "nltk.download('averaged_perceptron_tagger')\n",
    "nltk.download('wordnet')\n",
    "from nltk.tokenize import word_tokenize\n",
    "from nltk.stem import WordNetLemmatizer\n",
    "from nltk.probability import FreqDist\n",
    "from wordcloud import WordCloud, ImageColorGenerator\n",
    "from collections import Counter\n",
    "from sklearn.feature_extraction.text import CountVectorizer\n",
    "from sklearn.decomposition import LatentDirichletAllocation, NMF\n",
    "from nltk.corpus import stopwords\n",
    "from nltk.corpus import wordnet\n",
    "\n",
    "import warnings\n",
    "warnings.simplefilter(action='ignore')\n",
    "from tqdm.notebook import tqdm\n",
    "\n",
    "import pickle\n",
    "import requests\n",
    "import json"
   ]
  },
  {
   "cell_type": "markdown",
   "metadata": {},
   "source": [
    "read csv"
   ]
  },
  {
   "cell_type": "code",
   "execution_count": 2,
   "metadata": {},
   "outputs": [],
   "source": [
    "df_raw = pd.read_csv('pos_and_neg_tweets_final_no_dup.csv')"
   ]
  },
  {
   "cell_type": "code",
   "execution_count": 3,
   "metadata": {},
   "outputs": [],
   "source": [
    "df = df_raw.loc[:,['text', 'user_followers', 'favorites', 'retweets', 'is_retweet', 'category']]"
   ]
  },
  {
   "cell_type": "code",
   "execution_count": 4,
   "metadata": {},
   "outputs": [],
   "source": [
    "df = df.drop_duplicates()"
   ]
  },
  {
   "cell_type": "code",
   "execution_count": 5,
   "metadata": {},
   "outputs": [],
   "source": [
    "df[\"up_text\"] = df.text.str.lower()\n",
    "df.up_text = df.up_text.apply(lambda x:re.sub('@[^\\s]+','',x))\n",
    "df.up_text = df.up_text.apply(lambda x:re.sub(r'\\B#\\S+','',x))\n",
    "df.up_text = df.up_text.apply(lambda x:re.sub(r\"http\\S+\", \"\", x))\n",
    "df.up_text = df.up_text.apply(lambda x:' '.join(re.findall(r'\\w+', x)))\n",
    "df.up_text = df.up_text.apply(lambda x:re.sub(r'\\s+[a-zA-Z]\\s+', '', x))\n",
    "df.up_text = df.up_text.apply(lambda x:re.sub(r'\\s+', ' ', x, flags=re.I))"
   ]
  },
  {
   "cell_type": "code",
   "execution_count": 6,
   "metadata": {},
   "outputs": [],
   "source": [
    "contractions_dict = { \"ain't\": \"are not \",\"'s\":\" is \",\"aren't\": \"are not\",\n",
    "                     \"can't\": \"cannot\",\"can't've\": \"cannot have\",\n",
    "                     \"'cause\": \"because\",\"could've\": \"could have\",\"couldn't\": \"could not\",\n",
    "                     \"couldn't've\": \"could not have\", \"didn't\": \"did not\",\"doesn't\": \"does not\",\n",
    "                     \"don't\": \"do not\",\"hadn't\": \"had not\",\"hadn't've\": \"had not have\",\n",
    "                     \"hasn't\": \"has not\",\"haven't\": \"have not\",\"he'd\": \"he would\",\n",
    "                     \"he'd've\": \"he would have\",\"he'll\": \"he will\", \"he'll've\": \"he will have\",\n",
    "                     \"how'd\": \"how did\",\"how'd'y\": \"how do you\",\"how'll\": \"how will\",\n",
    "                     \"I'd\": \"I would\", \"I'd've\": \"I would have\",\"I'll\": \"I will\",\n",
    "                     \"I'll've\": \"I will have\",\"I'm\": \"I am\",\"I've\": \"I have\", \"isn't\": \"is not\",\n",
    "                     \"it'd\": \"it would\",\"it'd've\": \"it would have\",\"it'll\": \"it will\",\n",
    "                     \"it'll've\": \"it will have\", \"let's\": \"let us\",\"ma'am\": \"madam\",\n",
    "                     \"mayn't\": \"may not\",\"might've\": \"might have\",\"mightn't\": \"might not\", \n",
    "                     \"mightn't've\": \"might not have\",\"must've\": \"must have\",\"mustn't\": \"must not\",\n",
    "                     \"mustn't've\": \"must not have\", \"needn't\": \"need not\",\n",
    "                     \"needn't've\": \"need not have\",\"o'clock\": \"of the clock\",\"oughtn't\": \"ought not\",\n",
    "                     \"oughtn't've\": \"ought not have\",\"shan't\": \"shall not\",\"sha'n't\": \"shall not\",\n",
    "                     \"shan't've\": \"shall not have\",\"she'd\": \"she would\",\"she'd've\": \"she would have\",\n",
    "                     \"she'll\": \"she will\", \"she'll've\": \"she will have\",\"should've\": \"should have\",\n",
    "                     \"shouldn't\": \"should not\", \"shouldn't've\": \"should not have\",\"so've\": \"so have\",\n",
    "                     \"that'd\": \"that would\",\"that'd've\": \"that would have\", \"there'd\": \"there would\",\n",
    "                     \"there'd've\": \"there would have\", \"they'd\": \"they would\",\n",
    "                     \"they'd've\": \"they would have\",\"they'll\": \"they will\",\n",
    "                     \"they'll've\": \"they will have\", \"they're\": \"they are\",\"they've\": \"they have\",\n",
    "                     \"to've\": \"to have\",\"wasn't\": \"was not\",\"we'd\": \"we would\",\n",
    "                     \"we'd've\": \"we would have\",\"we'll\": \"we will\",\"we'll've\": \"we will have\",\n",
    "                     \"we're\": \"we are\",\"we've\": \"we have\", \"weren't\": \"were not\",\"what'll\": \"what will\",\n",
    "                     \"what'll've\": \"what will have\",\"what're\": \"what are\", \"what've\": \"what have\",\n",
    "                     \"when've\": \"when have\",\"where'd\": \"where did\", \"where've\": \"where have\",\n",
    "                     \"who'll\": \"who will\",\"who'll've\": \"who will have\",\"who've\": \"who have\",\n",
    "                     \"why've\": \"why have\",\"will've\": \"will have\",\"won't\": \"will not\",\n",
    "                     \"won't've\": \"will not have\", \"would've\": \"would have\",\"wouldn't\": \"would not\",\n",
    "                     \"wouldn't've\": \"would not have\",\"y'all\": \"you all\", \"y'all'd\": \"you all would\",\n",
    "                     \"y'all'd've\": \"you all would have\",\"y'all're\": \"you all are\",\n",
    "                     \"y'all've\": \"you all have\", \"you'd\": \"you would\",\"you'd've\": \"you would have\",\n",
    "                     \"you'll\": \"you will\",\"you'll've\": \"you will have\", \"you're\": \"you are\",\n",
    "                     \"you've\": \"you have\"}\n",
    "\n",
    "contractions_re=re.compile('(%s)' % '|'.join(contractions_dict.keys()))\n",
    "\n",
    "def expand_contractions(text,contractions_dict=contractions_dict):\n",
    "    def replace(match):\n",
    "        return contractions_dict[match.group(0)]\n",
    "    return contractions_re.sub(replace, text)\n",
    "\n",
    "df['up_text']=df['up_text'].apply(lambda x:expand_contractions(x))"
   ]
  },
  {
   "cell_type": "code",
   "execution_count": 7,
   "metadata": {},
   "outputs": [],
   "source": [
    "df['tokenized'] = df['up_text'].apply(word_tokenize)\n",
    "stop_words = set(stopwords.words('english'))\n",
    "df['tokenized'] = df['tokenized'].apply(lambda x: [word for word in x if word not in stop_words])\n",
    "df['pos_tags'] = df['tokenized'].apply(nltk.tag.pos_tag)"
   ]
  },
  {
   "cell_type": "code",
   "execution_count": 8,
   "metadata": {},
   "outputs": [],
   "source": [
    "def get_wordnet_pos(tag):\n",
    "    if tag.startswith('J'):\n",
    "        return wordnet.ADJ\n",
    "    elif tag.startswith('V'):\n",
    "        return wordnet.VERB\n",
    "    elif tag.startswith('N'):\n",
    "        return wordnet.NOUN\n",
    "    elif tag.startswith('R'):\n",
    "        return wordnet.ADV\n",
    "    else:\n",
    "        return wordnet.NOUN\n",
    "    \n",
    "df['tokenized'] = df['pos_tags'].apply(lambda x: [(word, get_wordnet_pos(pos_tag)) for (word, pos_tag) in x])"
   ]
  },
  {
   "cell_type": "code",
   "execution_count": 9,
   "metadata": {},
   "outputs": [],
   "source": [
    "wnl = WordNetLemmatizer()\n",
    "df['tokenized'] = df['tokenized'].apply(lambda x: [wnl.lemmatize(word, tag) for word, tag in x])"
   ]
  },
  {
   "cell_type": "code",
   "execution_count": 10,
   "metadata": {},
   "outputs": [],
   "source": [
    "df['n_words'] = df['up_text'].apply(lambda x: len(x.split()))"
   ]
  },
  {
   "cell_type": "markdown",
   "metadata": {},
   "source": [
    "split"
   ]
  },
  {
   "cell_type": "code",
   "execution_count": 11,
   "metadata": {},
   "outputs": [
    {
     "data": {
      "text/plain": [
       "Index(['text', 'user_followers', 'favorites', 'retweets', 'is_retweet',\n",
       "       'category', 'up_text', 'tokenized', 'pos_tags', 'n_words'],\n",
       "      dtype='object')"
      ]
     },
     "execution_count": 11,
     "metadata": {},
     "output_type": "execute_result"
    }
   ],
   "source": [
    "df.columns"
   ]
  },
  {
   "cell_type": "code",
   "execution_count": 12,
   "metadata": {},
   "outputs": [],
   "source": [
    "features = list(df.columns)\n",
    "features.remove('category')"
   ]
  },
  {
   "cell_type": "code",
   "execution_count": 13,
   "metadata": {},
   "outputs": [],
   "source": [
    "from sklearn.model_selection import train_test_split\n",
    "X = df[features]\n",
    "y = df['category']\n",
    "\n",
    "X_train, X_test, y_train, y_test = train_test_split(X, y, test_size=0.2, random_state=123, stratify=df['category'])"
   ]
  },
  {
   "cell_type": "markdown",
   "metadata": {},
   "source": [
    "finding the most common words to create features"
   ]
  },
  {
   "cell_type": "code",
   "execution_count": 14,
   "metadata": {},
   "outputs": [],
   "source": [
    "words = X_train['tokenized']\n",
    "allwords = []\n",
    "for wordlist in words:\n",
    "    allwords += wordlist\n",
    "allwords = [word for word in allwords if word !='amp']\n",
    "allwords = [word for word in allwords if word !='rt']"
   ]
  },
  {
   "cell_type": "code",
   "execution_count": 15,
   "metadata": {},
   "outputs": [],
   "source": [
    "mostcommon = FreqDist(allwords).most_common(100)\n",
    "mostcommon = [tup[0] for tup in mostcommon]"
   ]
  },
  {
   "cell_type": "code",
   "execution_count": 16,
   "metadata": {},
   "outputs": [],
   "source": [
    "def most_common_token(token):\n",
    "    new_token=[]\n",
    "    for word in token:\n",
    "        if word in mostcommon:\n",
    "            new_token.append(word)\n",
    "    return new_token"
   ]
  },
  {
   "cell_type": "code",
   "execution_count": 17,
   "metadata": {},
   "outputs": [],
   "source": [
    "X_train['tokenized_common'] = X_train['tokenized'].apply(lambda x: most_common_token(x))\n",
    "X_test['tokenized_common'] = X_test['tokenized'].apply(lambda x: most_common_token(x))"
   ]
  },
  {
   "cell_type": "code",
   "execution_count": 18,
   "metadata": {},
   "outputs": [],
   "source": [
    "empty_tokens = X_train[(X_train['tokenized_common'].str.len() == 0)].index\n",
    "X_train = X_train.drop(empty_tokens)\n",
    "y_train = y_train.drop(empty_tokens)\n",
    "\n",
    "empty_tokens = X_test[(X_test['tokenized_common'].str.len() == 0)].index\n",
    "X_test = X_test.drop(empty_tokens)\n",
    "y_test = y_test.drop(empty_tokens)"
   ]
  },
  {
   "cell_type": "code",
   "execution_count": 19,
   "metadata": {},
   "outputs": [],
   "source": [
    "for word in mostcommon:\n",
    "    X_train[word]=0\n",
    "    X_test[word]=0"
   ]
  },
  {
   "cell_type": "code",
   "execution_count": 20,
   "metadata": {},
   "outputs": [],
   "source": [
    "X_train = X_train.reset_index()\n",
    "X_test = X_test.reset_index()"
   ]
  },
  {
   "cell_type": "code",
   "execution_count": 21,
   "metadata": {},
   "outputs": [
    {
     "data": {
      "application/vnd.jupyter.widget-view+json": {
       "model_id": "e2f8662a24f54f03840d811da5e27e59",
       "version_major": 2,
       "version_minor": 0
      },
      "text/plain": [
       "HBox(children=(FloatProgress(value=1.0, bar_style='info', max=1.0), HTML(value='')))"
      ]
     },
     "metadata": {},
     "output_type": "display_data"
    },
    {
     "name": "stdout",
     "output_type": "stream",
     "text": [
      "\n"
     ]
    },
    {
     "data": {
      "application/vnd.jupyter.widget-view+json": {
       "model_id": "24aad5730092476eb3bfa9e22f13bb87",
       "version_major": 2,
       "version_minor": 0
      },
      "text/plain": [
       "HBox(children=(FloatProgress(value=1.0, bar_style='info', max=1.0), HTML(value='')))"
      ]
     },
     "metadata": {},
     "output_type": "display_data"
    },
    {
     "name": "stdout",
     "output_type": "stream",
     "text": [
      "\n"
     ]
    }
   ],
   "source": [
    "for index, row in tqdm(enumerate(X_train.tokenized_common)):\n",
    "    for word in row:\n",
    "        X_train.loc[index,word] = 1\n",
    "        \n",
    "for index, row in tqdm(enumerate(X_test.tokenized_common)):\n",
    "    for word in row:\n",
    "        X_test.loc[index,word] = 1"
   ]
  },
  {
   "cell_type": "code",
   "execution_count": 22,
   "metadata": {},
   "outputs": [],
   "source": [
    "y_train = y_train.replace({'Positive':0, 'Negative':1})\n",
    "X_train['is_retweet'] = X_train['is_retweet'].replace({False:0, True:1})\n",
    "\n",
    "y_test = y_test.replace({'Positive':0, 'Negative':1})\n",
    "X_test['is_retweet'] = X_test['is_retweet'].replace({False:0, True:1})"
   ]
  },
  {
   "cell_type": "code",
   "execution_count": 23,
   "metadata": {},
   "outputs": [],
   "source": [
    "columns_to_drop = ['text', 'up_text', 'pos_tags','tokenized','index','tokenized_common']\n",
    "X_train = X_train.drop(columns_to_drop, axis=1)\n",
    "X_test = X_test.drop(columns_to_drop, axis=1)"
   ]
  },
  {
   "cell_type": "code",
   "execution_count": 24,
   "metadata": {},
   "outputs": [
    {
     "data": {
      "text/html": [
       "<div>\n",
       "<style scoped>\n",
       "    .dataframe tbody tr th:only-of-type {\n",
       "        vertical-align: middle;\n",
       "    }\n",
       "\n",
       "    .dataframe tbody tr th {\n",
       "        vertical-align: top;\n",
       "    }\n",
       "\n",
       "    .dataframe thead th {\n",
       "        text-align: right;\n",
       "    }\n",
       "</style>\n",
       "<table border=\"1\" class=\"dataframe\">\n",
       "  <thead>\n",
       "    <tr style=\"text-align: right;\">\n",
       "      <th></th>\n",
       "      <th>user_followers</th>\n",
       "      <th>favorites</th>\n",
       "      <th>retweets</th>\n",
       "      <th>is_retweet</th>\n",
       "      <th>n_words</th>\n",
       "      <th>vaccine</th>\n",
       "      <th>get</th>\n",
       "      <th>covid</th>\n",
       "      <th>make</th>\n",
       "      <th>today</th>\n",
       "      <th>...</th>\n",
       "      <th>like</th>\n",
       "      <th>want</th>\n",
       "      <th>use</th>\n",
       "      <th>love</th>\n",
       "      <th>well</th>\n",
       "      <th>old</th>\n",
       "      <th>moment</th>\n",
       "      <th>last</th>\n",
       "      <th>look</th>\n",
       "      <th>roll</th>\n",
       "    </tr>\n",
       "  </thead>\n",
       "  <tbody>\n",
       "    <tr>\n",
       "      <th>0</th>\n",
       "      <td>491</td>\n",
       "      <td>0</td>\n",
       "      <td>7</td>\n",
       "      <td>1</td>\n",
       "      <td>20</td>\n",
       "      <td>0</td>\n",
       "      <td>1</td>\n",
       "      <td>0</td>\n",
       "      <td>0</td>\n",
       "      <td>0</td>\n",
       "      <td>...</td>\n",
       "      <td>0</td>\n",
       "      <td>0</td>\n",
       "      <td>0</td>\n",
       "      <td>0</td>\n",
       "      <td>0</td>\n",
       "      <td>0</td>\n",
       "      <td>0</td>\n",
       "      <td>0</td>\n",
       "      <td>0</td>\n",
       "      <td>0</td>\n",
       "    </tr>\n",
       "    <tr>\n",
       "      <th>1</th>\n",
       "      <td>1525</td>\n",
       "      <td>0</td>\n",
       "      <td>100</td>\n",
       "      <td>1</td>\n",
       "      <td>18</td>\n",
       "      <td>0</td>\n",
       "      <td>0</td>\n",
       "      <td>0</td>\n",
       "      <td>0</td>\n",
       "      <td>0</td>\n",
       "      <td>...</td>\n",
       "      <td>0</td>\n",
       "      <td>0</td>\n",
       "      <td>0</td>\n",
       "      <td>0</td>\n",
       "      <td>0</td>\n",
       "      <td>0</td>\n",
       "      <td>0</td>\n",
       "      <td>0</td>\n",
       "      <td>0</td>\n",
       "      <td>0</td>\n",
       "    </tr>\n",
       "    <tr>\n",
       "      <th>2</th>\n",
       "      <td>6333</td>\n",
       "      <td>0</td>\n",
       "      <td>1</td>\n",
       "      <td>1</td>\n",
       "      <td>23</td>\n",
       "      <td>0</td>\n",
       "      <td>0</td>\n",
       "      <td>0</td>\n",
       "      <td>0</td>\n",
       "      <td>0</td>\n",
       "      <td>...</td>\n",
       "      <td>0</td>\n",
       "      <td>0</td>\n",
       "      <td>0</td>\n",
       "      <td>0</td>\n",
       "      <td>0</td>\n",
       "      <td>0</td>\n",
       "      <td>0</td>\n",
       "      <td>0</td>\n",
       "      <td>0</td>\n",
       "      <td>0</td>\n",
       "    </tr>\n",
       "    <tr>\n",
       "      <th>3</th>\n",
       "      <td>755</td>\n",
       "      <td>0</td>\n",
       "      <td>5</td>\n",
       "      <td>1</td>\n",
       "      <td>21</td>\n",
       "      <td>0</td>\n",
       "      <td>1</td>\n",
       "      <td>0</td>\n",
       "      <td>0</td>\n",
       "      <td>0</td>\n",
       "      <td>...</td>\n",
       "      <td>0</td>\n",
       "      <td>0</td>\n",
       "      <td>0</td>\n",
       "      <td>1</td>\n",
       "      <td>0</td>\n",
       "      <td>0</td>\n",
       "      <td>0</td>\n",
       "      <td>0</td>\n",
       "      <td>0</td>\n",
       "      <td>1</td>\n",
       "    </tr>\n",
       "    <tr>\n",
       "      <th>4</th>\n",
       "      <td>246</td>\n",
       "      <td>0</td>\n",
       "      <td>0</td>\n",
       "      <td>0</td>\n",
       "      <td>13</td>\n",
       "      <td>0</td>\n",
       "      <td>0</td>\n",
       "      <td>0</td>\n",
       "      <td>0</td>\n",
       "      <td>0</td>\n",
       "      <td>...</td>\n",
       "      <td>0</td>\n",
       "      <td>0</td>\n",
       "      <td>0</td>\n",
       "      <td>0</td>\n",
       "      <td>0</td>\n",
       "      <td>0</td>\n",
       "      <td>0</td>\n",
       "      <td>0</td>\n",
       "      <td>0</td>\n",
       "      <td>0</td>\n",
       "    </tr>\n",
       "    <tr>\n",
       "      <th>...</th>\n",
       "      <td>...</td>\n",
       "      <td>...</td>\n",
       "      <td>...</td>\n",
       "      <td>...</td>\n",
       "      <td>...</td>\n",
       "      <td>...</td>\n",
       "      <td>...</td>\n",
       "      <td>...</td>\n",
       "      <td>...</td>\n",
       "      <td>...</td>\n",
       "      <td>...</td>\n",
       "      <td>...</td>\n",
       "      <td>...</td>\n",
       "      <td>...</td>\n",
       "      <td>...</td>\n",
       "      <td>...</td>\n",
       "      <td>...</td>\n",
       "      <td>...</td>\n",
       "      <td>...</td>\n",
       "      <td>...</td>\n",
       "      <td>...</td>\n",
       "    </tr>\n",
       "    <tr>\n",
       "      <th>12485</th>\n",
       "      <td>273</td>\n",
       "      <td>0</td>\n",
       "      <td>14</td>\n",
       "      <td>1</td>\n",
       "      <td>17</td>\n",
       "      <td>0</td>\n",
       "      <td>0</td>\n",
       "      <td>0</td>\n",
       "      <td>0</td>\n",
       "      <td>0</td>\n",
       "      <td>...</td>\n",
       "      <td>0</td>\n",
       "      <td>0</td>\n",
       "      <td>0</td>\n",
       "      <td>0</td>\n",
       "      <td>0</td>\n",
       "      <td>0</td>\n",
       "      <td>0</td>\n",
       "      <td>0</td>\n",
       "      <td>0</td>\n",
       "      <td>0</td>\n",
       "    </tr>\n",
       "    <tr>\n",
       "      <th>12486</th>\n",
       "      <td>602</td>\n",
       "      <td>0</td>\n",
       "      <td>12</td>\n",
       "      <td>1</td>\n",
       "      <td>20</td>\n",
       "      <td>0</td>\n",
       "      <td>0</td>\n",
       "      <td>0</td>\n",
       "      <td>0</td>\n",
       "      <td>0</td>\n",
       "      <td>...</td>\n",
       "      <td>0</td>\n",
       "      <td>0</td>\n",
       "      <td>0</td>\n",
       "      <td>0</td>\n",
       "      <td>0</td>\n",
       "      <td>0</td>\n",
       "      <td>0</td>\n",
       "      <td>0</td>\n",
       "      <td>0</td>\n",
       "      <td>0</td>\n",
       "    </tr>\n",
       "    <tr>\n",
       "      <th>12487</th>\n",
       "      <td>3867</td>\n",
       "      <td>0</td>\n",
       "      <td>28</td>\n",
       "      <td>1</td>\n",
       "      <td>18</td>\n",
       "      <td>0</td>\n",
       "      <td>1</td>\n",
       "      <td>0</td>\n",
       "      <td>0</td>\n",
       "      <td>0</td>\n",
       "      <td>...</td>\n",
       "      <td>0</td>\n",
       "      <td>0</td>\n",
       "      <td>0</td>\n",
       "      <td>0</td>\n",
       "      <td>0</td>\n",
       "      <td>0</td>\n",
       "      <td>0</td>\n",
       "      <td>0</td>\n",
       "      <td>0</td>\n",
       "      <td>0</td>\n",
       "    </tr>\n",
       "    <tr>\n",
       "      <th>12488</th>\n",
       "      <td>194</td>\n",
       "      <td>0</td>\n",
       "      <td>95</td>\n",
       "      <td>1</td>\n",
       "      <td>14</td>\n",
       "      <td>0</td>\n",
       "      <td>1</td>\n",
       "      <td>0</td>\n",
       "      <td>0</td>\n",
       "      <td>0</td>\n",
       "      <td>...</td>\n",
       "      <td>0</td>\n",
       "      <td>0</td>\n",
       "      <td>0</td>\n",
       "      <td>0</td>\n",
       "      <td>0</td>\n",
       "      <td>0</td>\n",
       "      <td>0</td>\n",
       "      <td>0</td>\n",
       "      <td>0</td>\n",
       "      <td>0</td>\n",
       "    </tr>\n",
       "    <tr>\n",
       "      <th>12489</th>\n",
       "      <td>1050</td>\n",
       "      <td>3</td>\n",
       "      <td>1</td>\n",
       "      <td>1</td>\n",
       "      <td>18</td>\n",
       "      <td>0</td>\n",
       "      <td>0</td>\n",
       "      <td>0</td>\n",
       "      <td>0</td>\n",
       "      <td>0</td>\n",
       "      <td>...</td>\n",
       "      <td>0</td>\n",
       "      <td>0</td>\n",
       "      <td>0</td>\n",
       "      <td>0</td>\n",
       "      <td>0</td>\n",
       "      <td>0</td>\n",
       "      <td>0</td>\n",
       "      <td>0</td>\n",
       "      <td>0</td>\n",
       "      <td>0</td>\n",
       "    </tr>\n",
       "  </tbody>\n",
       "</table>\n",
       "<p>12490 rows × 105 columns</p>\n",
       "</div>"
      ],
      "text/plain": [
       "       user_followers  favorites  retweets  is_retweet  n_words  vaccine  get  \\\n",
       "0                 491          0         7           1       20        0    1   \n",
       "1                1525          0       100           1       18        0    0   \n",
       "2                6333          0         1           1       23        0    0   \n",
       "3                 755          0         5           1       21        0    1   \n",
       "4                 246          0         0           0       13        0    0   \n",
       "...               ...        ...       ...         ...      ...      ...  ...   \n",
       "12485             273          0        14           1       17        0    0   \n",
       "12486             602          0        12           1       20        0    0   \n",
       "12487            3867          0        28           1       18        0    1   \n",
       "12488             194          0        95           1       14        0    1   \n",
       "12489            1050          3         1           1       18        0    0   \n",
       "\n",
       "       covid  make  today  ...  like  want  use  love  well  old  moment  \\\n",
       "0          0     0      0  ...     0     0    0     0     0    0       0   \n",
       "1          0     0      0  ...     0     0    0     0     0    0       0   \n",
       "2          0     0      0  ...     0     0    0     0     0    0       0   \n",
       "3          0     0      0  ...     0     0    0     1     0    0       0   \n",
       "4          0     0      0  ...     0     0    0     0     0    0       0   \n",
       "...      ...   ...    ...  ...   ...   ...  ...   ...   ...  ...     ...   \n",
       "12485      0     0      0  ...     0     0    0     0     0    0       0   \n",
       "12486      0     0      0  ...     0     0    0     0     0    0       0   \n",
       "12487      0     0      0  ...     0     0    0     0     0    0       0   \n",
       "12488      0     0      0  ...     0     0    0     0     0    0       0   \n",
       "12489      0     0      0  ...     0     0    0     0     0    0       0   \n",
       "\n",
       "       last  look  roll  \n",
       "0         0     0     0  \n",
       "1         0     0     0  \n",
       "2         0     0     0  \n",
       "3         0     0     1  \n",
       "4         0     0     0  \n",
       "...     ...   ...   ...  \n",
       "12485     0     0     0  \n",
       "12486     0     0     0  \n",
       "12487     0     0     0  \n",
       "12488     0     0     0  \n",
       "12489     0     0     0  \n",
       "\n",
       "[12490 rows x 105 columns]"
      ]
     },
     "execution_count": 24,
     "metadata": {},
     "output_type": "execute_result"
    }
   ],
   "source": [
    "X_train"
   ]
  },
  {
   "cell_type": "markdown",
   "metadata": {},
   "source": [
    "model"
   ]
  },
  {
   "cell_type": "code",
   "execution_count": 25,
   "metadata": {},
   "outputs": [],
   "source": [
    "import xgboost as xgb"
   ]
  },
  {
   "cell_type": "code",
   "execution_count": 26,
   "metadata": {},
   "outputs": [
    {
     "name": "stdout",
     "output_type": "stream",
     "text": [
      "Fitting 3 folds for each of 5 candidates, totalling 15 fits\n",
      "[11:40:43] WARNING: C:/Users/Administrator/workspace/xgboost-win64_release_1.3.0/src/learner.cc:1061: Starting in XGBoost 1.3.0, the default evaluation metric used with the objective 'binary:logistic' was changed from 'error' to 'logloss'. Explicitly set eval_metric if you'd like to restore the old behavior.\n"
     ]
    },
    {
     "data": {
      "text/plain": [
       "RandomizedSearchCV(cv=<generator object _BaseKFold.split at 0x0000021032D142E0>,\n",
       "                   estimator=XGBClassifier(base_score=None, booster=None,\n",
       "                                           colsample_bylevel=None,\n",
       "                                           colsample_bynode=None,\n",
       "                                           colsample_bytree=None, gamma=None,\n",
       "                                           gpu_id=None, importance_type='gain',\n",
       "                                           interaction_constraints=None,\n",
       "                                           learning_rate=None,\n",
       "                                           max_delta_step=None, max_depth=None,\n",
       "                                           min_child_weight=None, mis...\n",
       "                                           random_state=None, reg_alpha=None,\n",
       "                                           reg_lambda=None,\n",
       "                                           scale_pos_weight=None,\n",
       "                                           subsample=None, tree_method=None,\n",
       "                                           validate_parameters=None,\n",
       "                                           verbosity=None),\n",
       "                   n_iter=5, n_jobs=4,\n",
       "                   param_distributions={'colsample_bytree': [0.5, 0.7, 1],\n",
       "                                        'eta': [0.05, 0.1, 0.15, 0.2, 0.25,\n",
       "                                                0.3],\n",
       "                                        'gamma': [0.0, 0.1, 0.2, 0.3, 0.4],\n",
       "                                        'max_depth': [3, 4, 5, 6, 8, 10],\n",
       "                                        'min_child_weight': [1, 2, 3, 5]},\n",
       "                   random_state=1001, scoring='roc_auc', verbose=3)"
      ]
     },
     "execution_count": 26,
     "metadata": {},
     "output_type": "execute_result"
    }
   ],
   "source": [
    "from sklearn.model_selection import RandomizedSearchCV\n",
    "from sklearn.model_selection import StratifiedKFold\n",
    "from xgboost import XGBClassifier\n",
    "\n",
    "xgb = XGBClassifier()\n",
    "\n",
    "folds = 3\n",
    "param_comb = 5\n",
    "skf = StratifiedKFold(n_splits=folds, shuffle = True, random_state = 1001)\n",
    "\n",
    "parameters = {\n",
    "     \"eta\"              : [0.05, 0.10, 0.15, 0.20, 0.25, 0.30 ] ,\n",
    "     \"max_depth\"        : [ 3, 4, 5, 6, 8, 10],\n",
    "     \"min_child_weight\" : [ 1, 2, 3, 5 ],\n",
    "     \"gamma\"            : [ 0.0, 0.1, 0.2 , 0.3, 0.4 ],\n",
    "     \"colsample_bytree\" : [0.5 , 0.7, 1]\n",
    "     }\n",
    "\n",
    "\n",
    "random_search = RandomizedSearchCV(xgb, param_distributions=parameters, \n",
    "                                   n_iter=param_comb, \n",
    "                                   scoring='roc_auc',\n",
    "                                   n_jobs=4, \n",
    "                                   cv=skf.split(X_train,y_train), \n",
    "                                   verbose=3, \n",
    "                                   random_state=1001 )\n",
    "\n",
    "random_search.fit(X_train, y_train)"
   ]
  },
  {
   "cell_type": "code",
   "execution_count": 27,
   "metadata": {},
   "outputs": [
    {
     "name": "stdout",
     "output_type": "stream",
     "text": [
      "\n",
      " All results:\n",
      "{'mean_fit_time': array([15.4233319 , 17.56327097,  7.8975997 ,  6.00443824,  5.33672508]), 'std_fit_time': array([0.16277232, 2.81061986, 0.92422325, 0.17206398, 1.33254377]), 'mean_score_time': array([0.08900166, 0.0803322 , 0.06233525, 0.05400236, 0.04310322]), 'std_score_time': array([0.01512163, 0.01746138, 0.01681769, 0.00725765, 0.00244675]), 'param_min_child_weight': masked_array(data=[2, 3, 5, 1, 1],\n",
      "             mask=[False, False, False, False, False],\n",
      "       fill_value='?',\n",
      "            dtype=object), 'param_max_depth': masked_array(data=[6, 10, 5, 4, 5],\n",
      "             mask=[False, False, False, False, False],\n",
      "       fill_value='?',\n",
      "            dtype=object), 'param_gamma': masked_array(data=[0.0, 0.1, 0.4, 0.3, 0.4],\n",
      "             mask=[False, False, False, False, False],\n",
      "       fill_value='?',\n",
      "            dtype=object), 'param_eta': masked_array(data=[0.25, 0.15, 0.1, 0.25, 0.25],\n",
      "             mask=[False, False, False, False, False],\n",
      "       fill_value='?',\n",
      "            dtype=object), 'param_colsample_bytree': masked_array(data=[0.7, 0.5, 0.5, 1, 1],\n",
      "             mask=[False, False, False, False, False],\n",
      "       fill_value='?',\n",
      "            dtype=object), 'params': [{'min_child_weight': 2, 'max_depth': 6, 'gamma': 0.0, 'eta': 0.25, 'colsample_bytree': 0.7}, {'min_child_weight': 3, 'max_depth': 10, 'gamma': 0.1, 'eta': 0.15, 'colsample_bytree': 0.5}, {'min_child_weight': 5, 'max_depth': 5, 'gamma': 0.4, 'eta': 0.1, 'colsample_bytree': 0.5}, {'min_child_weight': 1, 'max_depth': 4, 'gamma': 0.3, 'eta': 0.25, 'colsample_bytree': 1}, {'min_child_weight': 1, 'max_depth': 5, 'gamma': 0.4, 'eta': 0.25, 'colsample_bytree': 1}], 'split0_test_score': array([0.96569012, 0.96670824, 0.94498504, 0.95949601, 0.96427315]), 'split1_test_score': array([0.9681898 , 0.96744891, 0.94628166, 0.96029688, 0.96624637]), 'split2_test_score': array([0.96543894, 0.96253761, 0.94024882, 0.95898821, 0.96377461]), 'mean_test_score': array([0.96643962, 0.96556492, 0.9438385 , 0.9595937 , 0.96476471]), 'std_test_score': array([0.00124181, 0.00216188, 0.0025929 , 0.00053871, 0.00106728]), 'rank_test_score': array([1, 2, 5, 4, 3])}\n",
      "\n",
      " Best estimator:\n",
      "XGBClassifier(base_score=0.5, booster='gbtree', colsample_bylevel=1,\n",
      "              colsample_bynode=1, colsample_bytree=0.7, eta=0.25, gamma=0.0,\n",
      "              gpu_id=-1, importance_type='gain', interaction_constraints='',\n",
      "              learning_rate=0.25, max_delta_step=0, max_depth=6,\n",
      "              min_child_weight=2, missing=nan, monotone_constraints='()',\n",
      "              n_estimators=100, n_jobs=4, num_parallel_tree=1, random_state=0,\n",
      "              reg_alpha=0, reg_lambda=1, scale_pos_weight=1, subsample=1,\n",
      "              tree_method='exact', validate_parameters=1, verbosity=None)\n",
      "\n",
      " Best normalized gini score for 3-fold search with 5 parameter combinations:\n",
      "0.9328792375028421\n",
      "\n",
      " Best hyperparameters:\n",
      "{'min_child_weight': 2, 'max_depth': 6, 'gamma': 0.0, 'eta': 0.25, 'colsample_bytree': 0.7}\n"
     ]
    }
   ],
   "source": [
    "print('\\n All results:')\n",
    "print(random_search.cv_results_)\n",
    "print('\\n Best estimator:')\n",
    "print(random_search.best_estimator_)\n",
    "print('\\n Best normalized gini score for %d-fold search with %d parameter combinations:' % (folds, param_comb))\n",
    "print(random_search.best_score_ * 2 - 1)\n",
    "print('\\n Best hyperparameters:')\n",
    "print(random_search.best_params_)\n",
    "results = pd.DataFrame(random_search.cv_results_)"
   ]
  },
  {
   "cell_type": "code",
   "execution_count": 28,
   "metadata": {},
   "outputs": [],
   "source": [
    "model = random_search.best_estimator_"
   ]
  },
  {
   "cell_type": "code",
   "execution_count": 29,
   "metadata": {},
   "outputs": [],
   "source": [
    "filename = \"xgboost.sav\"\n",
    "pickle.dump(model, open(filename, 'wb'))"
   ]
  },
  {
   "cell_type": "code",
   "execution_count": 41,
   "metadata": {},
   "outputs": [
    {
     "name": "stdout",
     "output_type": "stream",
     "text": [
      "Precision = 0.9206919060052219\n",
      "Recall = 0.8905764714794333\n",
      "Accuracy = 0.9226075786769429\n"
     ]
    }
   ],
   "source": [
    "from sklearn.metrics import precision_score, recall_score, accuracy_score, confusion_matrix, roc_auc_score, classification_report\n",
    "preds = random_search.predict_proba(X_test)\n",
    "best_preds = np.asarray([np.argmax(line) for line in preds])\n",
    "\n",
    "print(\"Precision = {}\".format(precision_score(y_test, best_preds, average='macro')))\n",
    "print(\"Recall = {}\".format(recall_score(y_test, best_preds, average='macro')))\n",
    "print(\"Accuracy = {}\".format(accuracy_score(y_test, best_preds)))"
   ]
  },
  {
   "cell_type": "code",
   "execution_count": 35,
   "metadata": {},
   "outputs": [],
   "source": [
    "prec = round(precision_score(y_test, best_preds, average='macro'),2)\n",
    "recall = round(recall_score(y_test, best_preds, average='macro'),2)\n",
    "acc = round(accuracy_score(y_test, best_preds),2)"
   ]
  },
  {
   "cell_type": "code",
   "execution_count": 36,
   "metadata": {},
   "outputs": [],
   "source": [
    "tn, fp, fn, tp = confusion_matrix(np.array(y_test), best_preds).ravel()\n",
    "fpr = fp/(fp+tn)\n",
    "tpr = tp/(tp+fn)\n",
    "auc = roc_auc_score(y_test, preds[:,1])"
   ]
  },
  {
   "cell_type": "code",
   "execution_count": 38,
   "metadata": {},
   "outputs": [
    {
     "data": {
      "image/png": "[encoded data removed]",
      "text/plain": [
       "<Figure size 432x288 with 1 Axes>"
      ]
     },
     "metadata": {
      "needs_background": "light"
     },
     "output_type": "display_data"
    }
   ],
   "source": [
    "from sklearn import metrics\n",
    "fpr, tpr, thresholds = metrics.roc_curve(y_test, preds[:,1])\n",
    "roc_auc = metrics.auc(fpr, tpr)\n",
    "display = metrics.RocCurveDisplay(fpr=fpr, tpr=tpr, roc_auc=roc_auc, estimator_name='xgboost')\n",
    "display.plot() \n",
    "plt.plot([0,1],[0,1], ls= '--', label = 'ROC curve (area = %0.2f)' % auc)\n",
    "plt.title('XGboost classifier\\n accuray={}, precision={}, recall={}'.format(acc,prec,recall))\n",
    "plt.show()      "
   ]
  },
  {
   "cell_type": "code",
   "execution_count": 43,
   "metadata": {},
   "outputs": [
    {
     "name": "stdout",
     "output_type": "stream",
     "text": [
      "              precision    recall  f1-score   support\n",
      "\n",
      "non-anvi-vax       0.92      0.97      0.95      2193\n",
      "    anti-vax       0.92      0.81      0.86       921\n",
      "\n",
      "    accuracy                           0.92      3114\n",
      "   macro avg       0.92      0.89      0.90      3114\n",
      "weighted avg       0.92      0.92      0.92      3114\n",
      "\n"
     ]
    }
   ],
   "source": [
    "target_names = ['non-anvi-vax', 'anti-vax']\n",
    "print(classification_report(y_test, best_preds, target_names=target_names))"
   ]
  },
  {
   "cell_type": "code",
   "execution_count": 45,
   "metadata": {
    "scrolled": false
   },
   "outputs": [
    {
     "data": {
      "text/plain": [
       "array([0.        , 0.00108578, 0.00868621, 0.01085776, 0.02171553,\n",
       "       0.02931596, 0.03040174, 0.03365907, 0.03908795, 0.04343105,\n",
       "       0.04560261, 0.04668838, 0.04885993, 0.05211726, 0.05428882,\n",
       "       0.05754615, 0.06188925, 0.07926167, 0.15200869, 0.15743757,\n",
       "       0.1606949 , 0.16286645, 0.16612378, 0.16938111, 0.17155266,\n",
       "       0.17263844, 0.17480999, 0.17915309, 0.18132465, 0.18675353,\n",
       "       0.19652552, 0.19869707, 0.2019544 , 0.2062975 , 0.20738328,\n",
       "       0.21064061, 0.21606949, 0.21715527, 0.24429967, 0.24972856,\n",
       "       0.25190011, 0.25841477, 0.26058632, 0.26927253, 0.27144408,\n",
       "       0.27361564, 0.27578719, 0.27904452, 0.28121607, 0.28555917,\n",
       "       0.28773073, 0.29424539, 0.29750271, 0.3029316 , 0.31161781,\n",
       "       0.31487514, 0.31921824, 0.32247557, 0.32356135, 0.3257329 ,\n",
       "       0.32790445, 0.330076  , 0.33116178, 0.33659066, 0.33876221,\n",
       "       0.34961998, 0.35613464, 0.35722041, 0.36047774, 0.3713355 ,\n",
       "       0.38436482, 0.38653637, 0.38870793, 0.3897937 , 0.39739414,\n",
       "       0.39956569, 0.40390879, 0.40716612, 0.4082519 , 0.41259501,\n",
       "       0.41368078, 0.42128122, 0.42345277, 0.42453855, 0.4267101 ,\n",
       "       0.42888165, 0.4310532 , 0.43213898, 0.44082519, 0.4451683 ,\n",
       "       0.4495114 , 0.45168295, 0.45385451, 0.45494028, 0.46145494,\n",
       "       0.46362649, 0.47339848, 0.47774159, 0.48099891, 0.50705755,\n",
       "       0.50705755, 0.5092291 , 0.51791531, 0.52117264, 0.52334419,\n",
       "       0.53420195, 0.53854506, 0.53854506, 0.54071661, 0.54505972,\n",
       "       0.54723127, 0.5548317 , 0.55700326, 0.56243214, 0.56460369,\n",
       "       0.5689468 , 0.5689468 , 0.57437568, 0.57437568, 0.58089034,\n",
       "       0.58089034, 0.58197611, 0.58414767, 0.58414767, 0.58631922,\n",
       "       0.58849077, 0.59066232, 0.59283388, 0.59283388, 0.59391965,\n",
       "       0.59609121, 0.59934853, 0.59934853, 0.60369164, 0.60586319,\n",
       "       0.60586319, 0.60803474, 0.6102063 , 0.61237785, 0.61237785,\n",
       "       0.61780673, 0.61780673, 0.62106406, 0.62975027, 0.62975027,\n",
       "       0.63192182, 0.63626493, 0.63843648, 0.64169381, 0.64386536,\n",
       "       0.64386536, 0.64603692, 0.64603692, 0.65363735, 0.65363735,\n",
       "       0.65689468, 0.65689468, 0.66123779, 0.66123779, 0.66883822,\n",
       "       0.67318132, 0.67318132, 0.6742671 , 0.6742671 , 0.67535288,\n",
       "       0.67861021, 0.68186754, 0.68512486, 0.68729642, 0.69163952,\n",
       "       0.69381107, 0.69381107, 0.69923996, 0.70141151, 0.7111835 ,\n",
       "       0.71226927, 0.71444083, 0.71878393, 0.71878393, 0.72312704,\n",
       "       0.72312704, 0.72529859, 0.72638436, 0.72638436, 0.72855592,\n",
       "       0.72855592, 0.73181325, 0.73507058, 0.74158523, 0.74158523,\n",
       "       0.74267101, 0.74267101, 0.74375679, 0.74375679, 0.74809989,\n",
       "       0.74809989, 0.74918567, 0.74918567, 0.75135722, 0.75135722,\n",
       "       0.75461455, 0.75461455, 0.7567861 , 0.7567861 , 0.75895765,\n",
       "       0.76221498, 0.76221498, 0.76330076, 0.76330076, 0.77633008,\n",
       "       0.77633008, 0.77850163, 0.78067318, 0.78067318, 0.78284473,\n",
       "       0.78284473, 0.78501629, 0.78610206, 0.78610206, 0.78718784,\n",
       "       0.78718784, 0.78935939, 0.79153094, 0.79153094, 0.79261672,\n",
       "       0.79261672, 0.79587405, 0.79587405, 0.79695983, 0.79913138,\n",
       "       0.80130293, 0.80130293, 0.80238871, 0.80238871, 0.80456026,\n",
       "       0.80673181, 0.80673181, 0.80890337, 0.80998914, 0.80998914,\n",
       "       0.81324647, 0.81324647, 0.81541802, 0.81541802, 0.81976113,\n",
       "       0.81976113, 0.82084691, 0.82301846, 0.82301846, 0.82519001,\n",
       "       0.82953312, 0.82953312, 0.83170467, 0.83387622, 0.834962  ,\n",
       "       0.834962  , 0.83713355, 0.83713355, 0.84039088, 0.84039088,\n",
       "       0.84256243, 0.84364821, 0.84364821, 0.84473398, 0.84473398,\n",
       "       0.84581976, 0.84581976, 0.84690554, 0.84690554, 0.85124864,\n",
       "       0.85124864, 0.8534202 , 0.8534202 , 0.85450597, 0.85450597,\n",
       "       0.85667752, 0.85667752, 0.85884908, 0.85884908, 0.86319218,\n",
       "       0.86319218, 0.86319218, 0.86536374, 0.86536374, 0.86753529,\n",
       "       0.86862106, 0.86862106, 0.87079262, 0.87079262, 0.87296417,\n",
       "       0.87296417, 0.8762215 , 0.8762215 , 0.87730727, 0.87730727,\n",
       "       0.87839305, 0.87839305, 0.87947883, 0.8805646 , 0.8805646 ,\n",
       "       0.88273616, 0.88273616, 0.88382193, 0.88382193, 0.88490771,\n",
       "       0.88490771, 0.88599349, 0.88599349, 0.88707926, 0.88707926,\n",
       "       0.88816504, 0.88816504, 0.88925081, 0.88925081, 0.89033659,\n",
       "       0.89033659, 0.89142237, 0.89142237, 0.8946797 , 0.8946797 ,\n",
       "       0.89685125, 0.89685125, 0.90119435, 0.90119435, 0.90228013,\n",
       "       0.90228013, 0.90336591, 0.90336591, 0.90553746, 0.90553746,\n",
       "       0.90662324, 0.90662324, 0.90770901, 0.90770901, 0.90988056,\n",
       "       0.90988056, 0.91205212, 0.91205212, 0.91422367, 0.91422367,\n",
       "       0.91530945, 0.91530945, 0.917481  , 0.917481  , 0.91856678,\n",
       "       0.91856678, 0.92073833, 0.92073833, 0.9218241 , 0.9218241 ,\n",
       "       0.92290988, 0.92290988, 0.92399566, 0.92399566, 0.92616721,\n",
       "       0.92616721, 0.92725299, 0.92725299, 0.92833876, 0.92833876,\n",
       "       0.92942454, 0.92942454, 0.93051031, 0.93051031, 0.93268187,\n",
       "       0.93268187, 0.93376764, 0.93376764, 0.93485342, 0.93485342,\n",
       "       0.93702497, 0.93702497, 0.93811075, 0.93811075, 0.93811075,\n",
       "       0.93919653, 0.93919653, 0.94136808, 0.94136808, 0.94245385,\n",
       "       0.94245385, 0.94353963, 0.94353963, 0.94571118, 0.94571118,\n",
       "       0.94788274, 0.94788274, 0.94788274, 0.95005429, 0.95005429,\n",
       "       0.95114007, 0.95114007, 0.95114007, 0.95114007, 0.95331162,\n",
       "       0.95331162, 0.95331162, 0.95331162, 0.95548317, 0.95548317,\n",
       "       0.95548317, 0.95656895, 0.95656895, 0.9587405 , 0.9587405 ,\n",
       "       0.96091205, 0.96091205, 0.96199783, 0.96199783, 0.96199783,\n",
       "       0.96199783, 0.9630836 , 0.9630836 , 0.9630836 , 0.96416938,\n",
       "       0.96416938, 0.96525516, 0.96525516, 0.96742671, 0.96742671,\n",
       "       0.96742671, 0.96742671, 0.96851249, 0.96851249, 0.96959826,\n",
       "       0.96959826, 0.96959826, 0.97068404, 0.97068404, 0.97176982,\n",
       "       0.97176982, 0.97285559, 0.97285559, 0.97394137, 0.97394137,\n",
       "       0.97502714, 0.97502714, 0.97611292, 0.97611292, 0.9771987 ,\n",
       "       0.9771987 , 0.9771987 , 0.9771987 , 0.9771987 , 0.9771987 ,\n",
       "       0.97828447, 0.97828447, 0.97937025, 0.97937025, 0.97937025,\n",
       "       0.97937025, 0.97937025, 0.97937025, 0.98045603, 0.98045603,\n",
       "       0.98045603, 0.98045603, 0.98045603, 0.98045603, 0.9815418 ,\n",
       "       0.9815418 , 0.98262758, 0.98262758, 0.98371336, 0.98371336,\n",
       "       0.98371336, 0.98371336, 0.98479913, 0.98479913, 0.98588491,\n",
       "       0.98588491, 0.98588491, 0.98588491, 0.98697068, 0.98697068,\n",
       "       0.98697068, 0.98805646, 0.98805646, 0.98805646, 0.98805646,\n",
       "       0.98805646, 0.98805646, 0.98805646, 0.98805646, 0.98805646,\n",
       "       0.98805646, 0.98805646, 0.98805646, 0.98914224, 0.98914224,\n",
       "       0.98914224, 0.98914224, 0.98914224, 0.98914224, 0.98914224,\n",
       "       0.98914224, 0.99022801, 0.99022801, 0.99022801, 0.99022801,\n",
       "       0.99022801, 0.99022801, 0.99022801, 0.99022801, 0.99022801,\n",
       "       0.99022801, 0.99022801, 0.99022801, 0.99131379, 0.99131379,\n",
       "       0.99131379, 0.99131379, 0.99131379, 0.99131379, 0.99131379,\n",
       "       0.99131379, 0.99131379, 0.99131379, 0.99239957, 0.99239957,\n",
       "       0.99348534, 0.99348534, 0.99348534, 0.99348534, 0.99348534,\n",
       "       0.99348534, 0.99348534, 0.99348534, 0.99348534, 0.99348534,\n",
       "       0.99348534, 0.99457112, 0.99457112, 0.99565689, 0.99565689,\n",
       "       0.99565689, 0.99565689, 0.99565689, 0.99565689, 0.99565689,\n",
       "       0.99565689, 0.99565689, 0.99565689, 0.99565689, 0.99565689,\n",
       "       0.99565689, 0.99565689, 0.99565689, 0.99565689, 0.99565689,\n",
       "       0.99565689, 0.99565689, 0.99674267, 0.99674267, 0.99674267,\n",
       "       0.99674267, 0.99674267, 0.99782845, 0.99782845, 0.99782845,\n",
       "       0.99782845, 0.99782845, 0.99782845, 0.99891422, 0.99891422,\n",
       "       0.99891422, 0.99891422, 0.99891422, 0.99891422, 0.99891422,\n",
       "       0.99891422, 0.99891422, 0.99891422, 0.99891422, 0.99891422,\n",
       "       0.99891422, 0.99891422, 0.99891422, 0.99891422, 0.99891422,\n",
       "       0.99891422, 0.99891422, 0.99891422, 0.99891422, 0.99891422,\n",
       "       0.99891422, 0.99891422, 0.99891422, 0.99891422, 0.99891422,\n",
       "       0.99891422, 0.99891422, 0.99891422, 0.99891422, 0.99891422,\n",
       "       0.99891422, 0.99891422, 0.99891422, 0.99891422, 0.99891422,\n",
       "       0.99891422, 0.99891422, 0.99891422, 0.99891422, 0.99891422,\n",
       "       0.99891422, 0.99891422, 0.99891422, 0.99891422, 0.99891422,\n",
       "       0.99891422, 0.99891422, 0.99891422, 0.99891422, 0.99891422,\n",
       "       0.99891422, 0.99891422, 0.99891422, 0.99891422, 0.99891422,\n",
       "       0.99891422, 0.99891422, 0.99891422, 0.99891422, 0.99891422,\n",
       "       0.99891422, 0.99891422, 0.99891422, 0.99891422, 0.99891422,\n",
       "       0.99891422, 0.99891422, 0.99891422, 0.99891422, 0.99891422,\n",
       "       0.99891422, 0.99891422, 0.99891422, 0.99891422, 0.99891422,\n",
       "       0.99891422, 0.99891422, 0.99891422, 0.99891422, 0.99891422,\n",
       "       0.99891422, 0.99891422, 0.99891422, 0.99891422, 0.99891422,\n",
       "       0.99891422, 0.99891422, 0.99891422, 0.99891422, 0.99891422,\n",
       "       0.99891422, 0.99891422, 0.99891422, 0.99891422, 0.99891422,\n",
       "       0.99891422, 0.99891422, 0.99891422, 0.99891422, 0.99891422,\n",
       "       0.99891422, 0.99891422, 0.99891422, 0.99891422, 0.99891422,\n",
       "       0.99891422, 0.99891422, 0.99891422, 0.99891422, 0.99891422,\n",
       "       0.99891422, 0.99891422, 0.99891422, 0.99891422, 0.99891422,\n",
       "       0.99891422, 0.99891422, 0.99891422, 0.99891422, 0.99891422,\n",
       "       0.99891422, 0.99891422, 0.99891422, 0.99891422, 0.99891422,\n",
       "       0.99891422, 0.99891422, 0.99891422, 0.99891422, 0.99891422,\n",
       "       0.99891422, 1.        , 1.        , 1.        , 1.        ,\n",
       "       1.        , 1.        , 1.        , 1.        , 1.        ,\n",
       "       1.        , 1.        , 1.        , 1.        , 1.        ,\n",
       "       1.        , 1.        , 1.        , 1.        , 1.        ,\n",
       "       1.        , 1.        , 1.        , 1.        , 1.        ,\n",
       "       1.        , 1.        , 1.        , 1.        , 1.        ,\n",
       "       1.        , 1.        , 1.        , 1.        , 1.        ,\n",
       "       1.        , 1.        , 1.        , 1.        , 1.        ,\n",
       "       1.        , 1.        , 1.        , 1.        , 1.        ,\n",
       "       1.        , 1.        , 1.        , 1.        , 1.        ,\n",
       "       1.        , 1.        , 1.        , 1.        , 1.        ,\n",
       "       1.        , 1.        , 1.        , 1.        , 1.        ,\n",
       "       1.        , 1.        , 1.        , 1.        , 1.        ,\n",
       "       1.        , 1.        , 1.        , 1.        , 1.        ,\n",
       "       1.        , 1.        , 1.        , 1.        , 1.        ,\n",
       "       1.        , 1.        , 1.        , 1.        , 1.        ,\n",
       "       1.        , 1.        ])"
      ]
     },
     "execution_count": 45,
     "metadata": {},
     "output_type": "execute_result"
    }
   ],
   "source": [
    "tpr\n"
   ]
  },
  {
   "cell_type": "code",
   "execution_count": null,
   "metadata": {},
   "outputs": [],
   "source": []
  }
 ],
 "metadata": {
  "kernelspec": {
   "display_name": "Python 3",
   "language": "python",
   "name": "python3"
  },
  "language_info": {
   "codemirror_mode": {
    "name": "ipython",
    "version": 3
   },
   "file_extension": ".py",
   "mimetype": "text/x-python",
   "name": "python",
   "nbconvert_exporter": "python",
   "pygments_lexer": "ipython3",
   "version": "3.8.3"
  },
  "latex_envs": {
   "LaTeX_envs_menu_present": true,
   "autoclose": false,
   "autocomplete": true,
   "bibliofile": "biblio.bib",
   "cite_by": "apalike",
   "current_citInitial": 1,
   "eqLabelWithNumbers": true,
   "eqNumInitial": 1,
   "hotkeys": {
    "equation": "Ctrl-E",
    "itemize": "Ctrl-I"
   },
   "labels_anchors": false,
   "latex_user_defs": false,
   "report_style_numbering": false,
   "user_envs_cfg": false
  }
 },
 "nbformat": 4,
 "nbformat_minor": 4
}
