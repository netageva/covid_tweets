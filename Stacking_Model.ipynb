{
  "nbformat": 4,
  "nbformat_minor": 0,
  "metadata": {
    "kernelspec": {
      "display_name": "Python 3",
      "language": "python",
      "name": "python3"
    },
    "language_info": {
      "codemirror_mode": {
        "name": "ipython",
        "version": 3
      },
      "file_extension": ".py",
      "mimetype": "text/x-python",
      "name": "python",
      "nbconvert_exporter": "python",
      "pygments_lexer": "ipython3",
      "version": "3.8.3"
    },
    "latex_envs": {
      "LaTeX_envs_menu_present": true,
      "autoclose": false,
      "autocomplete": true,
      "bibliofile": "biblio.bib",
      "cite_by": "apalike",
      "current_citInitial": 1,
      "eqLabelWithNumbers": true,
      "eqNumInitial": 1,
      "hotkeys": {
        "equation": "Ctrl-E",
        "itemize": "Ctrl-I"
      },
      "labels_anchors": false,
      "latex_user_defs": false,
      "report_style_numbering": false,
      "user_envs_cfg": false
    },
    "colab": {
      "name": "Stacking_Model",
      "provenance": [],
      "collapsed_sections": [],
      "toc_visible": true
    },
    "widgets": {
      "application/vnd.jupyter.widget-state+json": {
        "c7e503f32da345b1b78484d880cf4e03": {
          "model_module": "@jupyter-widgets/controls",
          "model_name": "HBoxModel",
          "state": {
            "_view_name": "HBoxView",
            "_dom_classes": [],
            "_model_name": "HBoxModel",
            "_view_module": "@jupyter-widgets/controls",
            "_model_module_version": "1.5.0",
            "_view_count": null,
            "_view_module_version": "1.5.0",
            "box_style": "",
            "layout": "IPY_MODEL_5b240ef73a104ec588bca668048af40f",
            "_model_module": "@jupyter-widgets/controls",
            "children": [
              "IPY_MODEL_a971a8d13ec14988b3485bd879933f74",
              "IPY_MODEL_f31f012b94fa478a93041cbbafb0d693"
            ]
          }
        },
        "5b240ef73a104ec588bca668048af40f": {
          "model_module": "@jupyter-widgets/base",
          "model_name": "LayoutModel",
          "state": {
            "_view_name": "LayoutView",
            "grid_template_rows": null,
            "right": null,
            "justify_content": null,
            "_view_module": "@jupyter-widgets/base",
            "overflow": null,
            "_model_module_version": "1.2.0",
            "_view_count": null,
            "flex_flow": null,
            "width": null,
            "min_width": null,
            "border": null,
            "align_items": null,
            "bottom": null,
            "_model_module": "@jupyter-widgets/base",
            "top": null,
            "grid_column": null,
            "overflow_y": null,
            "overflow_x": null,
            "grid_auto_flow": null,
            "grid_area": null,
            "grid_template_columns": null,
            "flex": null,
            "_model_name": "LayoutModel",
            "justify_items": null,
            "grid_row": null,
            "max_height": null,
            "align_content": null,
            "visibility": null,
            "align_self": null,
            "height": null,
            "min_height": null,
            "padding": null,
            "grid_auto_rows": null,
            "grid_gap": null,
            "max_width": null,
            "order": null,
            "_view_module_version": "1.2.0",
            "grid_template_areas": null,
            "object_position": null,
            "object_fit": null,
            "grid_auto_columns": null,
            "margin": null,
            "display": null,
            "left": null
          }
        },
        "a971a8d13ec14988b3485bd879933f74": {
          "model_module": "@jupyter-widgets/controls",
          "model_name": "FloatProgressModel",
          "state": {
            "_view_name": "ProgressView",
            "style": "IPY_MODEL_9d6c9db7064c454eaa679f1242703e85",
            "_dom_classes": [],
            "description": "",
            "_model_name": "FloatProgressModel",
            "bar_style": "success",
            "max": 1,
            "_view_module": "@jupyter-widgets/controls",
            "_model_module_version": "1.5.0",
            "value": 1,
            "_view_count": null,
            "_view_module_version": "1.5.0",
            "orientation": "horizontal",
            "min": 0,
            "description_tooltip": null,
            "_model_module": "@jupyter-widgets/controls",
            "layout": "IPY_MODEL_b7d05a8749704ed88e870954141a3ec2"
          }
        },
        "f31f012b94fa478a93041cbbafb0d693": {
          "model_module": "@jupyter-widgets/controls",
          "model_name": "HTMLModel",
          "state": {
            "_view_name": "HTMLView",
            "style": "IPY_MODEL_90dac12878d84383af7379a7c4246c54",
            "_dom_classes": [],
            "description": "",
            "_model_name": "HTMLModel",
            "placeholder": "​",
            "_view_module": "@jupyter-widgets/controls",
            "_model_module_version": "1.5.0",
            "value": " 15231/? [00:17&lt;00:00, 860.15it/s]",
            "_view_count": null,
            "_view_module_version": "1.5.0",
            "description_tooltip": null,
            "_model_module": "@jupyter-widgets/controls",
            "layout": "IPY_MODEL_c242baef0ade48b1b583cdb875ac0b3b"
          }
        },
        "9d6c9db7064c454eaa679f1242703e85": {
          "model_module": "@jupyter-widgets/controls",
          "model_name": "ProgressStyleModel",
          "state": {
            "_view_name": "StyleView",
            "_model_name": "ProgressStyleModel",
            "description_width": "initial",
            "_view_module": "@jupyter-widgets/base",
            "_model_module_version": "1.5.0",
            "_view_count": null,
            "_view_module_version": "1.2.0",
            "bar_color": null,
            "_model_module": "@jupyter-widgets/controls"
          }
        },
        "b7d05a8749704ed88e870954141a3ec2": {
          "model_module": "@jupyter-widgets/base",
          "model_name": "LayoutModel",
          "state": {
            "_view_name": "LayoutView",
            "grid_template_rows": null,
            "right": null,
            "justify_content": null,
            "_view_module": "@jupyter-widgets/base",
            "overflow": null,
            "_model_module_version": "1.2.0",
            "_view_count": null,
            "flex_flow": null,
            "width": null,
            "min_width": null,
            "border": null,
            "align_items": null,
            "bottom": null,
            "_model_module": "@jupyter-widgets/base",
            "top": null,
            "grid_column": null,
            "overflow_y": null,
            "overflow_x": null,
            "grid_auto_flow": null,
            "grid_area": null,
            "grid_template_columns": null,
            "flex": null,
            "_model_name": "LayoutModel",
            "justify_items": null,
            "grid_row": null,
            "max_height": null,
            "align_content": null,
            "visibility": null,
            "align_self": null,
            "height": null,
            "min_height": null,
            "padding": null,
            "grid_auto_rows": null,
            "grid_gap": null,
            "max_width": null,
            "order": null,
            "_view_module_version": "1.2.0",
            "grid_template_areas": null,
            "object_position": null,
            "object_fit": null,
            "grid_auto_columns": null,
            "margin": null,
            "display": null,
            "left": null
          }
        },
        "90dac12878d84383af7379a7c4246c54": {
          "model_module": "@jupyter-widgets/controls",
          "model_name": "DescriptionStyleModel",
          "state": {
            "_view_name": "StyleView",
            "_model_name": "DescriptionStyleModel",
            "description_width": "",
            "_view_module": "@jupyter-widgets/base",
            "_model_module_version": "1.5.0",
            "_view_count": null,
            "_view_module_version": "1.2.0",
            "_model_module": "@jupyter-widgets/controls"
          }
        },
        "c242baef0ade48b1b583cdb875ac0b3b": {
          "model_module": "@jupyter-widgets/base",
          "model_name": "LayoutModel",
          "state": {
            "_view_name": "LayoutView",
            "grid_template_rows": null,
            "right": null,
            "justify_content": null,
            "_view_module": "@jupyter-widgets/base",
            "overflow": null,
            "_model_module_version": "1.2.0",
            "_view_count": null,
            "flex_flow": null,
            "width": null,
            "min_width": null,
            "border": null,
            "align_items": null,
            "bottom": null,
            "_model_module": "@jupyter-widgets/base",
            "top": null,
            "grid_column": null,
            "overflow_y": null,
            "overflow_x": null,
            "grid_auto_flow": null,
            "grid_area": null,
            "grid_template_columns": null,
            "flex": null,
            "_model_name": "LayoutModel",
            "justify_items": null,
            "grid_row": null,
            "max_height": null,
            "align_content": null,
            "visibility": null,
            "align_self": null,
            "height": null,
            "min_height": null,
            "padding": null,
            "grid_auto_rows": null,
            "grid_gap": null,
            "max_width": null,
            "order": null,
            "_view_module_version": "1.2.0",
            "grid_template_areas": null,
            "object_position": null,
            "object_fit": null,
            "grid_auto_columns": null,
            "margin": null,
            "display": null,
            "left": null
          }
        },
        "5c6069c168774b4991273455df9d940a": {
          "model_module": "@jupyter-widgets/controls",
          "model_name": "HBoxModel",
          "state": {
            "_view_name": "HBoxView",
            "_dom_classes": [],
            "_model_name": "HBoxModel",
            "_view_module": "@jupyter-widgets/controls",
            "_model_module_version": "1.5.0",
            "_view_count": null,
            "_view_module_version": "1.5.0",
            "box_style": "",
            "layout": "IPY_MODEL_f351b2dd997e493bb1553182017e1a74",
            "_model_module": "@jupyter-widgets/controls",
            "children": [
              "IPY_MODEL_078508471ca14976bc5948ea1bfaab0c",
              "IPY_MODEL_b3ba232e5799431792b92f5ad29c5f26"
            ]
          }
        },
        "f351b2dd997e493bb1553182017e1a74": {
          "model_module": "@jupyter-widgets/base",
          "model_name": "LayoutModel",
          "state": {
            "_view_name": "LayoutView",
            "grid_template_rows": null,
            "right": null,
            "justify_content": null,
            "_view_module": "@jupyter-widgets/base",
            "overflow": null,
            "_model_module_version": "1.2.0",
            "_view_count": null,
            "flex_flow": null,
            "width": null,
            "min_width": null,
            "border": null,
            "align_items": null,
            "bottom": null,
            "_model_module": "@jupyter-widgets/base",
            "top": null,
            "grid_column": null,
            "overflow_y": null,
            "overflow_x": null,
            "grid_auto_flow": null,
            "grid_area": null,
            "grid_template_columns": null,
            "flex": null,
            "_model_name": "LayoutModel",
            "justify_items": null,
            "grid_row": null,
            "max_height": null,
            "align_content": null,
            "visibility": null,
            "align_self": null,
            "height": null,
            "min_height": null,
            "padding": null,
            "grid_auto_rows": null,
            "grid_gap": null,
            "max_width": null,
            "order": null,
            "_view_module_version": "1.2.0",
            "grid_template_areas": null,
            "object_position": null,
            "object_fit": null,
            "grid_auto_columns": null,
            "margin": null,
            "display": null,
            "left": null
          }
        },
        "078508471ca14976bc5948ea1bfaab0c": {
          "model_module": "@jupyter-widgets/controls",
          "model_name": "FloatProgressModel",
          "state": {
            "_view_name": "ProgressView",
            "style": "IPY_MODEL_c61dca1d94db47faa2ed30d2224dde3a",
            "_dom_classes": [],
            "description": "",
            "_model_name": "FloatProgressModel",
            "bar_style": "success",
            "max": 1,
            "_view_module": "@jupyter-widgets/controls",
            "_model_module_version": "1.5.0",
            "value": 1,
            "_view_count": null,
            "_view_module_version": "1.5.0",
            "orientation": "horizontal",
            "min": 0,
            "description_tooltip": null,
            "_model_module": "@jupyter-widgets/controls",
            "layout": "IPY_MODEL_2f1200c305544818beff5f87247e09b1"
          }
        },
        "b3ba232e5799431792b92f5ad29c5f26": {
          "model_module": "@jupyter-widgets/controls",
          "model_name": "HTMLModel",
          "state": {
            "_view_name": "HTMLView",
            "style": "IPY_MODEL_5030dbd160d8411cbdd837abf3ab441b",
            "_dom_classes": [],
            "description": "",
            "_model_name": "HTMLModel",
            "placeholder": "​",
            "_view_module": "@jupyter-widgets/controls",
            "_model_module_version": "1.5.0",
            "value": " 3808/? [00:03&lt;00:00, 1182.52it/s]",
            "_view_count": null,
            "_view_module_version": "1.5.0",
            "description_tooltip": null,
            "_model_module": "@jupyter-widgets/controls",
            "layout": "IPY_MODEL_ff5b56ffcb4e4086aa7acd56f6a9e8c0"
          }
        },
        "c61dca1d94db47faa2ed30d2224dde3a": {
          "model_module": "@jupyter-widgets/controls",
          "model_name": "ProgressStyleModel",
          "state": {
            "_view_name": "StyleView",
            "_model_name": "ProgressStyleModel",
            "description_width": "initial",
            "_view_module": "@jupyter-widgets/base",
            "_model_module_version": "1.5.0",
            "_view_count": null,
            "_view_module_version": "1.2.0",
            "bar_color": null,
            "_model_module": "@jupyter-widgets/controls"
          }
        },
        "2f1200c305544818beff5f87247e09b1": {
          "model_module": "@jupyter-widgets/base",
          "model_name": "LayoutModel",
          "state": {
            "_view_name": "LayoutView",
            "grid_template_rows": null,
            "right": null,
            "justify_content": null,
            "_view_module": "@jupyter-widgets/base",
            "overflow": null,
            "_model_module_version": "1.2.0",
            "_view_count": null,
            "flex_flow": null,
            "width": null,
            "min_width": null,
            "border": null,
            "align_items": null,
            "bottom": null,
            "_model_module": "@jupyter-widgets/base",
            "top": null,
            "grid_column": null,
            "overflow_y": null,
            "overflow_x": null,
            "grid_auto_flow": null,
            "grid_area": null,
            "grid_template_columns": null,
            "flex": null,
            "_model_name": "LayoutModel",
            "justify_items": null,
            "grid_row": null,
            "max_height": null,
            "align_content": null,
            "visibility": null,
            "align_self": null,
            "height": null,
            "min_height": null,
            "padding": null,
            "grid_auto_rows": null,
            "grid_gap": null,
            "max_width": null,
            "order": null,
            "_view_module_version": "1.2.0",
            "grid_template_areas": null,
            "object_position": null,
            "object_fit": null,
            "grid_auto_columns": null,
            "margin": null,
            "display": null,
            "left": null
          }
        },
        "5030dbd160d8411cbdd837abf3ab441b": {
          "model_module": "@jupyter-widgets/controls",
          "model_name": "DescriptionStyleModel",
          "state": {
            "_view_name": "StyleView",
            "_model_name": "DescriptionStyleModel",
            "description_width": "",
            "_view_module": "@jupyter-widgets/base",
            "_model_module_version": "1.5.0",
            "_view_count": null,
            "_view_module_version": "1.2.0",
            "_model_module": "@jupyter-widgets/controls"
          }
        },
        "ff5b56ffcb4e4086aa7acd56f6a9e8c0": {
          "model_module": "@jupyter-widgets/base",
          "model_name": "LayoutModel",
          "state": {
            "_view_name": "LayoutView",
            "grid_template_rows": null,
            "right": null,
            "justify_content": null,
            "_view_module": "@jupyter-widgets/base",
            "overflow": null,
            "_model_module_version": "1.2.0",
            "_view_count": null,
            "flex_flow": null,
            "width": null,
            "min_width": null,
            "border": null,
            "align_items": null,
            "bottom": null,
            "_model_module": "@jupyter-widgets/base",
            "top": null,
            "grid_column": null,
            "overflow_y": null,
            "overflow_x": null,
            "grid_auto_flow": null,
            "grid_area": null,
            "grid_template_columns": null,
            "flex": null,
            "_model_name": "LayoutModel",
            "justify_items": null,
            "grid_row": null,
            "max_height": null,
            "align_content": null,
            "visibility": null,
            "align_self": null,
            "height": null,
            "min_height": null,
            "padding": null,
            "grid_auto_rows": null,
            "grid_gap": null,
            "max_width": null,
            "order": null,
            "_view_module_version": "1.2.0",
            "grid_template_areas": null,
            "object_position": null,
            "object_fit": null,
            "grid_auto_columns": null,
            "margin": null,
            "display": null,
            "left": null
          }
        },
        "4e8617012fe349d78c3cae2ecccb975d": {
          "model_module": "@jupyter-widgets/controls",
          "model_name": "HBoxModel",
          "state": {
            "_view_name": "HBoxView",
            "_dom_classes": [],
            "_model_name": "HBoxModel",
            "_view_module": "@jupyter-widgets/controls",
            "_model_module_version": "1.5.0",
            "_view_count": null,
            "_view_module_version": "1.5.0",
            "box_style": "",
            "layout": "IPY_MODEL_a19c2d260ba042edb26416e4a1de4d80",
            "_model_module": "@jupyter-widgets/controls",
            "children": [
              "IPY_MODEL_49ffbc5fbe5843a3a2077b349243fa0c",
              "IPY_MODEL_e45c81e7a2274a2b8faf388805d6c0b1"
            ]
          }
        },
        "a19c2d260ba042edb26416e4a1de4d80": {
          "model_module": "@jupyter-widgets/base",
          "model_name": "LayoutModel",
          "state": {
            "_view_name": "LayoutView",
            "grid_template_rows": null,
            "right": null,
            "justify_content": null,
            "_view_module": "@jupyter-widgets/base",
            "overflow": null,
            "_model_module_version": "1.2.0",
            "_view_count": null,
            "flex_flow": null,
            "width": null,
            "min_width": null,
            "border": null,
            "align_items": null,
            "bottom": null,
            "_model_module": "@jupyter-widgets/base",
            "top": null,
            "grid_column": null,
            "overflow_y": null,
            "overflow_x": null,
            "grid_auto_flow": null,
            "grid_area": null,
            "grid_template_columns": null,
            "flex": null,
            "_model_name": "LayoutModel",
            "justify_items": null,
            "grid_row": null,
            "max_height": null,
            "align_content": null,
            "visibility": null,
            "align_self": null,
            "height": null,
            "min_height": null,
            "padding": null,
            "grid_auto_rows": null,
            "grid_gap": null,
            "max_width": null,
            "order": null,
            "_view_module_version": "1.2.0",
            "grid_template_areas": null,
            "object_position": null,
            "object_fit": null,
            "grid_auto_columns": null,
            "margin": null,
            "display": null,
            "left": null
          }
        },
        "49ffbc5fbe5843a3a2077b349243fa0c": {
          "model_module": "@jupyter-widgets/controls",
          "model_name": "FloatProgressModel",
          "state": {
            "_view_name": "ProgressView",
            "style": "IPY_MODEL_a33aba7f602c4449a3fa67ca53ef7a98",
            "_dom_classes": [],
            "description": "Downloading: 100%",
            "_model_name": "FloatProgressModel",
            "bar_style": "success",
            "max": 629,
            "_view_module": "@jupyter-widgets/controls",
            "_model_module_version": "1.5.0",
            "value": 629,
            "_view_count": null,
            "_view_module_version": "1.5.0",
            "orientation": "horizontal",
            "min": 0,
            "description_tooltip": null,
            "_model_module": "@jupyter-widgets/controls",
            "layout": "IPY_MODEL_d09a393b4a334f939187d74aeb2c45b7"
          }
        },
        "e45c81e7a2274a2b8faf388805d6c0b1": {
          "model_module": "@jupyter-widgets/controls",
          "model_name": "HTMLModel",
          "state": {
            "_view_name": "HTMLView",
            "style": "IPY_MODEL_579b45ade9c64fe48b4300e70789e8b0",
            "_dom_classes": [],
            "description": "",
            "_model_name": "HTMLModel",
            "placeholder": "​",
            "_view_module": "@jupyter-widgets/controls",
            "_model_module_version": "1.5.0",
            "value": " 629/629 [00:00&lt;00:00, 1.24kB/s]",
            "_view_count": null,
            "_view_module_version": "1.5.0",
            "description_tooltip": null,
            "_model_module": "@jupyter-widgets/controls",
            "layout": "IPY_MODEL_470455c860c0414a8719f9320353802e"
          }
        },
        "a33aba7f602c4449a3fa67ca53ef7a98": {
          "model_module": "@jupyter-widgets/controls",
          "model_name": "ProgressStyleModel",
          "state": {
            "_view_name": "StyleView",
            "_model_name": "ProgressStyleModel",
            "description_width": "initial",
            "_view_module": "@jupyter-widgets/base",
            "_model_module_version": "1.5.0",
            "_view_count": null,
            "_view_module_version": "1.2.0",
            "bar_color": null,
            "_model_module": "@jupyter-widgets/controls"
          }
        },
        "d09a393b4a334f939187d74aeb2c45b7": {
          "model_module": "@jupyter-widgets/base",
          "model_name": "LayoutModel",
          "state": {
            "_view_name": "LayoutView",
            "grid_template_rows": null,
            "right": null,
            "justify_content": null,
            "_view_module": "@jupyter-widgets/base",
            "overflow": null,
            "_model_module_version": "1.2.0",
            "_view_count": null,
            "flex_flow": null,
            "width": null,
            "min_width": null,
            "border": null,
            "align_items": null,
            "bottom": null,
            "_model_module": "@jupyter-widgets/base",
            "top": null,
            "grid_column": null,
            "overflow_y": null,
            "overflow_x": null,
            "grid_auto_flow": null,
            "grid_area": null,
            "grid_template_columns": null,
            "flex": null,
            "_model_name": "LayoutModel",
            "justify_items": null,
            "grid_row": null,
            "max_height": null,
            "align_content": null,
            "visibility": null,
            "align_self": null,
            "height": null,
            "min_height": null,
            "padding": null,
            "grid_auto_rows": null,
            "grid_gap": null,
            "max_width": null,
            "order": null,
            "_view_module_version": "1.2.0",
            "grid_template_areas": null,
            "object_position": null,
            "object_fit": null,
            "grid_auto_columns": null,
            "margin": null,
            "display": null,
            "left": null
          }
        },
        "579b45ade9c64fe48b4300e70789e8b0": {
          "model_module": "@jupyter-widgets/controls",
          "model_name": "DescriptionStyleModel",
          "state": {
            "_view_name": "StyleView",
            "_model_name": "DescriptionStyleModel",
            "description_width": "",
            "_view_module": "@jupyter-widgets/base",
            "_model_module_version": "1.5.0",
            "_view_count": null,
            "_view_module_version": "1.2.0",
            "_model_module": "@jupyter-widgets/controls"
          }
        },
        "470455c860c0414a8719f9320353802e": {
          "model_module": "@jupyter-widgets/base",
          "model_name": "LayoutModel",
          "state": {
            "_view_name": "LayoutView",
            "grid_template_rows": null,
            "right": null,
            "justify_content": null,
            "_view_module": "@jupyter-widgets/base",
            "overflow": null,
            "_model_module_version": "1.2.0",
            "_view_count": null,
            "flex_flow": null,
            "width": null,
            "min_width": null,
            "border": null,
            "align_items": null,
            "bottom": null,
            "_model_module": "@jupyter-widgets/base",
            "top": null,
            "grid_column": null,
            "overflow_y": null,
            "overflow_x": null,
            "grid_auto_flow": null,
            "grid_area": null,
            "grid_template_columns": null,
            "flex": null,
            "_model_name": "LayoutModel",
            "justify_items": null,
            "grid_row": null,
            "max_height": null,
            "align_content": null,
            "visibility": null,
            "align_self": null,
            "height": null,
            "min_height": null,
            "padding": null,
            "grid_auto_rows": null,
            "grid_gap": null,
            "max_width": null,
            "order": null,
            "_view_module_version": "1.2.0",
            "grid_template_areas": null,
            "object_position": null,
            "object_fit": null,
            "grid_auto_columns": null,
            "margin": null,
            "display": null,
            "left": null
          }
        },
        "9512301dc2c840a992a9c6abd18712dd": {
          "model_module": "@jupyter-widgets/controls",
          "model_name": "HBoxModel",
          "state": {
            "_view_name": "HBoxView",
            "_dom_classes": [],
            "_model_name": "HBoxModel",
            "_view_module": "@jupyter-widgets/controls",
            "_model_module_version": "1.5.0",
            "_view_count": null,
            "_view_module_version": "1.5.0",
            "box_style": "",
            "layout": "IPY_MODEL_8bda47e6e8224968802bf3a26a5d7262",
            "_model_module": "@jupyter-widgets/controls",
            "children": [
              "IPY_MODEL_b6a1e7c0b7db44c7a8b908fca2cd96e0",
              "IPY_MODEL_f41b8dc4e1f845e4b9014e1f7b080a74"
            ]
          }
        },
        "8bda47e6e8224968802bf3a26a5d7262": {
          "model_module": "@jupyter-widgets/base",
          "model_name": "LayoutModel",
          "state": {
            "_view_name": "LayoutView",
            "grid_template_rows": null,
            "right": null,
            "justify_content": null,
            "_view_module": "@jupyter-widgets/base",
            "overflow": null,
            "_model_module_version": "1.2.0",
            "_view_count": null,
            "flex_flow": null,
            "width": null,
            "min_width": null,
            "border": null,
            "align_items": null,
            "bottom": null,
            "_model_module": "@jupyter-widgets/base",
            "top": null,
            "grid_column": null,
            "overflow_y": null,
            "overflow_x": null,
            "grid_auto_flow": null,
            "grid_area": null,
            "grid_template_columns": null,
            "flex": null,
            "_model_name": "LayoutModel",
            "justify_items": null,
            "grid_row": null,
            "max_height": null,
            "align_content": null,
            "visibility": null,
            "align_self": null,
            "height": null,
            "min_height": null,
            "padding": null,
            "grid_auto_rows": null,
            "grid_gap": null,
            "max_width": null,
            "order": null,
            "_view_module_version": "1.2.0",
            "grid_template_areas": null,
            "object_position": null,
            "object_fit": null,
            "grid_auto_columns": null,
            "margin": null,
            "display": null,
            "left": null
          }
        },
        "b6a1e7c0b7db44c7a8b908fca2cd96e0": {
          "model_module": "@jupyter-widgets/controls",
          "model_name": "FloatProgressModel",
          "state": {
            "_view_name": "ProgressView",
            "style": "IPY_MODEL_699d1452244c49a99bf8a0c8dcbd7446",
            "_dom_classes": [],
            "description": "Downloading: 100%",
            "_model_name": "FloatProgressModel",
            "bar_style": "success",
            "max": 267844284,
            "_view_module": "@jupyter-widgets/controls",
            "_model_module_version": "1.5.0",
            "value": 267844284,
            "_view_count": null,
            "_view_module_version": "1.5.0",
            "orientation": "horizontal",
            "min": 0,
            "description_tooltip": null,
            "_model_module": "@jupyter-widgets/controls",
            "layout": "IPY_MODEL_b1be78b1386c448391f00037ac09396c"
          }
        },
        "f41b8dc4e1f845e4b9014e1f7b080a74": {
          "model_module": "@jupyter-widgets/controls",
          "model_name": "HTMLModel",
          "state": {
            "_view_name": "HTMLView",
            "style": "IPY_MODEL_998fd8f4a6af4cd28a21d42bf2cc8386",
            "_dom_classes": [],
            "description": "",
            "_model_name": "HTMLModel",
            "placeholder": "​",
            "_view_module": "@jupyter-widgets/controls",
            "_model_module_version": "1.5.0",
            "value": " 268M/268M [00:10&lt;00:00, 26.3MB/s]",
            "_view_count": null,
            "_view_module_version": "1.5.0",
            "description_tooltip": null,
            "_model_module": "@jupyter-widgets/controls",
            "layout": "IPY_MODEL_5b08cbf9ec464afe8c1045bf1c1a45b8"
          }
        },
        "699d1452244c49a99bf8a0c8dcbd7446": {
          "model_module": "@jupyter-widgets/controls",
          "model_name": "ProgressStyleModel",
          "state": {
            "_view_name": "StyleView",
            "_model_name": "ProgressStyleModel",
            "description_width": "initial",
            "_view_module": "@jupyter-widgets/base",
            "_model_module_version": "1.5.0",
            "_view_count": null,
            "_view_module_version": "1.2.0",
            "bar_color": null,
            "_model_module": "@jupyter-widgets/controls"
          }
        },
        "b1be78b1386c448391f00037ac09396c": {
          "model_module": "@jupyter-widgets/base",
          "model_name": "LayoutModel",
          "state": {
            "_view_name": "LayoutView",
            "grid_template_rows": null,
            "right": null,
            "justify_content": null,
            "_view_module": "@jupyter-widgets/base",
            "overflow": null,
            "_model_module_version": "1.2.0",
            "_view_count": null,
            "flex_flow": null,
            "width": null,
            "min_width": null,
            "border": null,
            "align_items": null,
            "bottom": null,
            "_model_module": "@jupyter-widgets/base",
            "top": null,
            "grid_column": null,
            "overflow_y": null,
            "overflow_x": null,
            "grid_auto_flow": null,
            "grid_area": null,
            "grid_template_columns": null,
            "flex": null,
            "_model_name": "LayoutModel",
            "justify_items": null,
            "grid_row": null,
            "max_height": null,
            "align_content": null,
            "visibility": null,
            "align_self": null,
            "height": null,
            "min_height": null,
            "padding": null,
            "grid_auto_rows": null,
            "grid_gap": null,
            "max_width": null,
            "order": null,
            "_view_module_version": "1.2.0",
            "grid_template_areas": null,
            "object_position": null,
            "object_fit": null,
            "grid_auto_columns": null,
            "margin": null,
            "display": null,
            "left": null
          }
        },
        "998fd8f4a6af4cd28a21d42bf2cc8386": {
          "model_module": "@jupyter-widgets/controls",
          "model_name": "DescriptionStyleModel",
          "state": {
            "_view_name": "StyleView",
            "_model_name": "DescriptionStyleModel",
            "description_width": "",
            "_view_module": "@jupyter-widgets/base",
            "_model_module_version": "1.5.0",
            "_view_count": null,
            "_view_module_version": "1.2.0",
            "_model_module": "@jupyter-widgets/controls"
          }
        },
        "5b08cbf9ec464afe8c1045bf1c1a45b8": {
          "model_module": "@jupyter-widgets/base",
          "model_name": "LayoutModel",
          "state": {
            "_view_name": "LayoutView",
            "grid_template_rows": null,
            "right": null,
            "justify_content": null,
            "_view_module": "@jupyter-widgets/base",
            "overflow": null,
            "_model_module_version": "1.2.0",
            "_view_count": null,
            "flex_flow": null,
            "width": null,
            "min_width": null,
            "border": null,
            "align_items": null,
            "bottom": null,
            "_model_module": "@jupyter-widgets/base",
            "top": null,
            "grid_column": null,
            "overflow_y": null,
            "overflow_x": null,
            "grid_auto_flow": null,
            "grid_area": null,
            "grid_template_columns": null,
            "flex": null,
            "_model_name": "LayoutModel",
            "justify_items": null,
            "grid_row": null,
            "max_height": null,
            "align_content": null,
            "visibility": null,
            "align_self": null,
            "height": null,
            "min_height": null,
            "padding": null,
            "grid_auto_rows": null,
            "grid_gap": null,
            "max_width": null,
            "order": null,
            "_view_module_version": "1.2.0",
            "grid_template_areas": null,
            "object_position": null,
            "object_fit": null,
            "grid_auto_columns": null,
            "margin": null,
            "display": null,
            "left": null
          }
        },
        "3ead7db351ef471dbd7edf8c3f52a7fa": {
          "model_module": "@jupyter-widgets/controls",
          "model_name": "HBoxModel",
          "state": {
            "_view_name": "HBoxView",
            "_dom_classes": [],
            "_model_name": "HBoxModel",
            "_view_module": "@jupyter-widgets/controls",
            "_model_module_version": "1.5.0",
            "_view_count": null,
            "_view_module_version": "1.5.0",
            "box_style": "",
            "layout": "IPY_MODEL_db66e3b8c0eb48b391d56027b4753a43",
            "_model_module": "@jupyter-widgets/controls",
            "children": [
              "IPY_MODEL_c4e9c8a37dcb4c02bf655a74be770a96",
              "IPY_MODEL_2f6f1b18e2364c00b9ff38331457eea1"
            ]
          }
        },
        "db66e3b8c0eb48b391d56027b4753a43": {
          "model_module": "@jupyter-widgets/base",
          "model_name": "LayoutModel",
          "state": {
            "_view_name": "LayoutView",
            "grid_template_rows": null,
            "right": null,
            "justify_content": null,
            "_view_module": "@jupyter-widgets/base",
            "overflow": null,
            "_model_module_version": "1.2.0",
            "_view_count": null,
            "flex_flow": null,
            "width": null,
            "min_width": null,
            "border": null,
            "align_items": null,
            "bottom": null,
            "_model_module": "@jupyter-widgets/base",
            "top": null,
            "grid_column": null,
            "overflow_y": null,
            "overflow_x": null,
            "grid_auto_flow": null,
            "grid_area": null,
            "grid_template_columns": null,
            "flex": null,
            "_model_name": "LayoutModel",
            "justify_items": null,
            "grid_row": null,
            "max_height": null,
            "align_content": null,
            "visibility": null,
            "align_self": null,
            "height": null,
            "min_height": null,
            "padding": null,
            "grid_auto_rows": null,
            "grid_gap": null,
            "max_width": null,
            "order": null,
            "_view_module_version": "1.2.0",
            "grid_template_areas": null,
            "object_position": null,
            "object_fit": null,
            "grid_auto_columns": null,
            "margin": null,
            "display": null,
            "left": null
          }
        },
        "c4e9c8a37dcb4c02bf655a74be770a96": {
          "model_module": "@jupyter-widgets/controls",
          "model_name": "FloatProgressModel",
          "state": {
            "_view_name": "ProgressView",
            "style": "IPY_MODEL_5c6464498de64f6a9e3753bc4c5572dc",
            "_dom_classes": [],
            "description": "Downloading: 100%",
            "_model_name": "FloatProgressModel",
            "bar_style": "success",
            "max": 231508,
            "_view_module": "@jupyter-widgets/controls",
            "_model_module_version": "1.5.0",
            "value": 231508,
            "_view_count": null,
            "_view_module_version": "1.5.0",
            "orientation": "horizontal",
            "min": 0,
            "description_tooltip": null,
            "_model_module": "@jupyter-widgets/controls",
            "layout": "IPY_MODEL_7c4dd43864ad43d896588a25b099c2e2"
          }
        },
        "2f6f1b18e2364c00b9ff38331457eea1": {
          "model_module": "@jupyter-widgets/controls",
          "model_name": "HTMLModel",
          "state": {
            "_view_name": "HTMLView",
            "style": "IPY_MODEL_7ff283a2c6134f03ba5f93be8dc64d7d",
            "_dom_classes": [],
            "description": "",
            "_model_name": "HTMLModel",
            "placeholder": "​",
            "_view_module": "@jupyter-widgets/controls",
            "_model_module_version": "1.5.0",
            "value": " 232k/232k [00:01&lt;00:00, 162kB/s]",
            "_view_count": null,
            "_view_module_version": "1.5.0",
            "description_tooltip": null,
            "_model_module": "@jupyter-widgets/controls",
            "layout": "IPY_MODEL_c64f11f6c3bf453783ae0256a98f5494"
          }
        },
        "5c6464498de64f6a9e3753bc4c5572dc": {
          "model_module": "@jupyter-widgets/controls",
          "model_name": "ProgressStyleModel",
          "state": {
            "_view_name": "StyleView",
            "_model_name": "ProgressStyleModel",
            "description_width": "initial",
            "_view_module": "@jupyter-widgets/base",
            "_model_module_version": "1.5.0",
            "_view_count": null,
            "_view_module_version": "1.2.0",
            "bar_color": null,
            "_model_module": "@jupyter-widgets/controls"
          }
        },
        "7c4dd43864ad43d896588a25b099c2e2": {
          "model_module": "@jupyter-widgets/base",
          "model_name": "LayoutModel",
          "state": {
            "_view_name": "LayoutView",
            "grid_template_rows": null,
            "right": null,
            "justify_content": null,
            "_view_module": "@jupyter-widgets/base",
            "overflow": null,
            "_model_module_version": "1.2.0",
            "_view_count": null,
            "flex_flow": null,
            "width": null,
            "min_width": null,
            "border": null,
            "align_items": null,
            "bottom": null,
            "_model_module": "@jupyter-widgets/base",
            "top": null,
            "grid_column": null,
            "overflow_y": null,
            "overflow_x": null,
            "grid_auto_flow": null,
            "grid_area": null,
            "grid_template_columns": null,
            "flex": null,
            "_model_name": "LayoutModel",
            "justify_items": null,
            "grid_row": null,
            "max_height": null,
            "align_content": null,
            "visibility": null,
            "align_self": null,
            "height": null,
            "min_height": null,
            "padding": null,
            "grid_auto_rows": null,
            "grid_gap": null,
            "max_width": null,
            "order": null,
            "_view_module_version": "1.2.0",
            "grid_template_areas": null,
            "object_position": null,
            "object_fit": null,
            "grid_auto_columns": null,
            "margin": null,
            "display": null,
            "left": null
          }
        },
        "7ff283a2c6134f03ba5f93be8dc64d7d": {
          "model_module": "@jupyter-widgets/controls",
          "model_name": "DescriptionStyleModel",
          "state": {
            "_view_name": "StyleView",
            "_model_name": "DescriptionStyleModel",
            "description_width": "",
            "_view_module": "@jupyter-widgets/base",
            "_model_module_version": "1.5.0",
            "_view_count": null,
            "_view_module_version": "1.2.0",
            "_model_module": "@jupyter-widgets/controls"
          }
        },
        "c64f11f6c3bf453783ae0256a98f5494": {
          "model_module": "@jupyter-widgets/base",
          "model_name": "LayoutModel",
          "state": {
            "_view_name": "LayoutView",
            "grid_template_rows": null,
            "right": null,
            "justify_content": null,
            "_view_module": "@jupyter-widgets/base",
            "overflow": null,
            "_model_module_version": "1.2.0",
            "_view_count": null,
            "flex_flow": null,
            "width": null,
            "min_width": null,
            "border": null,
            "align_items": null,
            "bottom": null,
            "_model_module": "@jupyter-widgets/base",
            "top": null,
            "grid_column": null,
            "overflow_y": null,
            "overflow_x": null,
            "grid_auto_flow": null,
            "grid_area": null,
            "grid_template_columns": null,
            "flex": null,
            "_model_name": "LayoutModel",
            "justify_items": null,
            "grid_row": null,
            "max_height": null,
            "align_content": null,
            "visibility": null,
            "align_self": null,
            "height": null,
            "min_height": null,
            "padding": null,
            "grid_auto_rows": null,
            "grid_gap": null,
            "max_width": null,
            "order": null,
            "_view_module_version": "1.2.0",
            "grid_template_areas": null,
            "object_position": null,
            "object_fit": null,
            "grid_auto_columns": null,
            "margin": null,
            "display": null,
            "left": null
          }
        },
        "89b13b01d1644235a764449f723c5311": {
          "model_module": "@jupyter-widgets/controls",
          "model_name": "HBoxModel",
          "state": {
            "_view_name": "HBoxView",
            "_dom_classes": [],
            "_model_name": "HBoxModel",
            "_view_module": "@jupyter-widgets/controls",
            "_model_module_version": "1.5.0",
            "_view_count": null,
            "_view_module_version": "1.5.0",
            "box_style": "",
            "layout": "IPY_MODEL_9948978e7e184b0b84de9c96d887c90b",
            "_model_module": "@jupyter-widgets/controls",
            "children": [
              "IPY_MODEL_5ad2d9b5c6fc4ccaa6b6171f778bb94f",
              "IPY_MODEL_21c669717ecb4201a6bf2446b07f4325"
            ]
          }
        },
        "9948978e7e184b0b84de9c96d887c90b": {
          "model_module": "@jupyter-widgets/base",
          "model_name": "LayoutModel",
          "state": {
            "_view_name": "LayoutView",
            "grid_template_rows": null,
            "right": null,
            "justify_content": null,
            "_view_module": "@jupyter-widgets/base",
            "overflow": null,
            "_model_module_version": "1.2.0",
            "_view_count": null,
            "flex_flow": null,
            "width": null,
            "min_width": null,
            "border": null,
            "align_items": null,
            "bottom": null,
            "_model_module": "@jupyter-widgets/base",
            "top": null,
            "grid_column": null,
            "overflow_y": null,
            "overflow_x": null,
            "grid_auto_flow": null,
            "grid_area": null,
            "grid_template_columns": null,
            "flex": null,
            "_model_name": "LayoutModel",
            "justify_items": null,
            "grid_row": null,
            "max_height": null,
            "align_content": null,
            "visibility": null,
            "align_self": null,
            "height": null,
            "min_height": null,
            "padding": null,
            "grid_auto_rows": null,
            "grid_gap": null,
            "max_width": null,
            "order": null,
            "_view_module_version": "1.2.0",
            "grid_template_areas": null,
            "object_position": null,
            "object_fit": null,
            "grid_auto_columns": null,
            "margin": null,
            "display": null,
            "left": null
          }
        },
        "5ad2d9b5c6fc4ccaa6b6171f778bb94f": {
          "model_module": "@jupyter-widgets/controls",
          "model_name": "FloatProgressModel",
          "state": {
            "_view_name": "ProgressView",
            "style": "IPY_MODEL_fbcc9c96ed3d4b1bad92b28b5ce87b5c",
            "_dom_classes": [],
            "description": "Downloading: 100%",
            "_model_name": "FloatProgressModel",
            "bar_style": "success",
            "max": 48,
            "_view_module": "@jupyter-widgets/controls",
            "_model_module_version": "1.5.0",
            "value": 48,
            "_view_count": null,
            "_view_module_version": "1.5.0",
            "orientation": "horizontal",
            "min": 0,
            "description_tooltip": null,
            "_model_module": "@jupyter-widgets/controls",
            "layout": "IPY_MODEL_8e8ec955e16849a1962fd97afcf54cba"
          }
        },
        "21c669717ecb4201a6bf2446b07f4325": {
          "model_module": "@jupyter-widgets/controls",
          "model_name": "HTMLModel",
          "state": {
            "_view_name": "HTMLView",
            "style": "IPY_MODEL_5aa2e6b322304d9f8c4dd522913ea094",
            "_dom_classes": [],
            "description": "",
            "_model_name": "HTMLModel",
            "placeholder": "​",
            "_view_module": "@jupyter-widgets/controls",
            "_model_module_version": "1.5.0",
            "value": " 48.0/48.0 [00:00&lt;00:00, 433B/s]",
            "_view_count": null,
            "_view_module_version": "1.5.0",
            "description_tooltip": null,
            "_model_module": "@jupyter-widgets/controls",
            "layout": "IPY_MODEL_154c95f5db6b452f9ef99ed6e0ffc725"
          }
        },
        "fbcc9c96ed3d4b1bad92b28b5ce87b5c": {
          "model_module": "@jupyter-widgets/controls",
          "model_name": "ProgressStyleModel",
          "state": {
            "_view_name": "StyleView",
            "_model_name": "ProgressStyleModel",
            "description_width": "initial",
            "_view_module": "@jupyter-widgets/base",
            "_model_module_version": "1.5.0",
            "_view_count": null,
            "_view_module_version": "1.2.0",
            "bar_color": null,
            "_model_module": "@jupyter-widgets/controls"
          }
        },
        "8e8ec955e16849a1962fd97afcf54cba": {
          "model_module": "@jupyter-widgets/base",
          "model_name": "LayoutModel",
          "state": {
            "_view_name": "LayoutView",
            "grid_template_rows": null,
            "right": null,
            "justify_content": null,
            "_view_module": "@jupyter-widgets/base",
            "overflow": null,
            "_model_module_version": "1.2.0",
            "_view_count": null,
            "flex_flow": null,
            "width": null,
            "min_width": null,
            "border": null,
            "align_items": null,
            "bottom": null,
            "_model_module": "@jupyter-widgets/base",
            "top": null,
            "grid_column": null,
            "overflow_y": null,
            "overflow_x": null,
            "grid_auto_flow": null,
            "grid_area": null,
            "grid_template_columns": null,
            "flex": null,
            "_model_name": "LayoutModel",
            "justify_items": null,
            "grid_row": null,
            "max_height": null,
            "align_content": null,
            "visibility": null,
            "align_self": null,
            "height": null,
            "min_height": null,
            "padding": null,
            "grid_auto_rows": null,
            "grid_gap": null,
            "max_width": null,
            "order": null,
            "_view_module_version": "1.2.0",
            "grid_template_areas": null,
            "object_position": null,
            "object_fit": null,
            "grid_auto_columns": null,
            "margin": null,
            "display": null,
            "left": null
          }
        },
        "5aa2e6b322304d9f8c4dd522913ea094": {
          "model_module": "@jupyter-widgets/controls",
          "model_name": "DescriptionStyleModel",
          "state": {
            "_view_name": "StyleView",
            "_model_name": "DescriptionStyleModel",
            "description_width": "",
            "_view_module": "@jupyter-widgets/base",
            "_model_module_version": "1.5.0",
            "_view_count": null,
            "_view_module_version": "1.2.0",
            "_model_module": "@jupyter-widgets/controls"
          }
        },
        "154c95f5db6b452f9ef99ed6e0ffc725": {
          "model_module": "@jupyter-widgets/base",
          "model_name": "LayoutModel",
          "state": {
            "_view_name": "LayoutView",
            "grid_template_rows": null,
            "right": null,
            "justify_content": null,
            "_view_module": "@jupyter-widgets/base",
            "overflow": null,
            "_model_module_version": "1.2.0",
            "_view_count": null,
            "flex_flow": null,
            "width": null,
            "min_width": null,
            "border": null,
            "align_items": null,
            "bottom": null,
            "_model_module": "@jupyter-widgets/base",
            "top": null,
            "grid_column": null,
            "overflow_y": null,
            "overflow_x": null,
            "grid_auto_flow": null,
            "grid_area": null,
            "grid_template_columns": null,
            "flex": null,
            "_model_name": "LayoutModel",
            "justify_items": null,
            "grid_row": null,
            "max_height": null,
            "align_content": null,
            "visibility": null,
            "align_self": null,
            "height": null,
            "min_height": null,
            "padding": null,
            "grid_auto_rows": null,
            "grid_gap": null,
            "max_width": null,
            "order": null,
            "_view_module_version": "1.2.0",
            "grid_template_areas": null,
            "object_position": null,
            "object_fit": null,
            "grid_auto_columns": null,
            "margin": null,
            "display": null,
            "left": null
          }
        }
      }
    }
  },
  "cells": [
    {
      "cell_type": "code",
      "metadata": {
        "colab": {
          "base_uri": "https://localhost:8080/"
        },
        "id": "omip9KRSw0PF",
        "outputId": "94b76331-ba3b-4ae9-d464-c8b58d306775"
      },
      "source": [
        "pip install transformers"
      ],
      "execution_count": null,
      "outputs": [
        {
          "output_type": "stream",
          "text": [
            "Requirement already satisfied: transformers in /usr/local/lib/python3.7/dist-packages (4.3.2)\n",
            "Requirement already satisfied: sacremoses in /usr/local/lib/python3.7/dist-packages (from transformers) (0.0.43)\n",
            "Requirement already satisfied: tqdm>=4.27 in /usr/local/lib/python3.7/dist-packages (from transformers) (4.41.1)\n",
            "Requirement already satisfied: filelock in /usr/local/lib/python3.7/dist-packages (from transformers) (3.0.12)\n",
            "Requirement already satisfied: importlib-metadata; python_version < \"3.8\" in /usr/local/lib/python3.7/dist-packages (from transformers) (3.4.0)\n",
            "Requirement already satisfied: regex!=2019.12.17 in /usr/local/lib/python3.7/dist-packages (from transformers) (2019.12.20)\n",
            "Requirement already satisfied: numpy>=1.17 in /usr/local/lib/python3.7/dist-packages (from transformers) (1.19.5)\n",
            "Requirement already satisfied: packaging in /usr/local/lib/python3.7/dist-packages (from transformers) (20.9)\n",
            "Requirement already satisfied: requests in /usr/local/lib/python3.7/dist-packages (from transformers) (2.23.0)\n",
            "Requirement already satisfied: tokenizers<0.11,>=0.10.1 in /usr/local/lib/python3.7/dist-packages (from transformers) (0.10.1)\n",
            "Requirement already satisfied: click in /usr/local/lib/python3.7/dist-packages (from sacremoses->transformers) (7.1.2)\n",
            "Requirement already satisfied: joblib in /usr/local/lib/python3.7/dist-packages (from sacremoses->transformers) (1.0.1)\n",
            "Requirement already satisfied: six in /usr/local/lib/python3.7/dist-packages (from sacremoses->transformers) (1.15.0)\n",
            "Requirement already satisfied: zipp>=0.5 in /usr/local/lib/python3.7/dist-packages (from importlib-metadata; python_version < \"3.8\"->transformers) (3.4.0)\n",
            "Requirement already satisfied: typing-extensions>=3.6.4; python_version < \"3.8\" in /usr/local/lib/python3.7/dist-packages (from importlib-metadata; python_version < \"3.8\"->transformers) (3.7.4.3)\n",
            "Requirement already satisfied: pyparsing>=2.0.2 in /usr/local/lib/python3.7/dist-packages (from packaging->transformers) (2.4.7)\n",
            "Requirement already satisfied: idna<3,>=2.5 in /usr/local/lib/python3.7/dist-packages (from requests->transformers) (2.10)\n",
            "Requirement already satisfied: urllib3!=1.25.0,!=1.25.1,<1.26,>=1.21.1 in /usr/local/lib/python3.7/dist-packages (from requests->transformers) (1.24.3)\n",
            "Requirement already satisfied: certifi>=2017.4.17 in /usr/local/lib/python3.7/dist-packages (from requests->transformers) (2020.12.5)\n",
            "Requirement already satisfied: chardet<4,>=3.0.2 in /usr/local/lib/python3.7/dist-packages (from requests->transformers) (3.0.4)\n"
          ],
          "name": "stdout"
        }
      ]
    },
    {
      "cell_type": "code",
      "metadata": {
        "colab": {
          "base_uri": "https://localhost:8080/"
        },
        "id": "qe81WXejw0PS",
        "outputId": "abd4b4f0-7bf3-4ee9-99c0-cb5ca22fa8cc"
      },
      "source": [
        "import pandas as pd\n",
        "import numpy as np\n",
        "import matplotlib.pyplot as plt\n",
        "import seaborn as sns\n",
        "import plotly.express as px\n",
        "\n",
        "import re\n",
        "pd.set_option('display.max_colwidth', None)\n",
        "import nltk\n",
        "import string\n",
        "nltk.download('stopwords')\n",
        "nltk.download('averaged_perceptron_tagger')\n",
        "nltk.download('wordnet')\n",
        "nltk.download('punkt')\n",
        "from nltk.tokenize import word_tokenize\n",
        "from nltk.stem import WordNetLemmatizer\n",
        "from nltk.probability import FreqDist\n",
        "from wordcloud import WordCloud, ImageColorGenerator\n",
        "from collections import Counter\n",
        "from sklearn.feature_extraction.text import CountVectorizer\n",
        "from sklearn.decomposition import LatentDirichletAllocation, NMF\n",
        "from nltk.corpus import stopwords\n",
        "from nltk.corpus import wordnet\n",
        "\n",
        "from sklearn.ensemble import RandomForestClassifier\n",
        "from sklearn.svm import LinearSVC\n",
        "from sklearn.linear_model import LogisticRegression\n",
        "from sklearn.preprocessing import StandardScaler\n",
        "from sklearn.pipeline import make_pipeline\n",
        "from sklearn.ensemble import StackingClassifier\n",
        "from sklearn.model_selection import train_test_split, cross_val_score\n",
        "from sklearn.metrics import (plot_roc_curve, plot_precision_recall_curve, \n",
        "                             classification_report, plot_confusion_matrix, \n",
        "                             roc_curve, roc_auc_score, recall_score, precision_recall_curve)\n",
        "\n",
        "from transformers import pipeline\n",
        "\n",
        "import pickle\n",
        "\n",
        "from tqdm.notebook import tqdm\n",
        "import warnings\n",
        "warnings.simplefilter(action='ignore')"
      ],
      "execution_count": 127,
      "outputs": [
        {
          "output_type": "stream",
          "text": [
            "[nltk_data] Downloading package stopwords to /root/nltk_data...\n",
            "[nltk_data]   Package stopwords is already up-to-date!\n",
            "[nltk_data] Downloading package averaged_perceptron_tagger to\n",
            "[nltk_data]     /root/nltk_data...\n",
            "[nltk_data]   Package averaged_perceptron_tagger is already up-to-\n",
            "[nltk_data]       date!\n",
            "[nltk_data] Downloading package wordnet to /root/nltk_data...\n",
            "[nltk_data]   Package wordnet is already up-to-date!\n",
            "[nltk_data] Downloading package punkt to /root/nltk_data...\n",
            "[nltk_data]   Package punkt is already up-to-date!\n"
          ],
          "name": "stdout"
        }
      ]
    },
    {
      "cell_type": "code",
      "metadata": {
        "id": "1LZt2migGIFj"
      },
      "source": [
        "pd.set_option('display.max_row', None)\n",
        "pd.set_option('display.max_columns', None)"
      ],
      "execution_count": null,
      "outputs": []
    },
    {
      "cell_type": "markdown",
      "metadata": {
        "id": "itXrjlF4w0PX"
      },
      "source": [
        "## read csv"
      ]
    },
    {
      "cell_type": "code",
      "metadata": {
        "id": "uxdOWNGlw0PZ"
      },
      "source": [
        "df = pd.read_csv('pos_and_neg_tweets_balanced_final.csv')"
      ],
      "execution_count": null,
      "outputs": []
    },
    {
      "cell_type": "code",
      "metadata": {
        "colab": {
          "base_uri": "https://localhost:8080/",
          "height": 938
        },
        "id": "pPdje51Iw0PZ",
        "outputId": "416437ad-a2f0-4176-d1c7-0b93bb378b82"
      },
      "source": [
        "df.sample(5)"
      ],
      "execution_count": null,
      "outputs": [
        {
          "output_type": "execute_result",
          "data": {
            "text/html": [
              "<div>\n",
              "<style scoped>\n",
              "    .dataframe tbody tr th:only-of-type {\n",
              "        vertical-align: middle;\n",
              "    }\n",
              "\n",
              "    .dataframe tbody tr th {\n",
              "        vertical-align: top;\n",
              "    }\n",
              "\n",
              "    .dataframe thead th {\n",
              "        text-align: right;\n",
              "    }\n",
              "</style>\n",
              "<table border=\"1\" class=\"dataframe\">\n",
              "  <thead>\n",
              "    <tr style=\"text-align: right;\">\n",
              "      <th></th>\n",
              "      <th>Unnamed: 0</th>\n",
              "      <th>Unnamed: 0.1</th>\n",
              "      <th>user_name</th>\n",
              "      <th>user_location</th>\n",
              "      <th>user_description</th>\n",
              "      <th>user_created</th>\n",
              "      <th>user_followers</th>\n",
              "      <th>date</th>\n",
              "      <th>text</th>\n",
              "      <th>favorites</th>\n",
              "      <th>retweets</th>\n",
              "      <th>is_retweet</th>\n",
              "      <th>category</th>\n",
              "      <th>user_location_updated</th>\n",
              "      <th>user-country_code</th>\n",
              "      <th>user-country</th>\n",
              "    </tr>\n",
              "  </thead>\n",
              "  <tbody>\n",
              "    <tr>\n",
              "      <th>35063</th>\n",
              "      <td>35063</td>\n",
              "      <td>35063</td>\n",
              "      <td>Marta12809119</td>\n",
              "      <td>NaN</td>\n",
              "      <td>NaN</td>\n",
              "      <td>2018-06-07 13:09:14</td>\n",
              "      <td>38</td>\n",
              "      <td>2021-01-21 20:38:06</td>\n",
              "      <td>RT @vbaileyactor: No, not antivaxx. All my kids were vaccinated. Asking questions about a brand new vaccination with a few areas of potenti…</td>\n",
              "      <td>0</td>\n",
              "      <td>95</td>\n",
              "      <td>True</td>\n",
              "      <td>Negative</td>\n",
              "      <td>NaN</td>\n",
              "      <td>NaN</td>\n",
              "      <td>NaN</td>\n",
              "    </tr>\n",
              "    <tr>\n",
              "      <th>17686</th>\n",
              "      <td>17686</td>\n",
              "      <td>17686</td>\n",
              "      <td>robbiederby</td>\n",
              "      <td>NaN</td>\n",
              "      <td>NaN</td>\n",
              "      <td>2009-07-09 08:41:59</td>\n",
              "      <td>60</td>\n",
              "      <td>2021-02-05 18:09:26</td>\n",
              "      <td>#antivaxxers and #antimaskers, #SocialDistancing themselves from reality.\\n\\n#COVID19 #coronavirus #StaySafe #StayHome</td>\n",
              "      <td>0</td>\n",
              "      <td>0</td>\n",
              "      <td>False</td>\n",
              "      <td>Negative</td>\n",
              "      <td>NaN</td>\n",
              "      <td>NaN</td>\n",
              "      <td>NaN</td>\n",
              "    </tr>\n",
              "    <tr>\n",
              "      <th>387</th>\n",
              "      <td>387</td>\n",
              "      <td>387</td>\n",
              "      <td>GoAHealth</td>\n",
              "      <td>Alberta, Canada</td>\n",
              "      <td>For help with government services call 310-0000 or send us a direct message.</td>\n",
              "      <td>2011-06-09 21:53:50</td>\n",
              "      <td>22707</td>\n",
              "      <td>2021-02-11 19:25:55</td>\n",
              "      <td>RT @AHS_media: Ninety-eight-year-old Dorothy Boothman is pictured receiving the COVID-19 vaccine from Registered nurse Brenda Claudio in #Y…</td>\n",
              "      <td>0</td>\n",
              "      <td>2</td>\n",
              "      <td>True</td>\n",
              "      <td>Positive</td>\n",
              "      <td>Alberta, Canada</td>\n",
              "      <td>CAN</td>\n",
              "      <td>Canada</td>\n",
              "    </tr>\n",
              "    <tr>\n",
              "      <th>34004</th>\n",
              "      <td>34004</td>\n",
              "      <td>34004</td>\n",
              "      <td>GBilleci9</td>\n",
              "      <td>Earth</td>\n",
              "      <td>i: a man; am happy to be here; conscious over compulsive is the key; sui juris.</td>\n",
              "      <td>2018-01-07 23:29:44</td>\n",
              "      <td>98</td>\n",
              "      <td>2021-01-21 15:19:47</td>\n",
              "      <td>RT @NickHudsonCT: Raising conflicts of interest DOES NOT make you a conspiracy theorist.\\n\\nQuerying safety &amp;amp; efficacy DOES NOT make you anti…</td>\n",
              "      <td>0</td>\n",
              "      <td>1758</td>\n",
              "      <td>True</td>\n",
              "      <td>Negative</td>\n",
              "      <td>Earth</td>\n",
              "      <td>NaN</td>\n",
              "      <td>NaN</td>\n",
              "    </tr>\n",
              "    <tr>\n",
              "      <th>33688</th>\n",
              "      <td>33688</td>\n",
              "      <td>33688</td>\n",
              "      <td>AngieWebcam</td>\n",
              "      <td>NaN</td>\n",
              "      <td>18+  #CamModel   \\nCheck my pinned tweet to find the sites where i'm live &amp; where i sell my vids 😘</td>\n",
              "      <td>2013-01-24 21:11:20</td>\n",
              "      <td>108481</td>\n",
              "      <td>2021-01-21 20:56:47</td>\n",
              "      <td>RT @NickHudsonCT: Raising conflicts of interest DOES NOT make you a conspiracy theorist.\\n\\nQuerying safety &amp;amp; efficacy DOES NOT make you anti…</td>\n",
              "      <td>0</td>\n",
              "      <td>1758</td>\n",
              "      <td>True</td>\n",
              "      <td>Negative</td>\n",
              "      <td>NaN</td>\n",
              "      <td>NaN</td>\n",
              "      <td>NaN</td>\n",
              "    </tr>\n",
              "  </tbody>\n",
              "</table>\n",
              "</div>"
            ],
            "text/plain": [
              "       Unnamed: 0  Unnamed: 0.1      user_name    user_location  \\\n",
              "35063       35063         35063  Marta12809119              NaN   \n",
              "17686       17686         17686    robbiederby              NaN   \n",
              "387           387           387      GoAHealth  Alberta, Canada   \n",
              "34004       34004         34004      GBilleci9            Earth   \n",
              "33688       33688         33688    AngieWebcam              NaN   \n",
              "\n",
              "                                                                                         user_description  \\\n",
              "35063                                                                                                 NaN   \n",
              "17686                                                                                                 NaN   \n",
              "387                          For help with government services call 310-0000 or send us a direct message.   \n",
              "34004                     i: a man; am happy to be here; conscious over compulsive is the key; sui juris.   \n",
              "33688  18+  #CamModel   \\nCheck my pinned tweet to find the sites where i'm live & where i sell my vids 😘   \n",
              "\n",
              "              user_created  user_followers                 date  \\\n",
              "35063  2018-06-07 13:09:14              38  2021-01-21 20:38:06   \n",
              "17686  2009-07-09 08:41:59              60  2021-02-05 18:09:26   \n",
              "387    2011-06-09 21:53:50           22707  2021-02-11 19:25:55   \n",
              "34004  2018-01-07 23:29:44              98  2021-01-21 15:19:47   \n",
              "33688  2013-01-24 21:11:20          108481  2021-01-21 20:56:47   \n",
              "\n",
              "                                                                                                                                                     text  \\\n",
              "35063        RT @vbaileyactor: No, not antivaxx. All my kids were vaccinated. Asking questions about a brand new vaccination with a few areas of potenti…   \n",
              "17686                              #antivaxxers and #antimaskers, #SocialDistancing themselves from reality.\\n\\n#COVID19 #coronavirus #StaySafe #StayHome   \n",
              "387          RT @AHS_media: Ninety-eight-year-old Dorothy Boothman is pictured receiving the COVID-19 vaccine from Registered nurse Brenda Claudio in #Y…   \n",
              "34004  RT @NickHudsonCT: Raising conflicts of interest DOES NOT make you a conspiracy theorist.\\n\\nQuerying safety &amp; efficacy DOES NOT make you anti…   \n",
              "33688  RT @NickHudsonCT: Raising conflicts of interest DOES NOT make you a conspiracy theorist.\\n\\nQuerying safety &amp; efficacy DOES NOT make you anti…   \n",
              "\n",
              "       favorites  retweets  is_retweet  category user_location_updated  \\\n",
              "35063          0        95        True  Negative                   NaN   \n",
              "17686          0         0       False  Negative                   NaN   \n",
              "387            0         2        True  Positive       Alberta, Canada   \n",
              "34004          0      1758        True  Negative                 Earth   \n",
              "33688          0      1758        True  Negative                   NaN   \n",
              "\n",
              "      user-country_code user-country  \n",
              "35063               NaN          NaN  \n",
              "17686               NaN          NaN  \n",
              "387                 CAN       Canada  \n",
              "34004               NaN          NaN  \n",
              "33688               NaN          NaN  "
            ]
          },
          "metadata": {
            "tags": []
          },
          "execution_count": 6
        }
      ]
    },
    {
      "cell_type": "code",
      "metadata": {
        "colab": {
          "base_uri": "https://localhost:8080/"
        },
        "id": "h3iyPcNhw0Pa",
        "outputId": "fed783f2-e7c1-4681-cc33-35f91e81c9e6"
      },
      "source": [
        "df.columns"
      ],
      "execution_count": null,
      "outputs": [
        {
          "output_type": "execute_result",
          "data": {
            "text/plain": [
              "Index(['Unnamed: 0', 'Unnamed: 0.1', 'user_name', 'user_location',\n",
              "       'user_description', 'user_created', 'user_followers', 'date', 'text',\n",
              "       'favorites', 'retweets', 'is_retweet', 'category',\n",
              "       'user_location_updated', 'user-country_code', 'user-country'],\n",
              "      dtype='object')"
            ]
          },
          "metadata": {
            "tags": []
          },
          "execution_count": 7
        }
      ]
    },
    {
      "cell_type": "code",
      "metadata": {
        "id": "q1BEu7Orw0Pa"
      },
      "source": [
        "df = df.drop(['Unnamed: 0', 'Unnamed: 0.1'], axis=1)"
      ],
      "execution_count": null,
      "outputs": []
    },
    {
      "cell_type": "code",
      "metadata": {
        "id": "4T_VBxliw0Pb"
      },
      "source": [
        "df = df.drop_duplicates()"
      ],
      "execution_count": null,
      "outputs": []
    },
    {
      "cell_type": "code",
      "metadata": {
        "colab": {
          "base_uri": "https://localhost:8080/"
        },
        "id": "T5u6Rp1Pw0Pb",
        "outputId": "ac8345e5-b151-4b00-9282-ad300deaef58"
      },
      "source": [
        "df.shape"
      ],
      "execution_count": null,
      "outputs": [
        {
          "output_type": "execute_result",
          "data": {
            "text/plain": [
              "(19039, 14)"
            ]
          },
          "metadata": {
            "tags": []
          },
          "execution_count": 10
        }
      ]
    },
    {
      "cell_type": "code",
      "metadata": {
        "colab": {
          "base_uri": "https://localhost:8080/"
        },
        "id": "udyrXCUFw0Pc",
        "outputId": "bba7b77b-5c35-4341-8be7-a0110aa7eedc"
      },
      "source": [
        "df['category'].value_counts(normalize=True)"
      ],
      "execution_count": null,
      "outputs": [
        {
          "output_type": "execute_result",
          "data": {
            "text/plain": [
              "Positive    0.647093\n",
              "Negative    0.352907\n",
              "Name: category, dtype: float64"
            ]
          },
          "metadata": {
            "tags": []
          },
          "execution_count": 11
        }
      ]
    },
    {
      "cell_type": "markdown",
      "metadata": {
        "id": "CV5XKY0Kw0Pc"
      },
      "source": [
        "### date column"
      ]
    },
    {
      "cell_type": "code",
      "metadata": {
        "id": "8L852yAjw0Pc"
      },
      "source": [
        "df['date'] = df['date'].apply(lambda x: x.split('+')[0])"
      ],
      "execution_count": null,
      "outputs": []
    },
    {
      "cell_type": "code",
      "metadata": {
        "id": "3b8d3n0pw0Pc"
      },
      "source": [
        "df['date'] = pd.to_datetime(df['date'], infer_datetime_format=True)"
      ],
      "execution_count": null,
      "outputs": []
    },
    {
      "cell_type": "code",
      "metadata": {
        "colab": {
          "base_uri": "https://localhost:8080/"
        },
        "id": "DUzbRMEyw0Pd",
        "outputId": "aed62dcd-da96-4ffa-c587-a3eccd7e6a75"
      },
      "source": [
        "print(f\"Wehave data from {df.date.min()} up to {df.date.max()}\")"
      ],
      "execution_count": null,
      "outputs": [
        {
          "output_type": "stream",
          "text": [
            "Wehave data from 2021-01-15 03:10:18 up to 2021-02-18 14:20:06\n"
          ],
          "name": "stdout"
        }
      ]
    },
    {
      "cell_type": "code",
      "metadata": {
        "colab": {
          "base_uri": "https://localhost:8080/",
          "height": 236
        },
        "id": "AUuM4_27J-xE",
        "outputId": "95b0389c-628d-4f44-ce6b-c0f6b402ac28"
      },
      "source": [
        "df['week_day'] = df['date'].dt.dayofweek\n",
        "df['month'] = df['date'].dt.month\n",
        "df['year'] = df['date'].dt.year\n",
        "df['hour'] = df['date'].dt.hour\n",
        "df.sample()"
      ],
      "execution_count": null,
      "outputs": [
        {
          "output_type": "execute_result",
          "data": {
            "text/html": [
              "<div>\n",
              "<style scoped>\n",
              "    .dataframe tbody tr th:only-of-type {\n",
              "        vertical-align: middle;\n",
              "    }\n",
              "\n",
              "    .dataframe tbody tr th {\n",
              "        vertical-align: top;\n",
              "    }\n",
              "\n",
              "    .dataframe thead th {\n",
              "        text-align: right;\n",
              "    }\n",
              "</style>\n",
              "<table border=\"1\" class=\"dataframe\">\n",
              "  <thead>\n",
              "    <tr style=\"text-align: right;\">\n",
              "      <th></th>\n",
              "      <th>user_name</th>\n",
              "      <th>user_location</th>\n",
              "      <th>user_description</th>\n",
              "      <th>user_created</th>\n",
              "      <th>user_followers</th>\n",
              "      <th>date</th>\n",
              "      <th>text</th>\n",
              "      <th>favorites</th>\n",
              "      <th>retweets</th>\n",
              "      <th>is_retweet</th>\n",
              "      <th>category</th>\n",
              "      <th>user_location_updated</th>\n",
              "      <th>user-country_code</th>\n",
              "      <th>user-country</th>\n",
              "      <th>week_day</th>\n",
              "      <th>month</th>\n",
              "      <th>year</th>\n",
              "      <th>hour</th>\n",
              "    </tr>\n",
              "  </thead>\n",
              "  <tbody>\n",
              "    <tr>\n",
              "      <th>5082</th>\n",
              "      <td>MASizMore</td>\n",
              "      <td>Dallas, TX</td>\n",
              "      <td>Just a tall 🔯 guy from L.A. living in Dallas, via Israel, NYC, &amp; Boston. Mets⚾️ Patriots🏈 Lakers🏀. Sports fan, music lover, &amp; tech geek. #1 on 2010 #JTA100</td>\n",
              "      <td>2014-10-21 19:01:39</td>\n",
              "      <td>5192</td>\n",
              "      <td>2021-02-03 00:21:59</td>\n",
              "      <td>I was fortunate enough to get the COVID-19 vaccine today. Second dose in 3 weeks. Thank you @utswnews and… https://t.co/sra16otBoi</td>\n",
              "      <td>2</td>\n",
              "      <td>0</td>\n",
              "      <td>False</td>\n",
              "      <td>Positive</td>\n",
              "      <td>Dallas, TX</td>\n",
              "      <td>USA</td>\n",
              "      <td>United States</td>\n",
              "      <td>2</td>\n",
              "      <td>2</td>\n",
              "      <td>2021</td>\n",
              "      <td>0</td>\n",
              "    </tr>\n",
              "  </tbody>\n",
              "</table>\n",
              "</div>"
            ],
            "text/plain": [
              "      user_name user_location  \\\n",
              "5082  MASizMore    Dallas, TX   \n",
              "\n",
              "                                                                                                                                                 user_description  \\\n",
              "5082  Just a tall 🔯 guy from L.A. living in Dallas, via Israel, NYC, & Boston. Mets⚾️ Patriots🏈 Lakers🏀. Sports fan, music lover, & tech geek. #1 on 2010 #JTA100   \n",
              "\n",
              "             user_created  user_followers                date  \\\n",
              "5082  2014-10-21 19:01:39            5192 2021-02-03 00:21:59   \n",
              "\n",
              "                                                                                                                                    text  \\\n",
              "5082  I was fortunate enough to get the COVID-19 vaccine today. Second dose in 3 weeks. Thank you @utswnews and… https://t.co/sra16otBoi   \n",
              "\n",
              "      favorites  retweets  is_retweet  category user_location_updated  \\\n",
              "5082          2         0       False  Positive            Dallas, TX   \n",
              "\n",
              "     user-country_code   user-country  week_day  month  year  hour  \n",
              "5082               USA  United States         2      2  2021     0  "
            ]
          },
          "metadata": {
            "tags": []
          },
          "execution_count": 15
        }
      ]
    },
    {
      "cell_type": "markdown",
      "metadata": {
        "id": "j915Cf7F-UHY"
      },
      "source": [
        "distribution of tweets by time:"
      ]
    },
    {
      "cell_type": "code",
      "metadata": {
        "colab": {
          "base_uri": "https://localhost:8080/",
          "height": 621
        },
        "id": "UdeNH6ZF-S6y",
        "outputId": "8232c02d-32ed-4c0d-ce93-bc5b36631e1f"
      },
      "source": [
        "fig, ax = plt.subplots(2,2, figsize=(20,10))\n",
        "day_of_week = {0: 'Monday', 1: 'Tuesday', 2: 'Wednesday', 3: 'Thursday', 4: 'Friday', 5: 'Saturday', 6: 'Sunday'}\n",
        "sns.countplot(df[\"week_day\"].map(day_of_week), \n",
        "              order=['Monday', 'Tuesday', 'Wednesday', 'Friday', 'Saturday', 'Sunday'],\n",
        "              palette=\"Set3\", ax=ax[0,0])\n",
        "ax[0,0].set_title(\"distribution of tweets per day of the week\")\n",
        "sns.countplot(df[\"week_day\"].map(day_of_week), \n",
        "              order=['Monday', 'Tuesday', 'Wednesday', 'Friday', 'Saturday', 'Sunday'],\n",
        "              palette=\"Set3\", hue=df[\"category\"], ax=ax[0,1])\n",
        "ax[0,1].set_title(\"distribution of tweets per day of the week and by anti-vaxxers\")\n",
        "sns.countplot(df[\"hour\"], order= df[\"hour\"].unique().sort(), ax=ax[1,0], palette=\"Set3\",)\n",
        "ax[1,0].set_title(\"distribution of tweets per hour of day\")\n",
        "sns.countplot(df[\"hour\"], order= df[\"hour\"].unique().sort(), ax=ax[1,1], hue=df[\"category\"], palette=\"Set3\")\n",
        "ax[1,1].set_title(\"distribution of tweets per hour of day and by anti-vaxxers\");"
      ],
      "execution_count": null,
      "outputs": [
        {
          "output_type": "display_data",
          "data": {
            "image/png": "[encoded data removed]",
            "text/plain": [
              "<Figure size 1440x720 with 4 Axes>"
            ]
          },
          "metadata": {
            "tags": [],
            "needs_background": "light"
          }
        }
      ]
    },
    {
      "cell_type": "markdown",
      "metadata": {
        "id": "dbLNYLdqEIko"
      },
      "source": [
        "As we already saw - there are more non-anti-vaccination (\"positive\") tweets compared to anti-vaccination (\"negative\") tweets, but we can see that their distribution, both acros day of the week and hour of the day, are the same. \\\n",
        "hence we can conclude that the type of tweets is not linearly correlated to the tweet that the tweet was published.\n",
        "\n",
        "\n",
        "**NOTE**: we do see some small changes based on day of the week, where for, we will keep that column."
      ]
    },
    {
      "cell_type": "code",
      "metadata": {
        "id": "SUS-IyJ2LFBc"
      },
      "source": [
        "df.drop(\"hour\", axis=1, inplace=True)"
      ],
      "execution_count": null,
      "outputs": []
    },
    {
      "cell_type": "markdown",
      "metadata": {
        "id": "C9_BVXKaJzst"
      },
      "source": [
        "### looking on the number of speacial signes in a text:"
      ]
    },
    {
      "cell_type": "code",
      "metadata": {
        "id": "ZhWmzEw_Mz3a"
      },
      "source": [
        "# df['text'].str.count('\\?|\\!').value_counts()"
      ],
      "execution_count": null,
      "outputs": []
    },
    {
      "cell_type": "code",
      "metadata": {
        "colab": {
          "base_uri": "https://localhost:8080/",
          "height": 488
        },
        "id": "gHAf1L8IK1ak",
        "outputId": "f46249e8-0286-42f2-d8e5-90c5019e1be6"
      },
      "source": [
        "df[\"tweet_?!_marks\"] = df['text'].str.count('\\?|\\!')\n",
        "df.sample(2)"
      ],
      "execution_count": null,
      "outputs": [
        {
          "output_type": "execute_result",
          "data": {
            "text/html": [
              "<div>\n",
              "<style scoped>\n",
              "    .dataframe tbody tr th:only-of-type {\n",
              "        vertical-align: middle;\n",
              "    }\n",
              "\n",
              "    .dataframe tbody tr th {\n",
              "        vertical-align: top;\n",
              "    }\n",
              "\n",
              "    .dataframe thead th {\n",
              "        text-align: right;\n",
              "    }\n",
              "</style>\n",
              "<table border=\"1\" class=\"dataframe\">\n",
              "  <thead>\n",
              "    <tr style=\"text-align: right;\">\n",
              "      <th></th>\n",
              "      <th>user_name</th>\n",
              "      <th>user_location</th>\n",
              "      <th>user_description</th>\n",
              "      <th>user_created</th>\n",
              "      <th>user_followers</th>\n",
              "      <th>date</th>\n",
              "      <th>text</th>\n",
              "      <th>favorites</th>\n",
              "      <th>retweets</th>\n",
              "      <th>is_retweet</th>\n",
              "      <th>category</th>\n",
              "      <th>user_location_updated</th>\n",
              "      <th>user-country_code</th>\n",
              "      <th>user-country</th>\n",
              "      <th>week_day</th>\n",
              "      <th>month</th>\n",
              "      <th>year</th>\n",
              "      <th>tweet_?!_marks</th>\n",
              "    </tr>\n",
              "  </thead>\n",
              "  <tbody>\n",
              "    <tr>\n",
              "      <th>33898</th>\n",
              "      <td>reggieesustaita</td>\n",
              "      <td>hopeworld</td>\n",
              "      <td>feelin like a walking love song | ♡ | she/her</td>\n",
              "      <td>2015-01-19 03:51:54</td>\n",
              "      <td>430</td>\n",
              "      <td>2021-01-21 17:06:44</td>\n",
              "      <td>RT @imanihaskell: I’m not antivaxx by any means, but I’m anti THIS vaccine, right now at lest. I’ll be fine waiting a few months before I f…</td>\n",
              "      <td>0</td>\n",
              "      <td>2</td>\n",
              "      <td>True</td>\n",
              "      <td>Negative</td>\n",
              "      <td>hopeworld</td>\n",
              "      <td>NaN</td>\n",
              "      <td>NaN</td>\n",
              "      <td>3</td>\n",
              "      <td>1</td>\n",
              "      <td>2021</td>\n",
              "      <td>0</td>\n",
              "    </tr>\n",
              "    <tr>\n",
              "      <th>4856</th>\n",
              "      <td>AK9dj</td>\n",
              "      <td>NaN</td>\n",
              "      <td>💯 female. She/her.\\nAll the tweets/rt are my own preference and opinion.\\nMy tweet/rt contents are sharing information &amp; not intended to against to any party.</td>\n",
              "      <td>2020-09-07 22:59:17</td>\n",
              "      <td>273</td>\n",
              "      <td>2021-02-07 11:43:39</td>\n",
              "      <td>RT @DeptofDefense: #IGotTheShot: @USArmy Gen. Christopher Cavoli, commanding general of @USArmyEURAF, explains why he decided to get the #C…</td>\n",
              "      <td>0</td>\n",
              "      <td>95</td>\n",
              "      <td>True</td>\n",
              "      <td>Positive</td>\n",
              "      <td>NaN</td>\n",
              "      <td>NaN</td>\n",
              "      <td>NaN</td>\n",
              "      <td>6</td>\n",
              "      <td>2</td>\n",
              "      <td>2021</td>\n",
              "      <td>0</td>\n",
              "    </tr>\n",
              "  </tbody>\n",
              "</table>\n",
              "</div>"
            ],
            "text/plain": [
              "             user_name user_location  \\\n",
              "33898  reggieesustaita     hopeworld   \n",
              "4856             AK9dj           NaN   \n",
              "\n",
              "                                                                                                                                                     user_description  \\\n",
              "33898                                                                                                                   feelin like a walking love song | ♡ | she/her   \n",
              "4856   💯 female. She/her.\\nAll the tweets/rt are my own preference and opinion.\\nMy tweet/rt contents are sharing information & not intended to against to any party.   \n",
              "\n",
              "              user_created  user_followers                date  \\\n",
              "33898  2015-01-19 03:51:54             430 2021-01-21 17:06:44   \n",
              "4856   2020-09-07 22:59:17             273 2021-02-07 11:43:39   \n",
              "\n",
              "                                                                                                                                               text  \\\n",
              "33898  RT @imanihaskell: I’m not antivaxx by any means, but I’m anti THIS vaccine, right now at lest. I’ll be fine waiting a few months before I f…   \n",
              "4856   RT @DeptofDefense: #IGotTheShot: @USArmy Gen. Christopher Cavoli, commanding general of @USArmyEURAF, explains why he decided to get the #C…   \n",
              "\n",
              "       favorites  retweets  is_retweet  category user_location_updated  \\\n",
              "33898          0         2        True  Negative             hopeworld   \n",
              "4856           0        95        True  Positive                   NaN   \n",
              "\n",
              "      user-country_code user-country  week_day  month  year  tweet_?!_marks  \n",
              "33898               NaN          NaN         3      1  2021               0  \n",
              "4856                NaN          NaN         6      2  2021               0  "
            ]
          },
          "metadata": {
            "tags": []
          },
          "execution_count": 33
        }
      ]
    },
    {
      "cell_type": "code",
      "metadata": {
        "colab": {
          "base_uri": "https://localhost:8080/"
        },
        "id": "GOBsjLwmmHNd",
        "outputId": "16dd7f48-f3c3-4b48-ae38-7e4f0b4797b6"
      },
      "source": [
        "df[~df['user-country_code'].isna()].shape # many missing values, hence we will change it to \"Other\" or \"OTH\""
      ],
      "execution_count": null,
      "outputs": [
        {
          "output_type": "execute_result",
          "data": {
            "text/plain": [
              "(7876, 18)"
            ]
          },
          "metadata": {
            "tags": []
          },
          "execution_count": 34
        }
      ]
    },
    {
      "cell_type": "code",
      "metadata": {
        "id": "lhHGlNHJmajn"
      },
      "source": [
        "# \"OTH\" in df['user-country_code'].unique() # --> False"
      ],
      "execution_count": null,
      "outputs": []
    },
    {
      "cell_type": "code",
      "metadata": {
        "colab": {
          "base_uri": "https://localhost:8080/",
          "height": 785
        },
        "id": "FXC08F14mpKj",
        "outputId": "a37fb0d4-5526-4409-a48c-0a0e4e217955"
      },
      "source": [
        "df[\"user-country\"] = df[\"user-country\"].fillna(\"Other\")\n",
        "df['user-country_code'] = df['user-country_code'].fillna(\"OTH\")\n",
        "df.sample(5)"
      ],
      "execution_count": null,
      "outputs": [
        {
          "output_type": "execute_result",
          "data": {
            "text/html": [
              "<div>\n",
              "<style scoped>\n",
              "    .dataframe tbody tr th:only-of-type {\n",
              "        vertical-align: middle;\n",
              "    }\n",
              "\n",
              "    .dataframe tbody tr th {\n",
              "        vertical-align: top;\n",
              "    }\n",
              "\n",
              "    .dataframe thead th {\n",
              "        text-align: right;\n",
              "    }\n",
              "</style>\n",
              "<table border=\"1\" class=\"dataframe\">\n",
              "  <thead>\n",
              "    <tr style=\"text-align: right;\">\n",
              "      <th></th>\n",
              "      <th>user_name</th>\n",
              "      <th>user_location</th>\n",
              "      <th>user_description</th>\n",
              "      <th>user_created</th>\n",
              "      <th>user_followers</th>\n",
              "      <th>date</th>\n",
              "      <th>text</th>\n",
              "      <th>favorites</th>\n",
              "      <th>retweets</th>\n",
              "      <th>is_retweet</th>\n",
              "      <th>category</th>\n",
              "      <th>user_location_updated</th>\n",
              "      <th>user-country_code</th>\n",
              "      <th>user-country</th>\n",
              "      <th>week_day</th>\n",
              "      <th>month</th>\n",
              "      <th>year</th>\n",
              "      <th>tweet_?!_marks</th>\n",
              "    </tr>\n",
              "  </thead>\n",
              "  <tbody>\n",
              "    <tr>\n",
              "      <th>180</th>\n",
              "      <td>ukedalum</td>\n",
              "      <td>Kentucky</td>\n",
              "      <td>Math Recovery Specialist/U K alum x2|Spalding alum|Educator</td>\n",
              "      <td>2010-09-30 02:17:47</td>\n",
              "      <td>90</td>\n",
              "      <td>2021-02-14 19:41:54</td>\n",
              "      <td>@acrphoto Welcome to the club!! #shotofhope</td>\n",
              "      <td>0</td>\n",
              "      <td>0</td>\n",
              "      <td>False</td>\n",
              "      <td>Positive</td>\n",
              "      <td>Kentucky</td>\n",
              "      <td>USA</td>\n",
              "      <td>United States</td>\n",
              "      <td>6</td>\n",
              "      <td>2</td>\n",
              "      <td>2021</td>\n",
              "      <td>2</td>\n",
              "    </tr>\n",
              "    <tr>\n",
              "      <th>28940</th>\n",
              "      <td>ThisIsOurShot</td>\n",
              "      <td>United States</td>\n",
              "      <td>To elevate voices of healthcare heroes to build vaccine-trust towards a covid-free world. #ThisIsOurShot</td>\n",
              "      <td>2020-12-24 20:41:17</td>\n",
              "      <td>594</td>\n",
              "      <td>2021-01-16 01:22:10</td>\n",
              "      <td>RT @amykpatel: Dose #2 of the @pfizer vaccine is complete! #GetVaccinated #IGotTheShot #ThisIsOurShot #COVID19 #InThisTogether https://t.co…</td>\n",
              "      <td>0</td>\n",
              "      <td>3</td>\n",
              "      <td>True</td>\n",
              "      <td>Positive</td>\n",
              "      <td>United States</td>\n",
              "      <td>OTH</td>\n",
              "      <td>Other</td>\n",
              "      <td>5</td>\n",
              "      <td>1</td>\n",
              "      <td>2021</td>\n",
              "      <td>1</td>\n",
              "    </tr>\n",
              "    <tr>\n",
              "      <th>5414</th>\n",
              "      <td>tomdobbie</td>\n",
              "      <td>Langholm, Scotland</td>\n",
              "      <td>Cameraman/DoP https://t.co/RqBbh1a5Kh You can also find me on Instagram https://t.co/o7sYK3JNuV</td>\n",
              "      <td>2009-05-19 21:15:27</td>\n",
              "      <td>814</td>\n",
              "      <td>2021-02-09 11:10:18</td>\n",
              "      <td>RT @indyNurseBrian: Had to continue on foot a couple of times today but not a drop wasted and 22 home visits plus 37 residents and 11 staff…</td>\n",
              "      <td>0</td>\n",
              "      <td>227</td>\n",
              "      <td>True</td>\n",
              "      <td>Positive</td>\n",
              "      <td>Langholm, Scotland</td>\n",
              "      <td>GBR</td>\n",
              "      <td>United Kingdom</td>\n",
              "      <td>1</td>\n",
              "      <td>2</td>\n",
              "      <td>2021</td>\n",
              "      <td>0</td>\n",
              "    </tr>\n",
              "    <tr>\n",
              "      <th>30828</th>\n",
              "      <td>cceyers</td>\n",
              "      <td>Detroit</td>\n",
              "      <td>Mom, Dog Mom, Wife, Director, Athletic Trainer, Advocate, Crafter, Insomniac &amp; Human Being</td>\n",
              "      <td>2013-04-06 13:50:32</td>\n",
              "      <td>151</td>\n",
              "      <td>2021-01-17 23:09:38</td>\n",
              "      <td>Took this beauty earlier today to get her first dose of the Pfizer vaccine. She is a nurse assistant at HF Main Hos… https://t.co/piGIfcgFhg</td>\n",
              "      <td>8</td>\n",
              "      <td>0</td>\n",
              "      <td>False</td>\n",
              "      <td>Positive</td>\n",
              "      <td>Detroit</td>\n",
              "      <td>OTH</td>\n",
              "      <td>Other</td>\n",
              "      <td>6</td>\n",
              "      <td>1</td>\n",
              "      <td>2021</td>\n",
              "      <td>0</td>\n",
              "    </tr>\n",
              "    <tr>\n",
              "      <th>8848</th>\n",
              "      <td>MurfActual1</td>\n",
              "      <td>Calm amidst the mayhem</td>\n",
              "      <td>Serial deal maker. ΜΟΛΩΝ ΛΑΒΕ. Consigliere. Keen observer. Leader; Follower. Teacher ; Student. Speaker ; Listener. Connoisseur of sharp objects</td>\n",
              "      <td>2013-04-04 15:09:38</td>\n",
              "      <td>4623</td>\n",
              "      <td>2021-02-16 17:34:49</td>\n",
              "      <td>RT @RebelRancher: No seed oils (PLANTS). No COVID. \\n\\nThe hoax is that you’re already all knocking on death’s door internally because of you…</td>\n",
              "      <td>0</td>\n",
              "      <td>12</td>\n",
              "      <td>True</td>\n",
              "      <td>Negative</td>\n",
              "      <td>Calm amidst the mayhem</td>\n",
              "      <td>OTH</td>\n",
              "      <td>Other</td>\n",
              "      <td>1</td>\n",
              "      <td>2</td>\n",
              "      <td>2021</td>\n",
              "      <td>0</td>\n",
              "    </tr>\n",
              "  </tbody>\n",
              "</table>\n",
              "</div>"
            ],
            "text/plain": [
              "           user_name            user_location  \\\n",
              "180         ukedalum                 Kentucky   \n",
              "28940  ThisIsOurShot            United States   \n",
              "5414       tomdobbie       Langholm, Scotland   \n",
              "30828        cceyers                  Detroit   \n",
              "8848     MurfActual1  Calm amidst the mayhem    \n",
              "\n",
              "                                                                                                                                       user_description  \\\n",
              "180                                                                                         Math Recovery Specialist/U K alum x2|Spalding alum|Educator   \n",
              "28940                                          To elevate voices of healthcare heroes to build vaccine-trust towards a covid-free world. #ThisIsOurShot   \n",
              "5414                                                    Cameraman/DoP https://t.co/RqBbh1a5Kh You can also find me on Instagram https://t.co/o7sYK3JNuV   \n",
              "30828                                                        Mom, Dog Mom, Wife, Director, Athletic Trainer, Advocate, Crafter, Insomniac & Human Being   \n",
              "8848   Serial deal maker. ΜΟΛΩΝ ΛΑΒΕ. Consigliere. Keen observer. Leader; Follower. Teacher ; Student. Speaker ; Listener. Connoisseur of sharp objects   \n",
              "\n",
              "              user_created  user_followers                date  \\\n",
              "180    2010-09-30 02:17:47              90 2021-02-14 19:41:54   \n",
              "28940  2020-12-24 20:41:17             594 2021-01-16 01:22:10   \n",
              "5414   2009-05-19 21:15:27             814 2021-02-09 11:10:18   \n",
              "30828  2013-04-06 13:50:32             151 2021-01-17 23:09:38   \n",
              "8848   2013-04-04 15:09:38            4623 2021-02-16 17:34:49   \n",
              "\n",
              "                                                                                                                                                 text  \\\n",
              "180                                                                                                       @acrphoto Welcome to the club!! #shotofhope   \n",
              "28940    RT @amykpatel: Dose #2 of the @pfizer vaccine is complete! #GetVaccinated #IGotTheShot #ThisIsOurShot #COVID19 #InThisTogether https://t.co…   \n",
              "5414     RT @indyNurseBrian: Had to continue on foot a couple of times today but not a drop wasted and 22 home visits plus 37 residents and 11 staff…   \n",
              "30828    Took this beauty earlier today to get her first dose of the Pfizer vaccine. She is a nurse assistant at HF Main Hos… https://t.co/piGIfcgFhg   \n",
              "8848   RT @RebelRancher: No seed oils (PLANTS). No COVID. \\n\\nThe hoax is that you’re already all knocking on death’s door internally because of you…   \n",
              "\n",
              "       favorites  retweets  is_retweet  category    user_location_updated  \\\n",
              "180            0         0       False  Positive                 Kentucky   \n",
              "28940          0         3        True  Positive            United States   \n",
              "5414           0       227        True  Positive       Langholm, Scotland   \n",
              "30828          8         0       False  Positive                  Detroit   \n",
              "8848           0        12        True  Negative  Calm amidst the mayhem    \n",
              "\n",
              "      user-country_code    user-country  week_day  month  year  tweet_?!_marks  \n",
              "180                 USA   United States         6      2  2021               2  \n",
              "28940               OTH           Other         5      1  2021               1  \n",
              "5414                GBR  United Kingdom         1      2  2021               0  \n",
              "30828               OTH           Other         6      1  2021               0  \n",
              "8848                OTH           Other         1      2  2021               0  "
            ]
          },
          "metadata": {
            "tags": []
          },
          "execution_count": 36
        }
      ]
    },
    {
      "cell_type": "markdown",
      "metadata": {
        "id": "yqHzXNlUh0uj"
      },
      "source": [
        "now, we will create a dictionary with the countries as values and the country codes as keys:"
      ]
    },
    {
      "cell_type": "code",
      "metadata": {
        "id": "P2UN0_NUh034"
      },
      "source": [
        "country_dict = pd.Series(df['user-country'].values,index=df['user-country_code']).to_dict()"
      ],
      "execution_count": null,
      "outputs": []
    },
    {
      "cell_type": "markdown",
      "metadata": {
        "id": "bb3SF2RCjWQ2"
      },
      "source": [
        "create a dataframe that avoids \"OTH\" and grouped by countries"
      ]
    },
    {
      "cell_type": "code",
      "metadata": {
        "colab": {
          "base_uri": "https://localhost:8080/",
          "height": 142
        },
        "id": "e3w46ThLjSD6",
        "outputId": "69bf0848-adfe-4271-c22e-7bb5d6da57bc"
      },
      "source": [
        "df_country_draft = df.copy()\n",
        "category_dict = {\"Positive\":0, \"Negative\":1}\n",
        "df_country_draft['category'] = df_country_draft['category'].map(category_dict)\n",
        "df_country = df_country_draft.groupby([\"user-country\", 'user-country_code'])['category'].mean().reset_index()\n",
        "df_country.rename(columns={\"category\": \"Anti-Vaccination Tweets %\"}, inplace=True)\n",
        "\n",
        "df_country.sample(3)"
      ],
      "execution_count": 68,
      "outputs": [
        {
          "output_type": "execute_result",
          "data": {
            "text/html": [
              "<div>\n",
              "<style scoped>\n",
              "    .dataframe tbody tr th:only-of-type {\n",
              "        vertical-align: middle;\n",
              "    }\n",
              "\n",
              "    .dataframe tbody tr th {\n",
              "        vertical-align: top;\n",
              "    }\n",
              "\n",
              "    .dataframe thead th {\n",
              "        text-align: right;\n",
              "    }\n",
              "</style>\n",
              "<table border=\"1\" class=\"dataframe\">\n",
              "  <thead>\n",
              "    <tr style=\"text-align: right;\">\n",
              "      <th></th>\n",
              "      <th>user-country</th>\n",
              "      <th>user-country_code</th>\n",
              "      <th>Anti-Vaccination Tweets %</th>\n",
              "    </tr>\n",
              "  </thead>\n",
              "  <tbody>\n",
              "    <tr>\n",
              "      <th>21</th>\n",
              "      <td>Congo Republic</td>\n",
              "      <td>COG</td>\n",
              "      <td>0.0</td>\n",
              "    </tr>\n",
              "    <tr>\n",
              "      <th>82</th>\n",
              "      <td>Peru</td>\n",
              "      <td>PER</td>\n",
              "      <td>0.0</td>\n",
              "    </tr>\n",
              "    <tr>\n",
              "      <th>31</th>\n",
              "      <td>El Salvador</td>\n",
              "      <td>SLV</td>\n",
              "      <td>0.0</td>\n",
              "    </tr>\n",
              "  </tbody>\n",
              "</table>\n",
              "</div>"
            ],
            "text/plain": [
              "      user-country user-country_code  Anti-Vaccination Tweets %\n",
              "21  Congo Republic               COG                        0.0\n",
              "82            Peru               PER                        0.0\n",
              "31     El Salvador               SLV                        0.0"
            ]
          },
          "metadata": {
            "tags": []
          },
          "execution_count": 68
        }
      ]
    },
    {
      "cell_type": "code",
      "metadata": {
        "colab": {
          "base_uri": "https://localhost:8080/",
          "height": 542
        },
        "id": "lty9jmg7iyP1",
        "outputId": "d970fdad-9d3a-4f51-bd00-ab459785e0e3"
      },
      "source": [
        "fig = px.choropleth(data_frame=df_country, color=\"Anti-Vaccination Tweets %\", hover_name='user-country',\n",
        "                    locations=\"user-country_code\", projection=\"natural earth\")\n",
        "fig.update_geos(showcoastlines=True, coastlinecolor=\"Black\",\n",
        "                showland=True, landcolor=\"LightGrey\",\n",
        "                showocean=True, oceancolor=\"LightBlue\",\n",
        "                showlakes=True, lakecolor=\"LightBlue\",\n",
        "                showrivers=True, rivercolor=\"LightBlue\",\n",
        "                showcountries=True, countrycolor=\"Black\")\n",
        "fig.update_layout(title=\"Anti-Vax tweets precentages\", geo_scope=\"world\")\n",
        "\n",
        "fig.show()"
      ],
      "execution_count": 69,
      "outputs": [
        {
          "output_type": "display_data",
          "data": {
            "text/html": [
              "<html>\n",
              "<head><meta charset=\"utf-8\" /></head>\n",
              "<body>\n",
              "    <div>\n",
              "            <script src=\"https://cdnjs.cloudflare.com/ajax/libs/mathjax/2.7.5/MathJax.js?config=TeX-AMS-MML_SVG\"></script><script type=\"text/javascript\">if (window.MathJax) {MathJax.Hub.Config({SVG: {font: \"STIX-Web\"}});}</script>\n",
              "                <script type=\"text/javascript\">window.PlotlyConfig = {MathJaxConfig: 'local'};</script>\n",
              "        <script src=\"https://cdn.plot.ly/plotly-latest.min.js\"></script>    \n",
              "            <div id=\"fc29ca2a-56d0-46d5-88d6-defc6b6d6521\" class=\"plotly-graph-div\" style=\"height:525px; width:100%;\"></div>\n",
              "            <script type=\"text/javascript\">\n",
              "                \n",
              "                    window.PLOTLYENV=window.PLOTLYENV || {};\n",
              "                    \n",
              "                if (document.getElementById(\"fc29ca2a-56d0-46d5-88d6-defc6b6d6521\")) {\n",
              "                    Plotly.newPlot(\n",
              "                        'fc29ca2a-56d0-46d5-88d6-defc6b6d6521',\n",
              "                        [{\"coloraxis\": \"coloraxis\", \"geo\": \"geo\", \"hoverlabel\": {\"namelength\": 0}, \"hovertemplate\": \"<b>%{hovertext}</b><br><br>user-country_code=%{location}<br>Anti-Vaccination Tweets %=%{z}\", \"hovertext\": [\"Afghanistan\", \"Albania\", \"Argentina\", \"Armenia\", \"Australia\", \"Austria\", \"Bangladesh\", \"Barbados\", \"Belgium\", \"Belize\", \"Bermuda\", \"Bosnia and Herzegovina\", \"Brazil\", \"Bulgaria\", \"Cambodia\", \"Cameroon\", \"Canada\", \"Chad\", \"Chile\", \"China\", \"Colombia\", \"Congo Republic\", \"Costa Rica\", \"Cote d'Ivoire\", \"Cyprus\", \"Czech Republic\", \"DR Congo\", \"Denmark\", \"Dominican Republic\", \"Ecuador\", \"Egypt\", \"El Salvador\", \"Ethiopia\", \"Finland\", \"France\", \"Gambia\", \"Germany\", \"Ghana\", \"Greece\", \"Guatemala\", \"Haiti\", \"Honduras\", \"Hungary\", \"India\", \"Indonesia\", \"Iran\", \"Iraq\", \"Ireland\", \"Isle of Man\", \"Israel\", \"Italy\", \"Jamaica\", \"Japan\", \"Kazakhstan\", \"Kenya\", \"Kosovo\", \"Kuwait\", \"Laos\", \"Latvia\", \"Lebanon\", \"Lesotho\", \"Liberia\", \"Luxembourg\", \"Malawi\", \"Malaysia\", \"Maldives\", \"Mali\", \"Mexico\", \"Mongolia\", \"Morocco\", \"Myanmar\", \"Nepal\", \"Netherlands\", \"New Zealand\", \"Nicaragua\", \"Niger\", \"Nigeria\", \"Norway\", \"Other\", \"Pakistan\", \"Papua New Guinea\", \"Paraguay\", \"Peru\", \"Philippines\", \"Poland\", \"Portugal\", \"Qatar\", \"Romania\", \"Russia\", \"Saudi Arabia\", \"Singapore\", \"Slovenia\", \"Somalia\", \"South Africa\", \"South Korea\", \"South Sudan\", \"Spain\", \"Sri Lanka\", \"Sweden\", \"Switzerland\", \"Syria\", \"Taiwan\", \"Tanzania\", \"Thailand\", \"Trinidad and Tobago\", \"Turkey\", \"Ukraine\", \"United Arab Emirates\", \"United Kingdom\", \"United States\", \"Uruguay\", \"Venezuela\", \"Vietnam\", \"Yemen\", \"Zambia\", \"Zimbabwe\"], \"locations\": [\"AFG\", \"ALB\", \"ARG\", \"ARM\", \"AUS\", \"AUT\", \"BGD\", \"BRB\", \"BEL\", \"BLZ\", \"BMU\", \"BIH\", \"BRA\", \"BGR\", \"KHM\", \"CMR\", \"CAN\", \"TCD\", \"CHL\", \"CHN\", \"COL\", \"COG\", \"CRI\", \"CIV\", \"CYP\", \"CZE\", \"COD\", \"DNK\", \"DOM\", \"ECU\", \"EGY\", \"SLV\", \"ETH\", \"FIN\", \"FRA\", \"GMB\", \"DEU\", \"GHA\", \"GRC\", \"GTM\", \"HTI\", \"HND\", \"HUN\", \"IND\", \"IDN\", \"IRN\", \"IRQ\", \"IRL\", \"IMN\", \"ISR\", \"ITA\", \"JAM\", \"JPN\", \"KAZ\", \"KEN\", \"XKX\", \"KWT\", \"LAO\", \"LVA\", \"LBN\", \"LSO\", \"LBR\", \"LUX\", \"MWI\", \"MYS\", \"MDV\", \"MLI\", \"MEX\", \"MNG\", \"MAR\", \"MMR\", \"NPL\", \"NLD\", \"NZL\", \"NIC\", \"NER\", \"NGA\", \"NOR\", \"OTH\", \"PAK\", \"PNG\", \"PRY\", \"PER\", \"PHL\", \"POL\", \"PRT\", \"QAT\", \"ROU\", \"RUS\", \"SAU\", \"SGP\", \"SVN\", \"SOM\", \"ZAF\", \"KOR\", \"SSD\", \"ESP\", \"LKA\", \"SWE\", \"CHE\", \"SYR\", \"TWN\", \"TZA\", \"THA\", \"TTO\", \"TUR\", \"UKR\", \"ARE\", \"GBR\", \"USA\", \"URY\", \"VEN\", \"VNM\", \"YEM\", \"ZMB\", \"ZWE\"], \"name\": \"\", \"type\": \"choropleth\", \"z\": [0.0, 1.0, 0.75, 1.0, 0.7387387387387387, 0.4, 0.017857142857142856, 1.0, 0.14754098360655737, 0.7142857142857143, 0.0, 0.5, 0.5, 0.3333333333333333, 0.0, 0.0, 0.3076923076923077, 0.26666666666666666, 0.0, 0.6428571428571429, 0.35714285714285715, 0.0, 0.0, 0.6666666666666666, 0.2857142857142857, 0.25, 0.0, 0.42857142857142855, 0.0, 0.6666666666666666, 0.0, 0.0, 1.0, 0.7, 0.5609756097560976, 0.0, 0.25, 0.125, 0.16666666666666666, 0.0, 1.0, 0.0, 0.3333333333333333, 0.13333333333333333, 0.25, 0.0, 0.0, 0.2892561983471074, 0.0, 0.3333333333333333, 0.17647058823529413, 0.0, 0.5, 0.0, 0.13333333333333333, 0.0, 0.0, 0.5, 0.0, 0.029411764705882353, 0.0, 0.0, 0.0, 0.0, 0.5, 0.0, 0.75, 0.5555555555555556, 0.0, 1.0, 0.6666666666666666, 0.42857142857142855, 0.4482758620689655, 0.75, 1.0, 0.0, 0.03333333333333333, 0.7647058823529411, 0.397652960673654, 0.00847457627118644, 0.0, 0.0, 0.0, 0.11764705882352941, 0.6666666666666666, 0.5, 0.0, 0.4444444444444444, 0.5714285714285714, 0.0, 0.8571428571428571, 0.5, 0.0, 0.22388059701492538, 0.5454545454545454, 0.0, 0.47619047619047616, 0.0, 0.6153846153846154, 0.08, 0.0, 0.0, 1.0, 0.5555555555555556, 0.0, 0.5714285714285714, 0.5555555555555556, 0.23809523809523808, 0.5700575815738963, 0.17686910234696346, 0.0, 0.0, 1.0, 0.0, 0.0, 0.0]}],\n",
              "                        {\"coloraxis\": {\"colorbar\": {\"title\": {\"text\": \"Anti-Vaccination Tweets %\"}}, \"colorscale\": [[0.0, \"#0d0887\"], [0.1111111111111111, \"#46039f\"], [0.2222222222222222, \"#7201a8\"], [0.3333333333333333, \"#9c179e\"], [0.4444444444444444, \"#bd3786\"], [0.5555555555555556, \"#d8576b\"], [0.6666666666666666, \"#ed7953\"], [0.7777777777777778, \"#fb9f3a\"], [0.8888888888888888, \"#fdca26\"], [1.0, \"#f0f921\"]]}, \"geo\": {\"center\": {}, \"coastlinecolor\": \"Black\", \"countrycolor\": \"Black\", \"domain\": {\"x\": [0.0, 1.0], \"y\": [0.0, 1.0]}, \"lakecolor\": \"LightBlue\", \"landcolor\": \"LightGrey\", \"oceancolor\": \"LightBlue\", \"projection\": {\"type\": \"natural earth\"}, \"rivercolor\": \"LightBlue\", \"scope\": \"world\", \"showcoastlines\": true, \"showcountries\": true, \"showlakes\": true, \"showland\": true, \"showocean\": true, \"showrivers\": true}, \"legend\": {\"tracegroupgap\": 0}, \"margin\": {\"t\": 60}, \"template\": {\"data\": {\"bar\": [{\"error_x\": {\"color\": \"#2a3f5f\"}, \"error_y\": {\"color\": \"#2a3f5f\"}, \"marker\": {\"line\": {\"color\": \"#E5ECF6\", \"width\": 0.5}}, \"type\": \"bar\"}], \"barpolar\": [{\"marker\": {\"line\": {\"color\": \"#E5ECF6\", \"width\": 0.5}}, \"type\": \"barpolar\"}], \"carpet\": [{\"aaxis\": {\"endlinecolor\": \"#2a3f5f\", \"gridcolor\": \"white\", \"linecolor\": \"white\", \"minorgridcolor\": \"white\", \"startlinecolor\": \"#2a3f5f\"}, \"baxis\": {\"endlinecolor\": \"#2a3f5f\", \"gridcolor\": \"white\", \"linecolor\": \"white\", \"minorgridcolor\": \"white\", \"startlinecolor\": \"#2a3f5f\"}, \"type\": \"carpet\"}], \"choropleth\": [{\"colorbar\": {\"outlinewidth\": 0, \"ticks\": \"\"}, \"type\": \"choropleth\"}], \"contour\": [{\"colorbar\": {\"outlinewidth\": 0, \"ticks\": \"\"}, \"colorscale\": [[0.0, \"#0d0887\"], [0.1111111111111111, \"#46039f\"], [0.2222222222222222, \"#7201a8\"], [0.3333333333333333, \"#9c179e\"], [0.4444444444444444, \"#bd3786\"], [0.5555555555555556, \"#d8576b\"], [0.6666666666666666, \"#ed7953\"], [0.7777777777777778, \"#fb9f3a\"], [0.8888888888888888, \"#fdca26\"], [1.0, \"#f0f921\"]], \"type\": \"contour\"}], \"contourcarpet\": [{\"colorbar\": {\"outlinewidth\": 0, \"ticks\": \"\"}, \"type\": \"contourcarpet\"}], \"heatmap\": [{\"colorbar\": {\"outlinewidth\": 0, \"ticks\": \"\"}, \"colorscale\": [[0.0, \"#0d0887\"], [0.1111111111111111, \"#46039f\"], [0.2222222222222222, \"#7201a8\"], [0.3333333333333333, \"#9c179e\"], [0.4444444444444444, \"#bd3786\"], [0.5555555555555556, \"#d8576b\"], [0.6666666666666666, \"#ed7953\"], [0.7777777777777778, \"#fb9f3a\"], [0.8888888888888888, \"#fdca26\"], [1.0, \"#f0f921\"]], \"type\": \"heatmap\"}], \"heatmapgl\": [{\"colorbar\": {\"outlinewidth\": 0, \"ticks\": \"\"}, \"colorscale\": [[0.0, \"#0d0887\"], [0.1111111111111111, \"#46039f\"], [0.2222222222222222, \"#7201a8\"], [0.3333333333333333, \"#9c179e\"], [0.4444444444444444, \"#bd3786\"], [0.5555555555555556, \"#d8576b\"], [0.6666666666666666, \"#ed7953\"], [0.7777777777777778, \"#fb9f3a\"], [0.8888888888888888, \"#fdca26\"], [1.0, \"#f0f921\"]], \"type\": \"heatmapgl\"}], \"histogram\": [{\"marker\": {\"colorbar\": {\"outlinewidth\": 0, \"ticks\": \"\"}}, \"type\": \"histogram\"}], \"histogram2d\": [{\"colorbar\": {\"outlinewidth\": 0, \"ticks\": \"\"}, \"colorscale\": [[0.0, \"#0d0887\"], [0.1111111111111111, \"#46039f\"], [0.2222222222222222, \"#7201a8\"], [0.3333333333333333, \"#9c179e\"], [0.4444444444444444, \"#bd3786\"], [0.5555555555555556, \"#d8576b\"], [0.6666666666666666, \"#ed7953\"], [0.7777777777777778, \"#fb9f3a\"], [0.8888888888888888, \"#fdca26\"], [1.0, \"#f0f921\"]], \"type\": \"histogram2d\"}], \"histogram2dcontour\": [{\"colorbar\": {\"outlinewidth\": 0, \"ticks\": \"\"}, \"colorscale\": [[0.0, \"#0d0887\"], [0.1111111111111111, \"#46039f\"], [0.2222222222222222, \"#7201a8\"], [0.3333333333333333, \"#9c179e\"], [0.4444444444444444, \"#bd3786\"], [0.5555555555555556, \"#d8576b\"], [0.6666666666666666, \"#ed7953\"], [0.7777777777777778, \"#fb9f3a\"], [0.8888888888888888, \"#fdca26\"], [1.0, \"#f0f921\"]], \"type\": \"histogram2dcontour\"}], \"mesh3d\": [{\"colorbar\": {\"outlinewidth\": 0, \"ticks\": \"\"}, \"type\": \"mesh3d\"}], \"parcoords\": [{\"line\": {\"colorbar\": {\"outlinewidth\": 0, \"ticks\": \"\"}}, \"type\": \"parcoords\"}], \"pie\": [{\"automargin\": true, \"type\": \"pie\"}], \"scatter\": [{\"marker\": {\"colorbar\": {\"outlinewidth\": 0, \"ticks\": \"\"}}, \"type\": \"scatter\"}], \"scatter3d\": [{\"line\": {\"colorbar\": {\"outlinewidth\": 0, \"ticks\": \"\"}}, \"marker\": {\"colorbar\": {\"outlinewidth\": 0, \"ticks\": \"\"}}, \"type\": \"scatter3d\"}], \"scattercarpet\": [{\"marker\": {\"colorbar\": {\"outlinewidth\": 0, \"ticks\": \"\"}}, \"type\": \"scattercarpet\"}], \"scattergeo\": [{\"marker\": {\"colorbar\": {\"outlinewidth\": 0, \"ticks\": \"\"}}, \"type\": \"scattergeo\"}], \"scattergl\": [{\"marker\": {\"colorbar\": {\"outlinewidth\": 0, \"ticks\": \"\"}}, \"type\": \"scattergl\"}], \"scattermapbox\": [{\"marker\": {\"colorbar\": {\"outlinewidth\": 0, \"ticks\": \"\"}}, \"type\": \"scattermapbox\"}], \"scatterpolar\": [{\"marker\": {\"colorbar\": {\"outlinewidth\": 0, \"ticks\": \"\"}}, \"type\": \"scatterpolar\"}], \"scatterpolargl\": [{\"marker\": {\"colorbar\": {\"outlinewidth\": 0, \"ticks\": \"\"}}, \"type\": \"scatterpolargl\"}], \"scatterternary\": [{\"marker\": {\"colorbar\": {\"outlinewidth\": 0, \"ticks\": \"\"}}, \"type\": \"scatterternary\"}], \"surface\": [{\"colorbar\": {\"outlinewidth\": 0, \"ticks\": \"\"}, \"colorscale\": [[0.0, \"#0d0887\"], [0.1111111111111111, \"#46039f\"], [0.2222222222222222, \"#7201a8\"], [0.3333333333333333, \"#9c179e\"], [0.4444444444444444, \"#bd3786\"], [0.5555555555555556, \"#d8576b\"], [0.6666666666666666, \"#ed7953\"], [0.7777777777777778, \"#fb9f3a\"], [0.8888888888888888, \"#fdca26\"], [1.0, \"#f0f921\"]], \"type\": \"surface\"}], \"table\": [{\"cells\": {\"fill\": {\"color\": \"#EBF0F8\"}, \"line\": {\"color\": \"white\"}}, \"header\": {\"fill\": {\"color\": \"#C8D4E3\"}, \"line\": {\"color\": \"white\"}}, \"type\": \"table\"}]}, \"layout\": {\"annotationdefaults\": {\"arrowcolor\": \"#2a3f5f\", \"arrowhead\": 0, \"arrowwidth\": 1}, \"coloraxis\": {\"colorbar\": {\"outlinewidth\": 0, \"ticks\": \"\"}}, \"colorscale\": {\"diverging\": [[0, \"#8e0152\"], [0.1, \"#c51b7d\"], [0.2, \"#de77ae\"], [0.3, \"#f1b6da\"], [0.4, \"#fde0ef\"], [0.5, \"#f7f7f7\"], [0.6, \"#e6f5d0\"], [0.7, \"#b8e186\"], [0.8, \"#7fbc41\"], [0.9, \"#4d9221\"], [1, \"#276419\"]], \"sequential\": [[0.0, \"#0d0887\"], [0.1111111111111111, \"#46039f\"], [0.2222222222222222, \"#7201a8\"], [0.3333333333333333, \"#9c179e\"], [0.4444444444444444, \"#bd3786\"], [0.5555555555555556, \"#d8576b\"], [0.6666666666666666, \"#ed7953\"], [0.7777777777777778, \"#fb9f3a\"], [0.8888888888888888, \"#fdca26\"], [1.0, \"#f0f921\"]], \"sequentialminus\": [[0.0, \"#0d0887\"], [0.1111111111111111, \"#46039f\"], [0.2222222222222222, \"#7201a8\"], [0.3333333333333333, \"#9c179e\"], [0.4444444444444444, \"#bd3786\"], [0.5555555555555556, \"#d8576b\"], [0.6666666666666666, \"#ed7953\"], [0.7777777777777778, \"#fb9f3a\"], [0.8888888888888888, \"#fdca26\"], [1.0, \"#f0f921\"]]}, \"colorway\": [\"#636efa\", \"#EF553B\", \"#00cc96\", \"#ab63fa\", \"#FFA15A\", \"#19d3f3\", \"#FF6692\", \"#B6E880\", \"#FF97FF\", \"#FECB52\"], \"font\": {\"color\": \"#2a3f5f\"}, \"geo\": {\"bgcolor\": \"white\", \"lakecolor\": \"white\", \"landcolor\": \"#E5ECF6\", \"showlakes\": true, \"showland\": true, \"subunitcolor\": \"white\"}, \"hoverlabel\": {\"align\": \"left\"}, \"hovermode\": \"closest\", \"mapbox\": {\"style\": \"light\"}, \"paper_bgcolor\": \"white\", \"plot_bgcolor\": \"#E5ECF6\", \"polar\": {\"angularaxis\": {\"gridcolor\": \"white\", \"linecolor\": \"white\", \"ticks\": \"\"}, \"bgcolor\": \"#E5ECF6\", \"radialaxis\": {\"gridcolor\": \"white\", \"linecolor\": \"white\", \"ticks\": \"\"}}, \"scene\": {\"xaxis\": {\"backgroundcolor\": \"#E5ECF6\", \"gridcolor\": \"white\", \"gridwidth\": 2, \"linecolor\": \"white\", \"showbackground\": true, \"ticks\": \"\", \"zerolinecolor\": \"white\"}, \"yaxis\": {\"backgroundcolor\": \"#E5ECF6\", \"gridcolor\": \"white\", \"gridwidth\": 2, \"linecolor\": \"white\", \"showbackground\": true, \"ticks\": \"\", \"zerolinecolor\": \"white\"}, \"zaxis\": {\"backgroundcolor\": \"#E5ECF6\", \"gridcolor\": \"white\", \"gridwidth\": 2, \"linecolor\": \"white\", \"showbackground\": true, \"ticks\": \"\", \"zerolinecolor\": \"white\"}}, \"shapedefaults\": {\"line\": {\"color\": \"#2a3f5f\"}}, \"ternary\": {\"aaxis\": {\"gridcolor\": \"white\", \"linecolor\": \"white\", \"ticks\": \"\"}, \"baxis\": {\"gridcolor\": \"white\", \"linecolor\": \"white\", \"ticks\": \"\"}, \"bgcolor\": \"#E5ECF6\", \"caxis\": {\"gridcolor\": \"white\", \"linecolor\": \"white\", \"ticks\": \"\"}}, \"title\": {\"x\": 0.05}, \"xaxis\": {\"automargin\": true, \"gridcolor\": \"white\", \"linecolor\": \"white\", \"ticks\": \"\", \"title\": {\"standoff\": 15}, \"zerolinecolor\": \"white\", \"zerolinewidth\": 2}, \"yaxis\": {\"automargin\": true, \"gridcolor\": \"white\", \"linecolor\": \"white\", \"ticks\": \"\", \"title\": {\"standoff\": 15}, \"zerolinecolor\": \"white\", \"zerolinewidth\": 2}}}, \"title\": {\"text\": \"Anti-Vax tweets precentages\"}},\n",
              "                        {\"responsive\": true}\n",
              "                    ).then(function(){\n",
              "                            \n",
              "var gd = document.getElementById('fc29ca2a-56d0-46d5-88d6-defc6b6d6521');\n",
              "var x = new MutationObserver(function (mutations, observer) {{\n",
              "        var display = window.getComputedStyle(gd).display;\n",
              "        if (!display || display === 'none') {{\n",
              "            console.log([gd, 'removed!']);\n",
              "            Plotly.purge(gd);\n",
              "            observer.disconnect();\n",
              "        }}\n",
              "}});\n",
              "\n",
              "// Listen for the removal of the full notebook cells\n",
              "var notebookContainer = gd.closest('#notebook-container');\n",
              "if (notebookContainer) {{\n",
              "    x.observe(notebookContainer, {childList: true});\n",
              "}}\n",
              "\n",
              "// Listen for the clearing of the current output cell\n",
              "var outputEl = gd.closest('.output');\n",
              "if (outputEl) {{\n",
              "    x.observe(outputEl, {childList: true});\n",
              "}}\n",
              "\n",
              "                        })\n",
              "                };\n",
              "                \n",
              "            </script>\n",
              "        </div>\n",
              "</body>\n",
              "</html>"
            ]
          },
          "metadata": {
            "tags": []
          }
        }
      ]
    },
    {
      "cell_type": "markdown",
      "metadata": {
        "id": "w0CT63oXw0Pd"
      },
      "source": [
        "### cleaning content column"
      ]
    },
    {
      "cell_type": "code",
      "metadata": {
        "id": "j0gleecvw0Pf"
      },
      "source": [
        "df[\"up_text\"] = df.text.str.lower()\n",
        "#Remove twitter handlers\n",
        "df.up_text = df.up_text.apply(lambda x:re.sub('@[^\\s]+','',x))\n",
        "\n",
        "#remove hashtags\n",
        "df.up_text = df.up_text.apply(lambda x:re.sub(r'\\B#\\S+','',x))\n",
        "\n",
        "# Remove URLS\n",
        "df.up_text = df.up_text.apply(lambda x:re.sub(r\"http\\S+\", \"\", x))\n",
        "\n",
        "# Remove all the special characters\n",
        "df.up_text = df.up_text.apply(lambda x:' '.join(re.findall(r'\\w+', x)))\n",
        "\n",
        "#remove all single characters\n",
        "df.up_text = df.up_text.apply(lambda x:re.sub(r'\\s+[a-zA-Z]\\s+', '', x))\n",
        "\n",
        "# Substituting multiple spaces with single space\n",
        "df.up_text = df.up_text.apply(lambda x:re.sub(r'\\s+', ' ', x, flags=re.I))\n"
      ],
      "execution_count": 72,
      "outputs": []
    },
    {
      "cell_type": "code",
      "metadata": {
        "id": "1RVytyV2w0Pg"
      },
      "source": [
        "df['hashtags'] =  df.text.str.lower()\n",
        "df.hashtags = df.hashtags.apply(lambda x:re.sub('@[^\\s]+','',x)) \n",
        "df.hashtags = df.hashtags.apply(lambda x:re.sub(r\"http\\S+\", \"\", x))\n",
        "df.hashtags = df.hashtags.apply(lambda x:re.sub(r'\\s+', ' ', x, flags=re.I))\n",
        "df.hashtags = df.hashtags.apply(lambda x: x if '#' in x else '')\n",
        "df.hashtags = df.hashtags.apply(lambda x: [i for i in x.split() if i.startswith('#')])"
      ],
      "execution_count": 73,
      "outputs": []
    },
    {
      "cell_type": "markdown",
      "metadata": {
        "id": "qcanBdwsw0Pg"
      },
      "source": [
        "### expand contractions\n"
      ]
    },
    {
      "cell_type": "code",
      "metadata": {
        "id": "818Rjvaiw0Pg"
      },
      "source": [
        "# Dictionary of English Contractions\n",
        "contractions_dict = { \"ain't\": \"are not \",\"'s\":\" is \",\"aren't\": \"are not\",\n",
        "                     \"can't\": \"cannot\",\"can't've\": \"cannot have\",\n",
        "                     \"'cause\": \"because\",\"could've\": \"could have\",\"couldn't\": \"could not\",\n",
        "                     \"couldn't've\": \"could not have\", \"didn't\": \"did not\",\"doesn't\": \"does not\",\n",
        "                     \"don't\": \"do not\",\"hadn't\": \"had not\",\"hadn't've\": \"had not have\",\n",
        "                     \"hasn't\": \"has not\",\"haven't\": \"have not\",\"he'd\": \"he would\",\n",
        "                     \"he'd've\": \"he would have\",\"he'll\": \"he will\", \"he'll've\": \"he will have\",\n",
        "                     \"how'd\": \"how did\",\"how'd'y\": \"how do you\",\"how'll\": \"how will\",\n",
        "                     \"I'd\": \"I would\", \"I'd've\": \"I would have\",\"I'll\": \"I will\",\n",
        "                     \"I'll've\": \"I will have\",\"I'm\": \"I am\",\"I've\": \"I have\", \"isn't\": \"is not\",\n",
        "                     \"it'd\": \"it would\",\"it'd've\": \"it would have\",\"it'll\": \"it will\",\n",
        "                     \"it'll've\": \"it will have\", \"let's\": \"let us\",\"ma'am\": \"madam\",\n",
        "                     \"mayn't\": \"may not\",\"might've\": \"might have\",\"mightn't\": \"might not\", \n",
        "                     \"mightn't've\": \"might not have\",\"must've\": \"must have\",\"mustn't\": \"must not\",\n",
        "                     \"mustn't've\": \"must not have\", \"needn't\": \"need not\",\n",
        "                     \"needn't've\": \"need not have\",\"o'clock\": \"of the clock\",\"oughtn't\": \"ought not\",\n",
        "                     \"oughtn't've\": \"ought not have\",\"shan't\": \"shall not\",\"sha'n't\": \"shall not\",\n",
        "                     \"shan't've\": \"shall not have\",\"she'd\": \"she would\",\"she'd've\": \"she would have\",\n",
        "                     \"she'll\": \"she will\", \"she'll've\": \"she will have\",\"should've\": \"should have\",\n",
        "                     \"shouldn't\": \"should not\", \"shouldn't've\": \"should not have\",\"so've\": \"so have\",\n",
        "                     \"that'd\": \"that would\",\"that'd've\": \"that would have\", \"there'd\": \"there would\",\n",
        "                     \"there'd've\": \"there would have\", \"they'd\": \"they would\",\n",
        "                     \"they'd've\": \"they would have\",\"they'll\": \"they will\",\n",
        "                     \"they'll've\": \"they will have\", \"they're\": \"they are\",\"they've\": \"they have\",\n",
        "                     \"to've\": \"to have\",\"wasn't\": \"was not\",\"we'd\": \"we would\",\n",
        "                     \"we'd've\": \"we would have\",\"we'll\": \"we will\",\"we'll've\": \"we will have\",\n",
        "                     \"we're\": \"we are\",\"we've\": \"we have\", \"weren't\": \"were not\",\"what'll\": \"what will\",\n",
        "                     \"what'll've\": \"what will have\",\"what're\": \"what are\", \"what've\": \"what have\",\n",
        "                     \"when've\": \"when have\",\"where'd\": \"where did\", \"where've\": \"where have\",\n",
        "                     \"who'll\": \"who will\",\"who'll've\": \"who will have\",\"who've\": \"who have\",\n",
        "                     \"why've\": \"why have\",\"will've\": \"will have\",\"won't\": \"will not\",\n",
        "                     \"won't've\": \"will not have\", \"would've\": \"would have\",\"wouldn't\": \"would not\",\n",
        "                     \"wouldn't've\": \"would not have\",\"y'all\": \"you all\", \"y'all'd\": \"you all would\",\n",
        "                     \"y'all'd've\": \"you all would have\",\"y'all're\": \"you all are\",\n",
        "                     \"y'all've\": \"you all have\", \"you'd\": \"you would\",\"you'd've\": \"you would have\",\n",
        "                     \"you'll\": \"you will\",\"you'll've\": \"you will have\", \"you're\": \"you are\",\n",
        "                     \"you've\": \"you have\"}\n",
        "\n",
        "# Regular expression for finding contractions\n",
        "contractions_re=re.compile('(%s)' % '|'.join(contractions_dict.keys()))\n",
        "\n",
        "# Function for expanding contractions\n",
        "def expand_contractions(text,contractions_dict=contractions_dict):\n",
        "    def replace(match):\n",
        "        return contractions_dict[match.group(0)]\n",
        "    return contractions_re.sub(replace, text)\n",
        "\n",
        "# Expanding Contractions in the reviews\n",
        "df['up_text']=df['up_text'].apply(lambda x:expand_contractions(x))"
      ],
      "execution_count": 74,
      "outputs": []
    },
    {
      "cell_type": "code",
      "metadata": {
        "colab": {
          "base_uri": "https://localhost:8080/"
        },
        "id": "JqJSmvaYw0Ph",
        "outputId": "b5a6e501-5b7d-4652-da95-f4e45b77cd13"
      },
      "source": [
        "for index,text in enumerate(df['up_text'][35:40]):\n",
        "    print('tweet %d:\\n'%(index+1),text)"
      ],
      "execution_count": 75,
      "outputs": [
        {
          "output_type": "stream",
          "text": [
            "tweet 1:\n",
            " rt thank you and all volunteers working the vaccine clinic this team has provided over 70 of our employees a\n",
            "tweet 2:\n",
            " rt looking at how hard these scientists have probably worked to get this vaccine made in suchshort amount of time says icu\n",
            "tweet 3:\n",
            " rt thank you and all volunteers working the vaccine clinic this team has provided over 70 of our employees a\n",
            "tweet 4:\n",
            " thank you and all volunteers working the vaccine clinic this team has provided over 70 of our em\n",
            "tweet 5:\n",
            " rt kentuckycovid 19 vaccine program to getsupply boost of more than 20 next week\n"
          ],
          "name": "stdout"
        }
      ]
    },
    {
      "cell_type": "markdown",
      "metadata": {
        "id": "06FYQQlfw0Pj"
      },
      "source": [
        "create tokenized column with no stop words "
      ]
    },
    {
      "cell_type": "code",
      "metadata": {
        "id": "B8i1W6Cow0Pj"
      },
      "source": [
        "df['tokenized'] = df['up_text'].apply(word_tokenize)\n",
        "stop_words = set(stopwords.words('english'))\n",
        "df['tokenized'] = df['tokenized'].apply(lambda x: [word for word in x if word not in stop_words])\n",
        "df['pos_tags'] = df['tokenized'].apply(nltk.tag.pos_tag)\n"
      ],
      "execution_count": 76,
      "outputs": []
    },
    {
      "cell_type": "code",
      "metadata": {
        "id": "vt-szEOOw0Pj"
      },
      "source": [
        "def get_wordnet_pos(tag):\n",
        "    if tag.startswith('J'):\n",
        "        return wordnet.ADJ\n",
        "    elif tag.startswith('V'):\n",
        "        return wordnet.VERB\n",
        "    elif tag.startswith('N'):\n",
        "        return wordnet.NOUN\n",
        "    elif tag.startswith('R'):\n",
        "        return wordnet.ADV\n",
        "    else:\n",
        "        return wordnet.NOUN\n",
        "    \n",
        "df['tokenized'] = df['pos_tags'].apply(lambda x: [(word, get_wordnet_pos(pos_tag)) for (word, pos_tag) in x])"
      ],
      "execution_count": 77,
      "outputs": []
    },
    {
      "cell_type": "code",
      "metadata": {
        "id": "PHwLZuYkw0Pj"
      },
      "source": [
        "wnl = WordNetLemmatizer()\n",
        "df['tokenized'] = df['tokenized'].apply(lambda x: [wnl.lemmatize(word, tag) for word, tag in x])"
      ],
      "execution_count": 78,
      "outputs": []
    },
    {
      "cell_type": "code",
      "metadata": {
        "id": "VT7z08_Ow0Pk"
      },
      "source": [
        "# df.tokenized[:5]"
      ],
      "execution_count": 79,
      "outputs": []
    },
    {
      "cell_type": "code",
      "metadata": {
        "id": "ThHGF6ISzQYD"
      },
      "source": [
        "df['user_created'] = pd.to_datetime(df['user_created'], infer_datetime_format=True).dt.date\n",
        "df['n_words'] = df['up_text'].apply(lambda x: len(x.split()))"
      ],
      "execution_count": 80,
      "outputs": []
    },
    {
      "cell_type": "markdown",
      "metadata": {
        "id": "XN8owLMhK-tY"
      },
      "source": [
        "### splitting:"
      ]
    },
    {
      "cell_type": "code",
      "metadata": {
        "id": "9ciLN-KHK9EQ",
        "colab": {
          "base_uri": "https://localhost:8080/"
        },
        "outputId": "65f32bb8-574b-40b8-d4a3-33cbd957e721"
      },
      "source": [
        "np.random.seed(42)\n",
        "target = 'category'\n",
        "features1 = list([col for col in df.columns if col != target])\n",
        "\n",
        "X, y = df[features1], df[target]\n",
        "X_train, X_test, y_train, y_test = train_test_split(X, y, test_size=0.2, random_state=42, stratify=y)\n",
        "X_train.shape, X_test.shape, y_train.shape, y_test.shape"
      ],
      "execution_count": 81,
      "outputs": [
        {
          "output_type": "execute_result",
          "data": {
            "text/plain": [
              "((15231, 22), (3808, 22), (15231,), (3808,))"
            ]
          },
          "metadata": {
            "tags": []
          },
          "execution_count": 81
        }
      ]
    },
    {
      "cell_type": "markdown",
      "metadata": {
        "id": "uC5T3fyXLAxR"
      },
      "source": [
        "### taking care of user_name"
      ]
    },
    {
      "cell_type": "code",
      "metadata": {
        "colab": {
          "base_uri": "https://localhost:8080/"
        },
        "id": "XLN6kTM_LQpl",
        "outputId": "4cf8f265-2484-4ea3-ebea-2593499d9c48"
      },
      "source": [
        "df.user_name.value_counts()[:15] "
      ],
      "execution_count": 82,
      "outputs": [
        {
          "output_type": "execute_result",
          "data": {
            "text/plain": [
              "Nakhasi_MD         387\n",
              "SunshineTheGrey    130\n",
              "drkkyu              81\n",
              "ThisIsOurShot       75\n",
              "Cagsil              75\n",
              "NYCHealthSystem     67\n",
              "doritmi             58\n",
              "lizditz             55\n",
              "KimYuMD             51\n",
              "DeniseVFriend       45\n",
              "JZtoRlIkqoYOEDl     44\n",
              "viralvideovlogs     36\n",
              "DrIanWeissman       32\n",
              "lostcreatives1      30\n",
              "MeIAmBen1           28\n",
              "Name: user_name, dtype: int64"
            ]
          },
          "metadata": {
            "tags": []
          },
          "execution_count": 82
        }
      ]
    },
    {
      "cell_type": "code",
      "metadata": {
        "colab": {
          "base_uri": "https://localhost:8080/",
          "height": 1000
        },
        "id": "XauzqsLtLBB7",
        "outputId": "f1a9a550-5d11-49d2-d8e2-fd2fca647501"
      },
      "source": [
        "ten_most_common_names = X_train.user_name.value_counts().keys().tolist()[:10]\n",
        "X_train['ten most common names'] = X_train.apply (lambda row: 1 if row.user_name in ten_most_common_names else 0 , axis=1)\n",
        "X_test['ten most common names'] = X_test.apply (lambda row: 1 if row.user_name in ten_most_common_names else 0 , axis=1)\n",
        "display(X_train.sample(3))\n",
        "display(X_test.sample(3))"
      ],
      "execution_count": 83,
      "outputs": [
        {
          "output_type": "display_data",
          "data": {
            "text/html": [
              "<div>\n",
              "<style scoped>\n",
              "    .dataframe tbody tr th:only-of-type {\n",
              "        vertical-align: middle;\n",
              "    }\n",
              "\n",
              "    .dataframe tbody tr th {\n",
              "        vertical-align: top;\n",
              "    }\n",
              "\n",
              "    .dataframe thead th {\n",
              "        text-align: right;\n",
              "    }\n",
              "</style>\n",
              "<table border=\"1\" class=\"dataframe\">\n",
              "  <thead>\n",
              "    <tr style=\"text-align: right;\">\n",
              "      <th></th>\n",
              "      <th>user_name</th>\n",
              "      <th>user_location</th>\n",
              "      <th>user_description</th>\n",
              "      <th>user_created</th>\n",
              "      <th>user_followers</th>\n",
              "      <th>date</th>\n",
              "      <th>text</th>\n",
              "      <th>favorites</th>\n",
              "      <th>retweets</th>\n",
              "      <th>is_retweet</th>\n",
              "      <th>user_location_updated</th>\n",
              "      <th>user-country_code</th>\n",
              "      <th>user-country</th>\n",
              "      <th>week_day</th>\n",
              "      <th>month</th>\n",
              "      <th>year</th>\n",
              "      <th>tweet_?!_marks</th>\n",
              "      <th>up_text</th>\n",
              "      <th>hashtags</th>\n",
              "      <th>tokenized</th>\n",
              "      <th>pos_tags</th>\n",
              "      <th>n_words</th>\n",
              "      <th>ten most common names</th>\n",
              "    </tr>\n",
              "  </thead>\n",
              "  <tbody>\n",
              "    <tr>\n",
              "      <th>36</th>\n",
              "      <td>CMOH_Alberta</td>\n",
              "      <td>Alberta</td>\n",
              "      <td>Alberta’s Chief Medical Officer of Health. Account run by staff, providing public health updates on COVID-19. Essential info: https://t.co/Hq1t7pOpwT</td>\n",
              "      <td>2020-03-16</td>\n",
              "      <td>126472</td>\n",
              "      <td>2021-02-17 20:54:13</td>\n",
              "      <td>RT @AHS_media: “Looking at how hard these scientists have probably worked to get this vaccine made in such a short amount of time,”says ICU…</td>\n",
              "      <td>0</td>\n",
              "      <td>12</td>\n",
              "      <td>True</td>\n",
              "      <td>Alberta</td>\n",
              "      <td>CAN</td>\n",
              "      <td>Canada</td>\n",
              "      <td>2</td>\n",
              "      <td>2</td>\n",
              "      <td>2021</td>\n",
              "      <td>0</td>\n",
              "      <td>rt looking at how hard these scientists have probably worked to get this vaccine made in suchshort amount of time says icu</td>\n",
              "      <td>[]</td>\n",
              "      <td>[rt, look, hard, scientist, probably, work, get, vaccine, make, suchshort, amount, time, say, icu]</td>\n",
              "      <td>[(rt, NN), (looking, VBG), (hard, JJ), (scientists, NNS), (probably, RB), (worked, VBD), (get, VB), (vaccine, NN), (made, VBN), (suchshort, NN), (amount, NN), (time, NN), (says, VBZ), (icu, NN)]</td>\n",
              "      <td>22</td>\n",
              "      <td>0</td>\n",
              "    </tr>\n",
              "    <tr>\n",
              "      <th>5940</th>\n",
              "      <td>PemaYongchen</td>\n",
              "      <td>The Boston Mountains, the oldest mountains on the planet</td>\n",
              "      <td>Earth Sculptor &amp; Native Plant Grower\\nPreserving the Past for Tomorrow Today\\nIt's Time for a New Paradigm \\nI'd rather self-isolate than ventilate.  \\nStay home.</td>\n",
              "      <td>2018-03-19</td>\n",
              "      <td>6790</td>\n",
              "      <td>2021-02-08 22:57:02</td>\n",
              "      <td>RT @emiliainnyc: Citi Field vaccination hub to open Wednesday 💉 #covid19 #GetVaccinated \\n\\nhttps://t.co/4oHtGYAeZd</td>\n",
              "      <td>0</td>\n",
              "      <td>2</td>\n",
              "      <td>True</td>\n",
              "      <td>The Boston Mountains, the oldest mountains on the planet</td>\n",
              "      <td>OTH</td>\n",
              "      <td>Other</td>\n",
              "      <td>0</td>\n",
              "      <td>2</td>\n",
              "      <td>2021</td>\n",
              "      <td>0</td>\n",
              "      <td>rt citi field vaccination hub to open wednesday</td>\n",
              "      <td>[#covid19, #getvaccinated]</td>\n",
              "      <td>[rt, citi, field, vaccination, hub, open, wednesday]</td>\n",
              "      <td>[(rt, NN), (citi, JJ), (field, NN), (vaccination, NN), (hub, NN), (open, JJ), (wednesday, NN)]</td>\n",
              "      <td>8</td>\n",
              "      <td>0</td>\n",
              "    </tr>\n",
              "    <tr>\n",
              "      <th>28855</th>\n",
              "      <td>JanieceStaton</td>\n",
              "      <td>Beaverton, Oregon, USA</td>\n",
              "      <td>Hello!  Devoted &amp; disabled RN, BSN, MSW, MAT, who has redefined my career as Activist &amp; Advocate. RTs don't = endorsements! Shalom!</td>\n",
              "      <td>2011-11-11</td>\n",
              "      <td>2671</td>\n",
              "      <td>2021-01-17 06:32:27</td>\n",
              "      <td>RT @WADeptHealth: 200,000 vaccinations &amp;amp; counting for Washington’s healthcare workers! Thank you for working tirelessly to keep our state s…</td>\n",
              "      <td>0</td>\n",
              "      <td>44</td>\n",
              "      <td>True</td>\n",
              "      <td>Beaverton, Oregon, USA</td>\n",
              "      <td>OTH</td>\n",
              "      <td>Other</td>\n",
              "      <td>6</td>\n",
              "      <td>1</td>\n",
              "      <td>2021</td>\n",
              "      <td>1</td>\n",
              "      <td>rt 200 000 vaccinations amp counting for washingtonhealthcare workers thank you for working tirelessly to keep our state s</td>\n",
              "      <td>[]</td>\n",
              "      <td>[rt, 200, 000, vaccination, amp, count, washingtonhealthcare, worker, thank, work, tirelessly, keep, state]</td>\n",
              "      <td>[(rt, NN), (200, CD), (000, CD), (vaccinations, NNS), (amp, VBP), (counting, VBG), (washingtonhealthcare, NN), (workers, NNS), (thank, VBD), (working, VBG), (tirelessly, RB), (keep, VB), (state, NN)]</td>\n",
              "      <td>19</td>\n",
              "      <td>0</td>\n",
              "    </tr>\n",
              "  </tbody>\n",
              "</table>\n",
              "</div>"
            ],
            "text/plain": [
              "           user_name  \\\n",
              "36      CMOH_Alberta   \n",
              "5940    PemaYongchen   \n",
              "28855  JanieceStaton   \n",
              "\n",
              "                                                  user_location  \\\n",
              "36                                                      Alberta   \n",
              "5940   The Boston Mountains, the oldest mountains on the planet   \n",
              "28855                                    Beaverton, Oregon, USA   \n",
              "\n",
              "                                                                                                                                                         user_description  \\\n",
              "36                  Alberta’s Chief Medical Officer of Health. Account run by staff, providing public health updates on COVID-19. Essential info: https://t.co/Hq1t7pOpwT   \n",
              "5940   Earth Sculptor & Native Plant Grower\\nPreserving the Past for Tomorrow Today\\nIt's Time for a New Paradigm \\nI'd rather self-isolate than ventilate.  \\nStay home.   \n",
              "28855                                 Hello!  Devoted & disabled RN, BSN, MSW, MAT, who has redefined my career as Activist & Advocate. RTs don't = endorsements! Shalom!   \n",
              "\n",
              "      user_created  user_followers                date  \\\n",
              "36      2020-03-16          126472 2021-02-17 20:54:13   \n",
              "5940    2018-03-19            6790 2021-02-08 22:57:02   \n",
              "28855   2011-11-11            2671 2021-01-17 06:32:27   \n",
              "\n",
              "                                                                                                                                                   text  \\\n",
              "36         RT @AHS_media: “Looking at how hard these scientists have probably worked to get this vaccine made in such a short amount of time,”says ICU…   \n",
              "5940                                RT @emiliainnyc: Citi Field vaccination hub to open Wednesday 💉 #covid19 #GetVaccinated \\n\\nhttps://t.co/4oHtGYAeZd   \n",
              "28855  RT @WADeptHealth: 200,000 vaccinations &amp; counting for Washington’s healthcare workers! Thank you for working tirelessly to keep our state s…   \n",
              "\n",
              "       favorites  retweets  is_retweet  \\\n",
              "36             0        12        True   \n",
              "5940           0         2        True   \n",
              "28855          0        44        True   \n",
              "\n",
              "                                          user_location_updated  \\\n",
              "36                                                      Alberta   \n",
              "5940   The Boston Mountains, the oldest mountains on the planet   \n",
              "28855                                    Beaverton, Oregon, USA   \n",
              "\n",
              "      user-country_code user-country  week_day  month  year  tweet_?!_marks  \\\n",
              "36                  CAN       Canada         2      2  2021               0   \n",
              "5940                OTH        Other         0      2  2021               0   \n",
              "28855               OTH        Other         6      1  2021               1   \n",
              "\n",
              "                                                                                                                          up_text  \\\n",
              "36     rt looking at how hard these scientists have probably worked to get this vaccine made in suchshort amount of time says icu   \n",
              "5940                                                                              rt citi field vaccination hub to open wednesday   \n",
              "28855  rt 200 000 vaccinations amp counting for washingtonhealthcare workers thank you for working tirelessly to keep our state s   \n",
              "\n",
              "                         hashtags  \\\n",
              "36                             []   \n",
              "5940   [#covid19, #getvaccinated]   \n",
              "28855                          []   \n",
              "\n",
              "                                                                                                         tokenized  \\\n",
              "36              [rt, look, hard, scientist, probably, work, get, vaccine, make, suchshort, amount, time, say, icu]   \n",
              "5940                                                          [rt, citi, field, vaccination, hub, open, wednesday]   \n",
              "28855  [rt, 200, 000, vaccination, amp, count, washingtonhealthcare, worker, thank, work, tirelessly, keep, state]   \n",
              "\n",
              "                                                                                                                                                                                                      pos_tags  \\\n",
              "36          [(rt, NN), (looking, VBG), (hard, JJ), (scientists, NNS), (probably, RB), (worked, VBD), (get, VB), (vaccine, NN), (made, VBN), (suchshort, NN), (amount, NN), (time, NN), (says, VBZ), (icu, NN)]   \n",
              "5940                                                                                                            [(rt, NN), (citi, JJ), (field, NN), (vaccination, NN), (hub, NN), (open, JJ), (wednesday, NN)]   \n",
              "28855  [(rt, NN), (200, CD), (000, CD), (vaccinations, NNS), (amp, VBP), (counting, VBG), (washingtonhealthcare, NN), (workers, NNS), (thank, VBD), (working, VBG), (tirelessly, RB), (keep, VB), (state, NN)]   \n",
              "\n",
              "       n_words  ten most common names  \n",
              "36          22                      0  \n",
              "5940         8                      0  \n",
              "28855       19                      0  "
            ]
          },
          "metadata": {
            "tags": []
          }
        },
        {
          "output_type": "display_data",
          "data": {
            "text/html": [
              "<div>\n",
              "<style scoped>\n",
              "    .dataframe tbody tr th:only-of-type {\n",
              "        vertical-align: middle;\n",
              "    }\n",
              "\n",
              "    .dataframe tbody tr th {\n",
              "        vertical-align: top;\n",
              "    }\n",
              "\n",
              "    .dataframe thead th {\n",
              "        text-align: right;\n",
              "    }\n",
              "</style>\n",
              "<table border=\"1\" class=\"dataframe\">\n",
              "  <thead>\n",
              "    <tr style=\"text-align: right;\">\n",
              "      <th></th>\n",
              "      <th>user_name</th>\n",
              "      <th>user_location</th>\n",
              "      <th>user_description</th>\n",
              "      <th>user_created</th>\n",
              "      <th>user_followers</th>\n",
              "      <th>date</th>\n",
              "      <th>text</th>\n",
              "      <th>favorites</th>\n",
              "      <th>retweets</th>\n",
              "      <th>is_retweet</th>\n",
              "      <th>user_location_updated</th>\n",
              "      <th>user-country_code</th>\n",
              "      <th>user-country</th>\n",
              "      <th>week_day</th>\n",
              "      <th>month</th>\n",
              "      <th>year</th>\n",
              "      <th>tweet_?!_marks</th>\n",
              "      <th>up_text</th>\n",
              "      <th>hashtags</th>\n",
              "      <th>tokenized</th>\n",
              "      <th>pos_tags</th>\n",
              "      <th>n_words</th>\n",
              "      <th>ten most common names</th>\n",
              "    </tr>\n",
              "  </thead>\n",
              "  <tbody>\n",
              "    <tr>\n",
              "      <th>28421</th>\n",
              "      <td>NACHC</td>\n",
              "      <td>Bethesda, MD</td>\n",
              "      <td>The leading advocacy organization in support of Community Health Centers and the expansion of health care access for the uninsured and medically underserved.</td>\n",
              "      <td>2008-12-30</td>\n",
              "      <td>10587</td>\n",
              "      <td>2021-01-21 23:55:54</td>\n",
              "      <td>RT @NorthPointMpls: “I got my vaccine to protect my son who is not old enough to get his shot!” - Erin, NorthPoint Lab Tech\\n\\n#igottheshot #…</td>\n",
              "      <td>0</td>\n",
              "      <td>1</td>\n",
              "      <td>True</td>\n",
              "      <td>Bethesda, MD</td>\n",
              "      <td>OTH</td>\n",
              "      <td>Other</td>\n",
              "      <td>3</td>\n",
              "      <td>1</td>\n",
              "      <td>2021</td>\n",
              "      <td>1</td>\n",
              "      <td>rtgot my vaccine to protect my son who is not old enough to get his shot erin northpoint lab tech</td>\n",
              "      <td>[#igottheshot, #…]</td>\n",
              "      <td>[rtgot, vaccine, protect, son, old, enough, get, shot, erin, northpoint, lab, tech]</td>\n",
              "      <td>[(rtgot, NN), (vaccine, NN), (protect, VBP), (son, NN), (old, JJ), (enough, RB), (get, VBP), (shot, JJ), (erin, NN), (northpoint, NN), (lab, NN), (tech, NN)]</td>\n",
              "      <td>20</td>\n",
              "      <td>0</td>\n",
              "    </tr>\n",
              "    <tr>\n",
              "      <th>33449</th>\n",
              "      <td>ITjodie</td>\n",
              "      <td>Commiefornia RV refugee</td>\n",
              "      <td>prlr: @cryptomojo gab: @cryptocoinjo-Red Pilled. Freedom loving agorist. Truth is not negotiable.  Seek to understand. Be the change. Think~Act~Believe.</td>\n",
              "      <td>2008-11-30</td>\n",
              "      <td>141</td>\n",
              "      <td>2021-01-22 05:37:26</td>\n",
              "      <td>RT @NickHudsonCT: Raising conflicts of interest DOES NOT make you a conspiracy theorist.\\n\\nQuerying safety &amp;amp; efficacy DOES NOT make you anti…</td>\n",
              "      <td>0</td>\n",
              "      <td>1758</td>\n",
              "      <td>True</td>\n",
              "      <td>Commiefornia RV refugee</td>\n",
              "      <td>OTH</td>\n",
              "      <td>Other</td>\n",
              "      <td>4</td>\n",
              "      <td>1</td>\n",
              "      <td>2021</td>\n",
              "      <td>0</td>\n",
              "      <td>rt raising conflicts of interest does not make youconspiracy theorist querying safety amp efficacy does not make you anti</td>\n",
              "      <td>[]</td>\n",
              "      <td>[rt, raise, conflict, interest, make, youconspiracy, theorist, query, safety, amp, efficacy, make, anti]</td>\n",
              "      <td>[(rt, NN), (raising, VBG), (conflicts, NNS), (interest, NN), (make, VBP), (youconspiracy, NN), (theorist, NN), (querying, VBG), (safety, NN), (amp, NN), (efficacy, NN), (make, VBP), (anti, NN)]</td>\n",
              "      <td>19</td>\n",
              "      <td>0</td>\n",
              "    </tr>\n",
              "    <tr>\n",
              "      <th>28883</th>\n",
              "      <td>CMEdPrince</td>\n",
              "      <td>Renton, WA</td>\n",
              "      <td>Councilmember, City of Renton\\n\\nPresident, Sound Cities Association\\n\\nBoardmember, Sound Transit\\n\\nVice Chair, GMPB\\n\\nRT's &amp; Likes ≠ endorsement</td>\n",
              "      <td>2017-12-07</td>\n",
              "      <td>140</td>\n",
              "      <td>2021-01-16 21:33:55</td>\n",
              "      <td>RT @WADeptHealth: 200,000 vaccinations &amp;amp; counting for Washington’s healthcare workers! Thank you for working tirelessly to keep our state s…</td>\n",
              "      <td>0</td>\n",
              "      <td>44</td>\n",
              "      <td>True</td>\n",
              "      <td>Renton, WA</td>\n",
              "      <td>OTH</td>\n",
              "      <td>Other</td>\n",
              "      <td>5</td>\n",
              "      <td>1</td>\n",
              "      <td>2021</td>\n",
              "      <td>1</td>\n",
              "      <td>rt 200 000 vaccinations amp counting for washingtonhealthcare workers thank you for working tirelessly to keep our state s</td>\n",
              "      <td>[]</td>\n",
              "      <td>[rt, 200, 000, vaccination, amp, count, washingtonhealthcare, worker, thank, work, tirelessly, keep, state]</td>\n",
              "      <td>[(rt, NN), (200, CD), (000, CD), (vaccinations, NNS), (amp, VBP), (counting, VBG), (washingtonhealthcare, NN), (workers, NNS), (thank, VBD), (working, VBG), (tirelessly, RB), (keep, VB), (state, NN)]</td>\n",
              "      <td>19</td>\n",
              "      <td>0</td>\n",
              "    </tr>\n",
              "  </tbody>\n",
              "</table>\n",
              "</div>"
            ],
            "text/plain": [
              "        user_name            user_location  \\\n",
              "28421       NACHC             Bethesda, MD   \n",
              "33449     ITjodie  Commiefornia RV refugee   \n",
              "28883  CMEdPrince               Renton, WA   \n",
              "\n",
              "                                                                                                                                                    user_description  \\\n",
              "28421  The leading advocacy organization in support of Community Health Centers and the expansion of health care access for the uninsured and medically underserved.   \n",
              "33449       prlr: @cryptomojo gab: @cryptocoinjo-Red Pilled. Freedom loving agorist. Truth is not negotiable.  Seek to understand. Be the change. Think~Act~Believe.   \n",
              "28883           Councilmember, City of Renton\\n\\nPresident, Sound Cities Association\\n\\nBoardmember, Sound Transit\\n\\nVice Chair, GMPB\\n\\nRT's & Likes ≠ endorsement   \n",
              "\n",
              "      user_created  user_followers                date  \\\n",
              "28421   2008-12-30           10587 2021-01-21 23:55:54   \n",
              "33449   2008-11-30             141 2021-01-22 05:37:26   \n",
              "28883   2017-12-07             140 2021-01-16 21:33:55   \n",
              "\n",
              "                                                                                                                                                     text  \\\n",
              "28421      RT @NorthPointMpls: “I got my vaccine to protect my son who is not old enough to get his shot!” - Erin, NorthPoint Lab Tech\\n\\n#igottheshot #…   \n",
              "33449  RT @NickHudsonCT: Raising conflicts of interest DOES NOT make you a conspiracy theorist.\\n\\nQuerying safety &amp; efficacy DOES NOT make you anti…   \n",
              "28883    RT @WADeptHealth: 200,000 vaccinations &amp; counting for Washington’s healthcare workers! Thank you for working tirelessly to keep our state s…   \n",
              "\n",
              "       favorites  retweets  is_retweet    user_location_updated  \\\n",
              "28421          0         1        True             Bethesda, MD   \n",
              "33449          0      1758        True  Commiefornia RV refugee   \n",
              "28883          0        44        True               Renton, WA   \n",
              "\n",
              "      user-country_code user-country  week_day  month  year  tweet_?!_marks  \\\n",
              "28421               OTH        Other         3      1  2021               1   \n",
              "33449               OTH        Other         4      1  2021               0   \n",
              "28883               OTH        Other         5      1  2021               1   \n",
              "\n",
              "                                                                                                                          up_text  \\\n",
              "28421                           rtgot my vaccine to protect my son who is not old enough to get his shot erin northpoint lab tech   \n",
              "33449   rt raising conflicts of interest does not make youconspiracy theorist querying safety amp efficacy does not make you anti   \n",
              "28883  rt 200 000 vaccinations amp counting for washingtonhealthcare workers thank you for working tirelessly to keep our state s   \n",
              "\n",
              "                 hashtags  \\\n",
              "28421  [#igottheshot, #…]   \n",
              "33449                  []   \n",
              "28883                  []   \n",
              "\n",
              "                                                                                                         tokenized  \\\n",
              "28421                          [rtgot, vaccine, protect, son, old, enough, get, shot, erin, northpoint, lab, tech]   \n",
              "33449     [rt, raise, conflict, interest, make, youconspiracy, theorist, query, safety, amp, efficacy, make, anti]   \n",
              "28883  [rt, 200, 000, vaccination, amp, count, washingtonhealthcare, worker, thank, work, tirelessly, keep, state]   \n",
              "\n",
              "                                                                                                                                                                                                      pos_tags  \\\n",
              "28421                                            [(rtgot, NN), (vaccine, NN), (protect, VBP), (son, NN), (old, JJ), (enough, RB), (get, VBP), (shot, JJ), (erin, NN), (northpoint, NN), (lab, NN), (tech, NN)]   \n",
              "33449        [(rt, NN), (raising, VBG), (conflicts, NNS), (interest, NN), (make, VBP), (youconspiracy, NN), (theorist, NN), (querying, VBG), (safety, NN), (amp, NN), (efficacy, NN), (make, VBP), (anti, NN)]   \n",
              "28883  [(rt, NN), (200, CD), (000, CD), (vaccinations, NNS), (amp, VBP), (counting, VBG), (washingtonhealthcare, NN), (workers, NNS), (thank, VBD), (working, VBG), (tirelessly, RB), (keep, VB), (state, NN)]   \n",
              "\n",
              "       n_words  ten most common names  \n",
              "28421       20                      0  \n",
              "33449       19                      0  \n",
              "28883       19                      0  "
            ]
          },
          "metadata": {
            "tags": []
          }
        }
      ]
    },
    {
      "cell_type": "markdown",
      "metadata": {
        "id": "XN6NtY-hLBQe"
      },
      "source": [
        "### taking care of text content:"
      ]
    },
    {
      "cell_type": "code",
      "metadata": {
        "id": "Oq_qSB6WzoN5"
      },
      "source": [
        "words = X_train['tokenized']\n",
        "allwords = []\n",
        "for wordlist in words:\n",
        "    allwords += wordlist\n",
        "allwords = [word for word in allwords if word !='amp']\n",
        "allwords = [word for word in allwords if word !='rt']"
      ],
      "execution_count": 84,
      "outputs": []
    },
    {
      "cell_type": "code",
      "metadata": {
        "id": "CJekdx-nzoQP"
      },
      "source": [
        "mostcommon = FreqDist(allwords).most_common(100)\n",
        "mostcommon = [tup[0] for tup in mostcommon]\n",
        "# mostcommon[:5]"
      ],
      "execution_count": 85,
      "outputs": []
    },
    {
      "cell_type": "code",
      "metadata": {
        "id": "Npw4KQWchyvV"
      },
      "source": [
        "def most_common_token(token):\n",
        "    new_token=[]\n",
        "    for word in token:\n",
        "        if word in mostcommon:\n",
        "            new_token.append(word)\n",
        "    return new_token"
      ],
      "execution_count": 86,
      "outputs": []
    },
    {
      "cell_type": "code",
      "metadata": {
        "id": "YmMVPLV1iJo6"
      },
      "source": [
        "X_train['tokenized_common'] = X_train['tokenized'].apply(lambda x: most_common_token(x))"
      ],
      "execution_count": 87,
      "outputs": []
    },
    {
      "cell_type": "code",
      "metadata": {
        "id": "xsKnTmh-zoUn"
      },
      "source": [
        "X_test['tokenized_common'] = X_test['tokenized'].apply(lambda x: most_common_token(x))"
      ],
      "execution_count": 88,
      "outputs": []
    },
    {
      "cell_type": "code",
      "metadata": {
        "colab": {
          "base_uri": "https://localhost:8080/",
          "height": 1000
        },
        "id": "YQW1tdgdiVjT",
        "outputId": "4ac71d99-8ac5-41e5-eb28-3fb864ed253d"
      },
      "source": [
        "display(X_train.sample(3))\n",
        "display(X_test.sample(3))"
      ],
      "execution_count": 89,
      "outputs": [
        {
          "output_type": "display_data",
          "data": {
            "text/html": [
              "<div>\n",
              "<style scoped>\n",
              "    .dataframe tbody tr th:only-of-type {\n",
              "        vertical-align: middle;\n",
              "    }\n",
              "\n",
              "    .dataframe tbody tr th {\n",
              "        vertical-align: top;\n",
              "    }\n",
              "\n",
              "    .dataframe thead th {\n",
              "        text-align: right;\n",
              "    }\n",
              "</style>\n",
              "<table border=\"1\" class=\"dataframe\">\n",
              "  <thead>\n",
              "    <tr style=\"text-align: right;\">\n",
              "      <th></th>\n",
              "      <th>user_name</th>\n",
              "      <th>user_location</th>\n",
              "      <th>user_description</th>\n",
              "      <th>user_created</th>\n",
              "      <th>user_followers</th>\n",
              "      <th>date</th>\n",
              "      <th>text</th>\n",
              "      <th>favorites</th>\n",
              "      <th>retweets</th>\n",
              "      <th>is_retweet</th>\n",
              "      <th>user_location_updated</th>\n",
              "      <th>user-country_code</th>\n",
              "      <th>user-country</th>\n",
              "      <th>week_day</th>\n",
              "      <th>month</th>\n",
              "      <th>year</th>\n",
              "      <th>tweet_?!_marks</th>\n",
              "      <th>up_text</th>\n",
              "      <th>hashtags</th>\n",
              "      <th>tokenized</th>\n",
              "      <th>pos_tags</th>\n",
              "      <th>n_words</th>\n",
              "      <th>ten most common names</th>\n",
              "      <th>tokenized_common</th>\n",
              "    </tr>\n",
              "  </thead>\n",
              "  <tbody>\n",
              "    <tr>\n",
              "      <th>7285</th>\n",
              "      <td>Shanzayy10</td>\n",
              "      <td>NaN</td>\n",
              "      <td>Who are you to judge me?</td>\n",
              "      <td>2020-09-25</td>\n",
              "      <td>32</td>\n",
              "      <td>2021-02-09 06:20:45</td>\n",
              "      <td>RT @PakFightsPolio: Share information &amp;amp; encourage vaccination because #VaccinesWork to 👇\\n\\n✅ Save lives\\n✅ Help children grow healthy\\n✅ Preve…</td>\n",
              "      <td>0</td>\n",
              "      <td>11</td>\n",
              "      <td>True</td>\n",
              "      <td>NaN</td>\n",
              "      <td>OTH</td>\n",
              "      <td>Other</td>\n",
              "      <td>1</td>\n",
              "      <td>2</td>\n",
              "      <td>2021</td>\n",
              "      <td>0</td>\n",
              "      <td>rt share information amp encourage vaccination because to save lives help children grow healthy preve</td>\n",
              "      <td>[#vaccineswork]</td>\n",
              "      <td>[rt, share, information, amp, encourage, vaccination, save, life, help, child, grow, healthy, preve]</td>\n",
              "      <td>[(rt, NN), (share, NN), (information, NN), (amp, NN), (encourage, NN), (vaccination, NN), (save, VBP), (lives, NNS), (help, VBP), (children, NNS), (grow, VB), (healthy, JJ), (preve, NN)]</td>\n",
              "      <td>15</td>\n",
              "      <td>0</td>\n",
              "      <td>[share, vaccination, life, help]</td>\n",
              "    </tr>\n",
              "    <tr>\n",
              "      <th>14004</th>\n",
              "      <td>csibike1</td>\n",
              "      <td>London as yet UK, Europe</td>\n",
              "      <td>migrant, ex civil servant, vegetarian, owned by 2 dogs. Saddened by extremism, cruelty, injustice &amp; hates fascism #LongLiveEurope #BlackLivesMatter</td>\n",
              "      <td>2009-08-28</td>\n",
              "      <td>8985</td>\n",
              "      <td>2021-02-05 14:08:33</td>\n",
              "      <td>@ArielWelby @AllanGPaterson All paid for by Soros, and in reality I am very ill as I stand between them and world d… https://t.co/fCSGHf6Jd2</td>\n",
              "      <td>2</td>\n",
              "      <td>0</td>\n",
              "      <td>False</td>\n",
              "      <td>London as yet UK, Europe</td>\n",
              "      <td>OTH</td>\n",
              "      <td>Other</td>\n",
              "      <td>4</td>\n",
              "      <td>2</td>\n",
              "      <td>2021</td>\n",
              "      <td>0</td>\n",
              "      <td>all paid for by soros and in realityam very ill asstand between them and world d</td>\n",
              "      <td>[]</td>\n",
              "      <td>[pay, soros, realityam, ill, asstand, world]</td>\n",
              "      <td>[(paid, VBN), (soros, NNS), (realityam, VBP), (ill, JJ), (asstand, NN), (world, NN)]</td>\n",
              "      <td>16</td>\n",
              "      <td>0</td>\n",
              "      <td>[]</td>\n",
              "    </tr>\n",
              "    <tr>\n",
              "      <th>7947</th>\n",
              "      <td>SloughPH</td>\n",
              "      <td>Slough, South East</td>\n",
              "      <td>The Slough Borough Council Public Health team. Bringing you local news and opportunities. Helping improve the health and wellbeing of Slough residents.</td>\n",
              "      <td>2017-06-21</td>\n",
              "      <td>1485</td>\n",
              "      <td>2021-02-08 17:29:59</td>\n",
              "      <td>Are you over 70? Then you can now book your COVID vaccine directly without waiting for your GP notification.\\n \\nYou… https://t.co/gppYJTppwQ</td>\n",
              "      <td>9</td>\n",
              "      <td>8</td>\n",
              "      <td>True</td>\n",
              "      <td>Slough, South East</td>\n",
              "      <td>GBR</td>\n",
              "      <td>United Kingdom</td>\n",
              "      <td>0</td>\n",
              "      <td>2</td>\n",
              "      <td>2021</td>\n",
              "      <td>1</td>\n",
              "      <td>are you over 70 then you can now book your covid vaccine directly without waiting for your gp notification you</td>\n",
              "      <td>[]</td>\n",
              "      <td>[70, book, covid, vaccine, directly, without, wait, gp, notification]</td>\n",
              "      <td>[(70, CD), (book, NN), (covid, NN), (vaccine, NN), (directly, RB), (without, IN), (waiting, VBG), (gp, NN), (notification, NN)]</td>\n",
              "      <td>20</td>\n",
              "      <td>0</td>\n",
              "      <td>[covid, vaccine]</td>\n",
              "    </tr>\n",
              "  </tbody>\n",
              "</table>\n",
              "</div>"
            ],
            "text/plain": [
              "        user_name             user_location  \\\n",
              "7285   Shanzayy10                       NaN   \n",
              "14004    csibike1  London as yet UK, Europe   \n",
              "7947     SloughPH        Slough, South East   \n",
              "\n",
              "                                                                                                                                              user_description  \\\n",
              "7285                                                                                                                                  Who are you to judge me?   \n",
              "14004      migrant, ex civil servant, vegetarian, owned by 2 dogs. Saddened by extremism, cruelty, injustice & hates fascism #LongLiveEurope #BlackLivesMatter   \n",
              "7947   The Slough Borough Council Public Health team. Bringing you local news and opportunities. Helping improve the health and wellbeing of Slough residents.   \n",
              "\n",
              "      user_created  user_followers                date  \\\n",
              "7285    2020-09-25              32 2021-02-09 06:20:45   \n",
              "14004   2009-08-28            8985 2021-02-05 14:08:33   \n",
              "7947    2017-06-21            1485 2021-02-08 17:29:59   \n",
              "\n",
              "                                                                                                                                                       text  \\\n",
              "7285   RT @PakFightsPolio: Share information &amp; encourage vaccination because #VaccinesWork to 👇\\n\\n✅ Save lives\\n✅ Help children grow healthy\\n✅ Preve…   \n",
              "14004          @ArielWelby @AllanGPaterson All paid for by Soros, and in reality I am very ill as I stand between them and world d… https://t.co/fCSGHf6Jd2   \n",
              "7947          Are you over 70? Then you can now book your COVID vaccine directly without waiting for your GP notification.\\n \\nYou… https://t.co/gppYJTppwQ   \n",
              "\n",
              "       favorites  retweets  is_retweet     user_location_updated  \\\n",
              "7285           0        11        True                       NaN   \n",
              "14004          2         0       False  London as yet UK, Europe   \n",
              "7947           9         8        True        Slough, South East   \n",
              "\n",
              "      user-country_code    user-country  week_day  month  year  \\\n",
              "7285                OTH           Other         1      2  2021   \n",
              "14004               OTH           Other         4      2  2021   \n",
              "7947                GBR  United Kingdom         0      2  2021   \n",
              "\n",
              "       tweet_?!_marks  \\\n",
              "7285                0   \n",
              "14004               0   \n",
              "7947                1   \n",
              "\n",
              "                                                                                                              up_text  \\\n",
              "7285            rt share information amp encourage vaccination because to save lives help children grow healthy preve   \n",
              "14004                                all paid for by soros and in realityam very ill asstand between them and world d   \n",
              "7947   are you over 70 then you can now book your covid vaccine directly without waiting for your gp notification you   \n",
              "\n",
              "              hashtags  \\\n",
              "7285   [#vaccineswork]   \n",
              "14004               []   \n",
              "7947                []   \n",
              "\n",
              "                                                                                                  tokenized  \\\n",
              "7285   [rt, share, information, amp, encourage, vaccination, save, life, help, child, grow, healthy, preve]   \n",
              "14004                                                          [pay, soros, realityam, ill, asstand, world]   \n",
              "7947                                  [70, book, covid, vaccine, directly, without, wait, gp, notification]   \n",
              "\n",
              "                                                                                                                                                                                         pos_tags  \\\n",
              "7285   [(rt, NN), (share, NN), (information, NN), (amp, NN), (encourage, NN), (vaccination, NN), (save, VBP), (lives, NNS), (help, VBP), (children, NNS), (grow, VB), (healthy, JJ), (preve, NN)]   \n",
              "14004                                                                                                        [(paid, VBN), (soros, NNS), (realityam, VBP), (ill, JJ), (asstand, NN), (world, NN)]   \n",
              "7947                                                              [(70, CD), (book, NN), (covid, NN), (vaccine, NN), (directly, RB), (without, IN), (waiting, VBG), (gp, NN), (notification, NN)]   \n",
              "\n",
              "       n_words  ten most common names                  tokenized_common  \n",
              "7285        15                      0  [share, vaccination, life, help]  \n",
              "14004       16                      0                                []  \n",
              "7947        20                      0                  [covid, vaccine]  "
            ]
          },
          "metadata": {
            "tags": []
          }
        },
        {
          "output_type": "display_data",
          "data": {
            "text/html": [
              "<div>\n",
              "<style scoped>\n",
              "    .dataframe tbody tr th:only-of-type {\n",
              "        vertical-align: middle;\n",
              "    }\n",
              "\n",
              "    .dataframe tbody tr th {\n",
              "        vertical-align: top;\n",
              "    }\n",
              "\n",
              "    .dataframe thead th {\n",
              "        text-align: right;\n",
              "    }\n",
              "</style>\n",
              "<table border=\"1\" class=\"dataframe\">\n",
              "  <thead>\n",
              "    <tr style=\"text-align: right;\">\n",
              "      <th></th>\n",
              "      <th>user_name</th>\n",
              "      <th>user_location</th>\n",
              "      <th>user_description</th>\n",
              "      <th>user_created</th>\n",
              "      <th>user_followers</th>\n",
              "      <th>date</th>\n",
              "      <th>text</th>\n",
              "      <th>favorites</th>\n",
              "      <th>retweets</th>\n",
              "      <th>is_retweet</th>\n",
              "      <th>user_location_updated</th>\n",
              "      <th>user-country_code</th>\n",
              "      <th>user-country</th>\n",
              "      <th>week_day</th>\n",
              "      <th>month</th>\n",
              "      <th>year</th>\n",
              "      <th>tweet_?!_marks</th>\n",
              "      <th>up_text</th>\n",
              "      <th>hashtags</th>\n",
              "      <th>tokenized</th>\n",
              "      <th>pos_tags</th>\n",
              "      <th>n_words</th>\n",
              "      <th>ten most common names</th>\n",
              "      <th>tokenized_common</th>\n",
              "    </tr>\n",
              "  </thead>\n",
              "  <tbody>\n",
              "    <tr>\n",
              "      <th>2073</th>\n",
              "      <td>BenRodriguez413</td>\n",
              "      <td>Suffield, Connecticut</td>\n",
              "      <td>CT family man from Western, MA. Love my country and sticking up for what’s right. Puerto Rican (viva Humacao), politics, news, sports. Opinions are mine alone.</td>\n",
              "      <td>2011-01-09</td>\n",
              "      <td>519</td>\n",
              "      <td>2021-02-17 02:34:16</td>\n",
              "      <td>RT @ValerieJHorsley: I guess I need to say it again. Vaccines do NOT cause autism. Definitive. No question. #VaccinesWork #ctpolitics #publ…</td>\n",
              "      <td>0</td>\n",
              "      <td>7</td>\n",
              "      <td>True</td>\n",
              "      <td>Suffield, Connecticut</td>\n",
              "      <td>USA</td>\n",
              "      <td>United States</td>\n",
              "      <td>2</td>\n",
              "      <td>2</td>\n",
              "      <td>2021</td>\n",
              "      <td>0</td>\n",
              "      <td>rtguessneed to say it again vaccines do not cause autism definitive no question</td>\n",
              "      <td>[#vaccineswork, #ctpolitics, #publ…]</td>\n",
              "      <td>[rtguessneed, say, vaccine, cause, autism, definitive, question]</td>\n",
              "      <td>[(rtguessneed, NNS), (say, VBP), (vaccines, NNS), (cause, VBP), (autism, NN), (definitive, JJ), (question, NN)]</td>\n",
              "      <td>13</td>\n",
              "      <td>0</td>\n",
              "      <td>[say, vaccine, question]</td>\n",
              "    </tr>\n",
              "    <tr>\n",
              "      <th>29589</th>\n",
              "      <td>NY_Tuck</td>\n",
              "      <td>Costa Mesa, CA</td>\n",
              "      <td>Chief of Plastic Surgery, SCPMG OC. 🖥 Regional HealthConnect Lead. Husband, Father, Lover of Blues, BBQ, Golf tweets&amp;opinions=mine #PermanenteProud #Grateful🌞</td>\n",
              "      <td>2009-07-22</td>\n",
              "      <td>317</td>\n",
              "      <td>2021-01-22 21:23:37</td>\n",
              "      <td>RT @CareByFirefly: We're so grateful that the @moderna_tx #CovidVaccine is available to our clinicians, &amp;amp; soon the rest of #Massachusetts!…</td>\n",
              "      <td>0</td>\n",
              "      <td>7</td>\n",
              "      <td>True</td>\n",
              "      <td>Costa Mesa, CA</td>\n",
              "      <td>OTH</td>\n",
              "      <td>Other</td>\n",
              "      <td>4</td>\n",
              "      <td>1</td>\n",
              "      <td>2021</td>\n",
              "      <td>1</td>\n",
              "      <td>rt we re so grateful that the is available to our clinicians amp soon the rest of</td>\n",
              "      <td>[#covidvaccine, #massachusetts!…]</td>\n",
              "      <td>[rt, grateful, available, clinician, amp, soon, rest]</td>\n",
              "      <td>[(rt, NN), (grateful, NN), (available, JJ), (clinicians, NNS), (amp, VBP), (soon, RB), (rest, NN)]</td>\n",
              "      <td>17</td>\n",
              "      <td>0</td>\n",
              "      <td>[]</td>\n",
              "    </tr>\n",
              "    <tr>\n",
              "      <th>32798</th>\n",
              "      <td>G55Pam</td>\n",
              "      <td>Yeadon</td>\n",
              "      <td>NaN</td>\n",
              "      <td>2014-01-04</td>\n",
              "      <td>141</td>\n",
              "      <td>2021-01-19 18:22:16</td>\n",
              "      <td>RT @WayneMo18011749: @DavidDavisMP @HouseofCommons How about our civil liberties?\\n\\nWhere is the Government's Lockdown Economic Impact Asses…</td>\n",
              "      <td>0</td>\n",
              "      <td>17</td>\n",
              "      <td>True</td>\n",
              "      <td>Yeadon</td>\n",
              "      <td>OTH</td>\n",
              "      <td>Other</td>\n",
              "      <td>1</td>\n",
              "      <td>1</td>\n",
              "      <td>2021</td>\n",
              "      <td>1</td>\n",
              "      <td>rt how about our civil liberties where is the governmentlockdown economic impact asses</td>\n",
              "      <td>[]</td>\n",
              "      <td>[rt, civil, liberty, governmentlockdown, economic, impact, ass]</td>\n",
              "      <td>[(rt, NN), (civil, JJ), (liberties, NNS), (governmentlockdown, VBP), (economic, JJ), (impact, NN), (asses, NNS)]</td>\n",
              "      <td>13</td>\n",
              "      <td>0</td>\n",
              "      <td>[impact]</td>\n",
              "    </tr>\n",
              "  </tbody>\n",
              "</table>\n",
              "</div>"
            ],
            "text/plain": [
              "             user_name          user_location  \\\n",
              "2073   BenRodriguez413  Suffield, Connecticut   \n",
              "29589          NY_Tuck         Costa Mesa, CA   \n",
              "32798           G55Pam                 Yeadon   \n",
              "\n",
              "                                                                                                                                                      user_description  \\\n",
              "2073   CT family man from Western, MA. Love my country and sticking up for what’s right. Puerto Rican (viva Humacao), politics, news, sports. Opinions are mine alone.   \n",
              "29589   Chief of Plastic Surgery, SCPMG OC. 🖥 Regional HealthConnect Lead. Husband, Father, Lover of Blues, BBQ, Golf tweets&opinions=mine #PermanenteProud #Grateful🌞   \n",
              "32798                                                                                                                                                              NaN   \n",
              "\n",
              "      user_created  user_followers                date  \\\n",
              "2073    2011-01-09             519 2021-02-17 02:34:16   \n",
              "29589   2009-07-22             317 2021-01-22 21:23:37   \n",
              "32798   2014-01-04             141 2021-01-19 18:22:16   \n",
              "\n",
              "                                                                                                                                                  text  \\\n",
              "2073      RT @ValerieJHorsley: I guess I need to say it again. Vaccines do NOT cause autism. Definitive. No question. #VaccinesWork #ctpolitics #publ…   \n",
              "29589  RT @CareByFirefly: We're so grateful that the @moderna_tx #CovidVaccine is available to our clinicians, &amp; soon the rest of #Massachusetts!…   \n",
              "32798   RT @WayneMo18011749: @DavidDavisMP @HouseofCommons How about our civil liberties?\\n\\nWhere is the Government's Lockdown Economic Impact Asses…   \n",
              "\n",
              "       favorites  retweets  is_retweet  user_location_updated  \\\n",
              "2073           0         7        True  Suffield, Connecticut   \n",
              "29589          0         7        True         Costa Mesa, CA   \n",
              "32798          0        17        True                 Yeadon   \n",
              "\n",
              "      user-country_code   user-country  week_day  month  year  tweet_?!_marks  \\\n",
              "2073                USA  United States         2      2  2021               0   \n",
              "29589               OTH          Other         4      1  2021               1   \n",
              "32798               OTH          Other         1      1  2021               1   \n",
              "\n",
              "                                                                                      up_text  \\\n",
              "2073          rtguessneed to say it again vaccines do not cause autism definitive no question   \n",
              "29589       rt we re so grateful that the is available to our clinicians amp soon the rest of   \n",
              "32798  rt how about our civil liberties where is the governmentlockdown economic impact asses   \n",
              "\n",
              "                                   hashtags  \\\n",
              "2073   [#vaccineswork, #ctpolitics, #publ…]   \n",
              "29589     [#covidvaccine, #massachusetts!…]   \n",
              "32798                                    []   \n",
              "\n",
              "                                                              tokenized  \\\n",
              "2073   [rtguessneed, say, vaccine, cause, autism, definitive, question]   \n",
              "29589             [rt, grateful, available, clinician, amp, soon, rest]   \n",
              "32798   [rt, civil, liberty, governmentlockdown, economic, impact, ass]   \n",
              "\n",
              "                                                                                                               pos_tags  \\\n",
              "2073    [(rtguessneed, NNS), (say, VBP), (vaccines, NNS), (cause, VBP), (autism, NN), (definitive, JJ), (question, NN)]   \n",
              "29589                [(rt, NN), (grateful, NN), (available, JJ), (clinicians, NNS), (amp, VBP), (soon, RB), (rest, NN)]   \n",
              "32798  [(rt, NN), (civil, JJ), (liberties, NNS), (governmentlockdown, VBP), (economic, JJ), (impact, NN), (asses, NNS)]   \n",
              "\n",
              "       n_words  ten most common names          tokenized_common  \n",
              "2073        13                      0  [say, vaccine, question]  \n",
              "29589       17                      0                        []  \n",
              "32798       13                      0                  [impact]  "
            ]
          },
          "metadata": {
            "tags": []
          }
        }
      ]
    },
    {
      "cell_type": "code",
      "metadata": {
        "colab": {
          "base_uri": "https://localhost:8080/"
        },
        "id": "_O1ZFJr0z1Kh",
        "outputId": "5136c7d1-17f0-4be1-bd1d-6ce9a5f53da2"
      },
      "source": [
        "empty_tokens_train = X_train[(X_train['tokenized_common'].str.len() == 0)].index\n",
        "print('train before: {}'.format(X_train.shape))\n",
        "df1 = X_train.drop(empty_tokens_train)\n",
        "print('train after: {}'.format(X_train.shape))"
      ],
      "execution_count": 90,
      "outputs": [
        {
          "output_type": "stream",
          "text": [
            "train before: (15231, 24)\n",
            "train after: (15231, 24)\n"
          ],
          "name": "stdout"
        }
      ]
    },
    {
      "cell_type": "code",
      "metadata": {
        "colab": {
          "base_uri": "https://localhost:8080/"
        },
        "id": "fUHAYLqSiuQ8",
        "outputId": "54b5572e-4d18-4823-9f89-a3a39aba04e7"
      },
      "source": [
        "empty_tokens_test = X_test[(X_test['tokenized_common'].str.len() == 0)].index\n",
        "print('test before: {}'.format(X_test.shape))\n",
        "df1 = X_test.drop(empty_tokens_test)\n",
        "print('test after: {}'.format(X_test.shape))"
      ],
      "execution_count": 91,
      "outputs": [
        {
          "output_type": "stream",
          "text": [
            "test before: (3808, 24)\n",
            "test after: (3808, 24)\n"
          ],
          "name": "stdout"
        }
      ]
    },
    {
      "cell_type": "code",
      "metadata": {
        "colab": {
          "base_uri": "https://localhost:8080/",
          "height": 115,
          "referenced_widgets": [
            "c7e503f32da345b1b78484d880cf4e03",
            "5b240ef73a104ec588bca668048af40f",
            "a971a8d13ec14988b3485bd879933f74",
            "f31f012b94fa478a93041cbbafb0d693",
            "9d6c9db7064c454eaa679f1242703e85",
            "b7d05a8749704ed88e870954141a3ec2",
            "90dac12878d84383af7379a7c4246c54",
            "c242baef0ade48b1b583cdb875ac0b3b",
            "5c6069c168774b4991273455df9d940a",
            "f351b2dd997e493bb1553182017e1a74",
            "078508471ca14976bc5948ea1bfaab0c",
            "b3ba232e5799431792b92f5ad29c5f26",
            "c61dca1d94db47faa2ed30d2224dde3a",
            "2f1200c305544818beff5f87247e09b1",
            "5030dbd160d8411cbdd837abf3ab441b",
            "ff5b56ffcb4e4086aa7acd56f6a9e8c0"
          ]
        },
        "id": "urpBxkaLz1NN",
        "outputId": "19316abd-f1d6-4e98-f402-e78ab7e05df3"
      },
      "source": [
        "for word in mostcommon:\n",
        "    X_train[word]=0\n",
        "    X_test[word]=0\n",
        "X_train = X_train.reset_index()\n",
        "X_test = X_test.reset_index()\n",
        "for index, row in tqdm(enumerate(X_train.tokenized_common)):\n",
        "    for word in row:\n",
        "        X_train.loc[index, word] = 1\n",
        "for index, row in tqdm(enumerate(X_test.tokenized_common)):\n",
        "    for word in row:\n",
        "        X_test.loc[index, word] = 1       "
      ],
      "execution_count": 92,
      "outputs": [
        {
          "output_type": "display_data",
          "data": {
            "application/vnd.jupyter.widget-view+json": {
              "model_id": "c7e503f32da345b1b78484d880cf4e03",
              "version_minor": 0,
              "version_major": 2
            },
            "text/plain": [
              "HBox(children=(FloatProgress(value=1.0, bar_style='info', max=1.0), HTML(value='')))"
            ]
          },
          "metadata": {
            "tags": []
          }
        },
        {
          "output_type": "stream",
          "text": [
            "\n"
          ],
          "name": "stdout"
        },
        {
          "output_type": "display_data",
          "data": {
            "application/vnd.jupyter.widget-view+json": {
              "model_id": "5c6069c168774b4991273455df9d940a",
              "version_minor": 0,
              "version_major": 2
            },
            "text/plain": [
              "HBox(children=(FloatProgress(value=1.0, bar_style='info', max=1.0), HTML(value='')))"
            ]
          },
          "metadata": {
            "tags": []
          }
        },
        {
          "output_type": "stream",
          "text": [
            "\n"
          ],
          "name": "stdout"
        }
      ]
    },
    {
      "cell_type": "code",
      "metadata": {
        "colab": {
          "base_uri": "https://localhost:8080/"
        },
        "id": "PzvTIkSFjK2Q",
        "outputId": "0b8b480a-42b4-48a2-8539-93cf7e703ea5"
      },
      "source": [
        "# checking to see if all are the same columns, although we used X_train most common words \n",
        "assert X_test.shape[1] == X_train.shape[1]\n",
        "set(X_train.columns) - set(X_test.columns)"
      ],
      "execution_count": 93,
      "outputs": [
        {
          "output_type": "execute_result",
          "data": {
            "text/plain": [
              "set()"
            ]
          },
          "metadata": {
            "tags": []
          },
          "execution_count": 93
        }
      ]
    },
    {
      "cell_type": "code",
      "metadata": {
        "colab": {
          "base_uri": "https://localhost:8080/"
        },
        "id": "fuSPdEmFNfKg",
        "outputId": "3732b9e1-86cb-44ed-c312-0c03e5f82ccb"
      },
      "source": [
        "y_test.unique(), y_train.unique()"
      ],
      "execution_count": 94,
      "outputs": [
        {
          "output_type": "execute_result",
          "data": {
            "text/plain": [
              "(array(['Negative', 'Positive'], dtype=object),\n",
              " array(['Positive', 'Negative'], dtype=object))"
            ]
          },
          "metadata": {
            "tags": []
          },
          "execution_count": 94
        }
      ]
    },
    {
      "cell_type": "code",
      "metadata": {
        "colab": {
          "base_uri": "https://localhost:8080/"
        },
        "id": "3oZPNuOCNrdM",
        "outputId": "0d2418eb-573b-4418-c4fe-e72e89272266"
      },
      "source": [
        "y_test.isna().sum(), y_train.isna().sum()"
      ],
      "execution_count": 95,
      "outputs": [
        {
          "output_type": "execute_result",
          "data": {
            "text/plain": [
              "(0, 0)"
            ]
          },
          "metadata": {
            "tags": []
          },
          "execution_count": 95
        }
      ]
    },
    {
      "cell_type": "markdown",
      "metadata": {
        "id": "PHQBqukggyBd"
      },
      "source": [
        "### Changing the target values to numeric binary values"
      ]
    },
    {
      "cell_type": "code",
      "metadata": {
        "id": "71fekj8Cz1P9"
      },
      "source": [
        "category_dict = {\"Positive\":0, \"Negative\":1}\n",
        "y_train = y_train.map(category_dict)\n",
        "y_test = y_test.map(category_dict)"
      ],
      "execution_count": 96,
      "outputs": []
    },
    {
      "cell_type": "markdown",
      "metadata": {
        "id": "AS607beyNzPE"
      },
      "source": [
        "### sentimental analysis:"
      ]
    },
    {
      "cell_type": "code",
      "metadata": {
        "id": "q0c3zrfcMMsK",
        "colab": {
          "base_uri": "https://localhost:8080/",
          "height": 213,
          "referenced_widgets": [
            "4e8617012fe349d78c3cae2ecccb975d",
            "a19c2d260ba042edb26416e4a1de4d80",
            "49ffbc5fbe5843a3a2077b349243fa0c",
            "e45c81e7a2274a2b8faf388805d6c0b1",
            "a33aba7f602c4449a3fa67ca53ef7a98",
            "d09a393b4a334f939187d74aeb2c45b7",
            "579b45ade9c64fe48b4300e70789e8b0",
            "470455c860c0414a8719f9320353802e",
            "9512301dc2c840a992a9c6abd18712dd",
            "8bda47e6e8224968802bf3a26a5d7262",
            "b6a1e7c0b7db44c7a8b908fca2cd96e0",
            "f41b8dc4e1f845e4b9014e1f7b080a74",
            "699d1452244c49a99bf8a0c8dcbd7446",
            "b1be78b1386c448391f00037ac09396c",
            "998fd8f4a6af4cd28a21d42bf2cc8386",
            "5b08cbf9ec464afe8c1045bf1c1a45b8",
            "3ead7db351ef471dbd7edf8c3f52a7fa",
            "db66e3b8c0eb48b391d56027b4753a43",
            "c4e9c8a37dcb4c02bf655a74be770a96",
            "2f6f1b18e2364c00b9ff38331457eea1",
            "5c6464498de64f6a9e3753bc4c5572dc",
            "7c4dd43864ad43d896588a25b099c2e2",
            "7ff283a2c6134f03ba5f93be8dc64d7d",
            "c64f11f6c3bf453783ae0256a98f5494",
            "89b13b01d1644235a764449f723c5311",
            "9948978e7e184b0b84de9c96d887c90b",
            "5ad2d9b5c6fc4ccaa6b6171f778bb94f",
            "21c669717ecb4201a6bf2446b07f4325",
            "fbcc9c96ed3d4b1bad92b28b5ce87b5c",
            "8e8ec955e16849a1962fd97afcf54cba",
            "5aa2e6b322304d9f8c4dd522913ea094",
            "154c95f5db6b452f9ef99ed6e0ffc725"
          ]
        },
        "outputId": "c887fe98-a6cc-4ecc-cbee-9e7e46515fe9"
      },
      "source": [
        "sentiment_analysis = pipeline('sentiment-analysis')"
      ],
      "execution_count": 97,
      "outputs": [
        {
          "output_type": "display_data",
          "data": {
            "application/vnd.jupyter.widget-view+json": {
              "model_id": "4e8617012fe349d78c3cae2ecccb975d",
              "version_minor": 0,
              "version_major": 2
            },
            "text/plain": [
              "HBox(children=(FloatProgress(value=0.0, description='Downloading', max=629.0, style=ProgressStyle(description_…"
            ]
          },
          "metadata": {
            "tags": []
          }
        },
        {
          "output_type": "stream",
          "text": [
            "\n"
          ],
          "name": "stdout"
        },
        {
          "output_type": "display_data",
          "data": {
            "application/vnd.jupyter.widget-view+json": {
              "model_id": "9512301dc2c840a992a9c6abd18712dd",
              "version_minor": 0,
              "version_major": 2
            },
            "text/plain": [
              "HBox(children=(FloatProgress(value=0.0, description='Downloading', max=267844284.0, style=ProgressStyle(descri…"
            ]
          },
          "metadata": {
            "tags": []
          }
        },
        {
          "output_type": "stream",
          "text": [
            "\n"
          ],
          "name": "stdout"
        },
        {
          "output_type": "display_data",
          "data": {
            "application/vnd.jupyter.widget-view+json": {
              "model_id": "3ead7db351ef471dbd7edf8c3f52a7fa",
              "version_minor": 0,
              "version_major": 2
            },
            "text/plain": [
              "HBox(children=(FloatProgress(value=0.0, description='Downloading', max=231508.0, style=ProgressStyle(descripti…"
            ]
          },
          "metadata": {
            "tags": []
          }
        },
        {
          "output_type": "stream",
          "text": [
            "\n"
          ],
          "name": "stdout"
        },
        {
          "output_type": "display_data",
          "data": {
            "application/vnd.jupyter.widget-view+json": {
              "model_id": "89b13b01d1644235a764449f723c5311",
              "version_minor": 0,
              "version_major": 2
            },
            "text/plain": [
              "HBox(children=(FloatProgress(value=0.0, description='Downloading', max=48.0, style=ProgressStyle(description_w…"
            ]
          },
          "metadata": {
            "tags": []
          }
        },
        {
          "output_type": "stream",
          "text": [
            "\n"
          ],
          "name": "stdout"
        }
      ]
    },
    {
      "cell_type": "code",
      "metadata": {
        "id": "-E_Nk9VLMMuZ"
      },
      "source": [
        "# this cell takes time to run... ~20 min\n",
        "\n",
        "transformer_sentiments_train = X_train.up_text.apply(sentiment_analysis)\n",
        "transformer_sentiments_test = X_test.up_text.apply(sentiment_analysis)"
      ],
      "execution_count": 98,
      "outputs": []
    },
    {
      "cell_type": "code",
      "metadata": {
        "id": "TI63EA7IMMxI"
      },
      "source": [
        "labels_train, labels_test = [], []\n",
        "scores_train, scores_test = [], []\n",
        "\n",
        "for sentiment in transformer_sentiments_train:\n",
        "    labels_train.append(sentiment[0]['label'])\n",
        "    scores_train.append(round(sentiment[0]['score'], 4))\n",
        "    \n",
        "for sentiment in transformer_sentiments_test:\n",
        "    labels_test.append(sentiment[0]['label'])\n",
        "    scores_test.append(round(sentiment[0]['score'], 4))"
      ],
      "execution_count": 99,
      "outputs": []
    },
    {
      "cell_type": "code",
      "metadata": {
        "colab": {
          "base_uri": "https://localhost:8080/",
          "height": 391
        },
        "id": "W0K2psKdlPNs",
        "outputId": "1419438b-342d-4200-8c78-9988d88844f5"
      },
      "source": [
        "X_train['sentiment'] = labels_train\n",
        "X_train['score'] = scores_train\n",
        "\n",
        "X_test['sentiment'] = labels_test\n",
        "X_test['score'] = scores_test\n",
        "\n",
        "display(X_train[['text', 'sentiment', 'score']].sample(5))\n",
        "display(X_test[['text', 'sentiment', 'score']].sample(5))"
      ],
      "execution_count": 100,
      "outputs": [
        {
          "output_type": "display_data",
          "data": {
            "text/html": [
              "<div>\n",
              "<style scoped>\n",
              "    .dataframe tbody tr th:only-of-type {\n",
              "        vertical-align: middle;\n",
              "    }\n",
              "\n",
              "    .dataframe tbody tr th {\n",
              "        vertical-align: top;\n",
              "    }\n",
              "\n",
              "    .dataframe thead th {\n",
              "        text-align: right;\n",
              "    }\n",
              "</style>\n",
              "<table border=\"1\" class=\"dataframe\">\n",
              "  <thead>\n",
              "    <tr style=\"text-align: right;\">\n",
              "      <th></th>\n",
              "      <th>text</th>\n",
              "      <th>sentiment</th>\n",
              "      <th>score</th>\n",
              "    </tr>\n",
              "  </thead>\n",
              "  <tbody>\n",
              "    <tr>\n",
              "      <th>1504</th>\n",
              "      <td>RT @ACCESSHealth: This week's #FridayFeeling is dedicated to our hardworking ACCESS staff who have all been recently vaccinated against #CO…</td>\n",
              "      <td>POSITIVE</td>\n",
              "      <td>0.9880</td>\n",
              "    </tr>\n",
              "    <tr>\n",
              "      <th>12657</th>\n",
              "      <td>RT @jeni_ward: Thank you @GovAndyBeshear @StevenStackMD and #UKHealthCare. Definitely a shot of hope ❤️ #ShotOfHope #TeamKentucky #StopTheS…</td>\n",
              "      <td>POSITIVE</td>\n",
              "      <td>0.9998</td>\n",
              "    </tr>\n",
              "    <tr>\n",
              "      <th>10456</th>\n",
              "      <td>One step closer to normal! 💙 I can’t wait to be back in my classroom with my kids. Thank you @GovAndyBeshear for al… https://t.co/LqBNiFsYWf</td>\n",
              "      <td>POSITIVE</td>\n",
              "      <td>0.9993</td>\n",
              "    </tr>\n",
              "    <tr>\n",
              "      <th>6880</th>\n",
              "      <td>RT @SchNursesBstoke: Our amazing Kate on sky news helping the COViD -19 vaccination programs well done #GetVaccinated #COVIDVaccination htt…</td>\n",
              "      <td>POSITIVE</td>\n",
              "      <td>0.9986</td>\n",
              "    </tr>\n",
              "    <tr>\n",
              "      <th>974</th>\n",
              "      <td>RT @NickHudsonCT: Raising conflicts of interest DOES NOT make you a conspiracy theorist.\\n\\nQuerying safety &amp;amp; efficacy DOES NOT make you anti…</td>\n",
              "      <td>NEGATIVE</td>\n",
              "      <td>0.9989</td>\n",
              "    </tr>\n",
              "  </tbody>\n",
              "</table>\n",
              "</div>"
            ],
            "text/plain": [
              "                                                                                                                                                     text  \\\n",
              "1504         RT @ACCESSHealth: This week's #FridayFeeling is dedicated to our hardworking ACCESS staff who have all been recently vaccinated against #CO…   \n",
              "12657        RT @jeni_ward: Thank you @GovAndyBeshear @StevenStackMD and #UKHealthCare. Definitely a shot of hope ❤️ #ShotOfHope #TeamKentucky #StopTheS…   \n",
              "10456        One step closer to normal! 💙 I can’t wait to be back in my classroom with my kids. Thank you @GovAndyBeshear for al… https://t.co/LqBNiFsYWf   \n",
              "6880         RT @SchNursesBstoke: Our amazing Kate on sky news helping the COViD -19 vaccination programs well done #GetVaccinated #COVIDVaccination htt…   \n",
              "974    RT @NickHudsonCT: Raising conflicts of interest DOES NOT make you a conspiracy theorist.\\n\\nQuerying safety &amp; efficacy DOES NOT make you anti…   \n",
              "\n",
              "      sentiment   score  \n",
              "1504   POSITIVE  0.9880  \n",
              "12657  POSITIVE  0.9998  \n",
              "10456  POSITIVE  0.9993  \n",
              "6880   POSITIVE  0.9986  \n",
              "974    NEGATIVE  0.9989  "
            ]
          },
          "metadata": {
            "tags": []
          }
        },
        {
          "output_type": "display_data",
          "data": {
            "text/html": [
              "<div>\n",
              "<style scoped>\n",
              "    .dataframe tbody tr th:only-of-type {\n",
              "        vertical-align: middle;\n",
              "    }\n",
              "\n",
              "    .dataframe tbody tr th {\n",
              "        vertical-align: top;\n",
              "    }\n",
              "\n",
              "    .dataframe thead th {\n",
              "        text-align: right;\n",
              "    }\n",
              "</style>\n",
              "<table border=\"1\" class=\"dataframe\">\n",
              "  <thead>\n",
              "    <tr style=\"text-align: right;\">\n",
              "      <th></th>\n",
              "      <th>text</th>\n",
              "      <th>sentiment</th>\n",
              "      <th>score</th>\n",
              "    </tr>\n",
              "  </thead>\n",
              "  <tbody>\n",
              "    <tr>\n",
              "      <th>2247</th>\n",
              "      <td>@Bozaster @naomirwolf @JenniferSey @momsforliberty Or explain THIS away...\\n#COVIDHOAX #COVID1984 #PLANDEMIC https://t.co/WMHV58gX6K</td>\n",
              "      <td>NEGATIVE</td>\n",
              "      <td>0.9971</td>\n",
              "    </tr>\n",
              "    <tr>\n",
              "      <th>3023</th>\n",
              "      <td>RT @macroliter: Very important &amp;amp; timely 🧵  #VaccinesWork #VaccinesSaveLives</td>\n",
              "      <td>POSITIVE</td>\n",
              "      <td>0.9949</td>\n",
              "    </tr>\n",
              "    <tr>\n",
              "      <th>244</th>\n",
              "      <td>This is me, taking my second covid-19 vaccine #DBZ #DragonBallZ #vaccine #COVID19 #CovidVaccine #Pfizervaccine… https://t.co/lQxWfylg4K</td>\n",
              "      <td>NEGATIVE</td>\n",
              "      <td>0.9953</td>\n",
              "    </tr>\n",
              "    <tr>\n",
              "      <th>2045</th>\n",
              "      <td>RT @1stCavalryDiv: #FirstTeam, defending the country starts with protecting ourselves, and our readiness.  #GetTheShot #ShowUsYourShot  #Go…</td>\n",
              "      <td>POSITIVE</td>\n",
              "      <td>0.9586</td>\n",
              "    </tr>\n",
              "    <tr>\n",
              "      <th>2699</th>\n",
              "      <td>If you're an antivaxer and your kid dies from a cured disease you should be tried for murder. #antivax #idiots</td>\n",
              "      <td>NEGATIVE</td>\n",
              "      <td>0.9990</td>\n",
              "    </tr>\n",
              "  </tbody>\n",
              "</table>\n",
              "</div>"
            ],
            "text/plain": [
              "                                                                                                                                              text  \\\n",
              "2247          @Bozaster @naomirwolf @JenniferSey @momsforliberty Or explain THIS away...\\n#COVIDHOAX #COVID1984 #PLANDEMIC https://t.co/WMHV58gX6K   \n",
              "3023                                                               RT @macroliter: Very important &amp; timely 🧵  #VaccinesWork #VaccinesSaveLives   \n",
              "244        This is me, taking my second covid-19 vaccine #DBZ #DragonBallZ #vaccine #COVID19 #CovidVaccine #Pfizervaccine… https://t.co/lQxWfylg4K   \n",
              "2045  RT @1stCavalryDiv: #FirstTeam, defending the country starts with protecting ourselves, and our readiness.  #GetTheShot #ShowUsYourShot  #Go…   \n",
              "2699                                If you're an antivaxer and your kid dies from a cured disease you should be tried for murder. #antivax #idiots   \n",
              "\n",
              "     sentiment   score  \n",
              "2247  NEGATIVE  0.9971  \n",
              "3023  POSITIVE  0.9949  \n",
              "244   NEGATIVE  0.9953  \n",
              "2045  POSITIVE  0.9586  \n",
              "2699  NEGATIVE  0.9990  "
            ]
          },
          "metadata": {
            "tags": []
          }
        }
      ]
    },
    {
      "cell_type": "code",
      "metadata": {
        "colab": {
          "base_uri": "https://localhost:8080/"
        },
        "id": "zeoE7LZWIoPN",
        "outputId": "37d150f3-e55b-4acb-9737-b90cac232159"
      },
      "source": [
        "# just to verify that the test set have the same samples:\n",
        "np.array_equal(X_test['index'].values, np.array(y_test.index))"
      ],
      "execution_count": 101,
      "outputs": [
        {
          "output_type": "execute_result",
          "data": {
            "text/plain": [
              "True"
            ]
          },
          "metadata": {
            "tags": []
          },
          "execution_count": 101
        }
      ]
    },
    {
      "cell_type": "code",
      "metadata": {
        "colab": {
          "base_uri": "https://localhost:8080/",
          "height": 718
        },
        "id": "4JYugnkSlPQD",
        "outputId": "47c5b02d-4492-4289-bafe-3420c8ccefd7"
      },
      "source": [
        "def label_function(val):\n",
        "    return f'{val / 100 * len(df):.0f}\\n{val:.0f}%'\n",
        "\n",
        "train = X_train.merge(y_train.reset_index(), on='index')\n",
        "test = X_test.merge(y_test.reset_index(), on='index')\n",
        "\n",
        "counts_train = train['sentiment'].value_counts()\n",
        "counts_test = test['sentiment'].value_counts()\n",
        "percent_train = counts_train/sum(counts_train)\n",
        "percent_test = counts_test/sum(counts_test)\n",
        "\n",
        "fig, ax = plt.subplots(2,3, figsize=(20, 10))\n",
        "percent_train.plot(kind='bar', ax=ax[0,0])\n",
        "ax[0,0].set_ylabel('Percentage : Train Transformers Sentiments', size=12)\n",
        "train.groupby('sentiment').size().plot(kind='pie', autopct=label_function, textprops={'fontsize': 12}, ax=ax[0,1])\n",
        "ax[0,1].set_ylabel('Train Transformer Sentiments', size=12)\n",
        "ax[0,2] = sns.countplot(x=\"sentiment\", hue=\"category\", data=train, ax=ax[0,2])\n",
        "ax[0,2].set_ylabel('Counts: Train Transformer Sentiments by category', size=12)\n",
        "percent_test.plot(kind='bar', ax=ax[1,0])\n",
        "ax[1,0].set_ylabel('Percentage : Test Transformers Sentiments', size=12)\n",
        "test.groupby('sentiment').size().plot(kind='pie', autopct=label_function, textprops={'fontsize': 12}, ax=ax[1,1])\n",
        "ax[1,1].set_ylabel('Test Transformer Sentiments', size=12)\n",
        "ax[1,2] = sns.countplot(x=\"sentiment\", hue=\"category\", data=test, ax=ax[1,2])\n",
        "ax[1,2].set_ylabel('Counts: Test Transformer Sentiments by category', size=12)\n",
        "plt.tight_layout()\n",
        "plt.show()"
      ],
      "execution_count": 102,
      "outputs": [
        {
          "output_type": "display_data",
          "data": {
            "image/png": "[encoded data removed]",
            "text/plain": [
              "<Figure size 1440x720 with 6 Axes>"
            ]
          },
          "metadata": {
            "tags": [],
            "needs_background": "light"
          }
        }
      ]
    },
    {
      "cell_type": "markdown",
      "metadata": {
        "id": "40NGuT7IeJdy"
      },
      "source": [
        "By looking at those results, we can understand that in order to determine the possibility of a tweet to have a non-anti-vaccination content, it will probably be affected by the sentiment feature - there is a high chance that non-anti-vaccination tweet will have a positive sentiment."
      ]
    },
    {
      "cell_type": "code",
      "metadata": {
        "colab": {
          "base_uri": "https://localhost:8080/",
          "height": 741
        },
        "id": "DriaA18pX_B7",
        "outputId": "ebd598b3-9265-4a8f-d3f4-6a0b80babcf7"
      },
      "source": [
        "tf_sentiment_dict = {key.upper():value for key, value in category_dict.items()}\n",
        "X_train['sentiment'] = X_train['sentiment'].map(tf_sentiment_dict)\n",
        "X_test['sentiment'] = X_test['sentiment'].map(tf_sentiment_dict)\n",
        "display(X_train.sample())\n",
        "display(X_test.sample())"
      ],
      "execution_count": 103,
      "outputs": [
        {
          "output_type": "display_data",
          "data": {
            "text/html": [
              "<div>\n",
              "<style scoped>\n",
              "    .dataframe tbody tr th:only-of-type {\n",
              "        vertical-align: middle;\n",
              "    }\n",
              "\n",
              "    .dataframe tbody tr th {\n",
              "        vertical-align: top;\n",
              "    }\n",
              "\n",
              "    .dataframe thead th {\n",
              "        text-align: right;\n",
              "    }\n",
              "</style>\n",
              "<table border=\"1\" class=\"dataframe\">\n",
              "  <thead>\n",
              "    <tr style=\"text-align: right;\">\n",
              "      <th></th>\n",
              "      <th>index</th>\n",
              "      <th>user_name</th>\n",
              "      <th>user_location</th>\n",
              "      <th>user_description</th>\n",
              "      <th>user_created</th>\n",
              "      <th>user_followers</th>\n",
              "      <th>date</th>\n",
              "      <th>text</th>\n",
              "      <th>favorites</th>\n",
              "      <th>retweets</th>\n",
              "      <th>is_retweet</th>\n",
              "      <th>user_location_updated</th>\n",
              "      <th>user-country_code</th>\n",
              "      <th>user-country</th>\n",
              "      <th>week_day</th>\n",
              "      <th>month</th>\n",
              "      <th>year</th>\n",
              "      <th>tweet_?!_marks</th>\n",
              "      <th>up_text</th>\n",
              "      <th>hashtags</th>\n",
              "      <th>tokenized</th>\n",
              "      <th>pos_tags</th>\n",
              "      <th>n_words</th>\n",
              "      <th>ten most common names</th>\n",
              "      <th>tokenized_common</th>\n",
              "      <th>vaccine</th>\n",
              "      <th>get</th>\n",
              "      <th>covid</th>\n",
              "      <th>make</th>\n",
              "      <th>today</th>\n",
              "      <th>anti</th>\n",
              "      <th>19</th>\n",
              "      <th>antivaxx</th>\n",
              "      <th>vaccinate</th>\n",
              "      <th>time</th>\n",
              "      <th>first</th>\n",
              "      <th>people</th>\n",
              "      <th>vaccination</th>\n",
              "      <th>thank</th>\n",
              "      <th>receive</th>\n",
              "      <th>1</th>\n",
              "      <th>2</th>\n",
              "      <th>dose</th>\n",
              "      <th>week</th>\n",
              "      <th>safety</th>\n",
              "      <th>interest</th>\n",
              "      <th>theorist</th>\n",
              "      <th>conflict</th>\n",
              "      <th>efficacy</th>\n",
              "      <th>raise</th>\n",
              "      <th>one</th>\n",
              "      <th>query</th>\n",
              "      <th>day</th>\n",
              "      <th>youconspiracy</th>\n",
              "      <th>help</th>\n",
              "      <th>home</th>\n",
              "      <th>take</th>\n",
              "      <th>staff</th>\n",
              "      <th>health</th>\n",
              "      <th>see</th>\n",
              "      <th>u</th>\n",
              "      <th>new</th>\n",
              "      <th>prediction</th>\n",
              "      <th>work</th>\n",
              "      <th>shot</th>\n",
              "      <th>continue</th>\n",
              "      <th>say</th>\n",
              "      <th>community</th>\n",
              "      <th>resident</th>\n",
              "      <th>care</th>\n",
              "      <th>need</th>\n",
              "      <th>go</th>\n",
              "      <th>second</th>\n",
              "      <th>2nd</th>\n",
              "      <th>every</th>\n",
              "      <th>give</th>\n",
              "      <th>know</th>\n",
              "      <th>administer</th>\n",
              "      <th>protect</th>\n",
              "      <th>worker</th>\n",
              "      <th>safe</th>\n",
              "      <th>state</th>\n",
              "      <th>good</th>\n",
              "      <th>dr</th>\n",
              "      <th>visit</th>\n",
              "      <th>family</th>\n",
              "      <th>nothing</th>\n",
              "      <th>11</th>\n",
              "      <th>impact</th>\n",
              "      <th>come</th>\n",
              "      <th>million</th>\n",
              "      <th>change</th>\n",
              "      <th>share</th>\n",
              "      <th>part</th>\n",
              "      <th>watch</th>\n",
              "      <th>team</th>\n",
              "      <th>important</th>\n",
              "      <th>much</th>\n",
              "      <th>keep</th>\n",
              "      <th>love</th>\n",
              "      <th>kentucky</th>\n",
              "      <th>across</th>\n",
              "      <th>thanks</th>\n",
              "      <th>waste</th>\n",
              "      <th>37</th>\n",
              "      <th>22</th>\n",
              "      <th>many</th>\n",
              "      <th>plus</th>\n",
              "      <th>roll</th>\n",
              "      <th>question</th>\n",
              "      <th>6</th>\n",
              "      <th>footcouple</th>\n",
              "      <th>notdrop</th>\n",
              "      <th>life</th>\n",
              "      <th>like</th>\n",
              "      <th>street</th>\n",
              "      <th>000</th>\n",
              "      <th>look</th>\n",
              "      <th>itgoing</th>\n",
              "      <th>summer</th>\n",
              "      <th>beturbulent</th>\n",
              "      <th>old</th>\n",
              "      <th>last</th>\n",
              "      <th>vaxxers</th>\n",
              "      <th>sentiment</th>\n",
              "      <th>score</th>\n",
              "    </tr>\n",
              "  </thead>\n",
              "  <tbody>\n",
              "    <tr>\n",
              "      <th>8525</th>\n",
              "      <td>6283</td>\n",
              "      <td>Kathlee72368858</td>\n",
              "      <td>Central Kentucky</td>\n",
              "      <td>Equine Goddess. New England transplant in a Red State. Nurse.</td>\n",
              "      <td>2020-12-23</td>\n",
              "      <td>40</td>\n",
              "      <td>2021-02-07 21:00:01</td>\n",
              "      <td>RT @GovAndyBeshear: We are vaccinating people faster than we get doses from the federal government. If you’re having a hard time signing up…</td>\n",
              "      <td>0</td>\n",
              "      <td>53</td>\n",
              "      <td>True</td>\n",
              "      <td>Central Kentucky</td>\n",
              "      <td>USA</td>\n",
              "      <td>United States</td>\n",
              "      <td>6</td>\n",
              "      <td>2</td>\n",
              "      <td>0</td>\n",
              "      <td>0</td>\n",
              "      <td>rt we are vaccinating people faster than we get doses from the federal government if you re havinghard time signing up</td>\n",
              "      <td>[]</td>\n",
              "      <td>[rt, vaccinate, people, faster, get, dose, federal, government, havinghard, time, signing]</td>\n",
              "      <td>[(rt, NN), (vaccinating, VBG), (people, NNS), (faster, RBR), (get, VBP), (doses, VBZ), (federal, JJ), (government, NN), (havinghard, NN), (time, NN), (signing, NN)]</td>\n",
              "      <td>21</td>\n",
              "      <td>0</td>\n",
              "      <td>[vaccinate, people, get, dose, time]</td>\n",
              "      <td>0</td>\n",
              "      <td>1</td>\n",
              "      <td>0</td>\n",
              "      <td>0</td>\n",
              "      <td>0</td>\n",
              "      <td>0</td>\n",
              "      <td>0</td>\n",
              "      <td>0</td>\n",
              "      <td>1</td>\n",
              "      <td>1</td>\n",
              "      <td>0</td>\n",
              "      <td>1</td>\n",
              "      <td>0</td>\n",
              "      <td>0</td>\n",
              "      <td>0</td>\n",
              "      <td>0</td>\n",
              "      <td>0</td>\n",
              "      <td>1</td>\n",
              "      <td>0</td>\n",
              "      <td>0</td>\n",
              "      <td>0</td>\n",
              "      <td>0</td>\n",
              "      <td>0</td>\n",
              "      <td>0</td>\n",
              "      <td>0</td>\n",
              "      <td>0</td>\n",
              "      <td>0</td>\n",
              "      <td>0</td>\n",
              "      <td>0</td>\n",
              "      <td>0</td>\n",
              "      <td>0</td>\n",
              "      <td>0</td>\n",
              "      <td>0</td>\n",
              "      <td>0</td>\n",
              "      <td>0</td>\n",
              "      <td>0</td>\n",
              "      <td>0</td>\n",
              "      <td>0</td>\n",
              "      <td>0</td>\n",
              "      <td>0</td>\n",
              "      <td>0</td>\n",
              "      <td>0</td>\n",
              "      <td>0</td>\n",
              "      <td>0</td>\n",
              "      <td>0</td>\n",
              "      <td>0</td>\n",
              "      <td>0</td>\n",
              "      <td>0</td>\n",
              "      <td>0</td>\n",
              "      <td>0</td>\n",
              "      <td>0</td>\n",
              "      <td>0</td>\n",
              "      <td>0</td>\n",
              "      <td>0</td>\n",
              "      <td>0</td>\n",
              "      <td>0</td>\n",
              "      <td>0</td>\n",
              "      <td>0</td>\n",
              "      <td>0</td>\n",
              "      <td>0</td>\n",
              "      <td>0</td>\n",
              "      <td>0</td>\n",
              "      <td>0</td>\n",
              "      <td>0</td>\n",
              "      <td>0</td>\n",
              "      <td>0</td>\n",
              "      <td>0</td>\n",
              "      <td>0</td>\n",
              "      <td>0</td>\n",
              "      <td>0</td>\n",
              "      <td>0</td>\n",
              "      <td>0</td>\n",
              "      <td>0</td>\n",
              "      <td>0</td>\n",
              "      <td>0</td>\n",
              "      <td>0</td>\n",
              "      <td>0</td>\n",
              "      <td>0</td>\n",
              "      <td>0</td>\n",
              "      <td>0</td>\n",
              "      <td>0</td>\n",
              "      <td>0</td>\n",
              "      <td>0</td>\n",
              "      <td>0</td>\n",
              "      <td>0</td>\n",
              "      <td>0</td>\n",
              "      <td>0</td>\n",
              "      <td>0</td>\n",
              "      <td>0</td>\n",
              "      <td>0</td>\n",
              "      <td>0</td>\n",
              "      <td>0</td>\n",
              "      <td>0</td>\n",
              "      <td>0</td>\n",
              "      <td>0</td>\n",
              "      <td>0</td>\n",
              "      <td>0</td>\n",
              "      <td>0</td>\n",
              "      <td>0</td>\n",
              "      <td>1</td>\n",
              "      <td>0.9967</td>\n",
              "    </tr>\n",
              "  </tbody>\n",
              "</table>\n",
              "</div>"
            ],
            "text/plain": [
              "      index        user_name     user_location  \\\n",
              "8525   6283  Kathlee72368858  Central Kentucky   \n",
              "\n",
              "                                                   user_description  \\\n",
              "8525  Equine Goddess. New England transplant in a Red State. Nurse.   \n",
              "\n",
              "     user_created  user_followers                date  \\\n",
              "8525   2020-12-23              40 2021-02-07 21:00:01   \n",
              "\n",
              "                                                                                                                                              text  \\\n",
              "8525  RT @GovAndyBeshear: We are vaccinating people faster than we get doses from the federal government. If you’re having a hard time signing up…   \n",
              "\n",
              "      favorites  retweets  is_retweet user_location_updated user-country_code  \\\n",
              "8525          0        53        True      Central Kentucky               USA   \n",
              "\n",
              "       user-country  week_day  month  year  tweet_?!_marks  \\\n",
              "8525  United States         6      2     0               0   \n",
              "\n",
              "                                                                                                                     up_text  \\\n",
              "8525  rt we are vaccinating people faster than we get doses from the federal government if you re havinghard time signing up   \n",
              "\n",
              "     hashtags  \\\n",
              "8525       []   \n",
              "\n",
              "                                                                                       tokenized  \\\n",
              "8525  [rt, vaccinate, people, faster, get, dose, federal, government, havinghard, time, signing]   \n",
              "\n",
              "                                                                                                                                                                  pos_tags  \\\n",
              "8525  [(rt, NN), (vaccinating, VBG), (people, NNS), (faster, RBR), (get, VBP), (doses, VBZ), (federal, JJ), (government, NN), (havinghard, NN), (time, NN), (signing, NN)]   \n",
              "\n",
              "      n_words  ten most common names                      tokenized_common  \\\n",
              "8525       21                      0  [vaccinate, people, get, dose, time]   \n",
              "\n",
              "      vaccine  get  covid  make  today  anti  19  antivaxx  vaccinate  time  \\\n",
              "8525        0    1      0     0      0     0   0         0          1     1   \n",
              "\n",
              "      first  people  vaccination  thank  receive  1  2  dose  week  safety  \\\n",
              "8525      0       1            0      0        0  0  0     1     0       0   \n",
              "\n",
              "      interest  theorist  conflict  efficacy  raise  one  query  day  \\\n",
              "8525         0         0         0         0      0    0      0    0   \n",
              "\n",
              "      youconspiracy  help  home  take  staff  health  see  u  new  prediction  \\\n",
              "8525              0     0     0     0      0       0    0  0    0           0   \n",
              "\n",
              "      work  shot  continue  say  community  resident  care  need  go  second  \\\n",
              "8525     0     0         0    0          0         0     0     0   0       0   \n",
              "\n",
              "      2nd  every  give  know  administer  protect  worker  safe  state  good  \\\n",
              "8525    0      0     0     0           0        0       0     0      0     0   \n",
              "\n",
              "      dr  visit  family  nothing  11  impact  come  million  change  share  \\\n",
              "8525   0      0       0        0   0       0     0        0       0      0   \n",
              "\n",
              "      part  watch  team  important  much  keep  love  kentucky  across  \\\n",
              "8525     0      0     0          0     0     0     0         0       0   \n",
              "\n",
              "      thanks  waste  37  22  many  plus  roll  question  6  footcouple  \\\n",
              "8525       0      0   0   0     0     0     0         0  0           0   \n",
              "\n",
              "      notdrop  life  like  street  000  look  itgoing  summer  beturbulent  \\\n",
              "8525        0     0     0       0    0     0        0       0            0   \n",
              "\n",
              "      old  last  vaxxers  sentiment   score  \n",
              "8525    0     0        0          1  0.9967  "
            ]
          },
          "metadata": {
            "tags": []
          }
        },
        {
          "output_type": "display_data",
          "data": {
            "text/html": [
              "<div>\n",
              "<style scoped>\n",
              "    .dataframe tbody tr th:only-of-type {\n",
              "        vertical-align: middle;\n",
              "    }\n",
              "\n",
              "    .dataframe tbody tr th {\n",
              "        vertical-align: top;\n",
              "    }\n",
              "\n",
              "    .dataframe thead th {\n",
              "        text-align: right;\n",
              "    }\n",
              "</style>\n",
              "<table border=\"1\" class=\"dataframe\">\n",
              "  <thead>\n",
              "    <tr style=\"text-align: right;\">\n",
              "      <th></th>\n",
              "      <th>index</th>\n",
              "      <th>user_name</th>\n",
              "      <th>user_location</th>\n",
              "      <th>user_description</th>\n",
              "      <th>user_created</th>\n",
              "      <th>user_followers</th>\n",
              "      <th>date</th>\n",
              "      <th>text</th>\n",
              "      <th>favorites</th>\n",
              "      <th>retweets</th>\n",
              "      <th>is_retweet</th>\n",
              "      <th>user_location_updated</th>\n",
              "      <th>user-country_code</th>\n",
              "      <th>user-country</th>\n",
              "      <th>week_day</th>\n",
              "      <th>month</th>\n",
              "      <th>year</th>\n",
              "      <th>tweet_?!_marks</th>\n",
              "      <th>up_text</th>\n",
              "      <th>hashtags</th>\n",
              "      <th>tokenized</th>\n",
              "      <th>pos_tags</th>\n",
              "      <th>n_words</th>\n",
              "      <th>ten most common names</th>\n",
              "      <th>tokenized_common</th>\n",
              "      <th>vaccine</th>\n",
              "      <th>get</th>\n",
              "      <th>covid</th>\n",
              "      <th>make</th>\n",
              "      <th>today</th>\n",
              "      <th>anti</th>\n",
              "      <th>19</th>\n",
              "      <th>antivaxx</th>\n",
              "      <th>vaccinate</th>\n",
              "      <th>time</th>\n",
              "      <th>first</th>\n",
              "      <th>people</th>\n",
              "      <th>vaccination</th>\n",
              "      <th>thank</th>\n",
              "      <th>receive</th>\n",
              "      <th>1</th>\n",
              "      <th>2</th>\n",
              "      <th>dose</th>\n",
              "      <th>week</th>\n",
              "      <th>safety</th>\n",
              "      <th>interest</th>\n",
              "      <th>theorist</th>\n",
              "      <th>conflict</th>\n",
              "      <th>efficacy</th>\n",
              "      <th>raise</th>\n",
              "      <th>one</th>\n",
              "      <th>query</th>\n",
              "      <th>day</th>\n",
              "      <th>youconspiracy</th>\n",
              "      <th>help</th>\n",
              "      <th>home</th>\n",
              "      <th>take</th>\n",
              "      <th>staff</th>\n",
              "      <th>health</th>\n",
              "      <th>see</th>\n",
              "      <th>u</th>\n",
              "      <th>new</th>\n",
              "      <th>prediction</th>\n",
              "      <th>work</th>\n",
              "      <th>shot</th>\n",
              "      <th>continue</th>\n",
              "      <th>say</th>\n",
              "      <th>community</th>\n",
              "      <th>resident</th>\n",
              "      <th>care</th>\n",
              "      <th>need</th>\n",
              "      <th>go</th>\n",
              "      <th>second</th>\n",
              "      <th>2nd</th>\n",
              "      <th>every</th>\n",
              "      <th>give</th>\n",
              "      <th>know</th>\n",
              "      <th>administer</th>\n",
              "      <th>protect</th>\n",
              "      <th>worker</th>\n",
              "      <th>safe</th>\n",
              "      <th>state</th>\n",
              "      <th>good</th>\n",
              "      <th>dr</th>\n",
              "      <th>visit</th>\n",
              "      <th>family</th>\n",
              "      <th>nothing</th>\n",
              "      <th>11</th>\n",
              "      <th>impact</th>\n",
              "      <th>come</th>\n",
              "      <th>million</th>\n",
              "      <th>change</th>\n",
              "      <th>share</th>\n",
              "      <th>part</th>\n",
              "      <th>watch</th>\n",
              "      <th>team</th>\n",
              "      <th>important</th>\n",
              "      <th>much</th>\n",
              "      <th>keep</th>\n",
              "      <th>love</th>\n",
              "      <th>kentucky</th>\n",
              "      <th>across</th>\n",
              "      <th>thanks</th>\n",
              "      <th>waste</th>\n",
              "      <th>37</th>\n",
              "      <th>22</th>\n",
              "      <th>many</th>\n",
              "      <th>plus</th>\n",
              "      <th>roll</th>\n",
              "      <th>question</th>\n",
              "      <th>6</th>\n",
              "      <th>footcouple</th>\n",
              "      <th>notdrop</th>\n",
              "      <th>life</th>\n",
              "      <th>like</th>\n",
              "      <th>street</th>\n",
              "      <th>000</th>\n",
              "      <th>look</th>\n",
              "      <th>itgoing</th>\n",
              "      <th>summer</th>\n",
              "      <th>beturbulent</th>\n",
              "      <th>old</th>\n",
              "      <th>last</th>\n",
              "      <th>vaxxers</th>\n",
              "      <th>sentiment</th>\n",
              "      <th>score</th>\n",
              "    </tr>\n",
              "  </thead>\n",
              "  <tbody>\n",
              "    <tr>\n",
              "      <th>633</th>\n",
              "      <td>9212</td>\n",
              "      <td>Glenntwts</td>\n",
              "      <td>UK</td>\n",
              "      <td>Writer, editor, researcher. PhD supervisor -  E pluribus unum . \\n\\n\\n#ComeonyouSaints #46 @SouthamptonFC</td>\n",
              "      <td>2011-03-09</td>\n",
              "      <td>314</td>\n",
              "      <td>2021-02-15 20:58:17</td>\n",
              "      <td>Unsurprisingly #Panorama not going down well with the #Antivaxxers, #Coviddeniers #COVIDIOT #KBF crew. I don't think it was supposed too.</td>\n",
              "      <td>25</td>\n",
              "      <td>2</td>\n",
              "      <td>True</td>\n",
              "      <td>UK</td>\n",
              "      <td>GBR</td>\n",
              "      <td>United Kingdom</td>\n",
              "      <td>0</td>\n",
              "      <td>2</td>\n",
              "      <td>0</td>\n",
              "      <td>0</td>\n",
              "      <td>unsurprisingly not going down well with the crewdonthink it was supposed too</td>\n",
              "      <td>[#panorama, #antivaxxers,, #coviddeniers, #covidiot, #kbf]</td>\n",
              "      <td>[unsurprisingly, go, well, crewdonthink, suppose]</td>\n",
              "      <td>[(unsurprisingly, RB), (going, VBG), (well, RB), (crewdonthink, VB), (supposed, VBN)]</td>\n",
              "      <td>12</td>\n",
              "      <td>0</td>\n",
              "      <td>[go]</td>\n",
              "      <td>0</td>\n",
              "      <td>0</td>\n",
              "      <td>0</td>\n",
              "      <td>0</td>\n",
              "      <td>0</td>\n",
              "      <td>0</td>\n",
              "      <td>0</td>\n",
              "      <td>0</td>\n",
              "      <td>0</td>\n",
              "      <td>0</td>\n",
              "      <td>0</td>\n",
              "      <td>0</td>\n",
              "      <td>0</td>\n",
              "      <td>0</td>\n",
              "      <td>0</td>\n",
              "      <td>0</td>\n",
              "      <td>0</td>\n",
              "      <td>0</td>\n",
              "      <td>0</td>\n",
              "      <td>0</td>\n",
              "      <td>0</td>\n",
              "      <td>0</td>\n",
              "      <td>0</td>\n",
              "      <td>0</td>\n",
              "      <td>0</td>\n",
              "      <td>0</td>\n",
              "      <td>0</td>\n",
              "      <td>0</td>\n",
              "      <td>0</td>\n",
              "      <td>0</td>\n",
              "      <td>0</td>\n",
              "      <td>0</td>\n",
              "      <td>0</td>\n",
              "      <td>0</td>\n",
              "      <td>0</td>\n",
              "      <td>0</td>\n",
              "      <td>0</td>\n",
              "      <td>0</td>\n",
              "      <td>0</td>\n",
              "      <td>0</td>\n",
              "      <td>0</td>\n",
              "      <td>0</td>\n",
              "      <td>0</td>\n",
              "      <td>0</td>\n",
              "      <td>0</td>\n",
              "      <td>0</td>\n",
              "      <td>1</td>\n",
              "      <td>0</td>\n",
              "      <td>0</td>\n",
              "      <td>0</td>\n",
              "      <td>0</td>\n",
              "      <td>0</td>\n",
              "      <td>0</td>\n",
              "      <td>0</td>\n",
              "      <td>0</td>\n",
              "      <td>0</td>\n",
              "      <td>0</td>\n",
              "      <td>0</td>\n",
              "      <td>0</td>\n",
              "      <td>0</td>\n",
              "      <td>0</td>\n",
              "      <td>0</td>\n",
              "      <td>0</td>\n",
              "      <td>0</td>\n",
              "      <td>0</td>\n",
              "      <td>0</td>\n",
              "      <td>0</td>\n",
              "      <td>0</td>\n",
              "      <td>0</td>\n",
              "      <td>0</td>\n",
              "      <td>0</td>\n",
              "      <td>0</td>\n",
              "      <td>0</td>\n",
              "      <td>0</td>\n",
              "      <td>0</td>\n",
              "      <td>0</td>\n",
              "      <td>0</td>\n",
              "      <td>0</td>\n",
              "      <td>0</td>\n",
              "      <td>0</td>\n",
              "      <td>0</td>\n",
              "      <td>0</td>\n",
              "      <td>0</td>\n",
              "      <td>0</td>\n",
              "      <td>0</td>\n",
              "      <td>0</td>\n",
              "      <td>0</td>\n",
              "      <td>0</td>\n",
              "      <td>0</td>\n",
              "      <td>0</td>\n",
              "      <td>0</td>\n",
              "      <td>0</td>\n",
              "      <td>0</td>\n",
              "      <td>0</td>\n",
              "      <td>0</td>\n",
              "      <td>0</td>\n",
              "      <td>0</td>\n",
              "      <td>0</td>\n",
              "      <td>0</td>\n",
              "      <td>1</td>\n",
              "      <td>0.9997</td>\n",
              "    </tr>\n",
              "  </tbody>\n",
              "</table>\n",
              "</div>"
            ],
            "text/plain": [
              "     index  user_name user_location  \\\n",
              "633   9212  Glenntwts            UK   \n",
              "\n",
              "                                                                                              user_description  \\\n",
              "633  Writer, editor, researcher. PhD supervisor -  E pluribus unum . \\n\\n\\n#ComeonyouSaints #46 @SouthamptonFC   \n",
              "\n",
              "    user_created  user_followers                date  \\\n",
              "633   2011-03-09             314 2021-02-15 20:58:17   \n",
              "\n",
              "                                                                                                                                          text  \\\n",
              "633  Unsurprisingly #Panorama not going down well with the #Antivaxxers, #Coviddeniers #COVIDIOT #KBF crew. I don't think it was supposed too.   \n",
              "\n",
              "     favorites  retweets  is_retweet user_location_updated user-country_code  \\\n",
              "633         25         2        True                    UK               GBR   \n",
              "\n",
              "       user-country  week_day  month  year  tweet_?!_marks  \\\n",
              "633  United Kingdom         0      2     0               0   \n",
              "\n",
              "                                                                          up_text  \\\n",
              "633  unsurprisingly not going down well with the crewdonthink it was supposed too   \n",
              "\n",
              "                                                       hashtags  \\\n",
              "633  [#panorama, #antivaxxers,, #coviddeniers, #covidiot, #kbf]   \n",
              "\n",
              "                                             tokenized  \\\n",
              "633  [unsurprisingly, go, well, crewdonthink, suppose]   \n",
              "\n",
              "                                                                                  pos_tags  \\\n",
              "633  [(unsurprisingly, RB), (going, VBG), (well, RB), (crewdonthink, VB), (supposed, VBN)]   \n",
              "\n",
              "     n_words  ten most common names tokenized_common  vaccine  get  covid  \\\n",
              "633       12                      0             [go]        0    0      0   \n",
              "\n",
              "     make  today  anti  19  antivaxx  vaccinate  time  first  people  \\\n",
              "633     0      0     0   0         0          0     0      0       0   \n",
              "\n",
              "     vaccination  thank  receive  1  2  dose  week  safety  interest  \\\n",
              "633            0      0        0  0  0     0     0       0         0   \n",
              "\n",
              "     theorist  conflict  efficacy  raise  one  query  day  youconspiracy  \\\n",
              "633         0         0         0      0    0      0    0              0   \n",
              "\n",
              "     help  home  take  staff  health  see  u  new  prediction  work  shot  \\\n",
              "633     0     0     0      0       0    0  0    0           0     0     0   \n",
              "\n",
              "     continue  say  community  resident  care  need  go  second  2nd  every  \\\n",
              "633         0    0          0         0     0     0   1       0    0      0   \n",
              "\n",
              "     give  know  administer  protect  worker  safe  state  good  dr  visit  \\\n",
              "633     0     0           0        0       0     0      0     0   0      0   \n",
              "\n",
              "     family  nothing  11  impact  come  million  change  share  part  watch  \\\n",
              "633       0        0   0       0     0        0       0      0     0      0   \n",
              "\n",
              "     team  important  much  keep  love  kentucky  across  thanks  waste  37  \\\n",
              "633     0          0     0     0     0         0       0       0      0   0   \n",
              "\n",
              "     22  many  plus  roll  question  6  footcouple  notdrop  life  like  \\\n",
              "633   0     0     0     0         0  0           0        0     0     0   \n",
              "\n",
              "     street  000  look  itgoing  summer  beturbulent  old  last  vaxxers  \\\n",
              "633       0    0     0        0       0            0    0     0        0   \n",
              "\n",
              "     sentiment   score  \n",
              "633          1  0.9997  "
            ]
          },
          "metadata": {
            "tags": []
          }
        }
      ]
    },
    {
      "cell_type": "markdown",
      "metadata": {
        "id": "aPnrvwK3neFm"
      },
      "source": [
        "Let's take care of location using one-hot-encoding: "
      ]
    },
    {
      "cell_type": "code",
      "metadata": {
        "colab": {
          "base_uri": "https://localhost:8080/"
        },
        "id": "xWlCIO8onbXZ",
        "outputId": "0cdce08b-9d45-4dca-d6ca-01dede5e1e85"
      },
      "source": [
        "print(f\"The number of country values in train that aren't in the test: {len(set(X_train['user-country_code']) - set(X_test['user-country_code']))}\")\n",
        "print(f\"The number of countries values that are unique to the test set : {len(set(X_test['user-country_code']) - set(X_train['user-country_code']))}, and they are:\\n{set(X_test['user-country_code']) - set(X_train['user-country_code'])}\")"
      ],
      "execution_count": 104,
      "outputs": [
        {
          "output_type": "stream",
          "text": [
            "The number of country values in train that aren't in the test: 46\n",
            "The number of countries values that are unique to the test set : 5, and they are:\n",
            "{'KHM', 'URY', 'SYR', 'KAZ', 'BRB'}\n"
          ],
          "name": "stdout"
        }
      ]
    },
    {
      "cell_type": "markdown",
      "metadata": {
        "id": "eqlVPZN_he2q"
      },
      "source": [
        "(insted of 'BRB', 'KHM', 'SYR', 'URY', 'KAZ' country code, we will change it to 'OTH' - that will be under our \"Other\" catagory. \\\n"
      ]
    },
    {
      "cell_type": "code",
      "metadata": {
        "colab": {
          "base_uri": "https://localhost:8080/",
          "height": 120
        },
        "id": "7ZCgSs9HnbZ7",
        "outputId": "b40cb97f-c6cf-40b5-8148-e366534d2263"
      },
      "source": [
        "replace_values_test = list(set(X_test['user-country_code']) - set(X_train['user-country_code']))\n",
        "X_test.loc[X_test[\"user-country_code\"].isin(replace_values_test), \"user-country_code\"] = \"OTH\"\n",
        "# X_test.isna().sum() # just a verification - all good\n",
        "X_test.loc[X_test[\"user-country_code\"].isin(replace_values_test)] # just a check"
      ],
      "execution_count": 105,
      "outputs": [
        {
          "output_type": "execute_result",
          "data": {
            "text/html": [
              "<div>\n",
              "<style scoped>\n",
              "    .dataframe tbody tr th:only-of-type {\n",
              "        vertical-align: middle;\n",
              "    }\n",
              "\n",
              "    .dataframe tbody tr th {\n",
              "        vertical-align: top;\n",
              "    }\n",
              "\n",
              "    .dataframe thead th {\n",
              "        text-align: right;\n",
              "    }\n",
              "</style>\n",
              "<table border=\"1\" class=\"dataframe\">\n",
              "  <thead>\n",
              "    <tr style=\"text-align: right;\">\n",
              "      <th></th>\n",
              "      <th>index</th>\n",
              "      <th>user_name</th>\n",
              "      <th>user_location</th>\n",
              "      <th>user_description</th>\n",
              "      <th>user_created</th>\n",
              "      <th>user_followers</th>\n",
              "      <th>date</th>\n",
              "      <th>text</th>\n",
              "      <th>favorites</th>\n",
              "      <th>retweets</th>\n",
              "      <th>is_retweet</th>\n",
              "      <th>user_location_updated</th>\n",
              "      <th>user-country_code</th>\n",
              "      <th>user-country</th>\n",
              "      <th>week_day</th>\n",
              "      <th>month</th>\n",
              "      <th>year</th>\n",
              "      <th>tweet_?!_marks</th>\n",
              "      <th>up_text</th>\n",
              "      <th>hashtags</th>\n",
              "      <th>tokenized</th>\n",
              "      <th>pos_tags</th>\n",
              "      <th>n_words</th>\n",
              "      <th>ten most common names</th>\n",
              "      <th>tokenized_common</th>\n",
              "      <th>vaccine</th>\n",
              "      <th>get</th>\n",
              "      <th>covid</th>\n",
              "      <th>make</th>\n",
              "      <th>today</th>\n",
              "      <th>anti</th>\n",
              "      <th>19</th>\n",
              "      <th>antivaxx</th>\n",
              "      <th>vaccinate</th>\n",
              "      <th>time</th>\n",
              "      <th>first</th>\n",
              "      <th>people</th>\n",
              "      <th>vaccination</th>\n",
              "      <th>thank</th>\n",
              "      <th>receive</th>\n",
              "      <th>1</th>\n",
              "      <th>2</th>\n",
              "      <th>dose</th>\n",
              "      <th>week</th>\n",
              "      <th>safety</th>\n",
              "      <th>interest</th>\n",
              "      <th>theorist</th>\n",
              "      <th>conflict</th>\n",
              "      <th>efficacy</th>\n",
              "      <th>raise</th>\n",
              "      <th>one</th>\n",
              "      <th>query</th>\n",
              "      <th>day</th>\n",
              "      <th>youconspiracy</th>\n",
              "      <th>help</th>\n",
              "      <th>home</th>\n",
              "      <th>take</th>\n",
              "      <th>staff</th>\n",
              "      <th>health</th>\n",
              "      <th>see</th>\n",
              "      <th>u</th>\n",
              "      <th>new</th>\n",
              "      <th>prediction</th>\n",
              "      <th>work</th>\n",
              "      <th>shot</th>\n",
              "      <th>continue</th>\n",
              "      <th>say</th>\n",
              "      <th>community</th>\n",
              "      <th>resident</th>\n",
              "      <th>care</th>\n",
              "      <th>need</th>\n",
              "      <th>go</th>\n",
              "      <th>second</th>\n",
              "      <th>2nd</th>\n",
              "      <th>every</th>\n",
              "      <th>give</th>\n",
              "      <th>know</th>\n",
              "      <th>administer</th>\n",
              "      <th>protect</th>\n",
              "      <th>worker</th>\n",
              "      <th>safe</th>\n",
              "      <th>state</th>\n",
              "      <th>good</th>\n",
              "      <th>dr</th>\n",
              "      <th>visit</th>\n",
              "      <th>family</th>\n",
              "      <th>nothing</th>\n",
              "      <th>11</th>\n",
              "      <th>impact</th>\n",
              "      <th>come</th>\n",
              "      <th>million</th>\n",
              "      <th>change</th>\n",
              "      <th>share</th>\n",
              "      <th>part</th>\n",
              "      <th>watch</th>\n",
              "      <th>team</th>\n",
              "      <th>important</th>\n",
              "      <th>much</th>\n",
              "      <th>keep</th>\n",
              "      <th>love</th>\n",
              "      <th>kentucky</th>\n",
              "      <th>across</th>\n",
              "      <th>thanks</th>\n",
              "      <th>waste</th>\n",
              "      <th>37</th>\n",
              "      <th>22</th>\n",
              "      <th>many</th>\n",
              "      <th>plus</th>\n",
              "      <th>roll</th>\n",
              "      <th>question</th>\n",
              "      <th>6</th>\n",
              "      <th>footcouple</th>\n",
              "      <th>notdrop</th>\n",
              "      <th>life</th>\n",
              "      <th>like</th>\n",
              "      <th>street</th>\n",
              "      <th>000</th>\n",
              "      <th>look</th>\n",
              "      <th>itgoing</th>\n",
              "      <th>summer</th>\n",
              "      <th>beturbulent</th>\n",
              "      <th>old</th>\n",
              "      <th>last</th>\n",
              "      <th>vaxxers</th>\n",
              "      <th>sentiment</th>\n",
              "      <th>score</th>\n",
              "    </tr>\n",
              "  </thead>\n",
              "  <tbody>\n",
              "  </tbody>\n",
              "</table>\n",
              "</div>"
            ],
            "text/plain": [
              "Empty DataFrame\n",
              "Columns: [index, user_name, user_location, user_description, user_created, user_followers, date, text, favorites, retweets, is_retweet, user_location_updated, user-country_code, user-country, week_day, month, year, tweet_?!_marks, up_text, hashtags, tokenized, pos_tags, n_words, ten most common names, tokenized_common, vaccine, get, covid, make, today, anti, 19, antivaxx, vaccinate, time, first, people, vaccination, thank, receive, 1, 2, dose, week, safety, interest, theorist, conflict, efficacy, raise, one, query, day, youconspiracy, help, home, take, staff, health, see, u, new, prediction, work, shot, continue, say, community, resident, care, need, go, second, 2nd, every, give, know, administer, protect, worker, safe, state, good, dr, visit, family, nothing, 11, impact, come, million, change, share, part, watch, team, important, much, keep, love, ...]\n",
              "Index: []"
            ]
          },
          "metadata": {
            "tags": []
          },
          "execution_count": 105
        }
      ]
    },
    {
      "cell_type": "code",
      "metadata": {
        "id": "5wtSiMAZxW7n"
      },
      "source": [
        "bool_colm = X_train.select_dtypes(include=\"bool\").columns[0]\n",
        "X_train[bool_colm] = X_train[bool_colm].astype('int')"
      ],
      "execution_count": 106,
      "outputs": []
    },
    {
      "cell_type": "code",
      "metadata": {
        "colab": {
          "base_uri": "https://localhost:8080/"
        },
        "id": "bOI-3HYVnbcX",
        "outputId": "e4194a37-d5e6-46f2-f20d-50ada8b02b58"
      },
      "source": [
        "X_train= pd.get_dummies(X_train, columns=[\"user-country_code\"]).copy()\n",
        "X_test= pd.get_dummies(X_test, columns=[\"user-country_code\"]).copy()\n",
        "X_train.shape, X_test.shape"
      ],
      "execution_count": 107,
      "outputs": [
        {
          "output_type": "execute_result",
          "data": {
            "text/plain": [
              "((15231, 236), (3808, 190))"
            ]
          },
          "metadata": {
            "tags": []
          },
          "execution_count": 107
        }
      ]
    },
    {
      "cell_type": "code",
      "metadata": {
        "id": "PHiwymFs_udR"
      },
      "source": [
        "for col in X_train.describe().columns:\n",
        "  if X_train[col].dtype == 'uint8':\n",
        "    X_train[col] = X_train[col].astype('int')"
      ],
      "execution_count": 108,
      "outputs": []
    },
    {
      "cell_type": "code",
      "metadata": {
        "id": "f0tF3outXAx8"
      },
      "source": [
        "X_test_hard_copy = X_test.copy() "
      ],
      "execution_count": 109,
      "outputs": []
    },
    {
      "cell_type": "code",
      "metadata": {
        "id": "2eS21a6BWd6Q"
      },
      "source": [
        "bool_colm_test = X_test.select_dtypes(include=\"bool\").columns[0]\n",
        "X_test[bool_colm_test] = X_test[bool_colm_test].astype('int')\n",
        "\n",
        "for col in X_test.describe().columns:\n",
        "  if X_test[col].dtype == 'uint8':\n",
        "    X_test[col] = X_test[col].astype('int')"
      ],
      "execution_count": 110,
      "outputs": []
    },
    {
      "cell_type": "code",
      "metadata": {
        "id": "UiXcLna4nbfU"
      },
      "source": [
        "def get_redundant_binary_cols(data, threshold):\n",
        "    '''\n",
        "    This function gets a pandas DataFrame, and a threshold (% of data), \n",
        "    and returns the list of binary features from that dataframe that have \n",
        "    above threshold amount of samples with the same value, and thus\n",
        "    should be considered redundant. \n",
        "    '''\n",
        "    \n",
        "    bool_cols = [col for col in data.columns \\\n",
        "                 if pd.Series(list(set(data[col]))).isin([0, 1]).all()]\n",
        "    \n",
        "    \n",
        "    return [x for x in bool_cols if data[x].value_counts()[0] \\\n",
        "                                                > threshold * len(data)] + \\\n",
        "                    [x for x in bool_cols if data[x].value_counts()[1] \\\n",
        "                                                > threshold * len(data)]"
      ],
      "execution_count": 111,
      "outputs": []
    },
    {
      "cell_type": "code",
      "metadata": {
        "id": "217xWFIynbhQ"
      },
      "source": [
        "bool_colums_train = [col for col in X_train.describe().columns if pd.Series(X_train[col].unique()).isin([0,1]).all()]\n",
        "redundant_bol_cols_train=get_redundant_binary_cols(X_train[bool_colums_train], 0.99)\n",
        "## a few samll test to check that everything happend according to plan\n",
        "# len(redundant_bol_cols_train) # --> 106\n",
        "# bool_colums_test = [col for col in X_test.describe().columns if pd.Series(X_test[col].unique()).isin([0,1]).all()]\n",
        "# pd.Series(redundant_bol_cols_train).isin(bool_colums_test.columns).sum() # checking how many columns are not in the test --> 60"
      ],
      "execution_count": 112,
      "outputs": []
    },
    {
      "cell_type": "code",
      "metadata": {
        "colab": {
          "base_uri": "https://localhost:8080/"
        },
        "id": "hUKct5WfBz9X",
        "outputId": "73272e41-5605-4715-be74-1fd2a4360b16"
      },
      "source": [
        "# X_train_check = X_train.copy()\n",
        "X_train.drop(redundant_bol_cols_train, 1, inplace=True)\n",
        "X_train.shape"
      ],
      "execution_count": 113,
      "outputs": [
        {
          "output_type": "execute_result",
          "data": {
            "text/plain": [
              "(15231, 130)"
            ]
          },
          "metadata": {
            "tags": []
          },
          "execution_count": 113
        }
      ]
    },
    {
      "cell_type": "code",
      "metadata": {
        "colab": {
          "base_uri": "https://localhost:8080/"
        },
        "id": "kS4Umdm4AOH-",
        "outputId": "ca71fa3a-7194-4467-bd1e-edb495aa4982"
      },
      "source": [
        "redundant_bol_cols_test = [col for col in X_test.columns if col not in X_train.columns]\n",
        "X_test.drop(redundant_bol_cols_test, 1, inplace=True)\n",
        "X_test.shape"
      ],
      "execution_count": 114,
      "outputs": [
        {
          "output_type": "execute_result",
          "data": {
            "text/plain": [
              "(3808, 130)"
            ]
          },
          "metadata": {
            "tags": []
          },
          "execution_count": 114
        }
      ]
    },
    {
      "cell_type": "code",
      "metadata": {
        "colab": {
          "base_uri": "https://localhost:8080/"
        },
        "id": "6akteRjXDIu2",
        "outputId": "b4a5ee32-1ec9-4993-de23-15dc603b7bad"
      },
      "source": [
        "set(X_train.columns) - set(X_test.columns)"
      ],
      "execution_count": 115,
      "outputs": [
        {
          "output_type": "execute_result",
          "data": {
            "text/plain": [
              "set()"
            ]
          },
          "metadata": {
            "tags": []
          },
          "execution_count": 115
        }
      ]
    },
    {
      "cell_type": "markdown",
      "metadata": {
        "id": "YBQ9x2Ysnb3Y"
      },
      "source": [
        "let's choose our columns: "
      ]
    },
    {
      "cell_type": "code",
      "metadata": {
        "colab": {
          "base_uri": "https://localhost:8080/"
        },
        "id": "SAEzZSqpYXsy",
        "outputId": "95cd50e8-b330-4631-fe81-b7ba9935c22d"
      },
      "source": [
        "print(f\"We would like to remove the following features as well:\\n{list(X_train.select_dtypes(include=object).columns) + ['index']}\")"
      ],
      "execution_count": 116,
      "outputs": [
        {
          "output_type": "stream",
          "text": [
            "We would like to remove the following features as well:\n",
            "['user_name', 'user_location', 'user_description', 'user_created', 'text', 'user_location_updated', 'user-country', 'up_text', 'hashtags', 'tokenized', 'pos_tags', 'tokenized_common', 'index']\n"
          ],
          "name": "stdout"
        }
      ]
    },
    {
      "cell_type": "code",
      "metadata": {
        "colab": {
          "base_uri": "https://localhost:8080/"
        },
        "id": "1XXTAjbxByVO",
        "outputId": "4fffae07-388e-423f-ce52-a3cd816754c9"
      },
      "source": [
        "final_features = list(set(X_train.columns) - set(['index', 'user_name', 'user_created', 'user_location',\n",
        "                                                  'user_description','text', 'user_followers', 'date', \n",
        "                                                  'text', 'pos_tags', 'hashtags', 'user_location',\n",
        "                                                  'user_location_updated', 'user-country',\n",
        "                                                  'up_text', 'tokenized', 'tokenized_common']))\n",
        "X_train, X_test = X_train[final_features], X_test[final_features]\n",
        "X_train.shape, y_train.shape, X_test.shape, y_test.shape"
      ],
      "execution_count": 117,
      "outputs": [
        {
          "output_type": "execute_result",
          "data": {
            "text/plain": [
              "((15231, 115), (15231,), (3808, 115), (3808,))"
            ]
          },
          "metadata": {
            "tags": []
          },
          "execution_count": 117
        }
      ]
    },
    {
      "cell_type": "code",
      "metadata": {
        "colab": {
          "base_uri": "https://localhost:8080/"
        },
        "id": "AfXl55fOByXm",
        "outputId": "db041b26-f6cc-4643-aa08-570ef1b4ecec"
      },
      "source": [
        "set(X_train.columns) - set(X_test.columns)"
      ],
      "execution_count": 118,
      "outputs": [
        {
          "output_type": "execute_result",
          "data": {
            "text/plain": [
              "set()"
            ]
          },
          "metadata": {
            "tags": []
          },
          "execution_count": 118
        }
      ]
    },
    {
      "cell_type": "code",
      "metadata": {
        "colab": {
          "base_uri": "https://localhost:8080/"
        },
        "id": "MEv1m2xIbXIi",
        "outputId": "f2742f6d-6b17-48a2-b20f-3363e9ee3a73"
      },
      "source": [
        "# just to check how good will the following hyperparameters will be:\n",
        "cross_val_scores = cross_val_score(RandomForestClassifier(random_state=42, max_depth=60, n_estimators=500, bootstrap=False), X_train, y_train, cv=7, scoring=\"recall\")\n",
        "cross_val_scores.mean()"
      ],
      "execution_count": null,
      "outputs": [
        {
          "output_type": "execute_result",
          "data": {
            "text/plain": [
              "0.9149804335847769"
            ]
          },
          "metadata": {
            "tags": []
          },
          "execution_count": 385
        }
      ]
    },
    {
      "cell_type": "code",
      "metadata": {
        "id": "AQikoPWIPqRx"
      },
      "source": [
        "estimators = [('rf', RandomForestClassifier(random_state=42, max_depth=60, n_estimators=5000, bootstrap=False)),\n",
        "              ('svr', make_pipeline(StandardScaler(), LinearSVC(random_state=42)))]"
      ],
      "execution_count": 119,
      "outputs": []
    },
    {
      "cell_type": "code",
      "metadata": {
        "id": "cVNHfIJWPqUj"
      },
      "source": [
        "clf = StackingClassifier(estimators=estimators, final_estimator=LogisticRegression())"
      ],
      "execution_count": 120,
      "outputs": []
    },
    {
      "cell_type": "code",
      "metadata": {
        "colab": {
          "base_uri": "https://localhost:8080/"
        },
        "id": "FtG0adVKPqW_",
        "outputId": "10389862-30a6-4d7f-a5c7-f94dca1a7775"
      },
      "source": [
        "clf.fit(X_train, y_train)"
      ],
      "execution_count": 121,
      "outputs": [
        {
          "output_type": "execute_result",
          "data": {
            "text/plain": [
              "StackingClassifier(cv=None,\n",
              "                   estimators=[('rf',\n",
              "                                RandomForestClassifier(bootstrap=False,\n",
              "                                                       ccp_alpha=0.0,\n",
              "                                                       class_weight=None,\n",
              "                                                       criterion='gini',\n",
              "                                                       max_depth=60,\n",
              "                                                       max_features='auto',\n",
              "                                                       max_leaf_nodes=None,\n",
              "                                                       max_samples=None,\n",
              "                                                       min_impurity_decrease=0.0,\n",
              "                                                       min_impurity_split=None,\n",
              "                                                       min_samples_leaf=1,\n",
              "                                                       min_samples_split=2,\n",
              "                                                       min_weight_fraction_leaf=0.0,\n",
              "                                                       n_estimators=5000,\n",
              "                                                       n_jobs=None...\n",
              "                                                           tol=0.0001,\n",
              "                                                           verbose=0))],\n",
              "                                         verbose=False))],\n",
              "                   final_estimator=LogisticRegression(C=1.0, class_weight=None,\n",
              "                                                      dual=False,\n",
              "                                                      fit_intercept=True,\n",
              "                                                      intercept_scaling=1,\n",
              "                                                      l1_ratio=None,\n",
              "                                                      max_iter=100,\n",
              "                                                      multi_class='auto',\n",
              "                                                      n_jobs=None, penalty='l2',\n",
              "                                                      random_state=None,\n",
              "                                                      solver='lbfgs',\n",
              "                                                      tol=0.0001, verbose=0,\n",
              "                                                      warm_start=False),\n",
              "                   n_jobs=None, passthrough=False, stack_method='auto',\n",
              "                   verbose=0)"
            ]
          },
          "metadata": {
            "tags": []
          },
          "execution_count": 121
        }
      ]
    },
    {
      "cell_type": "code",
      "metadata": {
        "colab": {
          "base_uri": "https://localhost:8080/"
        },
        "id": "YQjeIe-cPqY4",
        "outputId": "80e55567-d3d6-44d7-8941-760a63869d26"
      },
      "source": [
        "print(f\"The tarin accuracy score is: {clf.score(X_train, y_train)}\")\n",
        "print(f\"The tarin recall score is: {recall_score(clf.predict(X_train), y_train, average='macro')}\\n\")\n",
        "print(f\"The test accuracy score is: {clf.score(X_test, y_test)}\")\n",
        "print(f\"The test recall score is: {recall_score(clf.predict(X_test), y_test, average='macro')}\")"
      ],
      "execution_count": 123,
      "outputs": [
        {
          "output_type": "stream",
          "text": [
            "The tarin accuracy score is: 0.9991464775786225\n",
            "The tarin recall score is: 0.999213621170392\n",
            "\n",
            "The test accuracy score is: 0.9529936974789915\n",
            "The test recall score is: 0.9518912822231038\n"
          ],
          "name": "stdout"
        }
      ]
    },
    {
      "cell_type": "code",
      "metadata": {
        "colab": {
          "base_uri": "https://localhost:8080/",
          "height": 448
        },
        "id": "0yrIKH68Pqbj",
        "outputId": "73bb103e-e47b-4b65-8978-31a7a7ca6ffd"
      },
      "source": [
        "target_names = ['non-anvi-vax', 'anti-vax']\n",
        "print(classification_report(y_test, clf.predict(X_test), target_names=target_names))\n",
        "fig, ax = plt.subplots(1,2, figsize=(12,4))\n",
        "plot_roc_curve(clf, X_test, y_test, ax=ax[0])\n",
        "ax[0].plot([0, 1], [0, 1], linestyle='--', lw=2, color='r',\n",
        "        label='Chance', alpha=.8)\n",
        "ax[0].set_title('ROC Curve')\n",
        "plot_precision_recall_curve(clf, X_test, y_test, ax=ax[1])\n",
        "ax[1].set_title('Precision - Recall Curve')\n",
        "plt.show()"
      ],
      "execution_count": 124,
      "outputs": [
        {
          "output_type": "stream",
          "text": [
            "              precision    recall  f1-score   support\n",
            "\n",
            "non-anvi-vax       0.96      0.97      0.96      2464\n",
            "    anti-vax       0.95      0.92      0.93      1344\n",
            "\n",
            "    accuracy                           0.95      3808\n",
            "   macro avg       0.95      0.94      0.95      3808\n",
            "weighted avg       0.95      0.95      0.95      3808\n",
            "\n"
          ],
          "name": "stdout"
        },
        {
          "output_type": "display_data",
          "data": {
            "image/png": "[encoded data removed]",
            "text/plain": [
              "<Figure size 864x288 with 2 Axes>"
            ]
          },
          "metadata": {
            "tags": [],
            "needs_background": "light"
          }
        }
      ]
    },
    {
      "cell_type": "code",
      "metadata": {
        "colab": {
          "base_uri": "https://localhost:8080/",
          "height": 297
        },
        "id": "kSuCoSZ6lOo1",
        "outputId": "6c33cde2-d41d-4ec7-9b00-c3e49c2cfc83"
      },
      "source": [
        "# print(classification_report(y_test, clf.predict(X_test), target_names=target_names))\n",
        "fig, (ax1,ax2) = plt.subplots(1,2, figsize=(15,4))\n",
        "plot_confusion_matrix(clf, X_test, y_test, display_labels=target_names, normalize='true', cmap=\"Blues\", ax=ax1)\n",
        "ax1.set_title(\"Normalized Confusion Mtrix\")\n",
        "plot_confusion_matrix(clf, X_test, y_test, display_labels=target_names, cmap=plt.cm.Blues, values_format='.1f', ax=ax2)\n",
        "ax2.set_title(\"Unnormalized Confusion Mtrix\")\n",
        "plt.tight_layout();"
      ],
      "execution_count": 125,
      "outputs": [
        {
          "output_type": "display_data",
          "data": {
            "image/png": "[encoded data removed]",
            "text/plain": [
              "<Figure size 1080x288 with 4 Axes>"
            ]
          },
          "metadata": {
            "tags": [],
            "needs_background": "light"
          }
        }
      ]
    },
    {
      "cell_type": "code",
      "metadata": {
        "id": "WsMhP_57w3TL",
        "colab": {
          "base_uri": "https://localhost:8080/",
          "height": 350
        },
        "outputId": "a8909c6b-5741-4538-86ef-30c533f14e52"
      },
      "source": [
        "y_pred = clf.predict(X_test).ravel()\n",
        "fpr, tpr, thresholds = roc_curve(y_test, y_pred)\n",
        "y_proba = clf.predict_proba(X_test)[:,1]\n",
        "auc = roc_auc_score(y_test, y_proba)\n",
        "precision, recall, _ = precision_recall_curve(y_test, y_proba)\n",
        "\n",
        "yhat = clf.predict_proba(X_test)\n",
        "# keep probabilities for the positive outcome only\n",
        "yhat = yhat[:, 1]\n",
        "# calculate roc curves\n",
        "fpr2, tpr2, thresholds2 = roc_curve(y_test, yhat)\n",
        "\n",
        "f, (ax1, ax2) = plt.subplots(1,2, figsize=(15,5))\n",
        "## plot the roc curve for the model\n",
        "ax1.plot([0,1], [0,1], linestyle='--')\n",
        "ax1.plot(fpr2, tpr2, marker='.', label=f'Stacking (AUC = {round(auc,4)})')\n",
        "# axis labels\n",
        "ax1.set_xlabel('False Positive Rate')\n",
        "ax1.set_ylabel('True Positive Rate')\n",
        "ax1.set_title(\"ROC - AUC Curve\")\n",
        "ax1.legend()\n",
        "## plot the Precision-Recall curve for the model\n",
        "ax2.plot(recall, precision, marker='.', label='Stacking', color=\"darkorange\")\n",
        "# axis labels\n",
        "ax2.set_xlabel('Recall (= True Positive Rate)')\n",
        "ax2.set_ylabel('Precision')\n",
        "ax2.set_title(\"Precision - Recall Curve\")\n",
        "ax2.legend();"
      ],
      "execution_count": 130,
      "outputs": [
        {
          "output_type": "display_data",
          "data": {
            "image/png": "[encoded data removed]",
            "text/plain": [
              "<Figure size 1080x360 with 2 Axes>"
            ]
          },
          "metadata": {
            "tags": [],
            "needs_background": "light"
          }
        }
      ]
    },
    {
      "cell_type": "code",
      "metadata": {
        "id": "xZJ5j8PjdI1b",
        "colab": {
          "base_uri": "https://localhost:8080/"
        },
        "outputId": "a026ddd5-4311-454d-baa5-ba946264358c"
      },
      "source": [
        "print(\"FPR:\")\n",
        "print(fpr2, \"\\n\")\n",
        "print('TPR:')\n",
        "print(tpr2, \"\\n\")\n",
        "print('Precision:')\n",
        "print(precision)\n",
        "print(\"AUC score:\")\n",
        "print(auc)"
      ],
      "execution_count": 133,
      "outputs": [
        {
          "output_type": "stream",
          "text": [
            "FPR:\n",
            "[0.00000000e+00 0.00000000e+00 0.00000000e+00 0.00000000e+00\n",
            " 0.00000000e+00 0.00000000e+00 0.00000000e+00 0.00000000e+00\n",
            " 0.00000000e+00 0.00000000e+00 0.00000000e+00 0.00000000e+00\n",
            " 0.00000000e+00 0.00000000e+00 0.00000000e+00 0.00000000e+00\n",
            " 0.00000000e+00 0.00000000e+00 0.00000000e+00 0.00000000e+00\n",
            " 0.00000000e+00 0.00000000e+00 0.00000000e+00 0.00000000e+00\n",
            " 0.00000000e+00 0.00000000e+00 0.00000000e+00 0.00000000e+00\n",
            " 0.00000000e+00 0.00000000e+00 0.00000000e+00 0.00000000e+00\n",
            " 0.00000000e+00 0.00000000e+00 0.00000000e+00 0.00000000e+00\n",
            " 0.00000000e+00 0.00000000e+00 0.00000000e+00 0.00000000e+00\n",
            " 0.00000000e+00 0.00000000e+00 0.00000000e+00 0.00000000e+00\n",
            " 0.00000000e+00 0.00000000e+00 0.00000000e+00 0.00000000e+00\n",
            " 0.00000000e+00 0.00000000e+00 0.00000000e+00 0.00000000e+00\n",
            " 0.00000000e+00 0.00000000e+00 0.00000000e+00 0.00000000e+00\n",
            " 0.00000000e+00 0.00000000e+00 0.00000000e+00 0.00000000e+00\n",
            " 0.00000000e+00 0.00000000e+00 0.00000000e+00 0.00000000e+00\n",
            " 0.00000000e+00 0.00000000e+00 0.00000000e+00 0.00000000e+00\n",
            " 0.00000000e+00 0.00000000e+00 0.00000000e+00 0.00000000e+00\n",
            " 0.00000000e+00 0.00000000e+00 0.00000000e+00 0.00000000e+00\n",
            " 0.00000000e+00 0.00000000e+00 0.00000000e+00 0.00000000e+00\n",
            " 0.00000000e+00 0.00000000e+00 0.00000000e+00 0.00000000e+00\n",
            " 0.00000000e+00 4.05844156e-04 4.05844156e-04 4.05844156e-04\n",
            " 4.05844156e-04 4.05844156e-04 4.05844156e-04 4.05844156e-04\n",
            " 4.05844156e-04 4.05844156e-04 4.05844156e-04 8.11688312e-04\n",
            " 8.11688312e-04 8.11688312e-04 8.11688312e-04 8.11688312e-04\n",
            " 8.11688312e-04 8.11688312e-04 8.11688312e-04 8.11688312e-04\n",
            " 8.11688312e-04 8.11688312e-04 8.11688312e-04 8.11688312e-04\n",
            " 8.11688312e-04 8.11688312e-04 8.11688312e-04 8.11688312e-04\n",
            " 8.11688312e-04 8.11688312e-04 8.11688312e-04 8.11688312e-04\n",
            " 8.11688312e-04 1.62337662e-03 1.62337662e-03 1.62337662e-03\n",
            " 1.62337662e-03 1.62337662e-03 1.62337662e-03 1.62337662e-03\n",
            " 1.62337662e-03 1.62337662e-03 1.62337662e-03 1.62337662e-03\n",
            " 1.62337662e-03 1.62337662e-03 1.62337662e-03 1.62337662e-03\n",
            " 1.62337662e-03 1.62337662e-03 1.62337662e-03 1.62337662e-03\n",
            " 2.02922078e-03 2.02922078e-03 2.02922078e-03 2.02922078e-03\n",
            " 2.02922078e-03 2.02922078e-03 2.02922078e-03 2.02922078e-03\n",
            " 2.02922078e-03 2.02922078e-03 2.02922078e-03 2.02922078e-03\n",
            " 2.02922078e-03 2.02922078e-03 2.02922078e-03 2.02922078e-03\n",
            " 2.02922078e-03 2.02922078e-03 2.02922078e-03 2.02922078e-03\n",
            " 2.02922078e-03 2.02922078e-03 2.02922078e-03 2.02922078e-03\n",
            " 2.02922078e-03 2.02922078e-03 2.43506494e-03 2.43506494e-03\n",
            " 2.43506494e-03 2.43506494e-03 2.43506494e-03 2.43506494e-03\n",
            " 2.43506494e-03 2.43506494e-03 2.84090909e-03 2.84090909e-03\n",
            " 2.84090909e-03 2.84090909e-03 2.84090909e-03 2.84090909e-03\n",
            " 3.24675325e-03 3.24675325e-03 3.24675325e-03 3.24675325e-03\n",
            " 3.24675325e-03 3.24675325e-03 3.24675325e-03 3.24675325e-03\n",
            " 3.65259740e-03 3.65259740e-03 3.65259740e-03 3.65259740e-03\n",
            " 3.65259740e-03 3.65259740e-03 3.65259740e-03 3.65259740e-03\n",
            " 3.65259740e-03 3.65259740e-03 3.65259740e-03 3.65259740e-03\n",
            " 4.05844156e-03 4.05844156e-03 4.05844156e-03 4.05844156e-03\n",
            " 4.46428571e-03 4.46428571e-03 4.46428571e-03 4.46428571e-03\n",
            " 4.87012987e-03 4.87012987e-03 4.87012987e-03 4.87012987e-03\n",
            " 4.87012987e-03 4.87012987e-03 4.87012987e-03 4.87012987e-03\n",
            " 5.27597403e-03 5.27597403e-03 5.27597403e-03 5.27597403e-03\n",
            " 5.68181818e-03 5.68181818e-03 6.08766234e-03 6.08766234e-03\n",
            " 6.89935065e-03 7.30519481e-03 7.30519481e-03 8.11688312e-03\n",
            " 8.11688312e-03 8.11688312e-03 8.92857143e-03 8.92857143e-03\n",
            " 9.33441558e-03 9.33441558e-03 9.33441558e-03 9.33441558e-03\n",
            " 9.74025974e-03 9.74025974e-03 1.05519481e-02 1.05519481e-02\n",
            " 1.09577922e-02 1.09577922e-02 1.13636364e-02 1.13636364e-02\n",
            " 1.21753247e-02 1.21753247e-02 1.25811688e-02 1.25811688e-02\n",
            " 1.29870130e-02 1.29870130e-02 1.29870130e-02 1.37987013e-02\n",
            " 1.37987013e-02 1.37987013e-02 1.46103896e-02 1.46103896e-02\n",
            " 1.46103896e-02 1.46103896e-02 1.50162338e-02 1.50162338e-02\n",
            " 1.54220779e-02 1.54220779e-02 1.58279221e-02 1.58279221e-02\n",
            " 1.62337662e-02 1.62337662e-02 1.66396104e-02 1.66396104e-02\n",
            " 1.66396104e-02 1.70454545e-02 1.70454545e-02 1.74512987e-02\n",
            " 1.74512987e-02 1.78571429e-02 1.78571429e-02 1.82629870e-02\n",
            " 1.82629870e-02 1.94805195e-02 1.94805195e-02 1.98863636e-02\n",
            " 1.98863636e-02 2.02922078e-02 2.02922078e-02 2.06980519e-02\n",
            " 2.06980519e-02 2.11038961e-02 2.11038961e-02 2.15097403e-02\n",
            " 2.15097403e-02 2.23214286e-02 2.23214286e-02 2.23214286e-02\n",
            " 2.27272727e-02 2.27272727e-02 2.27272727e-02 2.31331169e-02\n",
            " 2.31331169e-02 2.39448052e-02 2.39448052e-02 2.43506494e-02\n",
            " 2.43506494e-02 2.51623377e-02 2.51623377e-02 2.55681818e-02\n",
            " 2.55681818e-02 2.55681818e-02 2.59740260e-02 2.59740260e-02\n",
            " 2.63798701e-02 2.63798701e-02 2.67857143e-02 2.67857143e-02\n",
            " 2.71915584e-02 2.71915584e-02 2.84090909e-02 2.84090909e-02\n",
            " 2.88149351e-02 2.88149351e-02 2.96266234e-02 2.96266234e-02\n",
            " 3.08441558e-02 3.08441558e-02 3.08441558e-02 3.08441558e-02\n",
            " 3.12500000e-02 3.12500000e-02 3.24675325e-02 3.24675325e-02\n",
            " 3.28733766e-02 3.28733766e-02 3.32792208e-02 3.32792208e-02\n",
            " 3.44967532e-02 3.44967532e-02 3.49025974e-02 3.49025974e-02\n",
            " 3.61201299e-02 3.61201299e-02 3.93668831e-02 4.01785714e-02\n",
            " 4.09902597e-02 4.09902597e-02 4.26136364e-02 4.26136364e-02\n",
            " 4.30194805e-02 4.30194805e-02 4.30194805e-02 4.30194805e-02\n",
            " 4.34253247e-02 4.34253247e-02 4.34253247e-02 4.38311688e-02\n",
            " 4.38311688e-02 4.42370130e-02 4.42370130e-02 4.50487013e-02\n",
            " 4.74837662e-02 4.74837662e-02 4.78896104e-02 4.78896104e-02\n",
            " 5.27597403e-02 5.27597403e-02 5.31655844e-02 5.31655844e-02\n",
            " 5.35714286e-02 5.35714286e-02 5.51948052e-02 5.51948052e-02\n",
            " 5.88474026e-02 5.88474026e-02 5.92532468e-02 5.92532468e-02\n",
            " 5.96590909e-02 6.04707792e-02 6.12824675e-02 6.12824675e-02\n",
            " 6.37175325e-02 6.37175325e-02 6.69642857e-02 6.77759740e-02\n",
            " 7.34577922e-02 7.34577922e-02 7.38636364e-02 7.38636364e-02\n",
            " 7.50811688e-02 7.50811688e-02 7.67045455e-02 7.67045455e-02\n",
            " 7.79220779e-02 7.79220779e-02 7.95454545e-02 8.03571429e-02\n",
            " 8.23863636e-02 8.23863636e-02 8.31980519e-02 8.31980519e-02\n",
            " 8.48214286e-02 8.48214286e-02 8.56331169e-02 8.56331169e-02\n",
            " 8.60389610e-02 8.60389610e-02 8.84740260e-02 8.84740260e-02\n",
            " 9.53733766e-02 9.53733766e-02 9.61850649e-02 9.61850649e-02\n",
            " 9.65909091e-02 9.65909091e-02 1.04707792e-01 1.04707792e-01\n",
            " 1.05925325e-01 1.05925325e-01 1.09172078e-01 1.09172078e-01\n",
            " 1.16071429e-01 1.16071429e-01 1.18506494e-01 1.18506494e-01\n",
            " 1.25000000e-01 1.25000000e-01 1.27029221e-01 1.27029221e-01\n",
            " 1.29058442e-01 1.29058442e-01 1.29464286e-01 1.30275974e-01\n",
            " 1.38392857e-01 1.38392857e-01 1.41233766e-01 1.41233766e-01\n",
            " 1.41639610e-01 1.41639610e-01 1.48538961e-01 1.48538961e-01\n",
            " 1.49756494e-01 1.50568182e-01 1.50568182e-01 1.51379870e-01\n",
            " 1.52191558e-01 1.52191558e-01 1.53814935e-01 1.53814935e-01\n",
            " 1.55032468e-01 1.55032468e-01 1.58685065e-01 1.58685065e-01\n",
            " 1.59496753e-01 1.59496753e-01 1.62743506e-01 1.63555195e-01\n",
            " 1.65178571e-01 1.65178571e-01 1.70860390e-01 1.70860390e-01\n",
            " 1.75730519e-01 1.75730519e-01 1.76542208e-01 1.81006494e-01\n",
            " 1.81006494e-01 1.85470779e-01 1.86282468e-01 1.92370130e-01\n",
            " 1.92370130e-01 1.97646104e-01 1.98457792e-01 2.04139610e-01\n",
            " 2.04139610e-01 2.04545455e-01 2.04545455e-01 2.06980519e-01\n",
            " 2.07792208e-01 2.10633117e-01 2.11444805e-01 2.12662338e-01\n",
            " 2.13474026e-01 2.13474026e-01 2.15503247e-01 2.15503247e-01\n",
            " 2.16720779e-01 2.17938312e-01 2.21996753e-01 2.23620130e-01\n",
            " 2.24431818e-01 2.25243506e-01 2.25243506e-01 2.29707792e-01\n",
            " 2.29707792e-01 2.41477273e-01 2.42694805e-01 2.49594156e-01\n",
            " 2.49594156e-01 2.51217532e-01 2.52435065e-01 2.56493506e-01\n",
            " 2.57305195e-01 2.58522727e-01 2.60146104e-01 2.60957792e-01\n",
            " 2.72321429e-01 2.73133117e-01 2.73538961e-01 2.73538961e-01\n",
            " 2.75568182e-01 2.77191558e-01 2.81250000e-01 2.82061688e-01\n",
            " 2.90584416e-01 2.91396104e-01 2.93831169e-01 2.93831169e-01\n",
            " 2.94642857e-01 2.94642857e-01 2.95048701e-01 2.96266234e-01\n",
            " 2.97077922e-01 2.97889610e-01 3.03571429e-01 3.04788961e-01\n",
            " 3.12500000e-01 3.13311688e-01 3.14935065e-01 3.15746753e-01\n",
            " 3.21834416e-01 3.21834416e-01 3.23457792e-01 3.25892857e-01\n",
            " 3.28733766e-01 3.29951299e-01 3.30762987e-01 3.31574675e-01\n",
            " 3.32792208e-01 3.34009740e-01 3.38879870e-01 3.39691558e-01\n",
            " 3.44155844e-01 3.44967532e-01 3.46185065e-01 3.46996753e-01\n",
            " 3.49431818e-01 3.50243506e-01 3.51866883e-01 3.52678571e-01\n",
            " 3.59172078e-01 3.61201299e-01 3.61607143e-01 3.63230519e-01\n",
            " 3.64448052e-01 3.65259740e-01 3.66477273e-01 3.67288961e-01\n",
            " 3.72564935e-01 3.75000000e-01 3.77840909e-01 3.78652597e-01\n",
            " 3.80275974e-01 3.81087662e-01 3.82305195e-01 3.83116883e-01\n",
            " 3.84334416e-01 3.85146104e-01 3.87581169e-01 3.91639610e-01\n",
            " 3.92451299e-01 3.92857143e-01 3.93668831e-01 3.97727273e-01\n",
            " 4.01785714e-01 4.07873377e-01 4.08685065e-01 4.09090909e-01\n",
            " 4.09902597e-01 4.11120130e-01 4.12743506e-01 4.13961039e-01\n",
            " 4.16801948e-01 4.20454545e-01 4.21266234e-01 4.24512987e-01\n",
            " 4.25324675e-01 4.26948052e-01 4.27759740e-01 4.28977273e-01\n",
            " 4.30600649e-01 4.32224026e-01 4.33035714e-01 4.34659091e-01\n",
            " 4.35470779e-01 4.35876623e-01 4.36688312e-01 4.38717532e-01\n",
            " 4.39529221e-01 4.40340909e-01 4.42775974e-01 4.43993506e-01\n",
            " 4.44805195e-01 4.45211039e-01 4.46022727e-01 4.47646104e-01\n",
            " 4.47646104e-01 4.50487013e-01 4.53327922e-01 4.54139610e-01\n",
            " 4.55357143e-01 4.55762987e-01 4.56574675e-01 4.56980519e-01\n",
            " 4.58198052e-01 4.58603896e-01 4.58603896e-01 4.60227273e-01\n",
            " 4.61444805e-01 4.63474026e-01 4.65097403e-01 4.71590909e-01\n",
            " 4.71590909e-01 4.72402597e-01 4.73214286e-01 4.74837662e-01\n",
            " 4.75649351e-01 4.77678571e-01 4.78084416e-01 4.80925325e-01\n",
            " 4.86201299e-01 4.87012987e-01 4.90259740e-01 4.91071429e-01\n",
            " 4.94724026e-01 4.95941558e-01 4.97159091e-01 4.97970779e-01\n",
            " 4.98376623e-01 4.99188312e-01 5.02435065e-01 5.03652597e-01\n",
            " 5.05275974e-01 5.06087662e-01 5.06493506e-01 5.07305195e-01\n",
            " 5.07711039e-01 5.08522727e-01 5.12175325e-01 5.14610390e-01\n",
            " 5.16233766e-01 5.17857143e-01 5.18668831e-01 5.19074675e-01\n",
            " 5.20292208e-01 5.20698052e-01 5.21509740e-01 5.25974026e-01\n",
            " 5.26785714e-01 5.29220779e-01 5.30032468e-01 5.34902597e-01\n",
            " 5.36525974e-01 5.36931818e-01 5.38555195e-01 5.41396104e-01\n",
            " 5.42207792e-01 5.42613636e-01 5.43425325e-01 5.50324675e-01\n",
            " 5.51136364e-01 5.53571429e-01 5.58035714e-01 5.58847403e-01\n",
            " 5.67775974e-01 5.69399351e-01 5.71834416e-01 5.73051948e-01\n",
            " 5.74675325e-01 5.75892857e-01 5.75892857e-01 5.76298701e-01\n",
            " 5.77922078e-01 5.79951299e-01 5.81574675e-01 5.85633117e-01\n",
            " 5.90097403e-01 5.90503247e-01 5.91314935e-01 5.91720779e-01\n",
            " 5.91720779e-01 5.94155844e-01 5.94967532e-01 5.96185065e-01\n",
            " 5.97402597e-01 5.97808442e-01 5.99025974e-01 5.99431818e-01\n",
            " 6.00243506e-01 6.01461039e-01 6.02272727e-01 6.03896104e-01\n",
            " 6.05519481e-01 6.06331169e-01 6.07548701e-01 6.08360390e-01\n",
            " 6.09172078e-01 6.09577922e-01 6.11201299e-01 6.11607143e-01\n",
            " 6.12418831e-01 6.14042208e-01 6.16071429e-01 6.18100649e-01\n",
            " 6.19318182e-01 6.20129870e-01 6.22159091e-01 6.22970779e-01\n",
            " 6.27435065e-01 6.29058442e-01 6.30275974e-01 6.31087662e-01\n",
            " 6.33116883e-01 6.34740260e-01 6.39610390e-01 6.40422078e-01\n",
            " 6.41233766e-01 6.42045455e-01 6.43668831e-01 6.44480519e-01\n",
            " 6.46915584e-01 6.47727273e-01 6.53814935e-01 6.55844156e-01\n",
            " 6.57061688e-01 6.58279221e-01 6.58685065e-01 6.59496753e-01\n",
            " 6.60714286e-01 6.62337662e-01 6.65990260e-01 6.67207792e-01\n",
            " 6.70860390e-01 6.72483766e-01 6.73701299e-01 6.78571429e-01\n",
            " 6.80194805e-01 6.82224026e-01 6.85064935e-01 6.88311688e-01\n",
            " 6.89123377e-01 6.89935065e-01 6.90746753e-01 6.97240260e-01\n",
            " 6.98051948e-01 6.98863636e-01 6.99675325e-01 7.01704545e-01\n",
            " 7.02516234e-01 7.05357143e-01 7.06168831e-01 7.08198052e-01\n",
            " 7.09009740e-01 7.10633117e-01 7.11444805e-01 7.12256494e-01\n",
            " 7.14285714e-01 7.15097403e-01 7.16314935e-01 7.18750000e-01\n",
            " 7.19155844e-01 7.19967532e-01 7.24837662e-01 7.27272727e-01\n",
            " 7.30519481e-01 7.32142857e-01 7.33766234e-01 7.34577922e-01\n",
            " 7.36201299e-01 7.36607143e-01 7.37418831e-01 7.38230519e-01\n",
            " 7.40259740e-01 7.41883117e-01 7.42694805e-01 7.44724026e-01\n",
            " 7.45535714e-01 7.46347403e-01 7.47159091e-01 7.55681818e-01\n",
            " 7.56899351e-01 7.60146104e-01 7.64610390e-01 7.65422078e-01\n",
            " 7.71915584e-01 7.73538961e-01 7.77191558e-01 7.78003247e-01\n",
            " 7.78409091e-01 7.79220779e-01 7.80032468e-01 7.80844156e-01\n",
            " 7.89772727e-01 7.91396104e-01 7.94237013e-01 7.95454545e-01\n",
            " 8.00730519e-01 8.01948052e-01 8.05600649e-01 8.06412338e-01\n",
            " 8.08035714e-01 8.09253247e-01 8.13717532e-01 8.14529221e-01\n",
            " 8.15746753e-01 8.18181818e-01 8.21022727e-01 8.22646104e-01\n",
            " 8.23863636e-01 8.25892857e-01 8.26298701e-01 8.27110390e-01\n",
            " 8.33603896e-01 8.34821429e-01 8.38879870e-01 8.40503247e-01\n",
            " 8.42938312e-01 8.43750000e-01 8.45779221e-01 8.46590909e-01\n",
            " 8.47402597e-01 8.49025974e-01 8.53084416e-01 8.54301948e-01\n",
            " 8.64448052e-01 8.65665584e-01 8.66477273e-01 8.68100649e-01\n",
            " 8.69724026e-01 8.70535714e-01 8.71753247e-01 8.73376623e-01\n",
            " 8.74188312e-01 8.74594156e-01 8.75405844e-01 8.76623377e-01\n",
            " 8.77435065e-01 8.79464286e-01 8.82711039e-01 8.84334416e-01\n",
            " 8.86363636e-01 8.87581169e-01 8.90016234e-01 8.93668831e-01\n",
            " 8.94480519e-01 8.96103896e-01 8.96915584e-01 9.00974026e-01\n",
            " 9.01785714e-01 9.03814935e-01 9.05032468e-01 9.06250000e-01\n",
            " 9.07061688e-01 9.07873377e-01 9.08685065e-01 9.09496753e-01\n",
            " 9.11120130e-01 9.11525974e-01 9.12743506e-01 9.13555195e-01\n",
            " 9.15178571e-01 9.15990260e-01 9.17207792e-01 9.18425325e-01\n",
            " 9.19237013e-01 9.20048701e-01 9.21266234e-01 9.22889610e-01\n",
            " 9.25324675e-01 9.26948052e-01 9.30600649e-01 9.31412338e-01\n",
            " 9.36688312e-01 9.38717532e-01 9.39529221e-01 9.41152597e-01\n",
            " 9.42370130e-01 9.43993506e-01 9.44399351e-01 9.45616883e-01\n",
            " 9.47240260e-01 9.48051948e-01 9.52922078e-01 9.55762987e-01\n",
            " 9.57792208e-01 9.59415584e-01 9.63474026e-01 9.67126623e-01\n",
            " 9.68344156e-01 9.69155844e-01 9.70779221e-01 9.73214286e-01\n",
            " 9.75243506e-01 9.76461039e-01 9.80519481e-01 9.80925325e-01\n",
            " 9.88636364e-01 9.89448052e-01 9.90259740e-01 9.91883117e-01\n",
            " 9.92288961e-01 9.94318182e-01 9.95129870e-01 9.98376623e-01\n",
            " 1.00000000e+00] \n",
            "\n",
            "TPR:\n",
            "[0.00000000e+00 7.44047619e-04 1.11607143e-02 1.26488095e-02\n",
            " 1.71130952e-02 1.86011905e-02 2.23214286e-02 2.38095238e-02\n",
            " 2.97619048e-02 3.12500000e-02 3.64583333e-02 3.79464286e-02\n",
            " 5.50595238e-02 5.72916667e-02 5.80357143e-02 6.02678571e-02\n",
            " 6.25000000e-02 6.47321429e-02 6.62202381e-02 6.77083333e-02\n",
            " 6.99404762e-02 7.14285714e-02 7.44047619e-02 8.48214286e-02\n",
            " 8.85416667e-02 9.30059524e-02 9.44940476e-02 9.67261905e-02\n",
            " 1.01190476e-01 1.01934524e-01 1.04910714e-01 1.07142857e-01\n",
            " 1.12351190e-01 1.15327381e-01 1.19791667e-01 1.30208333e-01\n",
            " 1.30952381e-01 1.32440476e-01 1.33928571e-01 1.39880952e-01\n",
            " 1.42857143e-01 1.43601190e-01 1.51041667e-01 1.55505952e-01\n",
            " 1.61458333e-01 1.69642857e-01 1.70386905e-01 1.72619048e-01\n",
            " 1.82291667e-01 1.94940476e-01 2.15029762e-01 2.15773810e-01\n",
            " 2.48511905e-01 2.77529762e-01 2.78273810e-01 2.81250000e-01\n",
            " 2.92410714e-01 2.93154762e-01 2.94642857e-01 2.99851190e-01\n",
            " 3.05803571e-01 3.12500000e-01 3.18452381e-01 3.20684524e-01\n",
            " 3.22916667e-01 3.23660714e-01 3.27380952e-01 3.37053571e-01\n",
            " 3.39285714e-01 3.40773810e-01 3.44494048e-01 3.48214286e-01\n",
            " 3.49702381e-01 3.53422619e-01 3.54910714e-01 3.57142857e-01\n",
            " 3.59375000e-01 3.61607143e-01 3.63095238e-01 3.69047619e-01\n",
            " 3.69791667e-01 3.79464286e-01 3.81696429e-01 3.89136905e-01\n",
            " 3.92113095e-01 3.92113095e-01 3.97321429e-01 4.04761905e-01\n",
            " 4.06994048e-01 4.09226190e-01 4.13690476e-01 4.15178571e-01\n",
            " 4.18898810e-01 4.20386905e-01 4.23363095e-01 4.24851190e-01\n",
            " 4.27827381e-01 4.30059524e-01 4.37500000e-01 4.40476190e-01\n",
            " 4.59821429e-01 4.61309524e-01 4.65029762e-01 4.66517857e-01\n",
            " 4.68005952e-01 4.70982143e-01 4.73214286e-01 4.74702381e-01\n",
            " 4.76934524e-01 4.78422619e-01 4.79910714e-01 4.81398810e-01\n",
            " 4.82142857e-01 4.85863095e-01 4.90327381e-01 4.91815476e-01\n",
            " 5.01488095e-01 5.01488095e-01 5.02976190e-01 5.05952381e-01\n",
            " 5.07440476e-01 5.08184524e-01 5.09672619e-01 5.18601190e-01\n",
            " 5.21577381e-01 5.31250000e-01 5.32738095e-01 5.34226190e-01\n",
            " 5.37202381e-01 5.39434524e-01 5.40922619e-01 5.42410714e-01\n",
            " 5.46875000e-01 5.52827381e-01 5.54315476e-01 5.55059524e-01\n",
            " 5.55059524e-01 5.58779762e-01 5.60267857e-01 5.62500000e-01\n",
            " 5.65476190e-01 5.69196429e-01 5.81101190e-01 5.83333333e-01\n",
            " 5.84821429e-01 5.86309524e-01 5.87797619e-01 5.93005952e-01\n",
            " 5.94494048e-01 5.98214286e-01 6.00446429e-01 6.03422619e-01\n",
            " 6.04910714e-01 6.06398810e-01 6.10863095e-01 6.12351190e-01\n",
            " 6.15327381e-01 6.19047619e-01 6.22023810e-01 6.27232143e-01\n",
            " 6.30208333e-01 6.33928571e-01 6.33928571e-01 6.39136905e-01\n",
            " 6.40625000e-01 6.48065476e-01 6.50297619e-01 6.51785714e-01\n",
            " 6.54017857e-01 6.56250000e-01 6.56250000e-01 6.57738095e-01\n",
            " 6.61458333e-01 6.66666667e-01 6.68154762e-01 6.74107143e-01\n",
            " 6.74107143e-01 6.74851190e-01 6.76339286e-01 6.80803571e-01\n",
            " 6.82291667e-01 6.86011905e-01 6.87500000e-01 6.90476190e-01\n",
            " 6.90476190e-01 6.91964286e-01 6.93452381e-01 6.94940476e-01\n",
            " 6.96428571e-01 6.97172619e-01 6.98660714e-01 7.03869048e-01\n",
            " 7.05357143e-01 7.08333333e-01 7.11309524e-01 7.17261905e-01\n",
            " 7.17261905e-01 7.18005952e-01 7.20238095e-01 7.30654762e-01\n",
            " 7.30654762e-01 7.32886905e-01 7.35863095e-01 7.36607143e-01\n",
            " 7.36607143e-01 7.47767857e-01 7.50000000e-01 7.53720238e-01\n",
            " 7.55208333e-01 7.74553571e-01 7.76041667e-01 7.82738095e-01\n",
            " 7.82738095e-01 7.84226190e-01 7.85714286e-01 7.91666667e-01\n",
            " 7.91666667e-01 7.99851190e-01 7.99851190e-01 8.02827381e-01\n",
            " 8.02827381e-01 8.02827381e-01 8.04315476e-01 8.04315476e-01\n",
            " 8.05803571e-01 8.08035714e-01 8.08035714e-01 8.13244048e-01\n",
            " 8.13244048e-01 8.13988095e-01 8.15476190e-01 8.22172619e-01\n",
            " 8.22172619e-01 8.24404762e-01 8.24404762e-01 8.31845238e-01\n",
            " 8.31845238e-01 8.34077381e-01 8.34077381e-01 8.45238095e-01\n",
            " 8.45238095e-01 8.46726190e-01 8.46726190e-01 8.47470238e-01\n",
            " 8.47470238e-01 8.48958333e-01 8.52678571e-01 8.52678571e-01\n",
            " 8.54910714e-01 8.56398810e-01 8.56398810e-01 8.59375000e-01\n",
            " 8.60863095e-01 8.64583333e-01 8.64583333e-01 8.66815476e-01\n",
            " 8.66815476e-01 8.69047619e-01 8.69047619e-01 8.69791667e-01\n",
            " 8.69791667e-01 8.72767857e-01 8.72767857e-01 8.75000000e-01\n",
            " 8.76488095e-01 8.76488095e-01 8.77232143e-01 8.77232143e-01\n",
            " 8.77976190e-01 8.77976190e-01 8.85416667e-01 8.85416667e-01\n",
            " 8.87648810e-01 8.87648810e-01 8.92113095e-01 8.92113095e-01\n",
            " 8.93601190e-01 8.93601190e-01 8.96577381e-01 8.96577381e-01\n",
            " 8.97321429e-01 8.97321429e-01 8.98065476e-01 8.98065476e-01\n",
            " 8.99553571e-01 8.99553571e-01 9.01041667e-01 9.01785714e-01\n",
            " 9.01785714e-01 9.03273810e-01 9.04017857e-01 9.04017857e-01\n",
            " 9.05505952e-01 9.05505952e-01 9.06250000e-01 9.06250000e-01\n",
            " 9.06994048e-01 9.06994048e-01 9.08482143e-01 9.08482143e-01\n",
            " 9.09226190e-01 9.10714286e-01 9.10714286e-01 9.11458333e-01\n",
            " 9.11458333e-01 9.12946429e-01 9.12946429e-01 9.15178571e-01\n",
            " 9.15178571e-01 9.18154762e-01 9.18154762e-01 9.20386905e-01\n",
            " 9.20386905e-01 9.23363095e-01 9.23363095e-01 9.24107143e-01\n",
            " 9.24107143e-01 9.24851190e-01 9.26339286e-01 9.27083333e-01\n",
            " 9.27083333e-01 9.27827381e-01 9.27827381e-01 9.29315476e-01\n",
            " 9.29315476e-01 9.33779762e-01 9.33779762e-01 9.35267857e-01\n",
            " 9.35267857e-01 9.36011905e-01 9.36011905e-01 9.36755952e-01\n",
            " 9.36755952e-01 9.37500000e-01 9.37500000e-01 9.37500000e-01\n",
            " 9.37500000e-01 9.38244048e-01 9.38244048e-01 9.39732143e-01\n",
            " 9.39732143e-01 9.40476190e-01 9.41964286e-01 9.42708333e-01\n",
            " 9.42708333e-01 9.43452381e-01 9.44940476e-01 9.44940476e-01\n",
            " 9.46428571e-01 9.46428571e-01 9.47172619e-01 9.47172619e-01\n",
            " 9.47172619e-01 9.48660714e-01 9.48660714e-01 9.49404762e-01\n",
            " 9.49404762e-01 9.50892857e-01 9.50892857e-01 9.52380952e-01\n",
            " 9.52380952e-01 9.53125000e-01 9.53125000e-01 9.53869048e-01\n",
            " 9.53869048e-01 9.54613095e-01 9.54613095e-01 9.56101190e-01\n",
            " 9.56101190e-01 9.56101190e-01 9.56101190e-01 9.56845238e-01\n",
            " 9.56845238e-01 9.57589286e-01 9.57589286e-01 9.57589286e-01\n",
            " 9.57589286e-01 9.58333333e-01 9.58333333e-01 9.59077381e-01\n",
            " 9.59077381e-01 9.59821429e-01 9.59821429e-01 9.60565476e-01\n",
            " 9.60565476e-01 9.61309524e-01 9.61309524e-01 9.61309524e-01\n",
            " 9.61309524e-01 9.62053571e-01 9.62053571e-01 9.62797619e-01\n",
            " 9.62797619e-01 9.63541667e-01 9.63541667e-01 9.64285714e-01\n",
            " 9.64285714e-01 9.65029762e-01 9.65029762e-01 9.66517857e-01\n",
            " 9.66517857e-01 9.68005952e-01 9.68005952e-01 9.68750000e-01\n",
            " 9.68750000e-01 9.69494048e-01 9.69494048e-01 9.70238095e-01\n",
            " 9.70238095e-01 9.70982143e-01 9.70982143e-01 9.71726190e-01\n",
            " 9.71726190e-01 9.72470238e-01 9.72470238e-01 9.73214286e-01\n",
            " 9.73214286e-01 9.73958333e-01 9.73958333e-01 9.74702381e-01\n",
            " 9.74702381e-01 9.75446429e-01 9.75446429e-01 9.75446429e-01\n",
            " 9.75446429e-01 9.76190476e-01 9.76190476e-01 9.76934524e-01\n",
            " 9.76934524e-01 9.77678571e-01 9.77678571e-01 9.78422619e-01\n",
            " 9.78422619e-01 9.78422619e-01 9.79166667e-01 9.79166667e-01\n",
            " 9.79166667e-01 9.79910714e-01 9.79910714e-01 9.80654762e-01\n",
            " 9.80654762e-01 9.81398810e-01 9.81398810e-01 9.82142857e-01\n",
            " 9.82142857e-01 9.82886905e-01 9.82886905e-01 9.82886905e-01\n",
            " 9.82886905e-01 9.83630952e-01 9.83630952e-01 9.84375000e-01\n",
            " 9.84375000e-01 9.85119048e-01 9.85119048e-01 9.85119048e-01\n",
            " 9.85863095e-01 9.85863095e-01 9.85863095e-01 9.85863095e-01\n",
            " 9.86607143e-01 9.86607143e-01 9.86607143e-01 9.86607143e-01\n",
            " 9.88095238e-01 9.88095238e-01 9.88839286e-01 9.88839286e-01\n",
            " 9.88839286e-01 9.88839286e-01 9.88839286e-01 9.88839286e-01\n",
            " 9.88839286e-01 9.90327381e-01 9.90327381e-01 9.91071429e-01\n",
            " 9.91071429e-01 9.91071429e-01 9.91071429e-01 9.91071429e-01\n",
            " 9.91071429e-01 9.91071429e-01 9.91815476e-01 9.91815476e-01\n",
            " 9.92559524e-01 9.92559524e-01 9.92559524e-01 9.92559524e-01\n",
            " 9.93303571e-01 9.93303571e-01 9.93303571e-01 9.93303571e-01\n",
            " 9.93303571e-01 9.93303571e-01 9.93303571e-01 9.93303571e-01\n",
            " 9.93303571e-01 9.93303571e-01 9.93303571e-01 9.94047619e-01\n",
            " 9.94047619e-01 9.94047619e-01 9.94047619e-01 9.94047619e-01\n",
            " 9.94047619e-01 9.94047619e-01 9.94047619e-01 9.94791667e-01\n",
            " 9.94791667e-01 9.95535714e-01 9.95535714e-01 9.95535714e-01\n",
            " 9.95535714e-01 9.95535714e-01 9.95535714e-01 9.95535714e-01\n",
            " 9.95535714e-01 9.95535714e-01 9.95535714e-01 9.95535714e-01\n",
            " 9.95535714e-01 9.96279762e-01 9.96279762e-01 9.96279762e-01\n",
            " 9.96279762e-01 9.96279762e-01 9.96279762e-01 9.96279762e-01\n",
            " 9.96279762e-01 9.96279762e-01 9.96279762e-01 9.96279762e-01\n",
            " 9.96279762e-01 9.96279762e-01 9.96279762e-01 9.96279762e-01\n",
            " 9.96279762e-01 9.96279762e-01 9.96279762e-01 9.96279762e-01\n",
            " 9.96279762e-01 9.96279762e-01 9.96279762e-01 9.96279762e-01\n",
            " 9.96279762e-01 9.96279762e-01 9.96279762e-01 9.96279762e-01\n",
            " 9.96279762e-01 9.96279762e-01 9.96279762e-01 9.96279762e-01\n",
            " 9.96279762e-01 9.96279762e-01 9.96279762e-01 9.96279762e-01\n",
            " 9.96279762e-01 9.96279762e-01 9.96279762e-01 9.96279762e-01\n",
            " 9.96279762e-01 9.96279762e-01 9.96279762e-01 9.96279762e-01\n",
            " 9.96279762e-01 9.96279762e-01 9.96279762e-01 9.96279762e-01\n",
            " 9.96279762e-01 9.96279762e-01 9.96279762e-01 9.96279762e-01\n",
            " 9.96279762e-01 9.96279762e-01 9.96279762e-01 9.96279762e-01\n",
            " 9.96279762e-01 9.96279762e-01 9.96279762e-01 9.96279762e-01\n",
            " 9.96279762e-01 9.96279762e-01 9.96279762e-01 9.96279762e-01\n",
            " 9.96279762e-01 9.96279762e-01 9.96279762e-01 9.96279762e-01\n",
            " 9.96279762e-01 9.96279762e-01 9.96279762e-01 9.96279762e-01\n",
            " 9.96279762e-01 9.96279762e-01 9.96279762e-01 9.96279762e-01\n",
            " 9.97023810e-01 9.97023810e-01 9.97023810e-01 9.97023810e-01\n",
            " 9.97023810e-01 9.97023810e-01 9.97023810e-01 9.97023810e-01\n",
            " 9.97023810e-01 9.97023810e-01 9.97767857e-01 9.97767857e-01\n",
            " 9.97767857e-01 9.97767857e-01 9.97767857e-01 9.97767857e-01\n",
            " 9.98511905e-01 9.98511905e-01 9.98511905e-01 9.98511905e-01\n",
            " 9.98511905e-01 9.98511905e-01 9.98511905e-01 9.98511905e-01\n",
            " 9.98511905e-01 9.98511905e-01 9.98511905e-01 9.98511905e-01\n",
            " 9.98511905e-01 9.98511905e-01 9.98511905e-01 9.98511905e-01\n",
            " 9.98511905e-01 9.98511905e-01 9.98511905e-01 9.98511905e-01\n",
            " 9.98511905e-01 9.98511905e-01 9.98511905e-01 9.98511905e-01\n",
            " 9.98511905e-01 9.98511905e-01 9.98511905e-01 9.98511905e-01\n",
            " 9.98511905e-01 9.98511905e-01 9.98511905e-01 9.98511905e-01\n",
            " 9.98511905e-01 9.98511905e-01 9.98511905e-01 9.98511905e-01\n",
            " 9.98511905e-01 9.98511905e-01 9.98511905e-01 9.98511905e-01\n",
            " 9.98511905e-01 9.98511905e-01 9.98511905e-01 9.98511905e-01\n",
            " 9.98511905e-01 9.98511905e-01 9.98511905e-01 9.98511905e-01\n",
            " 9.98511905e-01 9.98511905e-01 9.98511905e-01 9.98511905e-01\n",
            " 9.98511905e-01 9.98511905e-01 9.98511905e-01 9.98511905e-01\n",
            " 9.98511905e-01 9.98511905e-01 9.99255952e-01 9.99255952e-01\n",
            " 9.99255952e-01 9.99255952e-01 9.99255952e-01 9.99255952e-01\n",
            " 9.99255952e-01 9.99255952e-01 9.99255952e-01 9.99255952e-01\n",
            " 1.00000000e+00 1.00000000e+00 1.00000000e+00 1.00000000e+00\n",
            " 1.00000000e+00 1.00000000e+00 1.00000000e+00 1.00000000e+00\n",
            " 1.00000000e+00 1.00000000e+00 1.00000000e+00 1.00000000e+00\n",
            " 1.00000000e+00 1.00000000e+00 1.00000000e+00 1.00000000e+00\n",
            " 1.00000000e+00 1.00000000e+00 1.00000000e+00 1.00000000e+00\n",
            " 1.00000000e+00 1.00000000e+00 1.00000000e+00 1.00000000e+00\n",
            " 1.00000000e+00 1.00000000e+00 1.00000000e+00 1.00000000e+00\n",
            " 1.00000000e+00 1.00000000e+00 1.00000000e+00 1.00000000e+00\n",
            " 1.00000000e+00 1.00000000e+00 1.00000000e+00 1.00000000e+00\n",
            " 1.00000000e+00 1.00000000e+00 1.00000000e+00 1.00000000e+00\n",
            " 1.00000000e+00 1.00000000e+00 1.00000000e+00 1.00000000e+00\n",
            " 1.00000000e+00 1.00000000e+00 1.00000000e+00 1.00000000e+00\n",
            " 1.00000000e+00 1.00000000e+00 1.00000000e+00 1.00000000e+00\n",
            " 1.00000000e+00 1.00000000e+00 1.00000000e+00 1.00000000e+00\n",
            " 1.00000000e+00 1.00000000e+00 1.00000000e+00 1.00000000e+00\n",
            " 1.00000000e+00 1.00000000e+00 1.00000000e+00 1.00000000e+00\n",
            " 1.00000000e+00 1.00000000e+00 1.00000000e+00 1.00000000e+00\n",
            " 1.00000000e+00 1.00000000e+00 1.00000000e+00 1.00000000e+00\n",
            " 1.00000000e+00 1.00000000e+00 1.00000000e+00 1.00000000e+00\n",
            " 1.00000000e+00 1.00000000e+00 1.00000000e+00 1.00000000e+00\n",
            " 1.00000000e+00 1.00000000e+00 1.00000000e+00 1.00000000e+00\n",
            " 1.00000000e+00 1.00000000e+00 1.00000000e+00 1.00000000e+00\n",
            " 1.00000000e+00 1.00000000e+00 1.00000000e+00 1.00000000e+00\n",
            " 1.00000000e+00 1.00000000e+00 1.00000000e+00 1.00000000e+00\n",
            " 1.00000000e+00 1.00000000e+00 1.00000000e+00 1.00000000e+00\n",
            " 1.00000000e+00 1.00000000e+00 1.00000000e+00 1.00000000e+00\n",
            " 1.00000000e+00 1.00000000e+00 1.00000000e+00 1.00000000e+00\n",
            " 1.00000000e+00 1.00000000e+00 1.00000000e+00 1.00000000e+00\n",
            " 1.00000000e+00 1.00000000e+00 1.00000000e+00 1.00000000e+00\n",
            " 1.00000000e+00 1.00000000e+00 1.00000000e+00 1.00000000e+00\n",
            " 1.00000000e+00 1.00000000e+00 1.00000000e+00 1.00000000e+00\n",
            " 1.00000000e+00 1.00000000e+00 1.00000000e+00 1.00000000e+00\n",
            " 1.00000000e+00 1.00000000e+00 1.00000000e+00 1.00000000e+00\n",
            " 1.00000000e+00 1.00000000e+00 1.00000000e+00 1.00000000e+00\n",
            " 1.00000000e+00 1.00000000e+00 1.00000000e+00 1.00000000e+00\n",
            " 1.00000000e+00 1.00000000e+00 1.00000000e+00 1.00000000e+00\n",
            " 1.00000000e+00 1.00000000e+00 1.00000000e+00 1.00000000e+00\n",
            " 1.00000000e+00 1.00000000e+00 1.00000000e+00 1.00000000e+00\n",
            " 1.00000000e+00 1.00000000e+00 1.00000000e+00 1.00000000e+00\n",
            " 1.00000000e+00 1.00000000e+00 1.00000000e+00 1.00000000e+00\n",
            " 1.00000000e+00 1.00000000e+00 1.00000000e+00 1.00000000e+00\n",
            " 1.00000000e+00 1.00000000e+00 1.00000000e+00 1.00000000e+00\n",
            " 1.00000000e+00 1.00000000e+00 1.00000000e+00 1.00000000e+00\n",
            " 1.00000000e+00 1.00000000e+00 1.00000000e+00 1.00000000e+00\n",
            " 1.00000000e+00 1.00000000e+00 1.00000000e+00 1.00000000e+00\n",
            " 1.00000000e+00 1.00000000e+00 1.00000000e+00 1.00000000e+00\n",
            " 1.00000000e+00 1.00000000e+00 1.00000000e+00 1.00000000e+00\n",
            " 1.00000000e+00 1.00000000e+00 1.00000000e+00 1.00000000e+00\n",
            " 1.00000000e+00 1.00000000e+00 1.00000000e+00 1.00000000e+00\n",
            " 1.00000000e+00 1.00000000e+00 1.00000000e+00 1.00000000e+00\n",
            " 1.00000000e+00 1.00000000e+00 1.00000000e+00 1.00000000e+00\n",
            " 1.00000000e+00 1.00000000e+00 1.00000000e+00 1.00000000e+00\n",
            " 1.00000000e+00 1.00000000e+00 1.00000000e+00 1.00000000e+00\n",
            " 1.00000000e+00 1.00000000e+00 1.00000000e+00 1.00000000e+00\n",
            " 1.00000000e+00 1.00000000e+00 1.00000000e+00 1.00000000e+00\n",
            " 1.00000000e+00 1.00000000e+00 1.00000000e+00 1.00000000e+00\n",
            " 1.00000000e+00] \n",
            "\n",
            "Precision:\n",
            "[0.47965739 0.47947162 0.47964286 ... 1.         1.         1.        ]\n",
            "AUC score:\n",
            "0.9879101320926097\n"
          ],
          "name": "stdout"
        }
      ]
    },
    {
      "cell_type": "markdown",
      "metadata": {
        "id": "tIVafnO0sJSs"
      },
      "source": [
        "Save our model:\n"
      ]
    },
    {
      "cell_type": "code",
      "metadata": {
        "id": "QpRXRMB3jOkH"
      },
      "source": [
        "pickle_filename = 'stacking_updated.pickle'\n",
        "pickle.dump(clf, open(pickle_filename, 'wb'))"
      ],
      "execution_count": null,
      "outputs": []
    },
    {
      "cell_type": "markdown",
      "metadata": {
        "id": "LyLE2swTqZ1l"
      },
      "source": [
        "### Let's see some examples:\n",
        "(in order to do so we should scrape more data...)"
      ]
    },
    {
      "cell_type": "code",
      "metadata": {
        "colab": {
          "base_uri": "https://localhost:8080/"
        },
        "id": "_TjNxcyTs2S0",
        "outputId": "781c874f-93f0-4958-d549-df82159da7be"
      },
      "source": [
        "y_pred_test = clf.predict(X_test)\n",
        "test_hard_copy= X_test_hard_copy.merge(y_test.reset_index(), how='left', on='index')\n",
        "text_miss = test_hard_copy.iloc[np.where(y_test!= y_pred_test)[0]][[\"text\",\"category\"]]\n",
        "num= 0\n",
        "for i,row in enumerate(text_miss.iterrows()):\n",
        "  if num < 5:\n",
        "    print(f\"Tweet example number #{i+1}\")\n",
        "    if row[1][\"category\"] == 0:\n",
        "      print(\"Non anti-Vaccine tweet that was missclassified as anti-vaccination tweet:\")\n",
        "    else:\n",
        "      print(\"Anti-Vaccine tweet that was misclassified as non anti-vaccination tweet:\")\n",
        "    print(row[1][\"text\"])\n",
        "    print(\"\\n\")\n",
        "    num += 1"
      ],
      "execution_count": 132,
      "outputs": [
        {
          "output_type": "stream",
          "text": [
            "Tweet example number #1\n",
            "Anti-Vaccine tweet that was misclassified as non anti-vaccination tweet:\n",
            "@GuidoFawkes Implicit in those actions of course is their belief that a) #lockdown *is* an unwarranted over-reactio… https://t.co/tz09bOxuji\n",
            "\n",
            "\n",
            "Tweet example number #2\n",
            "Anti-Vaccine tweet that was misclassified as non anti-vaccination tweet:\n",
            "#antivax \n",
            "\n",
            "Check out 🩸Mr Meetz 🪓's video! #TikTok https://t.co/SLtkdjaVJi\n",
            "\n",
            "\n",
            "Tweet example number #3\n",
            "Non anti-Vaccine tweet that was missclassified as anti-vaccination tweet:\n",
            "@aka_anastazia @alexmichelle822 @jaketapper Sowing doubt is way easier than following the science. We lectured on t… https://t.co/0ypkYpy2aM\n",
            "\n",
            "\n",
            "Tweet example number #4\n",
            "Anti-Vaccine tweet that was misclassified as non anti-vaccination tweet:\n",
            "RT @DritzyDraws: My mother had chicken pox as a kid due to not getting vaccinated, and now suffers from shingles and bone density issues ar…\n",
            "\n",
            "\n",
            "Tweet example number #5\n",
            "Non anti-Vaccine tweet that was missclassified as anti-vaccination tweet:\n",
            "Thus far I have a fever, a sore throat, chills, joint aches, a headache, and nausea.  So I am pushing fluids, sleep… https://t.co/oB3HZ75WVc\n",
            "\n",
            "\n"
          ],
          "name": "stdout"
        }
      ]
    },
    {
      "cell_type": "markdown",
      "metadata": {
        "id": "3kwOSIrMx23x"
      },
      "source": [
        "Not much of a surprise after looking at the tweets content. After reading those tweets, evenI don't think that the \n",
        "\"anti-vaccination tweets” are actually negative toward vaccination. some of them aren't even related to vaccination!\n",
        " \n",
        "So all in all, I think that our model is working fantastic!"
      ]
    }
  ]
}