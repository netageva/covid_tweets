{
 "cells": [
  {
   "cell_type": "code",
   "execution_count": 18,
   "metadata": {},
   "outputs": [],
   "source": [
    "import pandas as pd"
   ]
  },
  {
   "cell_type": "markdown",
   "metadata": {},
   "source": [
    "read csv"
   ]
  },
  {
   "cell_type": "code",
   "execution_count": 19,
   "metadata": {},
   "outputs": [],
   "source": [
    "df_neg = pd.read_csv('neg_tweets.csv')\n",
    "df_pos = pd.read_csv('pos_tweets.csv')"
   ]
  },
  {
   "cell_type": "markdown",
   "metadata": {},
   "source": [
    "add label column"
   ]
  },
  {
   "cell_type": "code",
   "execution_count": 20,
   "metadata": {},
   "outputs": [],
   "source": [
    "df_neg['label'] = 'negative'\n",
    "df_pos['label'] = 'positive'"
   ]
  },
  {
   "cell_type": "markdown",
   "metadata": {},
   "source": [
    "merge both df"
   ]
  },
  {
   "cell_type": "code",
   "execution_count": 21,
   "metadata": {},
   "outputs": [],
   "source": [
    "df = df_neg.append(df_pos)"
   ]
  },
  {
   "cell_type": "code",
   "execution_count": 23,
   "metadata": {},
   "outputs": [
    {
     "data": {
      "text/html": [
       "<div>\n",
       "<style scoped>\n",
       "    .dataframe tbody tr th:only-of-type {\n",
       "        vertical-align: middle;\n",
       "    }\n",
       "\n",
       "    .dataframe tbody tr th {\n",
       "        vertical-align: top;\n",
       "    }\n",
       "\n",
       "    .dataframe thead th {\n",
       "        text-align: right;\n",
       "    }\n",
       "</style>\n",
       "<table border=\"1\" class=\"dataframe\">\n",
       "  <thead>\n",
       "    <tr style=\"text-align: right;\">\n",
       "      <th></th>\n",
       "      <th>id</th>\n",
       "      <th>date</th>\n",
       "      <th>username</th>\n",
       "      <th>content</th>\n",
       "      <th>url</th>\n",
       "      <th>label</th>\n",
       "    </tr>\n",
       "  </thead>\n",
       "  <tbody>\n",
       "    <tr>\n",
       "      <th>0</th>\n",
       "      <td>1352552131203657729</td>\n",
       "      <td>2021-01-22 09:42:11+00:00</td>\n",
       "      <td>tolloc_maire</td>\n",
       "      <td>@BorisJohnson @CMO_England @uksciencechief #Jo...</td>\n",
       "      <td>https://twitter.com/tolloc_maire/status/135255...</td>\n",
       "      <td>negative</td>\n",
       "    </tr>\n",
       "    <tr>\n",
       "      <th>1</th>\n",
       "      <td>1352544368524218370</td>\n",
       "      <td>2021-01-22 09:11:21+00:00</td>\n",
       "      <td>tolloc_maire</td>\n",
       "      <td>@CMO_England @uksciencechief @BorisJohnson @Ma...</td>\n",
       "      <td>https://twitter.com/tolloc_maire/status/135254...</td>\n",
       "      <td>negative</td>\n",
       "    </tr>\n",
       "    <tr>\n",
       "      <th>2</th>\n",
       "      <td>1352539517614493696</td>\n",
       "      <td>2021-01-22 08:52:04+00:00</td>\n",
       "      <td>lostcreatives1</td>\n",
       "      <td>@pritipatel rules, not laws.  2-tier policing,...</td>\n",
       "      <td>https://twitter.com/lostcreatives1/status/1352...</td>\n",
       "      <td>negative</td>\n",
       "    </tr>\n",
       "    <tr>\n",
       "      <th>3</th>\n",
       "      <td>1352526249755865090</td>\n",
       "      <td>2021-01-22 07:59:21+00:00</td>\n",
       "      <td>JMichW87</td>\n",
       "      <td>#Polio #PolioMyelitis #PolioVaccine #PolioErad...</td>\n",
       "      <td>https://twitter.com/JMichW87/status/1352526249...</td>\n",
       "      <td>negative</td>\n",
       "    </tr>\n",
       "    <tr>\n",
       "      <th>4</th>\n",
       "      <td>1352506303718039552</td>\n",
       "      <td>2021-01-22 06:40:05+00:00</td>\n",
       "      <td>AliveAwakeReal</td>\n",
       "      <td>Fear\\r\\nAlways fear\\r\\nIt’s the governments we...</td>\n",
       "      <td>https://twitter.com/AliveAwakeReal/status/1352...</td>\n",
       "      <td>negative</td>\n",
       "    </tr>\n",
       "  </tbody>\n",
       "</table>\n",
       "</div>"
      ],
      "text/plain": [
       "                    id                       date        username  \\\n",
       "0  1352552131203657729  2021-01-22 09:42:11+00:00    tolloc_maire   \n",
       "1  1352544368524218370  2021-01-22 09:11:21+00:00    tolloc_maire   \n",
       "2  1352539517614493696  2021-01-22 08:52:04+00:00  lostcreatives1   \n",
       "3  1352526249755865090  2021-01-22 07:59:21+00:00        JMichW87   \n",
       "4  1352506303718039552  2021-01-22 06:40:05+00:00  AliveAwakeReal   \n",
       "\n",
       "                                             content  \\\n",
       "0  @BorisJohnson @CMO_England @uksciencechief #Jo...   \n",
       "1  @CMO_England @uksciencechief @BorisJohnson @Ma...   \n",
       "2  @pritipatel rules, not laws.  2-tier policing,...   \n",
       "3  #Polio #PolioMyelitis #PolioVaccine #PolioErad...   \n",
       "4  Fear\\r\\nAlways fear\\r\\nIt’s the governments we...   \n",
       "\n",
       "                                                 url     label  \n",
       "0  https://twitter.com/tolloc_maire/status/135255...  negative  \n",
       "1  https://twitter.com/tolloc_maire/status/135254...  negative  \n",
       "2  https://twitter.com/lostcreatives1/status/1352...  negative  \n",
       "3  https://twitter.com/JMichW87/status/1352526249...  negative  \n",
       "4  https://twitter.com/AliveAwakeReal/status/1352...  negative  "
      ]
     },
     "execution_count": 23,
     "metadata": {},
     "output_type": "execute_result"
    }
   ],
   "source": [
    "df.head()"
   ]
  },
  {
   "cell_type": "code",
   "execution_count": null,
   "metadata": {},
   "outputs": [],
   "source": []
  }
 ],
 "metadata": {
  "kernelspec": {
   "display_name": "Python 3",
   "language": "python",
   "name": "python3"
  },
  "language_info": {
   "codemirror_mode": {
    "name": "ipython",
    "version": 3
   },
   "file_extension": ".py",
   "mimetype": "text/x-python",
   "name": "python",
   "nbconvert_exporter": "python",
   "pygments_lexer": "ipython3",
   "version": "3.8.3"
  }
 },
 "nbformat": 4,
 "nbformat_minor": 4
}
