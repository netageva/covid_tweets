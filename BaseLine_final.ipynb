{
  "nbformat": 4,
  "nbformat_minor": 0,
  "metadata": {
    "colab": {
      "name": "BaseLine_final.ipynb",
      "provenance": [],
      "collapsed_sections": []
    },
    "kernelspec": {
      "display_name": "Python 3",
      "language": "python",
      "name": "python3"
    },
    "language_info": {
      "codemirror_mode": {
        "name": "ipython",
        "version": 3
      },
      "file_extension": ".py",
      "mimetype": "text/x-python",
      "name": "python",
      "nbconvert_exporter": "python",
      "pygments_lexer": "ipython3",
      "version": "3.8.3"
    },
    "latex_envs": {
      "LaTeX_envs_menu_present": true,
      "autoclose": false,
      "autocomplete": true,
      "bibliofile": "biblio.bib",
      "cite_by": "apalike",
      "current_citInitial": 1,
      "eqLabelWithNumbers": true,
      "eqNumInitial": 1,
      "hotkeys": {
        "equation": "Ctrl-E",
        "itemize": "Ctrl-I"
      },
      "labels_anchors": false,
      "latex_user_defs": false,
      "report_style_numbering": false,
      "user_envs_cfg": false
    }
  },
  "cells": [
    {
      "cell_type": "code",
      "metadata": {
        "colab": {
          "base_uri": "https://localhost:8080/"
        },
        "id": "izaUCiNUAFKB",
        "outputId": "c598a467-5f0a-426a-9886-ae422c82a40b"
      },
      "source": [
        "from google.colab import drive\n",
        "\n",
        "drive.mount('/content/gdrive')"
      ],
      "execution_count": 1,
      "outputs": [
        {
          "output_type": "stream",
          "text": [
            "Drive already mounted at /content/gdrive; to attempt to forcibly remount, call drive.mount(\"/content/gdrive\", force_remount=True).\n"
          ],
          "name": "stdout"
        }
      ]
    },
    {
      "cell_type": "code",
      "metadata": {
        "id": "R7unZUOoKWlr"
      },
      "source": [
        "#%cd /content/gdrive/MyDrive"
      ],
      "execution_count": 2,
      "outputs": []
    },
    {
      "cell_type": "code",
      "metadata": {
        "id": "lN9cKqBcKMJ7"
      },
      "source": [
        "#!git clone https://github.com/noa-ehrenhalt/covid_tweets.git"
      ],
      "execution_count": 3,
      "outputs": []
    },
    {
      "cell_type": "code",
      "metadata": {
        "colab": {
          "base_uri": "https://localhost:8080/"
        },
        "id": "wfnHSjtm9h7_",
        "outputId": "ad20b5f9-2119-4759-ac6c-aaf779eb2366"
      },
      "source": [
        "import pandas as pd\n",
        "import numpy as np\n",
        "import seaborn as sns\n",
        "import matplotlib.pyplot as plt\n",
        "%matplotlib inline\n",
        "import re\n",
        "import itertools\n",
        "from wordcloud import WordCloud, STOPWORDS\n",
        "from collections import Counter\n",
        "import nltk\n",
        "nltk.download('vader_lexicon')\n",
        "from nltk.corpus import stopwords\n",
        "nltk.download('stopwords')\n",
        "nltk.download('wordnet')\n",
        "from nltk.sentiment.vader import SentimentIntensityAnalyzer as SIA\n",
        "import tweepy as tw\n",
        "from collections import Counter\n",
        "import re\n",
        "from sklearn.metrics import confusion_matrix\n"
      ],
      "execution_count": 4,
      "outputs": [
        {
          "output_type": "stream",
          "text": [
            "[nltk_data] Downloading package vader_lexicon to /root/nltk_data...\n",
            "[nltk_data]   Package vader_lexicon is already up-to-date!\n",
            "[nltk_data] Downloading package stopwords to /root/nltk_data...\n",
            "[nltk_data]   Package stopwords is already up-to-date!\n",
            "[nltk_data] Downloading package wordnet to /root/nltk_data...\n",
            "[nltk_data]   Package wordnet is already up-to-date!\n"
          ],
          "name": "stdout"
        },
        {
          "output_type": "stream",
          "text": [
            "/usr/local/lib/python3.7/dist-packages/nltk/twitter/__init__.py:20: UserWarning: The twython library has not been installed. Some functionality from the twitter package will not be available.\n",
            "  warnings.warn(\"The twython library has not been installed. \"\n"
          ],
          "name": "stderr"
        }
      ]
    },
    {
      "cell_type": "code",
      "metadata": {
        "id": "Prtq7OZh9ddD",
        "colab": {
          "base_uri": "https://localhost:8080/"
        },
        "outputId": "c0a88939-77da-48e9-decd-83c2448643d6"
      },
      "source": [
        "import pandas as pd\n",
        "\n",
        "df = pd.read_csv(\"/content/gdrive/MyDrive/pos_and_neg_tweets_balanced_final.csv\")"
      ],
      "execution_count": 5,
      "outputs": [
        {
          "output_type": "stream",
          "text": [
            "/usr/local/lib/python3.7/dist-packages/IPython/core/interactiveshell.py:2718: DtypeWarning: Columns (14,15) have mixed types.Specify dtype option on import or set low_memory=False.\n",
            "  interactivity=interactivity, compiler=compiler, result=result)\n"
          ],
          "name": "stderr"
        }
      ]
    },
    {
      "cell_type": "code",
      "metadata": {
        "colab": {
          "base_uri": "https://localhost:8080/",
          "height": 467
        },
        "id": "mnrlOSau0_Dc",
        "outputId": "5bb1a834-52e6-4066-8301-9cc8678ff5e4"
      },
      "source": [
        "df.head()"
      ],
      "execution_count": 6,
      "outputs": [
        {
          "output_type": "execute_result",
          "data": {
            "text/html": [
              "<div>\n",
              "<style scoped>\n",
              "    .dataframe tbody tr th:only-of-type {\n",
              "        vertical-align: middle;\n",
              "    }\n",
              "\n",
              "    .dataframe tbody tr th {\n",
              "        vertical-align: top;\n",
              "    }\n",
              "\n",
              "    .dataframe thead th {\n",
              "        text-align: right;\n",
              "    }\n",
              "</style>\n",
              "<table border=\"1\" class=\"dataframe\">\n",
              "  <thead>\n",
              "    <tr style=\"text-align: right;\">\n",
              "      <th></th>\n",
              "      <th>Unnamed: 0</th>\n",
              "      <th>Unnamed: 0.1</th>\n",
              "      <th>user_name</th>\n",
              "      <th>user_location</th>\n",
              "      <th>user_description</th>\n",
              "      <th>user_created</th>\n",
              "      <th>user_followers</th>\n",
              "      <th>date</th>\n",
              "      <th>text</th>\n",
              "      <th>favorites</th>\n",
              "      <th>retweets</th>\n",
              "      <th>is_retweet</th>\n",
              "      <th>category</th>\n",
              "      <th>user_location_updated</th>\n",
              "      <th>user-country_code</th>\n",
              "      <th>user-country</th>\n",
              "    </tr>\n",
              "  </thead>\n",
              "  <tbody>\n",
              "    <tr>\n",
              "      <th>0</th>\n",
              "      <td>0</td>\n",
              "      <td>0</td>\n",
              "      <td>AARPKY</td>\n",
              "      <td>Bluegrass State</td>\n",
              "      <td>Official AARP Kentucky Twitter. Get to know us...</td>\n",
              "      <td>2009-07-25 15:14:41</td>\n",
              "      <td>3266</td>\n",
              "      <td>2021-02-18 14:12:52</td>\n",
              "      <td>@3rdRetiredTeach See Kentucky's update vaccine...</td>\n",
              "      <td>0</td>\n",
              "      <td>0</td>\n",
              "      <td>False</td>\n",
              "      <td>Positive</td>\n",
              "      <td>Bluegrass State</td>\n",
              "      <td>USA</td>\n",
              "      <td>United States</td>\n",
              "    </tr>\n",
              "    <tr>\n",
              "      <th>1</th>\n",
              "      <td>1</td>\n",
              "      <td>1</td>\n",
              "      <td>GoSolar01</td>\n",
              "      <td>NaN</td>\n",
              "      <td>Get all your solar info here, including latest...</td>\n",
              "      <td>2017-12-14 06:26:39</td>\n",
              "      <td>1861</td>\n",
              "      <td>2021-02-18 05:35:56</td>\n",
              "      <td>RT @dr_hhq: Chipped - #crushcovid #gettheshot ...</td>\n",
              "      <td>0</td>\n",
              "      <td>1</td>\n",
              "      <td>True</td>\n",
              "      <td>Positive</td>\n",
              "      <td>NaN</td>\n",
              "      <td>NaN</td>\n",
              "      <td>NaN</td>\n",
              "    </tr>\n",
              "    <tr>\n",
              "      <th>2</th>\n",
              "      <td>2</td>\n",
              "      <td>2</td>\n",
              "      <td>dr_hhq</td>\n",
              "      <td>Karachi, Pakistan</td>\n",
              "      <td>Assistant Professor #Urology #SIUT - Half Prof...</td>\n",
              "      <td>2009-08-15 06:11:55</td>\n",
              "      <td>2378</td>\n",
              "      <td>2021-02-18 05:35:37</td>\n",
              "      <td>Chipped - #crushcovid #gettheshot 🇨🇳#covid #co...</td>\n",
              "      <td>2</td>\n",
              "      <td>1</td>\n",
              "      <td>True</td>\n",
              "      <td>Positive</td>\n",
              "      <td>Karachi, Pakistan</td>\n",
              "      <td>PAK</td>\n",
              "      <td>Pakistan</td>\n",
              "    </tr>\n",
              "    <tr>\n",
              "      <th>3</th>\n",
              "      <td>3</td>\n",
              "      <td>3</td>\n",
              "      <td>Nakhasi_MD</td>\n",
              "      <td>Los Angeles, CA</td>\n",
              "      <td>Doc in Compton | Policy Adviser. LA County Dep...</td>\n",
              "      <td>2009-03-11 06:04:06</td>\n",
              "      <td>2205</td>\n",
              "      <td>2021-02-18 03:58:45</td>\n",
              "      <td>RT @PinnacleTC_Hope: Holly Broce, president of...</td>\n",
              "      <td>0</td>\n",
              "      <td>1</td>\n",
              "      <td>True</td>\n",
              "      <td>Positive</td>\n",
              "      <td>Los Angeles, CA</td>\n",
              "      <td>USA</td>\n",
              "      <td>United States</td>\n",
              "    </tr>\n",
              "    <tr>\n",
              "      <th>4</th>\n",
              "      <td>4</td>\n",
              "      <td>4</td>\n",
              "      <td>SonLaurencio</td>\n",
              "      <td>Kentucky, USA</td>\n",
              "      <td>Pro Executive Entrepreneur #business #marketin...</td>\n",
              "      <td>2013-04-15 02:31:40</td>\n",
              "      <td>1558</td>\n",
              "      <td>2021-02-18 03:48:33</td>\n",
              "      <td>RT @LFCHD: A COVID-19 vaccine update thread:\\n...</td>\n",
              "      <td>0</td>\n",
              "      <td>1</td>\n",
              "      <td>True</td>\n",
              "      <td>Positive</td>\n",
              "      <td>Kentucky, USA</td>\n",
              "      <td>USA</td>\n",
              "      <td>United States</td>\n",
              "    </tr>\n",
              "  </tbody>\n",
              "</table>\n",
              "</div>"
            ],
            "text/plain": [
              "   Unnamed: 0  Unnamed: 0.1  ... user-country_code   user-country\n",
              "0           0             0  ...               USA  United States\n",
              "1           1             1  ...               NaN            NaN\n",
              "2           2             2  ...               PAK       Pakistan\n",
              "3           3             3  ...               USA  United States\n",
              "4           4             4  ...               USA  United States\n",
              "\n",
              "[5 rows x 16 columns]"
            ]
          },
          "metadata": {
            "tags": []
          },
          "execution_count": 6
        }
      ]
    },
    {
      "cell_type": "code",
      "metadata": {
        "id": "oRtuwnTmOFu2"
      },
      "source": [
        "df.drop(['Unnamed: 0', 'Unnamed: 0.1', 'user_name'], axis=1, inplace=True)"
      ],
      "execution_count": 7,
      "outputs": []
    },
    {
      "cell_type": "code",
      "metadata": {
        "colab": {
          "base_uri": "https://localhost:8080/",
          "height": 467
        },
        "id": "Crhqhz7nXuKZ",
        "outputId": "54a7084f-9af9-436d-f2aa-3841e69194d8"
      },
      "source": [
        "df.head()"
      ],
      "execution_count": 8,
      "outputs": [
        {
          "output_type": "execute_result",
          "data": {
            "text/html": [
              "<div>\n",
              "<style scoped>\n",
              "    .dataframe tbody tr th:only-of-type {\n",
              "        vertical-align: middle;\n",
              "    }\n",
              "\n",
              "    .dataframe tbody tr th {\n",
              "        vertical-align: top;\n",
              "    }\n",
              "\n",
              "    .dataframe thead th {\n",
              "        text-align: right;\n",
              "    }\n",
              "</style>\n",
              "<table border=\"1\" class=\"dataframe\">\n",
              "  <thead>\n",
              "    <tr style=\"text-align: right;\">\n",
              "      <th></th>\n",
              "      <th>user_location</th>\n",
              "      <th>user_description</th>\n",
              "      <th>user_created</th>\n",
              "      <th>user_followers</th>\n",
              "      <th>date</th>\n",
              "      <th>text</th>\n",
              "      <th>favorites</th>\n",
              "      <th>retweets</th>\n",
              "      <th>is_retweet</th>\n",
              "      <th>category</th>\n",
              "      <th>user_location_updated</th>\n",
              "      <th>user-country_code</th>\n",
              "      <th>user-country</th>\n",
              "    </tr>\n",
              "  </thead>\n",
              "  <tbody>\n",
              "    <tr>\n",
              "      <th>0</th>\n",
              "      <td>Bluegrass State</td>\n",
              "      <td>Official AARP Kentucky Twitter. Get to know us...</td>\n",
              "      <td>2009-07-25 15:14:41</td>\n",
              "      <td>3266</td>\n",
              "      <td>2021-02-18 14:12:52</td>\n",
              "      <td>@3rdRetiredTeach See Kentucky's update vaccine...</td>\n",
              "      <td>0</td>\n",
              "      <td>0</td>\n",
              "      <td>False</td>\n",
              "      <td>Positive</td>\n",
              "      <td>Bluegrass State</td>\n",
              "      <td>USA</td>\n",
              "      <td>United States</td>\n",
              "    </tr>\n",
              "    <tr>\n",
              "      <th>1</th>\n",
              "      <td>NaN</td>\n",
              "      <td>Get all your solar info here, including latest...</td>\n",
              "      <td>2017-12-14 06:26:39</td>\n",
              "      <td>1861</td>\n",
              "      <td>2021-02-18 05:35:56</td>\n",
              "      <td>RT @dr_hhq: Chipped - #crushcovid #gettheshot ...</td>\n",
              "      <td>0</td>\n",
              "      <td>1</td>\n",
              "      <td>True</td>\n",
              "      <td>Positive</td>\n",
              "      <td>NaN</td>\n",
              "      <td>NaN</td>\n",
              "      <td>NaN</td>\n",
              "    </tr>\n",
              "    <tr>\n",
              "      <th>2</th>\n",
              "      <td>Karachi, Pakistan</td>\n",
              "      <td>Assistant Professor #Urology #SIUT - Half Prof...</td>\n",
              "      <td>2009-08-15 06:11:55</td>\n",
              "      <td>2378</td>\n",
              "      <td>2021-02-18 05:35:37</td>\n",
              "      <td>Chipped - #crushcovid #gettheshot 🇨🇳#covid #co...</td>\n",
              "      <td>2</td>\n",
              "      <td>1</td>\n",
              "      <td>True</td>\n",
              "      <td>Positive</td>\n",
              "      <td>Karachi, Pakistan</td>\n",
              "      <td>PAK</td>\n",
              "      <td>Pakistan</td>\n",
              "    </tr>\n",
              "    <tr>\n",
              "      <th>3</th>\n",
              "      <td>Los Angeles, CA</td>\n",
              "      <td>Doc in Compton | Policy Adviser. LA County Dep...</td>\n",
              "      <td>2009-03-11 06:04:06</td>\n",
              "      <td>2205</td>\n",
              "      <td>2021-02-18 03:58:45</td>\n",
              "      <td>RT @PinnacleTC_Hope: Holly Broce, president of...</td>\n",
              "      <td>0</td>\n",
              "      <td>1</td>\n",
              "      <td>True</td>\n",
              "      <td>Positive</td>\n",
              "      <td>Los Angeles, CA</td>\n",
              "      <td>USA</td>\n",
              "      <td>United States</td>\n",
              "    </tr>\n",
              "    <tr>\n",
              "      <th>4</th>\n",
              "      <td>Kentucky, USA</td>\n",
              "      <td>Pro Executive Entrepreneur #business #marketin...</td>\n",
              "      <td>2013-04-15 02:31:40</td>\n",
              "      <td>1558</td>\n",
              "      <td>2021-02-18 03:48:33</td>\n",
              "      <td>RT @LFCHD: A COVID-19 vaccine update thread:\\n...</td>\n",
              "      <td>0</td>\n",
              "      <td>1</td>\n",
              "      <td>True</td>\n",
              "      <td>Positive</td>\n",
              "      <td>Kentucky, USA</td>\n",
              "      <td>USA</td>\n",
              "      <td>United States</td>\n",
              "    </tr>\n",
              "  </tbody>\n",
              "</table>\n",
              "</div>"
            ],
            "text/plain": [
              "       user_location  ...   user-country\n",
              "0    Bluegrass State  ...  United States\n",
              "1                NaN  ...            NaN\n",
              "2  Karachi, Pakistan  ...       Pakistan\n",
              "3    Los Angeles, CA  ...  United States\n",
              "4      Kentucky, USA  ...  United States\n",
              "\n",
              "[5 rows x 13 columns]"
            ]
          },
          "metadata": {
            "tags": []
          },
          "execution_count": 8
        }
      ]
    },
    {
      "cell_type": "markdown",
      "metadata": {
        "id": "GgZGRopn-3AD"
      },
      "source": [
        "NLP preprocessing\n",
        "\n",
        "add column with clean tweet"
      ]
    },
    {
      "cell_type": "code",
      "metadata": {
        "id": "wM51EWkk-dKG"
      },
      "source": [
        "import re\n",
        "\n",
        "df[\"up_text\"] = df.text.str.lower()\n",
        "#Remove twitter handlers\n",
        "df.up_text = df.up_text.apply(lambda x:re.sub('@[^\\s]+','',x))\n",
        "\n",
        "#remove hashtags\n",
        "df.up_text = df.up_text.apply(lambda x:re.sub(r'\\B#\\S+','',x))\n",
        "\n",
        "# Remove URLS\n",
        "df.up_text = df.up_text.apply(lambda x:re.sub(r\"http\\S+\", \"\", x))\n",
        "\n",
        "# Remove all the special characters\n",
        "df.up_text = df.up_text.apply(lambda x:' '.join(re.findall(r'\\w+', x)))\n",
        "\n",
        "#remove all single characters\n",
        "df.up_text = df.up_text.apply(lambda x:re.sub(r'\\s+[a-zA-Z]\\s+', '', x))\n",
        "\n",
        "# Substituting multiple spaces with single space\n",
        "df.up_text = df.up_text.apply(lambda x:re.sub(r'\\s+', ' ', x, flags=re.I))"
      ],
      "execution_count": 9,
      "outputs": []
    },
    {
      "cell_type": "code",
      "metadata": {
        "id": "Z6KAcA7STV8z"
      },
      "source": [
        "# Contractions\n",
        "df.up_text = df.up_text.apply(lambda x:re.sub(r\"he's\", \"he is\", x))\n",
        "df.up_text = df.up_text.apply(lambda x:re.sub(r\"there's\", \"there is\", x))\n",
        "df.up_text = df.up_text.apply(lambda x:re.sub(r\"We're\", \"We are\", x))\n",
        "df.up_text = df.up_text.apply(lambda x:re.sub(r\"That's\", \"That is\", x))\n",
        "df.up_text = df.up_text.apply(lambda x:re.sub(r\"won't\", \"will not\", x))\n",
        "df.up_text = df.up_text.apply(lambda x:re.sub(r\"they're\", \"they are\", x))\n",
        "df.up_text = df.up_text.apply(lambda x:re.sub(r\"Can't\", \"Cannot\", x))\n",
        "df.up_text = df.up_text.apply(lambda x:re.sub(r\"wasn't\", \"was not\", x))\n",
        "df.up_text = df.up_text.apply(lambda x:re.sub(r\"don\\x89Ûªt\", \"do not\", x))\n",
        "df.up_text = df.up_text.apply(lambda x:re.sub(r\"aren't\", \"are not\", x))\n",
        "df.up_text = df.up_text.apply(lambda x:re.sub(r\"isn't\", \"is not\", x))\n",
        "df.up_text = df.up_text.apply(lambda x:re.sub(r\"What's\", \"What is\", x))\n",
        "df.up_text = df.up_text.apply(lambda x:re.sub(r\"haven't\", \"have not\", x))\n",
        "df.up_text = df.up_text.apply(lambda x:re.sub(r\"hasn't\", \"has not\", x))\n",
        "df.up_text = df.up_text.apply(lambda x:re.sub(r\"There's\", \"There is\", x))\n",
        "df.up_text = df.up_text.apply(lambda x:re.sub(r\"He's\", \"He is\", x))\n",
        "df.up_text = df.up_text.apply(lambda x:re.sub(r\"It's\", \"It is\", x))\n",
        "df.up_text = df.up_text.apply(lambda x:re.sub(r\"You're\", \"You are\", x))\n",
        "df.up_text = df.up_text.apply(lambda x:re.sub(r\"I'M\", \"I am\", x))\n",
        "df.up_text = df.up_text.apply(lambda x:re.sub(r\"shouldn't\", \"should not\", x))\n",
        "df.up_text = df.up_text.apply(lambda x:re.sub(r\"wouldn't\", \"would not\", x))\n",
        "df.up_text = df.up_text.apply(lambda x:re.sub(r\"i'm\", \"I am\", x))\n",
        "df.up_text = df.up_text.apply(lambda x:re.sub(r\"I\\x89Ûªm\", \"I am\", x))\n",
        "df.up_text = df.up_text.apply(lambda x:re.sub(r\"I'm\", \"I am\", x))\n",
        "df.up_text = df.up_text.apply(lambda x:re.sub(r\"Isn't\", \"is not\", x))\n",
        "df.up_text = df.up_text.apply(lambda x:re.sub(r\"Here's\", \"Here is\", x))\n",
        "df.up_text = df.up_text.apply(lambda x:re.sub(r\"you've\", \"you have\", x))\n",
        "df.up_text = df.up_text.apply(lambda x:re.sub(r\"you\\x89Ûªve\", \"you have\", x))\n",
        "df.up_text = df.up_text.apply(lambda x:re.sub(r\"we're\", \"we are\", x))\n",
        "df.up_text = df.up_text.apply(lambda x:re.sub(r\"what's\", \"what is\", x))\n",
        "df.up_text = df.up_text.apply(lambda x:re.sub(r\"couldn't\", \"could not\", x))\n",
        "df.up_text = df.up_text.apply(lambda x:re.sub(r\"we've\", \"we have\", x))\n",
        "df.up_text = df.up_text.apply(lambda x:re.sub(r\"it\\x89Ûªs\", \"it is\", x))\n",
        "df.up_text = df.up_text.apply(lambda x:re.sub(r\"doesn\\x89Ûªt\", \"does not\", x))\n",
        "df.up_text = df.up_text.apply(lambda x:re.sub(r\"It\\x89Ûªs\", \"It is\", x))\n",
        "df.up_text = df.up_text.apply(lambda x:re.sub(r\"Here\\x89Ûªs\", \"Here is\", x))\n",
        "df.up_text = df.up_text.apply(lambda x:re.sub(r\"who's\", \"who is\", x))\n",
        "df.up_text = df.up_text.apply(lambda x:re.sub(r\"I\\x89Ûªve\", \"I have\", x))\n",
        "df.up_text = df.up_text.apply(lambda x:re.sub(r\"y'all\", \"you all\", x))\n",
        "df.up_text = df.up_text.apply(lambda x:re.sub(r\"can\\x89Ûªt\", \"cannot\", x))\n",
        "df.up_text = df.up_text.apply(lambda x:re.sub(r\"would've\", \"would have\", x))\n",
        "df.up_text = df.up_text.apply(lambda x:re.sub(r\"it'll\", \"it will\", x))\n",
        "df.up_text = df.up_text.apply(lambda x:re.sub(r\"we'll\", \"we will\", x))\n",
        "df.up_text = df.up_text.apply(lambda x:re.sub(r\"wouldn\\x89Ûªt\", \"would not\", x))\n",
        "df.up_text = df.up_text.apply(lambda x:re.sub(r\"We've\", \"We have\", x))\n",
        "df.up_text = df.up_text.apply(lambda x:re.sub(r\"he'll\", \"he will\", x))\n",
        "df.up_text = df.up_text.apply(lambda x:re.sub(r\"Y'all\", \"You all\", x))\n",
        "df.up_text = df.up_text.apply(lambda x:re.sub(r\"Weren't\", \"Were not\", x))\n",
        "df.up_text = df.up_text.apply(lambda x:re.sub(r\"Didn't\", \"Did not\", x))\n",
        "df.up_text = df.up_text.apply(lambda x:re.sub(r\"they'll\", \"they will\", x))\n",
        "df.up_text = df.up_text.apply(lambda x:re.sub(r\"they'd\", \"they would\", x))\n",
        "df.up_text = df.up_text.apply(lambda x:re.sub(r\"DON'T\", \"DO NOT\", x))\n",
        "df.up_text = df.up_text.apply(lambda x:re.sub(r\"That\\x89Ûªs\", \"That is\", x))\n",
        "df.up_text = df.up_text.apply(lambda x:re.sub(r\"they've\", \"they have\", x))\n",
        "df.up_text = df.up_text.apply(lambda x:re.sub(r\"i'd\", \"I would\", x))\n",
        "df.up_text = df.up_text.apply(lambda x:re.sub(r\"should've\", \"should have\", x))\n",
        "df.up_text = df.up_text.apply(lambda x:re.sub(r\"You\\x89Ûªre\", \"You are\", x))\n",
        "df.up_text = df.up_text.apply(lambda x:re.sub(r\"where's\", \"where is\", x))\n",
        "df.up_text = df.up_text.apply(lambda x:re.sub(r\"Don\\x89Ûªt\", \"Do not\", x))\n",
        "df.up_text = df.up_text.apply(lambda x:re.sub(r\"we'd\", \"we would\", x))\n",
        "df.up_text = df.up_text.apply(lambda x:re.sub(r\"i'll\", \"I will\", x))\n",
        "df.up_text = df.up_text.apply(lambda x:re.sub(r\"weren't\", \"were not\", x))\n",
        "df.up_text = df.up_text.apply(lambda x:re.sub(r\"They're\", \"They are\", x))\n",
        "df.up_text = df.up_text.apply(lambda x:re.sub(r\"Can\\x89Ûªt\", \"Cannot\", x))\n",
        "df.up_text = df.up_text.apply(lambda x:re.sub(r\"you\\x89Ûªll\", \"you will\", x))\n",
        "df.up_text = df.up_text.apply(lambda x:re.sub(r\"I\\x89Ûªd\", \"I would\", x))\n",
        "df.up_text = df.up_text.apply(lambda x:re.sub(r\"let's\", \"let us\", x))\n",
        "df.up_text = df.up_text.apply(lambda x:re.sub(r\"it's\", \"it is\", x))\n",
        "df.up_text = df.up_text.apply(lambda x:re.sub(r\"can't\", \"cannot\", x))\n",
        "df.up_text = df.up_text.apply(lambda x:re.sub(r\"don't\", \"do not\", x))\n",
        "df.up_text = df.up_text.apply(lambda x:re.sub(r\"you're\", \"you are\", x))\n",
        "df.up_text = df.up_text.apply(lambda x:re.sub(r\"i've\", \"I have\", x))\n",
        "df.up_text = df.up_text.apply(lambda x:re.sub(r\"that's\", \"that is\", x))\n",
        "df.up_text = df.up_text.apply(lambda x:re.sub(r\"i'll\", \"I will\", x))\n",
        "df.up_text = df.up_text.apply(lambda x:re.sub(r\"doesn't\", \"does not\", x))\n",
        "df.up_text = df.up_text.apply(lambda x:re.sub(r\"i'd\", \"I would\", x))\n",
        "df.up_text = df.up_text.apply(lambda x:re.sub(r\"didn't\", \"did not\", x))\n",
        "df.up_text = df.up_text.apply(lambda x:re.sub(r\"ain't\", \"am not\", x))\n",
        "df.up_text = df.up_text.apply(lambda x:re.sub(r\"you'll\", \"you will\", x))\n",
        "df.up_text = df.up_text.apply(lambda x:re.sub(r\"I've\", \"I have\", x))\n",
        "df.up_text = df.up_text.apply(lambda x:re.sub(r\"Don't\", \"do not\", x))\n",
        "df.up_text = df.up_text.apply(lambda x:re.sub(r\"I'll\", \"I will\", x))\n",
        "df.up_text = df.up_text.apply(lambda x:re.sub(r\"I'd\", \"I would\", x))\n",
        "df.up_text = df.up_text.apply(lambda x:re.sub(r\"Let's\", \"Let us\", x))\n",
        "df.up_text = df.up_text.apply(lambda x:re.sub(r\"you'd\", \"You would\", x))\n",
        "df.up_text = df.up_text.apply(lambda x:re.sub(r\"Ain't\", \"am not\", x))\n",
        "df.up_text = df.up_text.apply(lambda x:re.sub(r\"Haven't\", \"Have not\", x))\n",
        "df.up_text = df.up_text.apply(lambda x:re.sub(r\"Could've\", \"Could have\", x))\n",
        "df.up_text = df.up_text.apply(lambda x:re.sub(r\"youve\", \"you have\", x))\n",
        "df.up_text = df.up_text.apply(lambda x:re.sub(r\"donå«t\", \"do not\", x))\n",
        "# Character entity references\n",
        "df.up_text = df.up_text.apply(lambda x:re.sub(r\"&gt;\", \">\", x))\n",
        "df.up_text = df.up_text.apply(lambda x:re.sub(r\"&lt;\", \"<\", x))\n",
        "df.up_text = df.up_text.apply(lambda x:re.sub(r\"&amp;\", \"&\", x))\n",
        "# Typos, slang and informal abbreviations\n",
        "df.up_text = df.up_text.apply(lambda x:re.sub(r\"w/e\", \"whatever\", x))\n",
        "df.up_text = df.up_text.apply(lambda x:re.sub(r\"w/\", \"with\", x))\n",
        "df.up_text = df.up_text.apply(lambda x:re.sub(r\"USAgov\", \"USA government\", x))\n",
        "df.up_text = df.up_text.apply(lambda x:re.sub(r\"recentlu\", \"recently\", x))\n",
        "df.up_text = df.up_text.apply(lambda x:re.sub(r\"Ph0tos\", \"Photos\", x))\n",
        "df.up_text = df.up_text.apply(lambda x:re.sub(r\"amirite\", \"am I right\", x))\n",
        "df.up_text = df.up_text.apply(lambda x:re.sub(r\"exp0sed\", \"exposed\", x))\n",
        "df.up_text = df.up_text.apply(lambda x:re.sub(r\"<3\", \"love\", x))\n",
        "df.up_text = df.up_text.apply(lambda x:re.sub(r\"amageddon\", \"armageddon\", x))\n",
        "df.up_text = df.up_text.apply(lambda x:re.sub(r\"Trfc\", \"Traffic\", x))\n",
        "df.up_text = df.up_text.apply(lambda x:re.sub(r\"WindStorm\", \"Wind Storm\", x))\n",
        "df.up_text = df.up_text.apply(lambda x:re.sub(r\"lmao\", \"laughing my ass off\", x))"
      ],
      "execution_count": 10,
      "outputs": []
    },
    {
      "cell_type": "markdown",
      "metadata": {
        "id": "KfP63dt7MNc_"
      },
      "source": [
        "remove tweet that are only @"
      ]
    },
    {
      "cell_type": "code",
      "metadata": {
        "id": "ZrWroICXMQYt"
      },
      "source": [
        "df.drop(index=df[df['up_text']==\"\"].index, inplace=True)"
      ],
      "execution_count": 11,
      "outputs": []
    },
    {
      "cell_type": "markdown",
      "metadata": {
        "id": "JXFAJ2sx_sCO"
      },
      "source": [
        "Sentiment analysis"
      ]
    },
    {
      "cell_type": "code",
      "metadata": {
        "id": "u0oFsm_x_b3s"
      },
      "source": [
        "sid = SIA()\n",
        "df['sia'] = df['up_text'].apply(lambda x: sid.polarity_scores(' '.join(re.findall(r'\\w+',x.lower()))))\n",
        "df['positive sentiments'] = df['sia'].apply(lambda x: x['pos']+1*(10**-6))\n",
        "df['neutral sentiments'] = df['sia'].apply(lambda x: x['neu']+1*(10**-6))\n",
        "df['negative sentiments'] = df['sia'].apply(lambda x: x['neg']+1*(10**-6))\n",
        "\n",
        "df.drop(columns=['sia'],inplace=True)"
      ],
      "execution_count": 12,
      "outputs": []
    },
    {
      "cell_type": "code",
      "metadata": {
        "id": "cr89WQeul5hJ"
      },
      "source": [
        "def get_sentiment(df):\r\n",
        "  sent = [df['negative sentiments'],df['positive sentiments']]\r\n",
        "  max = np.argmax(sent)\r\n",
        "  if df['negative sentiments']== df['positive sentiments']:\r\n",
        "    return \"Neut\"\r\n",
        "  elif max ==0:\r\n",
        "    return 'Neg'\r\n",
        "  else:\r\n",
        "    return 'Pos'"
      ],
      "execution_count": 13,
      "outputs": []
    },
    {
      "cell_type": "markdown",
      "metadata": {
        "id": "Cs9iH4kJ_9Hf"
      },
      "source": [
        "Define tweet sentiment"
      ]
    },
    {
      "cell_type": "code",
      "metadata": {
        "id": "KfdVUe8V_3Yk"
      },
      "source": [
        "df['sentiments'] = df.apply(get_sentiment,axis=1)"
      ],
      "execution_count": 14,
      "outputs": []
    },
    {
      "cell_type": "markdown",
      "metadata": {
        "id": "kI4Zmjv4_aTM"
      },
      "source": [
        "add lemma column"
      ]
    },
    {
      "cell_type": "code",
      "metadata": {
        "id": "W3I_abvb_b4f"
      },
      "source": [
        "def tokenization(text):\n",
        "    text = re.split('\\W+', text)\n",
        "    return text\n",
        "\n",
        "df['tokenized'] = df['up_text'].apply(lambda x: tokenization(x.lower()))\n",
        "stopword = stopwords.words('english')\n",
        "def remove_stopwords(text):\n",
        "    text = [word for word in text if word not in stopword]\n",
        "    return text\n",
        "    \n",
        "df['No_stopwords'] = df['tokenized'].apply(lambda x: remove_stopwords(x))"
      ],
      "execution_count": 15,
      "outputs": []
    },
    {
      "cell_type": "code",
      "metadata": {
        "id": "oOE5AfKABL0I"
      },
      "source": [
        "wn = nltk.WordNetLemmatizer()\n",
        "\n",
        "def lemmatizer(text):\n",
        "    text = [wn.lemmatize(word) for word in text]\n",
        "    return text\n",
        "\n",
        "df['lemmatized'] = df['No_stopwords'].apply(lambda x: lemmatizer(x))"
      ],
      "execution_count": 16,
      "outputs": []
    },
    {
      "cell_type": "code",
      "metadata": {
        "id": "Dji4YpVVCPEy"
      },
      "source": [
        "df['lemmatized_dict'] = df['lemmatized'].apply(lambda x: Counter(x))"
      ],
      "execution_count": 17,
      "outputs": []
    },
    {
      "cell_type": "markdown",
      "metadata": {
        "id": "-BrxkRG_gLDV"
      },
      "source": [
        "remove unnecessery columns"
      ]
    },
    {
      "cell_type": "code",
      "metadata": {
        "colab": {
          "base_uri": "https://localhost:8080/"
        },
        "id": "LJrfynHR_skv",
        "outputId": "054f156b-6109-4ca6-a0aa-de54449c9984"
      },
      "source": [
        "df.columns"
      ],
      "execution_count": 18,
      "outputs": [
        {
          "output_type": "execute_result",
          "data": {
            "text/plain": [
              "Index(['user_location', 'user_description', 'user_created', 'user_followers',\n",
              "       'date', 'text', 'favorites', 'retweets', 'is_retweet', 'category',\n",
              "       'user_location_updated', 'user-country_code', 'user-country', 'up_text',\n",
              "       'positive sentiments', 'neutral sentiments', 'negative sentiments',\n",
              "       'sentiments', 'tokenized', 'No_stopwords', 'lemmatized',\n",
              "       'lemmatized_dict'],\n",
              "      dtype='object')"
            ]
          },
          "metadata": {
            "tags": []
          },
          "execution_count": 18
        }
      ]
    },
    {
      "cell_type": "code",
      "metadata": {
        "colab": {
          "base_uri": "https://localhost:8080/",
          "height": 501
        },
        "id": "R5hrUmXIgNPv",
        "outputId": "681283ab-bf5f-413f-b151-caa4909d7196"
      },
      "source": [
        "df.head()"
      ],
      "execution_count": 19,
      "outputs": [
        {
          "output_type": "execute_result",
          "data": {
            "text/html": [
              "<div>\n",
              "<style scoped>\n",
              "    .dataframe tbody tr th:only-of-type {\n",
              "        vertical-align: middle;\n",
              "    }\n",
              "\n",
              "    .dataframe tbody tr th {\n",
              "        vertical-align: top;\n",
              "    }\n",
              "\n",
              "    .dataframe thead th {\n",
              "        text-align: right;\n",
              "    }\n",
              "</style>\n",
              "<table border=\"1\" class=\"dataframe\">\n",
              "  <thead>\n",
              "    <tr style=\"text-align: right;\">\n",
              "      <th></th>\n",
              "      <th>user_location</th>\n",
              "      <th>user_description</th>\n",
              "      <th>user_created</th>\n",
              "      <th>user_followers</th>\n",
              "      <th>date</th>\n",
              "      <th>text</th>\n",
              "      <th>favorites</th>\n",
              "      <th>retweets</th>\n",
              "      <th>is_retweet</th>\n",
              "      <th>category</th>\n",
              "      <th>user_location_updated</th>\n",
              "      <th>user-country_code</th>\n",
              "      <th>user-country</th>\n",
              "      <th>up_text</th>\n",
              "      <th>positive sentiments</th>\n",
              "      <th>neutral sentiments</th>\n",
              "      <th>negative sentiments</th>\n",
              "      <th>sentiments</th>\n",
              "      <th>tokenized</th>\n",
              "      <th>No_stopwords</th>\n",
              "      <th>lemmatized</th>\n",
              "      <th>lemmatized_dict</th>\n",
              "    </tr>\n",
              "  </thead>\n",
              "  <tbody>\n",
              "    <tr>\n",
              "      <th>0</th>\n",
              "      <td>Bluegrass State</td>\n",
              "      <td>Official AARP Kentucky Twitter. Get to know us...</td>\n",
              "      <td>2009-07-25 15:14:41</td>\n",
              "      <td>3266</td>\n",
              "      <td>2021-02-18 14:12:52</td>\n",
              "      <td>@3rdRetiredTeach See Kentucky's update vaccine...</td>\n",
              "      <td>0</td>\n",
              "      <td>0</td>\n",
              "      <td>False</td>\n",
              "      <td>Positive</td>\n",
              "      <td>Bluegrass State</td>\n",
              "      <td>USA</td>\n",
              "      <td>United States</td>\n",
              "      <td>see kentuckyupdate vaccine website the vaccine...</td>\n",
              "      <td>0.231001</td>\n",
              "      <td>0.769001</td>\n",
              "      <td>0.000001</td>\n",
              "      <td>Pos</td>\n",
              "      <td>[see, kentuckyupdate, vaccine, website, the, v...</td>\n",
              "      <td>[see, kentuckyupdate, vaccine, website, vaccin...</td>\n",
              "      <td>[see, kentuckyupdate, vaccine, website, vaccin...</td>\n",
              "      <td>{'see': 1, 'kentuckyupdate': 1, 'vaccine': 2, ...</td>\n",
              "    </tr>\n",
              "    <tr>\n",
              "      <th>1</th>\n",
              "      <td>NaN</td>\n",
              "      <td>Get all your solar info here, including latest...</td>\n",
              "      <td>2017-12-14 06:26:39</td>\n",
              "      <td>1861</td>\n",
              "      <td>2021-02-18 05:35:56</td>\n",
              "      <td>RT @dr_hhq: Chipped - #crushcovid #gettheshot ...</td>\n",
              "      <td>0</td>\n",
              "      <td>1</td>\n",
              "      <td>True</td>\n",
              "      <td>Positive</td>\n",
              "      <td>NaN</td>\n",
              "      <td>NaN</td>\n",
              "      <td>NaN</td>\n",
              "      <td>rt chipped</td>\n",
              "      <td>0.000001</td>\n",
              "      <td>1.000001</td>\n",
              "      <td>0.000001</td>\n",
              "      <td>Neut</td>\n",
              "      <td>[rt, chipped]</td>\n",
              "      <td>[rt, chipped]</td>\n",
              "      <td>[rt, chipped]</td>\n",
              "      <td>{'rt': 1, 'chipped': 1}</td>\n",
              "    </tr>\n",
              "    <tr>\n",
              "      <th>2</th>\n",
              "      <td>Karachi, Pakistan</td>\n",
              "      <td>Assistant Professor #Urology #SIUT - Half Prof...</td>\n",
              "      <td>2009-08-15 06:11:55</td>\n",
              "      <td>2378</td>\n",
              "      <td>2021-02-18 05:35:37</td>\n",
              "      <td>Chipped - #crushcovid #gettheshot 🇨🇳#covid #co...</td>\n",
              "      <td>2</td>\n",
              "      <td>1</td>\n",
              "      <td>True</td>\n",
              "      <td>Positive</td>\n",
              "      <td>Karachi, Pakistan</td>\n",
              "      <td>PAK</td>\n",
              "      <td>Pakistan</td>\n",
              "      <td>chipped</td>\n",
              "      <td>0.000001</td>\n",
              "      <td>1.000001</td>\n",
              "      <td>0.000001</td>\n",
              "      <td>Neut</td>\n",
              "      <td>[chipped]</td>\n",
              "      <td>[chipped]</td>\n",
              "      <td>[chipped]</td>\n",
              "      <td>{'chipped': 1}</td>\n",
              "    </tr>\n",
              "    <tr>\n",
              "      <th>3</th>\n",
              "      <td>Los Angeles, CA</td>\n",
              "      <td>Doc in Compton | Policy Adviser. LA County Dep...</td>\n",
              "      <td>2009-03-11 06:04:06</td>\n",
              "      <td>2205</td>\n",
              "      <td>2021-02-18 03:58:45</td>\n",
              "      <td>RT @PinnacleTC_Hope: Holly Broce, president of...</td>\n",
              "      <td>0</td>\n",
              "      <td>1</td>\n",
              "      <td>True</td>\n",
              "      <td>Positive</td>\n",
              "      <td>Los Angeles, CA</td>\n",
              "      <td>USA</td>\n",
              "      <td>United States</td>\n",
              "      <td>rt holly broce president of our opioid treatme...</td>\n",
              "      <td>0.077001</td>\n",
              "      <td>0.923001</td>\n",
              "      <td>0.000001</td>\n",
              "      <td>Pos</td>\n",
              "      <td>[rt, holly, broce, president, of, our, opioid,...</td>\n",
              "      <td>[rt, holly, broce, president, opioid, treatmen...</td>\n",
              "      <td>[rt, holly, broce, president, opioid, treatmen...</td>\n",
              "      <td>{'rt': 1, 'holly': 1, 'broce': 1, 'president':...</td>\n",
              "    </tr>\n",
              "    <tr>\n",
              "      <th>4</th>\n",
              "      <td>Kentucky, USA</td>\n",
              "      <td>Pro Executive Entrepreneur #business #marketin...</td>\n",
              "      <td>2013-04-15 02:31:40</td>\n",
              "      <td>1558</td>\n",
              "      <td>2021-02-18 03:48:33</td>\n",
              "      <td>RT @LFCHD: A COVID-19 vaccine update thread:\\n...</td>\n",
              "      <td>0</td>\n",
              "      <td>1</td>\n",
              "      <td>True</td>\n",
              "      <td>Positive</td>\n",
              "      <td>Kentucky, USA</td>\n",
              "      <td>USA</td>\n",
              "      <td>United States</td>\n",
              "      <td>rtcovid 19 vaccine update thread we ve vaccina...</td>\n",
              "      <td>0.000001</td>\n",
              "      <td>1.000001</td>\n",
              "      <td>0.000001</td>\n",
              "      <td>Neut</td>\n",
              "      <td>[rtcovid, 19, vaccine, update, thread, we, ve,...</td>\n",
              "      <td>[rtcovid, 19, vaccine, update, thread, vaccina...</td>\n",
              "      <td>[rtcovid, 19, vaccine, update, thread, vaccina...</td>\n",
              "      <td>{'rtcovid': 1, '19': 2, 'vaccine': 1, 'update'...</td>\n",
              "    </tr>\n",
              "  </tbody>\n",
              "</table>\n",
              "</div>"
            ],
            "text/plain": [
              "       user_location  ...                                    lemmatized_dict\n",
              "0    Bluegrass State  ...  {'see': 1, 'kentuckyupdate': 1, 'vaccine': 2, ...\n",
              "1                NaN  ...                            {'rt': 1, 'chipped': 1}\n",
              "2  Karachi, Pakistan  ...                                     {'chipped': 1}\n",
              "3    Los Angeles, CA  ...  {'rt': 1, 'holly': 1, 'broce': 1, 'president':...\n",
              "4      Kentucky, USA  ...  {'rtcovid': 1, '19': 2, 'vaccine': 1, 'update'...\n",
              "\n",
              "[5 rows x 22 columns]"
            ]
          },
          "metadata": {
            "tags": []
          },
          "execution_count": 19
        }
      ]
    },
    {
      "cell_type": "code",
      "metadata": {
        "id": "cjc4UHdugWm5"
      },
      "source": [
        "df.drop(['tokenized', 'No_stopwords','lemmatized'], axis=1, inplace=True)"
      ],
      "execution_count": 20,
      "outputs": []
    },
    {
      "cell_type": "code",
      "metadata": {
        "id": "UejGgCrcv-bv"
      },
      "source": [
        "scale_df = df.loc[:, ['user_followers', 'favorites', 'retweets']]"
      ],
      "execution_count": 21,
      "outputs": []
    },
    {
      "cell_type": "code",
      "metadata": {
        "colab": {
          "base_uri": "https://localhost:8080/",
          "height": 134
        },
        "id": "NflV-RODv-bw",
        "outputId": "cfe5520c-8e36-484c-d4e8-0696e259fd96"
      },
      "source": [
        "from sklearn.preprocessing import StandardScaler\r\n",
        "scaler1 = StandardScaler()\r\n",
        "scaler1.fit(scale_df)\r\n",
        "scale_df = scaler1.transform(scale_df)\r\n",
        "display(scale_df)"
      ],
      "execution_count": 22,
      "outputs": [
        {
          "output_type": "display_data",
          "data": {
            "text/plain": [
              "array([[-0.03758725, -0.12391963, -0.1191466 ],\n",
              "       [-0.05243501, -0.12391963, -0.11775992],\n",
              "       [-0.04697146, -0.03488269, -0.11775992],\n",
              "       ...,\n",
              "       [-0.06647962, -0.12391963,  2.32001873],\n",
              "       [-0.07129854, -0.12391963,  2.32001873],\n",
              "       [-0.07195374, -0.12391963,  2.32001873]])"
            ]
          },
          "metadata": {
            "tags": []
          }
        }
      ]
    },
    {
      "cell_type": "code",
      "metadata": {
        "colab": {
          "base_uri": "https://localhost:8080/",
          "height": 402
        },
        "id": "i0VGpXfxv-bw",
        "outputId": "b8879073-32b1-4a7e-8a85-ec858ec42732"
      },
      "source": [
        "scale_df = pd.DataFrame(scale_df)\r\n",
        "scale_df.columns = ['user_followers_norm', 'favorites_norm', 'retweets_norm']\r\n",
        "scale_df"
      ],
      "execution_count": 23,
      "outputs": [
        {
          "output_type": "execute_result",
          "data": {
            "text/html": [
              "<div>\n",
              "<style scoped>\n",
              "    .dataframe tbody tr th:only-of-type {\n",
              "        vertical-align: middle;\n",
              "    }\n",
              "\n",
              "    .dataframe tbody tr th {\n",
              "        vertical-align: top;\n",
              "    }\n",
              "\n",
              "    .dataframe thead th {\n",
              "        text-align: right;\n",
              "    }\n",
              "</style>\n",
              "<table border=\"1\" class=\"dataframe\">\n",
              "  <thead>\n",
              "    <tr style=\"text-align: right;\">\n",
              "      <th></th>\n",
              "      <th>user_followers_norm</th>\n",
              "      <th>favorites_norm</th>\n",
              "      <th>retweets_norm</th>\n",
              "    </tr>\n",
              "  </thead>\n",
              "  <tbody>\n",
              "    <tr>\n",
              "      <th>0</th>\n",
              "      <td>-0.037587</td>\n",
              "      <td>-0.123920</td>\n",
              "      <td>-0.119147</td>\n",
              "    </tr>\n",
              "    <tr>\n",
              "      <th>1</th>\n",
              "      <td>-0.052435</td>\n",
              "      <td>-0.123920</td>\n",
              "      <td>-0.117760</td>\n",
              "    </tr>\n",
              "    <tr>\n",
              "      <th>2</th>\n",
              "      <td>-0.046971</td>\n",
              "      <td>-0.034883</td>\n",
              "      <td>-0.117760</td>\n",
              "    </tr>\n",
              "    <tr>\n",
              "      <th>3</th>\n",
              "      <td>-0.048800</td>\n",
              "      <td>-0.123920</td>\n",
              "      <td>-0.117760</td>\n",
              "    </tr>\n",
              "    <tr>\n",
              "      <th>4</th>\n",
              "      <td>-0.055637</td>\n",
              "      <td>-0.123920</td>\n",
              "      <td>-0.117760</td>\n",
              "    </tr>\n",
              "    <tr>\n",
              "      <th>...</th>\n",
              "      <td>...</td>\n",
              "      <td>...</td>\n",
              "      <td>...</td>\n",
              "    </tr>\n",
              "    <tr>\n",
              "      <th>36591</th>\n",
              "      <td>-0.071330</td>\n",
              "      <td>-0.123920</td>\n",
              "      <td>2.320019</td>\n",
              "    </tr>\n",
              "    <tr>\n",
              "      <th>36592</th>\n",
              "      <td>-0.071690</td>\n",
              "      <td>-0.123920</td>\n",
              "      <td>2.320019</td>\n",
              "    </tr>\n",
              "    <tr>\n",
              "      <th>36593</th>\n",
              "      <td>-0.066480</td>\n",
              "      <td>-0.123920</td>\n",
              "      <td>2.320019</td>\n",
              "    </tr>\n",
              "    <tr>\n",
              "      <th>36594</th>\n",
              "      <td>-0.071299</td>\n",
              "      <td>-0.123920</td>\n",
              "      <td>2.320019</td>\n",
              "    </tr>\n",
              "    <tr>\n",
              "      <th>36595</th>\n",
              "      <td>-0.071954</td>\n",
              "      <td>-0.123920</td>\n",
              "      <td>2.320019</td>\n",
              "    </tr>\n",
              "  </tbody>\n",
              "</table>\n",
              "<p>36596 rows × 3 columns</p>\n",
              "</div>"
            ],
            "text/plain": [
              "       user_followers_norm  favorites_norm  retweets_norm\n",
              "0                -0.037587       -0.123920      -0.119147\n",
              "1                -0.052435       -0.123920      -0.117760\n",
              "2                -0.046971       -0.034883      -0.117760\n",
              "3                -0.048800       -0.123920      -0.117760\n",
              "4                -0.055637       -0.123920      -0.117760\n",
              "...                    ...             ...            ...\n",
              "36591            -0.071330       -0.123920       2.320019\n",
              "36592            -0.071690       -0.123920       2.320019\n",
              "36593            -0.066480       -0.123920       2.320019\n",
              "36594            -0.071299       -0.123920       2.320019\n",
              "36595            -0.071954       -0.123920       2.320019\n",
              "\n",
              "[36596 rows x 3 columns]"
            ]
          },
          "metadata": {
            "tags": []
          },
          "execution_count": 23
        }
      ]
    },
    {
      "cell_type": "code",
      "metadata": {
        "id": "CuRUjMGDv-bx"
      },
      "source": [
        "df = pd.concat([df, scale_df], axis = 1)"
      ],
      "execution_count": 24,
      "outputs": []
    },
    {
      "cell_type": "markdown",
      "metadata": {
        "id": "zS3Gsw0fAJJt"
      },
      "source": [
        "['user_location', 'user_description', 'user_created', 'user_followers',\r\n",
        "       'date', 'text', 'favorites', 'retweets', 'is_retweet', 'category',\r\n",
        "       'user_location_updated', 'user-country_code', 'user-country', 'up_text',\r\n",
        "       'positive sentiments', 'neutral sentiments', 'negative sentiments',\r\n",
        "       'sentiments', 'tokenized', 'No_stopwords', 'lemmatized',\r\n",
        "       'lemmatized_dict']"
      ]
    },
    {
      "cell_type": "code",
      "metadata": {
        "id": "a0X3872CedI3"
      },
      "source": [
        "df.drop(['user_description', 'user_created', 'date', 'text', 'is_retweet', 'lemmatized_dict', 'up_text','positive sentiments', 'neutral sentiments', 'negative sentiments', 'user_followers', 'favorites', 'retweets', 'user_location', 'user_location_updated', 'user_location_updated', 'user-country', 'user-country_code'], axis=1, inplace=True)"
      ],
      "execution_count": 25,
      "outputs": []
    },
    {
      "cell_type": "code",
      "metadata": {
        "colab": {
          "base_uri": "https://localhost:8080/"
        },
        "id": "AbPT3UcCw9cm",
        "outputId": "bd66ef45-4e1a-4039-cf0f-914d23906441"
      },
      "source": [
        "df.columns"
      ],
      "execution_count": 26,
      "outputs": [
        {
          "output_type": "execute_result",
          "data": {
            "text/plain": [
              "Index(['category', 'sentiments', 'user_followers_norm', 'favorites_norm',\n",
              "       'retweets_norm'],\n",
              "      dtype='object')"
            ]
          },
          "metadata": {
            "tags": []
          },
          "execution_count": 26
        }
      ]
    },
    {
      "cell_type": "code",
      "metadata": {
        "colab": {
          "base_uri": "https://localhost:8080/"
        },
        "id": "fgrmQdgepTZZ",
        "outputId": "e80be089-377a-4316-d865-1dbd4990c1f6"
      },
      "source": [
        "numeric_cols = df._get_numeric_data().columns\r\n",
        "numeric_cols"
      ],
      "execution_count": 27,
      "outputs": [
        {
          "output_type": "execute_result",
          "data": {
            "text/plain": [
              "Index(['user_followers_norm', 'favorites_norm', 'retweets_norm'], dtype='object')"
            ]
          },
          "metadata": {
            "tags": []
          },
          "execution_count": 27
        }
      ]
    },
    {
      "cell_type": "code",
      "metadata": {
        "id": "_qBcnfLDpyoZ"
      },
      "source": [
        "country = 'user_location'"
      ],
      "execution_count": 28,
      "outputs": []
    },
    {
      "cell_type": "code",
      "metadata": {
        "colab": {
          "base_uri": "https://localhost:8080/",
          "height": 422
        },
        "id": "SNlvBXuWpUb5",
        "outputId": "4309d138-2617-49f3-97b3-737ec16b7916"
      },
      "source": [
        "dum = set(df.columns) - set(numeric_cols) - set([country])\r\n",
        "for i in dum:\r\n",
        "  df = pd.concat([df, pd.get_dummies(df[i], prefix=str(i))],axis=1)\r\n",
        "  df.drop([i],axis=1, inplace=True)\r\n",
        "\r\n",
        "display(df)"
      ],
      "execution_count": 29,
      "outputs": [
        {
          "output_type": "display_data",
          "data": {
            "text/html": [
              "<div>\n",
              "<style scoped>\n",
              "    .dataframe tbody tr th:only-of-type {\n",
              "        vertical-align: middle;\n",
              "    }\n",
              "\n",
              "    .dataframe tbody tr th {\n",
              "        vertical-align: top;\n",
              "    }\n",
              "\n",
              "    .dataframe thead th {\n",
              "        text-align: right;\n",
              "    }\n",
              "</style>\n",
              "<table border=\"1\" class=\"dataframe\">\n",
              "  <thead>\n",
              "    <tr style=\"text-align: right;\">\n",
              "      <th></th>\n",
              "      <th>user_followers_norm</th>\n",
              "      <th>favorites_norm</th>\n",
              "      <th>retweets_norm</th>\n",
              "      <th>sentiments_Neg</th>\n",
              "      <th>sentiments_Neut</th>\n",
              "      <th>sentiments_Pos</th>\n",
              "      <th>category_Negative</th>\n",
              "      <th>category_Positive</th>\n",
              "    </tr>\n",
              "  </thead>\n",
              "  <tbody>\n",
              "    <tr>\n",
              "      <th>0</th>\n",
              "      <td>-0.037587</td>\n",
              "      <td>-0.123920</td>\n",
              "      <td>-0.119147</td>\n",
              "      <td>0</td>\n",
              "      <td>0</td>\n",
              "      <td>1</td>\n",
              "      <td>0</td>\n",
              "      <td>1</td>\n",
              "    </tr>\n",
              "    <tr>\n",
              "      <th>1</th>\n",
              "      <td>-0.052435</td>\n",
              "      <td>-0.123920</td>\n",
              "      <td>-0.117760</td>\n",
              "      <td>0</td>\n",
              "      <td>1</td>\n",
              "      <td>0</td>\n",
              "      <td>0</td>\n",
              "      <td>1</td>\n",
              "    </tr>\n",
              "    <tr>\n",
              "      <th>2</th>\n",
              "      <td>-0.046971</td>\n",
              "      <td>-0.034883</td>\n",
              "      <td>-0.117760</td>\n",
              "      <td>0</td>\n",
              "      <td>1</td>\n",
              "      <td>0</td>\n",
              "      <td>0</td>\n",
              "      <td>1</td>\n",
              "    </tr>\n",
              "    <tr>\n",
              "      <th>3</th>\n",
              "      <td>-0.048800</td>\n",
              "      <td>-0.123920</td>\n",
              "      <td>-0.117760</td>\n",
              "      <td>0</td>\n",
              "      <td>0</td>\n",
              "      <td>1</td>\n",
              "      <td>0</td>\n",
              "      <td>1</td>\n",
              "    </tr>\n",
              "    <tr>\n",
              "      <th>4</th>\n",
              "      <td>-0.055637</td>\n",
              "      <td>-0.123920</td>\n",
              "      <td>-0.117760</td>\n",
              "      <td>0</td>\n",
              "      <td>1</td>\n",
              "      <td>0</td>\n",
              "      <td>0</td>\n",
              "      <td>1</td>\n",
              "    </tr>\n",
              "    <tr>\n",
              "      <th>...</th>\n",
              "      <td>...</td>\n",
              "      <td>...</td>\n",
              "      <td>...</td>\n",
              "      <td>...</td>\n",
              "      <td>...</td>\n",
              "      <td>...</td>\n",
              "      <td>...</td>\n",
              "      <td>...</td>\n",
              "    </tr>\n",
              "    <tr>\n",
              "      <th>36691</th>\n",
              "      <td>NaN</td>\n",
              "      <td>NaN</td>\n",
              "      <td>NaN</td>\n",
              "      <td>0</td>\n",
              "      <td>0</td>\n",
              "      <td>1</td>\n",
              "      <td>1</td>\n",
              "      <td>0</td>\n",
              "    </tr>\n",
              "    <tr>\n",
              "      <th>36692</th>\n",
              "      <td>NaN</td>\n",
              "      <td>NaN</td>\n",
              "      <td>NaN</td>\n",
              "      <td>0</td>\n",
              "      <td>0</td>\n",
              "      <td>1</td>\n",
              "      <td>1</td>\n",
              "      <td>0</td>\n",
              "    </tr>\n",
              "    <tr>\n",
              "      <th>36693</th>\n",
              "      <td>NaN</td>\n",
              "      <td>NaN</td>\n",
              "      <td>NaN</td>\n",
              "      <td>0</td>\n",
              "      <td>0</td>\n",
              "      <td>1</td>\n",
              "      <td>1</td>\n",
              "      <td>0</td>\n",
              "    </tr>\n",
              "    <tr>\n",
              "      <th>36694</th>\n",
              "      <td>NaN</td>\n",
              "      <td>NaN</td>\n",
              "      <td>NaN</td>\n",
              "      <td>0</td>\n",
              "      <td>0</td>\n",
              "      <td>1</td>\n",
              "      <td>1</td>\n",
              "      <td>0</td>\n",
              "    </tr>\n",
              "    <tr>\n",
              "      <th>36695</th>\n",
              "      <td>NaN</td>\n",
              "      <td>NaN</td>\n",
              "      <td>NaN</td>\n",
              "      <td>0</td>\n",
              "      <td>0</td>\n",
              "      <td>1</td>\n",
              "      <td>1</td>\n",
              "      <td>0</td>\n",
              "    </tr>\n",
              "  </tbody>\n",
              "</table>\n",
              "<p>36696 rows × 8 columns</p>\n",
              "</div>"
            ],
            "text/plain": [
              "       user_followers_norm  ...  category_Positive\n",
              "0                -0.037587  ...                  1\n",
              "1                -0.052435  ...                  1\n",
              "2                -0.046971  ...                  1\n",
              "3                -0.048800  ...                  1\n",
              "4                -0.055637  ...                  1\n",
              "...                    ...  ...                ...\n",
              "36691                  NaN  ...                  0\n",
              "36692                  NaN  ...                  0\n",
              "36693                  NaN  ...                  0\n",
              "36694                  NaN  ...                  0\n",
              "36695                  NaN  ...                  0\n",
              "\n",
              "[36696 rows x 8 columns]"
            ]
          },
          "metadata": {
            "tags": []
          }
        }
      ]
    },
    {
      "cell_type": "code",
      "metadata": {
        "id": "NFoMxS2s_LO5"
      },
      "source": [
        "df.drop(['category_Positive'], axis=1, inplace=True)"
      ],
      "execution_count": 30,
      "outputs": []
    },
    {
      "cell_type": "code",
      "metadata": {
        "colab": {
          "base_uri": "https://localhost:8080/"
        },
        "id": "i2tn1e6tTwmT",
        "outputId": "66869e36-b274-486b-98b7-f6a222f5bc75"
      },
      "source": [
        "df.isnull().sum(axis = 0)"
      ],
      "execution_count": 31,
      "outputs": [
        {
          "output_type": "execute_result",
          "data": {
            "text/plain": [
              "user_followers_norm    100\n",
              "favorites_norm         100\n",
              "retweets_norm          100\n",
              "sentiments_Neg           0\n",
              "sentiments_Neut          0\n",
              "sentiments_Pos           0\n",
              "category_Negative        0\n",
              "dtype: int64"
            ]
          },
          "metadata": {
            "tags": []
          },
          "execution_count": 31
        }
      ]
    },
    {
      "cell_type": "code",
      "metadata": {
        "id": "m0hZfcFeUYhL"
      },
      "source": [
        "df.dropna(axis=0, inplace=True)"
      ],
      "execution_count": 32,
      "outputs": []
    },
    {
      "cell_type": "code",
      "metadata": {
        "id": "3MoPRg27_fAv"
      },
      "source": [
        "dependent = 'category_Negative'\r\n",
        "y = df[dependent]\r\n",
        "choosen_cols = set(df.columns) -set([dependent])\r\n",
        "X = df[choosen_cols]"
      ],
      "execution_count": 33,
      "outputs": []
    },
    {
      "cell_type": "code",
      "metadata": {
        "id": "esvHdpQ-_KKZ"
      },
      "source": [
        "from sklearn.model_selection import train_test_split\r\n",
        "from sklearn.linear_model import LogisticRegression\r\n",
        "from sklearn import metrics\r\n",
        "\r\n",
        "X_train, X_test, y_train, y_test = train_test_split(X, y, test_size=0.2, random_state=42, stratify=y)\r\n",
        "logreg = LogisticRegression()"
      ],
      "execution_count": 34,
      "outputs": []
    },
    {
      "cell_type": "code",
      "metadata": {
        "colab": {
          "base_uri": "https://localhost:8080/"
        },
        "id": "qnbcgBNVgfPf",
        "outputId": "29870d28-61e3-4a46-f4d4-789a839ac584"
      },
      "source": [
        "from sklearn.model_selection import StratifiedKFold\r\n",
        "from sklearn.feature_selection import RFECV\r\n",
        "\r\n",
        "rfecv = RFECV(estimator=logreg, step=1, cv=StratifiedKFold(5),\r\n",
        "              scoring='accuracy',\r\n",
        "              min_features_to_select=2)\r\n",
        "rfecv.fit(X_train, y_train)\r\n",
        "\r\n",
        "print(f\"Optimal number of features : {rfecv.n_features_}\")\r\n",
        "print(f\"Optimal number of features : {rfecv.support_}\")\r\n",
        "print(f\"Optimal number of features : {rfecv.ranking_}\")"
      ],
      "execution_count": 35,
      "outputs": [
        {
          "output_type": "stream",
          "text": [
            "Optimal number of features : 5\n",
            "Optimal number of features : [ True  True False  True  True  True]\n",
            "Optimal number of features : [1 1 2 1 1 1]\n"
          ],
          "name": "stdout"
        }
      ]
    },
    {
      "cell_type": "code",
      "metadata": {
        "colab": {
          "base_uri": "https://localhost:8080/",
          "height": 299
        },
        "id": "2StmurejhFH1",
        "outputId": "559895ec-6c7f-4aa1-c4dd-a82d45385b3d"
      },
      "source": [
        "plt.figure()\r\n",
        "plt.xlabel(\"Number of features selected\")\r\n",
        "plt.ylabel(\"Cross validation score (nb of correct classifications)\")\r\n",
        "plt.plot(range(2,\r\n",
        "               len(rfecv.grid_scores_) + 2),\r\n",
        "         rfecv.grid_scores_)\r\n",
        "plt.title(\"number of features VS. cross-validation scores\")\r\n",
        "plt.show()"
      ],
      "execution_count": 36,
      "outputs": [
        {
          "output_type": "display_data",
          "data": {
            "image/png": "[encoded data removed]",
            "text/plain": [
              "<Figure size 432x288 with 1 Axes>"
            ]
          },
          "metadata": {
            "tags": [],
            "needs_background": "light"
          }
        }
      ]
    },
    {
      "cell_type": "code",
      "metadata": {
        "colab": {
          "base_uri": "https://localhost:8080/"
        },
        "id": "xwNhhMdLa3YD",
        "outputId": "34adf2c9-d876-4bf6-e19e-0c0f49be6887"
      },
      "source": [
        "logreg.fit(X_train, y_train)\r\n",
        "y_pred = logreg.predict(X_test)\r\n",
        "print('Accuracy of logistic regression classifier on test set: {:.2f}'.format(logreg.score(X_test, y_test)))"
      ],
      "execution_count": 37,
      "outputs": [
        {
          "output_type": "stream",
          "text": [
            "Accuracy of logistic regression classifier on test set: 0.64\n"
          ],
          "name": "stdout"
        }
      ]
    },
    {
      "cell_type": "code",
      "metadata": {
        "colab": {
          "base_uri": "https://localhost:8080/",
          "height": 282
        },
        "id": "yT-R0wEgnj8x",
        "outputId": "a15d2cb5-8d9a-4aba-e56e-b51c3205d8e3"
      },
      "source": [
        "from sklearn.metrics import confusion_matrix\r\n",
        "\r\n",
        "cf_matrix = confusion_matrix(y_test, y_pred)\r\n",
        "sns.heatmap(cf_matrix/np.sum(cf_matrix, axis=1), annot=True, fmt='.2%', cmap='Blues')"
      ],
      "execution_count": 38,
      "outputs": [
        {
          "output_type": "execute_result",
          "data": {
            "text/plain": [
              "<matplotlib.axes._subplots.AxesSubplot at 0x7fa7d6ea34d0>"
            ]
          },
          "metadata": {
            "tags": []
          },
          "execution_count": 38
        },
        {
          "output_type": "display_data",
          "data": {
            "image/png": "[encoded data removed]",
            "text/plain": [
              "<Figure size 432x288 with 2 Axes>"
            ]
          },
          "metadata": {
            "tags": [],
            "needs_background": "light"
          }
        }
      ]
    },
    {
      "cell_type": "code",
      "metadata": {
        "colab": {
          "base_uri": "https://localhost:8080/",
          "height": 676
        },
        "id": "vjmUmVlJIfSJ",
        "outputId": "d72f8588-bd16-437e-b962-44594b2a1e8d"
      },
      "source": [
        "from sklearn.metrics import plot_confusion_matrix\r\n",
        "\r\n",
        "class_names = ['positive_tweet', 'negative_tweet']\r\n",
        "\r\n",
        "titles_options = [(\"Confusion matrix, without normalization\", None),\r\n",
        "                  (\"Normalized confusion matrix\", 'true')]\r\n",
        "for title, normalize in titles_options:\r\n",
        "    disp = plot_confusion_matrix(logreg, X_test, y_test,\r\n",
        "                                 display_labels=class_names,\r\n",
        "                                 cmap=plt.cm.Blues,\r\n",
        "                                 normalize=normalize)\r\n",
        "    disp.ax_.set_title(title)\r\n",
        "\r\n",
        "    print(title)\r\n",
        "    print(disp.confusion_matrix)\r\n",
        "\r\n",
        "plt.show()"
      ],
      "execution_count": 39,
      "outputs": [
        {
          "output_type": "stream",
          "text": [
            "Confusion matrix, without normalization\n",
            "[[3061  442]\n",
            " [2204 1613]]\n",
            "Normalized confusion matrix\n",
            "[[0.87382244 0.12617756]\n",
            " [0.57741682 0.42258318]]\n"
          ],
          "name": "stdout"
        },
        {
          "output_type": "display_data",
          "data": {
            "image/png": "[encoded data removed]",
            "text/plain": [
              "<Figure size 432x288 with 2 Axes>"
            ]
          },
          "metadata": {
            "tags": [],
            "needs_background": "light"
          }
        },
        {
          "output_type": "display_data",
          "data": {
            "image/png": "[encoded data removed]",
            "text/plain": [
              "<Figure size 432x288 with 2 Axes>"
            ]
          },
          "metadata": {
            "tags": [],
            "needs_background": "light"
          }
        }
      ]
    },
    {
      "cell_type": "code",
      "metadata": {
        "colab": {
          "base_uri": "https://localhost:8080/"
        },
        "id": "pyeJjxX3FwPo",
        "outputId": "f9a9228d-4daa-45d6-922d-ab0990e0b1be"
      },
      "source": [
        "from sklearn.metrics import classification_report\r\n",
        "\r\n",
        "target_names = ['non-anti-vax', 'anti-vax']\r\n",
        "print(classification_report(y_test, y_pred, target_names=target_names))"
      ],
      "execution_count": 55,
      "outputs": [
        {
          "output_type": "stream",
          "text": [
            "              precision    recall  f1-score   support\n",
            "\n",
            "non-anti-vax       0.58      0.87      0.70      3503\n",
            "    anti-vax       0.78      0.42      0.55      3817\n",
            "\n",
            "    accuracy                           0.64      7320\n",
            "   macro avg       0.68      0.65      0.62      7320\n",
            "weighted avg       0.69      0.64      0.62      7320\n",
            "\n"
          ],
          "name": "stdout"
        }
      ]
    },
    {
      "cell_type": "code",
      "metadata": {
        "colab": {
          "base_uri": "https://localhost:8080/",
          "height": 295
        },
        "id": "uraiYGwsF1w1",
        "outputId": "be755925-7c25-44c8-8ec2-01c2389c5cce"
      },
      "source": [
        "from sklearn.metrics import roc_auc_score\r\n",
        "from sklearn.metrics import roc_curve\r\n",
        "logit_roc_auc = roc_auc_score(y_test, logreg.predict(X_test))\r\n",
        "fpr, tpr, thresholds = roc_curve(y_test, logreg.predict_proba(X_test)[:,1])\r\n",
        "plt.figure()\r\n",
        "plt.plot(fpr, tpr, label='Logistic Regression (area = %0.2f)' % logit_roc_auc)\r\n",
        "plt.plot([0, 1], [0, 1],'r--')\r\n",
        "plt.xlim([0.0, 1.0])\r\n",
        "plt.ylim([0.0, 1.05])\r\n",
        "plt.xlabel('False Positive Rate')\r\n",
        "plt.ylabel('True Positive Rate')\r\n",
        "plt.title('Receiver operating characteristic')\r\n",
        "plt.legend(loc=\"lower right\")\r\n",
        "plt.savefig('Log_ROC')\r\n",
        "plt.show()"
      ],
      "execution_count": 41,
      "outputs": [
        {
          "output_type": "display_data",
          "data": {
            "image/png": "[encoded data removed]",
            "text/plain": [
              "<Figure size 432x288 with 1 Axes>"
            ]
          },
          "metadata": {
            "tags": [],
            "needs_background": "light"
          }
        }
      ]
    },
    {
      "cell_type": "code",
      "metadata": {
        "id": "dPObVGG-vVig"
      },
      "source": [
        "from sklearn.metrics import roc_curve, precision_recall_curve, accuracy_score\r\n",
        "\r\n",
        "precision, recall, tresh = precision_recall_curve(y_test, y_pred)"
      ],
      "execution_count": 51,
      "outputs": []
    }
  ]
}